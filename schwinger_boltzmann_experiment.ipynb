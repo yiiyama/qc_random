{
 "cells": [
  {
   "cell_type": "code",
   "execution_count": 1,
   "metadata": {},
   "outputs": [],
   "source": [
    "import multiprocessing\n",
    "import numpy as np\n",
    "from qiskit.circuit import QuantumRegister, ClassicalRegister, QuantumCircuit, Parameter\n",
    "from qiskit import Aer, execute\n",
    "from numpy.random import default_rng\n",
    "import matplotlib.pyplot as plt"
   ]
  },
  {
   "cell_type": "code",
   "execution_count": 2,
   "metadata": {},
   "outputs": [],
   "source": [
    "def one_step(dt, m=0.5, w=1., J=1., barrier=False):\n",
    "    num_sites = system_size\n",
    "    \n",
    "    qc = QuantumCircuit(num_sites, num_sites)\n",
    "    \n",
    "    # exp(-i dt Hzz)\n",
    "    for iqr in range(1, num_sites - 1):\n",
    "        phi = J * 0.5 * (2. * dt) * (num_sites - iqr - 1)\n",
    "        for iql in range(iqr):\n",
    "            qc.cx(iql, iqr)\n",
    "            qc.p(phi, iqr)\n",
    "            qc.cx(iql, iqr)\n",
    "            \n",
    "    if barrier:\n",
    "        qc.barrier()\n",
    "            \n",
    "    # exp(-i dt Hpm)\n",
    "    # Hpm = w sum (sigma+ sigma- + h.c.) = w sum h\n",
    "    # h = 1/2 XX + 1/2 YY\n",
    "    phi = w * 0.5 * (2. * dt)\n",
    "    for iq in range(num_sites - 1):\n",
    "        # exp(-i dt w/2 XX)\n",
    "        qc.cx(iq, iq + 1)\n",
    "        qc.rx(phi, iq)\n",
    "        qc.cx(iq, iq + 1)\n",
    "        # exp(-i dt w/2 YY)\n",
    "        qc.cz(iq, iq + 1)\n",
    "        qc.cx(iq, iq + 1)\n",
    "        qc.rx(phi, iq)\n",
    "        qc.cx(iq, iq + 1)\n",
    "        qc.cz(iq, iq + 1)\n",
    "        \n",
    "    if barrier:\n",
    "        qc.barrier()\n",
    "\n",
    "    # exp(-i dt Hz1)\n",
    "    phi = m * 0.5 * (2. * dt)\n",
    "    for iq in range(num_sites):\n",
    "        if iq % 2 == 0:\n",
    "            qc.p(-phi, iq)\n",
    "        else:\n",
    "            qc.p(phi, iq)\n",
    "            \n",
    "    if barrier:\n",
    "        qc.barrier()\n",
    "\n",
    "    # exp(-i dt Hz2)\n",
    "    for iq in range(num_sites - 1):\n",
    "        phi = -J * 0.5 * (num_sites // 2 - (iq + 1) // 2) * (2. * dt)\n",
    "        qc.p(phi, iq)\n",
    "            \n",
    "    if barrier:\n",
    "        qc.barrier()\n",
    "            \n",
    "    return qc"
   ]
  },
  {
   "cell_type": "code",
   "execution_count": 3,
   "metadata": {},
   "outputs": [],
   "source": [
    "def get_subsystem_probs(circuit):\n",
    "#     backend = Aer.get_backend('statevector_simulator')\n",
    "#     job = execute(circuit, backend)\n",
    "#     result = job.result()\n",
    "#     probs = np.square(np.abs(result.data()['statevector']))\n",
    "    \n",
    "    backend = Aer.get_backend('qasm_simulator')\n",
    "    backend.set_options(method='statevector_gpu')\n",
    "    circuit.measure_all()\n",
    "    shots = 2 ** 16\n",
    "    job = execute(circuit, backend, shots=2**16)\n",
    "    result = job.result()\n",
    "    \n",
    "    probs = np.zeros(2 ** system_size, dtype=np.float)\n",
    "    for hexidx, count in result.data(0)['counts'].items():\n",
    "        probs[int(hexidx[:(system_size // 4) + 2], 16)] = count\n",
    "    probs /= shots\n",
    "        \n",
    "    # take the subsystem from the center of the bitstring\n",
    "    margin = 2 ** ((system_size - subsystem_size) // 2)\n",
    "    probs = np.sum(probs.reshape((margin, 2 ** subsystem_size, margin)), axis=(0, 2))\n",
    "    \n",
    "    return probs"
   ]
  },
  {
   "cell_type": "code",
   "execution_count": 4,
   "metadata": {},
   "outputs": [],
   "source": [
    "def get_electron_number_distribution(probs):\n",
    "    result = np.zeros(subsystem_size + 1, dtype=np.float)\n",
    "    for idx, prob in enumerate(probs):\n",
    "        # up to subsystem_size == 8\n",
    "        bitarray = np.unpackbits(np.array(idx, dtype=np.uint8))[-1:-subsystem_size - 1:-1]\n",
    "        z = np.sum(1 - bitarray[0::2], dtype=np.int) - np.sum(bitarray[1::2], dtype=np.int) + (subsystem_size // 2)\n",
    "        result[z] += prob\n",
    "        \n",
    "    return result"
   ]
  },
  {
   "cell_type": "code",
   "execution_count": 5,
   "metadata": {},
   "outputs": [],
   "source": [
    "system_size = 26\n",
    "subsystem_size = 8\n",
    "\n",
    "m = 0.5\n",
    "w = 1.\n",
    "J = 1.\n",
    "\n",
    "def make_circuit(istep, dt):\n",
    "    circuit = QuantumCircuit(system_size, system_size)\n",
    "\n",
    "    # initial state = vacuum\n",
    "    for iq in range(0, system_size, 2):\n",
    "        circuit.x(iq)\n",
    "        \n",
    "    for _ in range(istep):\n",
    "        circuit += one_step(dt)\n",
    "        \n",
    "    return circuit\n",
    "\n",
    "dt = np.pi / 16.\n",
    "num_steps = 10\n",
    "\n",
    "def compute_probs(istep, circuit):\n",
    "    return istep, get_subsystem_probs(circuit)\n",
    "\n",
    "probs = np.empty((num_steps, 2 ** subsystem_size), dtype=np.float)\n",
    "def set_prob_values(result):\n",
    "    idx, probs = result\n",
    "    print('got result', idx)\n",
    "    probs[idx] = probs"
   ]
  },
  {
   "cell_type": "code",
   "execution_count": 6,
   "metadata": {},
   "outputs": [],
   "source": [
    "#workers = multiprocessing.Pool(32)\n",
    "\n",
    "for istep in range(num_steps):\n",
    "    circuit = make_circuit(istep + 1, dt)\n",
    "\n",
    "#     workers.apply_async(compute_probs, args=(istep, circuit), callback=set_prob_values)\n",
    "    probs[istep] = get_subsystem_probs(circuit)\n",
    "\n",
    "#workers.close()\n",
    "#workers.join()\n",
    "\n",
    "entropies = np.empty(num_steps + 1, dtype=np.float)\n",
    "entropies[0] = 0.\n",
    "\n",
    "logp = np.zeros_like(probs)\n",
    "np.log2(probs, out=logp, where=(probs > 1.e-9))\n",
    "entropies[1:] = -np.sum(probs * logp, axis=1)"
   ]
  },
  {
   "cell_type": "code",
   "execution_count": 7,
   "metadata": {},
   "outputs": [
    {
     "data": {
      "text/plain": [
       "[<matplotlib.lines.Line2D at 0x7fbc80402990>]"
      ]
     },
     "execution_count": 7,
     "metadata": {},
     "output_type": "execute_result"
    },
    {
     "data": {
      "image/png": "[encoded data removed]",
      "text/plain": [
       "<Figure size 432x288 with 1 Axes>"
      ]
     },
     "metadata": {
      "needs_background": "light"
     },
     "output_type": "display_data"
    }
   ],
   "source": [
    "plt.plot(np.arange(num_steps + 1), entropies / 6.)"
   ]
  },
  {
   "cell_type": "code",
   "execution_count": 8,
   "metadata": {},
   "outputs": [],
   "source": [
    "dist = get_electron_number_distribution(probs[-1])"
   ]
  },
  {
   "cell_type": "code",
   "execution_count": 9,
   "metadata": {},
   "outputs": [
    {
     "data": {
      "image/png": "[encoded data removed]",
      "text/plain": [
       "<Figure size 432x288 with 1 Axes>"
      ]
     },
     "metadata": {
      "needs_background": "light"
     },
     "output_type": "display_data"
    }
   ],
   "source": [
    "plt.bar(np.linspace(-(subsystem_size // 2), subsystem_size // 2, subsystem_size + 1), dist)\n",
    "plt.yscale('log')"
   ]
  },
  {
   "cell_type": "code",
   "execution_count": null,
   "metadata": {},
   "outputs": [],
   "source": []
  },
  {
   "cell_type": "code",
   "execution_count": null,
   "metadata": {},
   "outputs": [],
   "source": []
  }
 ],
 "metadata": {
  "kernelspec": {
   "display_name": "Python 3",
   "language": "python",
   "name": "python3"
  },
  "language_info": {
   "codemirror_mode": {
    "name": "ipython",
    "version": 3
   },
   "file_extension": ".py",
   "mimetype": "text/x-python",
   "name": "python",
   "nbconvert_exporter": "python",
   "pygments_lexer": "ipython3",
   "version": "3.7.9"
  }
 },
 "nbformat": 4,
 "nbformat_minor": 4
}

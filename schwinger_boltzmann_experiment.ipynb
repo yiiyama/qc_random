{
 "cells": [
  {
   "cell_type": "code",
   "execution_count": 1,
   "metadata": {},
   "outputs": [],
   "source": [
    "import os\n",
    "import multiprocessing\n",
    "import time\n",
    "import numpy as np\n",
    "from einsumt import einsumt as einsum\n",
    "from qiskit.circuit import QuantumRegister, ClassicalRegister, QuantumCircuit, Parameter\n",
    "from qiskit import Aer, execute\n",
    "from numpy.random import default_rng\n",
    "import matplotlib.pyplot as plt"
   ]
  },
  {
   "cell_type": "code",
   "execution_count": 2,
   "metadata": {},
   "outputs": [],
   "source": [
    "import numba\n",
    "@numba.vectorize([numba.float64(numba.complex128), numba.float32(numba.complex64)])\n",
    "def abs2(x):\n",
    "    return x.real**2 + x.imag**2"
   ]
  },
  {
   "cell_type": "code",
   "execution_count": 3,
   "metadata": {},
   "outputs": [],
   "source": [
    "def one_step(dt, m=0.5, w=1., J=1., barrier=False):\n",
    "    num_sites = system_size\n",
    "    \n",
    "    qc = QuantumCircuit(num_sites)\n",
    "    \n",
    "    # exp(-i dt Hzz)\n",
    "    for iqr in range(1, num_sites - 1):\n",
    "        phi = J * 0.5 * (2. * dt) * (num_sites - iqr - 1)\n",
    "        for iql in range(iqr):\n",
    "            qc.cx(iql, iqr)\n",
    "            qc.p(phi, iqr)\n",
    "            qc.cx(iql, iqr)\n",
    "            \n",
    "    if barrier:\n",
    "        qc.barrier()\n",
    "            \n",
    "    # exp(-i dt Hpm)\n",
    "    # Hpm = w sum (sigma+ sigma- + h.c.) = w sum h\n",
    "    # h = 1/2 XX + 1/2 YY\n",
    "    phi = w * 0.5 * (2. * dt)\n",
    "    for iq in range(num_sites - 1):\n",
    "        # exp(-i dt w/2 XX)\n",
    "        qc.cx(iq, iq + 1)\n",
    "        qc.rx(phi, iq)\n",
    "        qc.cx(iq, iq + 1)\n",
    "        # exp(-i dt w/2 YY)\n",
    "        qc.cz(iq, iq + 1)\n",
    "        qc.cx(iq, iq + 1)\n",
    "        qc.rx(phi, iq)\n",
    "        qc.cx(iq, iq + 1)\n",
    "        qc.cz(iq, iq + 1)\n",
    "        \n",
    "    if barrier:\n",
    "        qc.barrier()\n",
    "\n",
    "    # exp(-i dt Hz1)\n",
    "    phi = m * 0.5 * (2. * dt)\n",
    "    for iq in range(num_sites):\n",
    "        if iq % 2 == 0:\n",
    "            qc.p(-phi, iq)\n",
    "        else:\n",
    "            qc.p(phi, iq)\n",
    "            \n",
    "    if barrier:\n",
    "        qc.barrier()\n",
    "\n",
    "    # exp(-i dt Hz2)\n",
    "    for iq in range(num_sites - 1):\n",
    "        phi = -J * 0.5 * (num_sites // 2 - (iq + 1) // 2) * (2. * dt)\n",
    "        qc.p(phi, iq)\n",
    "            \n",
    "    if barrier:\n",
    "        qc.barrier()\n",
    "            \n",
    "    return qc"
   ]
  },
  {
   "cell_type": "code",
   "execution_count": 4,
   "metadata": {},
   "outputs": [],
   "source": [
    "def get_renyi_entropy_swaptest(circuit, subsystem):\n",
    "    nq = circuit.num_qubits\n",
    "    circ = QuantumCircuit(nq * 2 + 1, 1)\n",
    "    circ = circ.compose(circuit, qubits=list(range(nq)))\n",
    "    circ = circ.compose(circuit, qubits=list(range(nq, nq * 2)))\n",
    "\n",
    "    # cswap only on the subsystem\n",
    "    circ.h(nq * 2)\n",
    "    for iq in subsystem:\n",
    "        circ.cswap(nq * 2, iq, nq + iq)\n",
    "    circ.h(nq * 2)\n",
    "    circ.measure(nq * 2, 0)\n",
    "    \n",
    "    backend = Aer.get_backend('qasm_simulator')\n",
    "    backend.set_options(method='statevector_gpu')\n",
    "    shots = 2 ** 19\n",
    "    job = execute(circ, backend, shots=shots)\n",
    "    result = job.result()\n",
    "    print(result.data(0)['counts'])\n",
    "    zero_counts = result.data(0)['counts']['0x0']\n",
    "    \n",
    "    return zero_counts / shots * 2. - 1."
   ]
  },
  {
   "cell_type": "code",
   "execution_count": 5,
   "metadata": {},
   "outputs": [],
   "source": [
    "def get_renyi_entropy(statevector, subsystem):\n",
    "    system_size = int(np.log2(statevector.shape[0]))\n",
    "    subsystem_size = len(subsystem)\n",
    "        \n",
    "    # assuming subsystem is contiguous\n",
    "    if min(subsystem) == 0:\n",
    "        statevector = statevector.reshape((-1, 2 ** subsystem_size))\n",
    "    elif max(subsystem) == system_size - 1:\n",
    "        statevector = statevector.reshape((2 ** subsystem_size, -1))\\\n",
    "                    .transpose((1, 0))\n",
    "    else:\n",
    "        statevector = statevector.reshape((-1, 2 ** subsystem_size, 2 ** min(subsystem)))\\\n",
    "                    .transpose((0, 2, 1))\\\n",
    "                    .reshape((-1, 2 ** subsystem_size))\n",
    "\n",
    "    # p_i p_j |<psi_i | psi_j>|^2\n",
    "    # statevector components are unnormalized -> square(abs(statevector)) = p_i ||psi_i>|^2\n",
    "    purity = np.sum(np.square(np.abs(np.einsum('ik,jk->ij', np.conjugate(statevector), statevector)))) # by environment indices\n",
    "    #purity = np.sum(np.square(np.abs(np.einsum('ij,ik->jk', np.conjugate(statevector), statevector)))) # by subsystem indices\n",
    "    #purity = np.sum(abs2(einsum('ik,jk->ij', np.conjugate(statevector), statevector))) # by environment indices\n",
    "#     start = time.time()\n",
    "#     conj = np.conjugate(statevector)\n",
    "#     tconj = time.time() - start\n",
    "#     print(statevector.shape)\n",
    "#     start = time.time()\n",
    "#     #prod = np.matmul(conj, statevector.T)\n",
    "#     prod = np.sum(np.einsum('ik,jk->ij', conj, statevector))\n",
    "#     raise RuntimeError(prod)\n",
    "#     tprod = time.time() - start\n",
    "#     conj = None\n",
    "#     start = time.time()\n",
    "#     prob = abs2(prod)\n",
    "#     tprob = time.time() - start\n",
    "#     prod = None\n",
    "#     start = time.time()\n",
    "#     purity = np.sum(prob)\n",
    "#     tpurity = time.time() - start\n",
    "#     print('conj', tconj, 'prod', tprod, 'prob', tprob, 'purity', tpurity)\n",
    "    #purity = np.sum(abs2(np.matmul(np.conjugate(statevector), statevector.T)))\n",
    "    \n",
    "    # einsum is not parallelized\n",
    "#    conj = np.conjugate(statevector)\n",
    "#    outerprod = np.tensordot(conj, statevector, axes=([1], [1]))\n",
    "#    purity = np.sum(abs2(outerprod))\n",
    "    \n",
    "    return -np.log2(purity), statevector"
   ]
  },
  {
   "cell_type": "code",
   "execution_count": 6,
   "metadata": {},
   "outputs": [],
   "source": [
    "def get_subsystem_probs(circuit):\n",
    "#     backend = Aer.get_backend('statevector_simulator')\n",
    "#     job = execute(circuit, backend)\n",
    "#     result = job.result()\n",
    "#     probs = np.square(np.abs(result.data()['statevector']))\n",
    "    \n",
    "    backend = Aer.get_backend('qasm_simulator')\n",
    "    backend.set_options(method='statevector_gpu')\n",
    "    circuit.measure_all()\n",
    "    shots = 2 ** 16\n",
    "    job = execute(circuit, backend, shots=2**16)\n",
    "    result = job.result()\n",
    "    \n",
    "    probs = np.zeros(2 ** system_size, dtype=np.float)\n",
    "    for hexidx, count in result.data(0)['counts'].items():\n",
    "        probs[int(hexidx[:(system_size // 4) + 2], 16)] = count\n",
    "    probs /= shots\n",
    "        \n",
    "    # take the subsystem from the center of the bitstring\n",
    "    margin = 2 ** ((system_size - subsystem_size) // 2)\n",
    "    probs = np.sum(probs.reshape((margin, 2 ** subsystem_size, margin)), axis=(0, 2))\n",
    "    \n",
    "    return probs"
   ]
  },
  {
   "cell_type": "code",
   "execution_count": 7,
   "metadata": {},
   "outputs": [],
   "source": [
    "def get_electron_number_distribution(probs):\n",
    "    result = np.zeros(subsystem_size + 1, dtype=np.float)\n",
    "    for idx, prob in enumerate(probs):\n",
    "        # up to subsystem_size == 8\n",
    "        bitarray = np.unpackbits(np.array(idx, dtype=np.uint8))[-1:-subsystem_size - 1:-1]\n",
    "        z = np.sum(1 - bitarray[0::2], dtype=np.int) - np.sum(bitarray[1::2], dtype=np.int) + (subsystem_size // 2)\n",
    "        result[z] += prob\n",
    "        \n",
    "    return result"
   ]
  },
  {
   "cell_type": "code",
   "execution_count": 8,
   "metadata": {},
   "outputs": [],
   "source": [
    "system_size = 26\n",
    "subsystem = list(range(9, 17))\n",
    "subsystem_size = len(subsystem)\n",
    "\n",
    "m = 0.5\n",
    "w = 1.\n",
    "J = 1."
   ]
  },
  {
   "cell_type": "code",
   "execution_count": 9,
   "metadata": {},
   "outputs": [
    {
     "name": "stdout",
     "output_type": "stream",
     "text": [
      "1.8730485439300537 s to move one step\n"
     ]
    },
    {
     "ename": "MemoryError",
     "evalue": "Unable to allocate 1.00 TiB for an array with shape (262144, 262144) and data type complex128",
     "output_type": "error",
     "traceback": [
      "\u001b[0;31m---------------------------------------------------------------------------\u001b[0m",
      "\u001b[0;31mMemoryError\u001b[0m                               Traceback (most recent call last)",
      "\u001b[0;32m<ipython-input-9-075e88022935>\u001b[0m in \u001b[0;36m<module>\u001b[0;34m\u001b[0m\n\u001b[1;32m     24\u001b[0m \u001b[0;34m\u001b[0m\u001b[0m\n\u001b[1;32m     25\u001b[0m     \u001b[0mstart\u001b[0m \u001b[0;34m=\u001b[0m \u001b[0mtime\u001b[0m\u001b[0;34m.\u001b[0m\u001b[0mtime\u001b[0m\u001b[0;34m(\u001b[0m\u001b[0;34m)\u001b[0m\u001b[0;34m\u001b[0m\u001b[0;34m\u001b[0m\u001b[0m\n\u001b[0;32m---> 26\u001b[0;31m     \u001b[0mentropy\u001b[0m\u001b[0;34m,\u001b[0m \u001b[0mstatevector\u001b[0m \u001b[0;34m=\u001b[0m \u001b[0mget_renyi_entropy\u001b[0m\u001b[0;34m(\u001b[0m\u001b[0mstatevector\u001b[0m\u001b[0;34m,\u001b[0m \u001b[0msubsystem\u001b[0m\u001b[0;34m)\u001b[0m\u001b[0;34m\u001b[0m\u001b[0;34m\u001b[0m\u001b[0m\n\u001b[0m\u001b[1;32m     27\u001b[0m     \u001b[0mentropies\u001b[0m\u001b[0;34m[\u001b[0m\u001b[0mistep\u001b[0m \u001b[0;34m+\u001b[0m \u001b[0;36m1\u001b[0m\u001b[0;34m]\u001b[0m \u001b[0;34m=\u001b[0m \u001b[0mentropy\u001b[0m\u001b[0;34m\u001b[0m\u001b[0;34m\u001b[0m\u001b[0m\n\u001b[1;32m     28\u001b[0m     \u001b[0mprint\u001b[0m\u001b[0;34m(\u001b[0m\u001b[0mtime\u001b[0m\u001b[0;34m.\u001b[0m\u001b[0mtime\u001b[0m\u001b[0;34m(\u001b[0m\u001b[0;34m)\u001b[0m \u001b[0;34m-\u001b[0m \u001b[0mstart\u001b[0m\u001b[0;34m,\u001b[0m \u001b[0;34m's to compute the entropy'\u001b[0m\u001b[0;34m)\u001b[0m\u001b[0;34m\u001b[0m\u001b[0;34m\u001b[0m\u001b[0m\n",
      "\u001b[0;32m<ipython-input-5-1c12be618908>\u001b[0m in \u001b[0;36mget_renyi_entropy\u001b[0;34m(statevector, subsystem)\u001b[0m\n\u001b[1;32m     16\u001b[0m     \u001b[0;31m# p_i p_j |<psi_i | psi_j>|^2\u001b[0m\u001b[0;34m\u001b[0m\u001b[0;34m\u001b[0m\u001b[0;34m\u001b[0m\u001b[0m\n\u001b[1;32m     17\u001b[0m     \u001b[0;31m# statevector components are unnormalized -> square(abs(statevector)) = p_i ||psi_i>|^2\u001b[0m\u001b[0;34m\u001b[0m\u001b[0;34m\u001b[0m\u001b[0;34m\u001b[0m\u001b[0m\n\u001b[0;32m---> 18\u001b[0;31m     \u001b[0mpurity\u001b[0m \u001b[0;34m=\u001b[0m \u001b[0mnp\u001b[0m\u001b[0;34m.\u001b[0m\u001b[0msum\u001b[0m\u001b[0;34m(\u001b[0m\u001b[0mnp\u001b[0m\u001b[0;34m.\u001b[0m\u001b[0msquare\u001b[0m\u001b[0;34m(\u001b[0m\u001b[0mnp\u001b[0m\u001b[0;34m.\u001b[0m\u001b[0mabs\u001b[0m\u001b[0;34m(\u001b[0m\u001b[0mnp\u001b[0m\u001b[0;34m.\u001b[0m\u001b[0meinsum\u001b[0m\u001b[0;34m(\u001b[0m\u001b[0;34m'ik,jk->ij'\u001b[0m\u001b[0;34m,\u001b[0m \u001b[0mnp\u001b[0m\u001b[0;34m.\u001b[0m\u001b[0mconjugate\u001b[0m\u001b[0;34m(\u001b[0m\u001b[0mstatevector\u001b[0m\u001b[0;34m)\u001b[0m\u001b[0;34m,\u001b[0m \u001b[0mstatevector\u001b[0m\u001b[0;34m)\u001b[0m\u001b[0;34m)\u001b[0m\u001b[0;34m)\u001b[0m\u001b[0;34m)\u001b[0m \u001b[0;31m# by environment indices\u001b[0m\u001b[0;34m\u001b[0m\u001b[0;34m\u001b[0m\u001b[0m\n\u001b[0m\u001b[1;32m     19\u001b[0m     \u001b[0;31m#purity = np.sum(np.square(np.abs(np.einsum('ij,ik->jk', np.conjugate(statevector), statevector)))) # by subsystem indices\u001b[0m\u001b[0;34m\u001b[0m\u001b[0;34m\u001b[0m\u001b[0;34m\u001b[0m\u001b[0m\n\u001b[1;32m     20\u001b[0m     \u001b[0;31m#purity = np.sum(abs2(einsum('ik,jk->ij', np.conjugate(statevector), statevector))) # by environment indices\u001b[0m\u001b[0;34m\u001b[0m\u001b[0;34m\u001b[0m\u001b[0;34m\u001b[0m\u001b[0m\n",
      "\u001b[0;32m<__array_function__ internals>\u001b[0m in \u001b[0;36meinsum\u001b[0;34m(*args, **kwargs)\u001b[0m\n",
      "\u001b[0;32m~/.conda/envs/py38qiskit/lib/python3.8/site-packages/numpy-1.19.4-py3.8-linux-x86_64.egg/numpy/core/einsumfunc.py\u001b[0m in \u001b[0;36meinsum\u001b[0;34m(out, optimize, *operands, **kwargs)\u001b[0m\n\u001b[1;32m   1348\u001b[0m         \u001b[0;32mif\u001b[0m \u001b[0mspecified_out\u001b[0m\u001b[0;34m:\u001b[0m\u001b[0;34m\u001b[0m\u001b[0;34m\u001b[0m\u001b[0m\n\u001b[1;32m   1349\u001b[0m             \u001b[0mkwargs\u001b[0m\u001b[0;34m[\u001b[0m\u001b[0;34m'out'\u001b[0m\u001b[0;34m]\u001b[0m \u001b[0;34m=\u001b[0m \u001b[0mout\u001b[0m\u001b[0;34m\u001b[0m\u001b[0;34m\u001b[0m\u001b[0m\n\u001b[0;32m-> 1350\u001b[0;31m         \u001b[0;32mreturn\u001b[0m \u001b[0mc_einsum\u001b[0m\u001b[0;34m(\u001b[0m\u001b[0;34m*\u001b[0m\u001b[0moperands\u001b[0m\u001b[0;34m,\u001b[0m \u001b[0;34m**\u001b[0m\u001b[0mkwargs\u001b[0m\u001b[0;34m)\u001b[0m\u001b[0;34m\u001b[0m\u001b[0;34m\u001b[0m\u001b[0m\n\u001b[0m\u001b[1;32m   1351\u001b[0m \u001b[0;34m\u001b[0m\u001b[0m\n\u001b[1;32m   1352\u001b[0m     \u001b[0;31m# Check the kwargs to avoid a more cryptic error later, without having to\u001b[0m\u001b[0;34m\u001b[0m\u001b[0;34m\u001b[0m\u001b[0;34m\u001b[0m\u001b[0m\n",
      "\u001b[0;31mMemoryError\u001b[0m: Unable to allocate 1.00 TiB for an array with shape (262144, 262144) and data type complex128"
     ]
    }
   ],
   "source": [
    "dt = np.pi / 16.\n",
    "num_steps = 1\n",
    "\n",
    "entropies = np.empty(num_steps + 1, dtype=np.float)\n",
    "entropies[0] = 0.\n",
    "\n",
    "circuit = QuantumCircuit(system_size)\n",
    "\n",
    "# initial state = vacuum\n",
    "for iq in range(0, system_size, 2):\n",
    "    circuit.x(iq)\n",
    "\n",
    "for istep in range(num_steps):\n",
    "    start = time.time()\n",
    "    circuit += one_step(dt)\n",
    "    \n",
    "    backend = Aer.get_backend('statevector_simulator')\n",
    "    backend.set_options(method='statevector_gpu')\n",
    "    job = execute(circuit, backend)\n",
    "    result = job.result()\n",
    "    statevector = result.data()['statevector']\n",
    "    \n",
    "    print(time.time() - start, 's to move one step')\n",
    "\n",
    "    start = time.time()\n",
    "    entropy, statevector = get_renyi_entropy(statevector, subsystem)\n",
    "    entropies[istep + 1] = entropy\n",
    "    print(time.time() - start, 's to compute the entropy')"
   ]
  },
  {
   "cell_type": "code",
   "execution_count": null,
   "metadata": {},
   "outputs": [],
   "source": [
    "plt.plot(np.arange(num_steps + 1), entropies / subsystem_size)"
   ]
  },
  {
   "cell_type": "code",
   "execution_count": null,
   "metadata": {},
   "outputs": [],
   "source": [
    "probs = np.sum(np.square(np.abs(statevector)), axis=0)\n",
    "indices = np.arange(2 ** subsystem_size, dtype=np.uint8).reshape((-1, 1))\n",
    "bitarray = np.unpackbits(indices, axis=1)\n",
    "electron_numbers = np.sum(1 - bitarray[:, 0::2], axis=1, dtype=np.int) - np.sum(bitarray[:, 1::2], axis=1, dtype=np.int)\n",
    "\n",
    "dist = np.zeros(subsystem_size + 1)\n",
    "for n in range(-subsystem_size // 2, subsystem_size // 2 + 1):\n",
    "    idx = np.nonzero(electron_numbers == n)[0]\n",
    "    dist[n + subsystem_size // 2] += np.sum(probs[idx])"
   ]
  },
  {
   "cell_type": "code",
   "execution_count": null,
   "metadata": {},
   "outputs": [],
   "source": [
    "plt.bar(np.linspace(-(subsystem_size // 2), subsystem_size // 2, subsystem_size + 1), dist)\n",
    "plt.yscale('log')"
   ]
  },
  {
   "cell_type": "code",
   "execution_count": null,
   "metadata": {},
   "outputs": [],
   "source": []
  },
  {
   "cell_type": "code",
   "execution_count": null,
   "metadata": {},
   "outputs": [],
   "source": []
  }
 ],
 "metadata": {
  "kernelspec": {
   "display_name": "Python 3",
   "language": "python",
   "name": "python3"
  },
  "language_info": {
   "codemirror_mode": {
    "name": "ipython",
    "version": 3
   },
   "file_extension": ".py",
   "mimetype": "text/x-python",
   "name": "python",
   "nbconvert_exporter": "python",
   "pygments_lexer": "ipython3",
   "version": "3.8.5"
  }
 },
 "nbformat": 4,
 "nbformat_minor": 4
}

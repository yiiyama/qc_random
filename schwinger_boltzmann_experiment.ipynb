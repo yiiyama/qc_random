{
 "cells": [
  {
   "cell_type": "code",
   "execution_count": 1,
   "metadata": {},
   "outputs": [],
   "source": [
    "import os\n",
    "import multiprocessing\n",
    "import time\n",
    "import numpy as np\n",
    "from einsumt import einsumt as einsum\n",
    "from qiskit.circuit import QuantumRegister, ClassicalRegister, QuantumCircuit, Parameter\n",
    "from qiskit import Aer, execute\n",
    "from numpy.random import default_rng\n",
    "import matplotlib.pyplot as plt\n",
    "import tensorflow as tf"
   ]
  },
  {
   "cell_type": "code",
   "execution_count": 2,
   "metadata": {},
   "outputs": [],
   "source": [
    "import numba\n",
    "\n",
    "@numba.vectorize([numba.float64(numba.complex128), numba.float32(numba.complex64)], target='parallel')\n",
    "def abs2(x):\n",
    "    return x.real**2 + x.imag**2"
   ]
  },
  {
   "cell_type": "code",
   "execution_count": 3,
   "metadata": {},
   "outputs": [],
   "source": [
    "def one_step(dt, m=0.5, w=1., J=1., barrier=False):\n",
    "    num_sites = system_size\n",
    "    \n",
    "    qc = QuantumCircuit(num_sites)\n",
    "    \n",
    "    # exp(-i dt Hzz)\n",
    "    for iqr in range(1, num_sites - 1):\n",
    "        phi = J * 0.5 * (2. * dt) * (num_sites - iqr - 1)\n",
    "        for iql in range(iqr):\n",
    "            qc.cx(iql, iqr)\n",
    "            qc.p(phi, iqr)\n",
    "            qc.cx(iql, iqr)\n",
    "            \n",
    "    if barrier:\n",
    "        qc.barrier()\n",
    "            \n",
    "    # exp(-i dt Hpm)\n",
    "    # Hpm = w sum (sigma+ sigma- + h.c.) = w sum h\n",
    "    # h = 1/2 XX + 1/2 YY\n",
    "    phi = w * 0.5 * (2. * dt)\n",
    "    for iq in range(num_sites - 1):\n",
    "        # exp(-i dt w/2 XX)\n",
    "        qc.cx(iq, iq + 1)\n",
    "        qc.rx(phi, iq)\n",
    "        qc.cx(iq, iq + 1)\n",
    "        # exp(-i dt w/2 YY)\n",
    "        qc.cz(iq, iq + 1)\n",
    "        qc.cx(iq, iq + 1)\n",
    "        qc.rx(phi, iq)\n",
    "        qc.cx(iq, iq + 1)\n",
    "        qc.cz(iq, iq + 1)\n",
    "        \n",
    "    if barrier:\n",
    "        qc.barrier()\n",
    "\n",
    "    # exp(-i dt Hz1)\n",
    "    phi = m * 0.5 * (2. * dt)\n",
    "    for iq in range(num_sites):\n",
    "        if iq % 2 == 0:\n",
    "            qc.p(-phi, iq)\n",
    "        else:\n",
    "            qc.p(phi, iq)\n",
    "            \n",
    "    if barrier:\n",
    "        qc.barrier()\n",
    "\n",
    "    # exp(-i dt Hz2)\n",
    "    for iq in range(num_sites - 1):\n",
    "        phi = -J * 0.5 * (num_sites // 2 - (iq + 1) // 2) * (2. * dt)\n",
    "        qc.p(phi, iq)\n",
    "            \n",
    "    if barrier:\n",
    "        qc.barrier()\n",
    "            \n",
    "    return qc"
   ]
  },
  {
   "cell_type": "code",
   "execution_count": 4,
   "metadata": {},
   "outputs": [],
   "source": [
    "def get_renyi_entropy_swaptest(circuit, subsystem):\n",
    "    nq = circuit.num_qubits\n",
    "    circ = QuantumCircuit(nq * 2 + 1, 1)\n",
    "    circ = circ.compose(circuit, qubits=list(range(nq)))\n",
    "    circ = circ.compose(circuit, qubits=list(range(nq, nq * 2)))\n",
    "\n",
    "    # cswap only on the subsystem\n",
    "    circ.h(nq * 2)\n",
    "    for iq in subsystem:\n",
    "        circ.cswap(nq * 2, iq, nq + iq)\n",
    "    circ.h(nq * 2)\n",
    "    circ.measure(nq * 2, 0)\n",
    "    \n",
    "    backend = Aer.get_backend('qasm_simulator')\n",
    "    backend.set_options(method='statevector_gpu')\n",
    "    shots = 2 ** 19\n",
    "    job = execute(circ, backend, shots=shots)\n",
    "    result = job.result()\n",
    "    print(result.data(0)['counts'])\n",
    "    zero_counts = result.data(0)['counts']['0x0']\n",
    "    \n",
    "    return zero_counts / shots * 2. - 1."
   ]
  },
  {
   "cell_type": "code",
   "execution_count": 5,
   "metadata": {},
   "outputs": [],
   "source": [
    "def get_renyi_entropy(statevector, subsystem):\n",
    "    #system_size = int(np.log2(statevector.shape[0]))\n",
    "    subsystem_size = len(subsystem)\n",
    "    \n",
    "    start = time.time()\n",
    "        \n",
    "    # assuming subsystem is contiguous\n",
    "    low = min(subsystem)\n",
    "    high = system_size - max(subsystem) - 1\n",
    "    statevector = statevector.reshape([2 ** high, 2 ** subsystem_size, 2 ** low])\n",
    "\n",
    "    treshape = time.time() - start\n",
    "\n",
    "    # p_i p_j |<psi_i | psi_j>|^2\n",
    "    # statevector components are unnormalized -> square(abs(statevector)) = p_i ||psi_i>|^2\n",
    "    #purity = np.sum(np.square(np.abs(np.einsum('ik,jk->ij', np.conjugate(statevector), statevector)))) # by environment indices\n",
    "    #purity = np.sum(np.square(np.abs(np.einsum('ij,ik->jk', np.conjugate(statevector), statevector)))) # by subsystem indices\n",
    "    #purity = np.sum(abs2(einsum('ik,jk->ij', np.conjugate(statevector), statevector))) # by environment indices\n",
    "    start = time.time()\n",
    "    conj = np.conjugate(statevector)\n",
    "    tconj = time.time() - start\n",
    "    print(statevector.shape)\n",
    "    start = time.time()\n",
    "    #prod = np.matmul(conj.T, statevector)\n",
    "    prod = np.tensordot(conj, statevector, axes=([0, 2], [0, 2]))\n",
    "    #raise RuntimeError(prod)\n",
    "    tprod = time.time() - start\n",
    "    conj = None\n",
    "    start = time.time()\n",
    "    prob = abs2(prod)\n",
    "    tprob = time.time() - start\n",
    "    prod = None\n",
    "    start = time.time()\n",
    "    purity = np.sum(prob)\n",
    "    tpurity = time.time() - start\n",
    "    start = time.time()\n",
    "    entropy = -np.log2(purity)\n",
    "    tentropy = time.time() - start\n",
    "    print('reshape', treshape, 'conj', tconj, 'prod', tprod, 'prob', tprob, 'purity', tpurity, 'entropy', tentropy)\n",
    "    #purity = np.sum(abs2(np.matmul(np.conjugate(statevector), statevector.T)))\n",
    "    \n",
    "    # einsum is not parallelized\n",
    "#    conj = np.conjugate(statevector)\n",
    "#    outerprod = np.tensordot(conj, statevector, axes=([1], [1]))\n",
    "#    purity = np.sum(abs2(outerprod))\n",
    "    \n",
    "    return -np.log2(purity)"
   ]
  },
  {
   "cell_type": "code",
   "execution_count": 6,
   "metadata": {},
   "outputs": [],
   "source": [
    "# try:\n",
    "#     os.environ['LD_LIBRARY_PATH'] += ':/usr/local/cuda/lib64'\n",
    "# except KeyError:\n",
    "#     os.environ['LD_LIBRARY_PATH'] = '/usr/local/cuda/lib64'\n",
    "\n",
    "MAX_SIZE = 30\n",
    "\n",
    "@tf.function\n",
    "def compute_purity_tf(statevector_real, statevector_imag, shape):\n",
    "    statevector_real = tf.reshape(statevector_real, shape)\n",
    "    statevector_imag = tf.reshape(statevector_imag, shape)\n",
    "    \n",
    "    prod_real = tf.tensordot(statevector_real, statevector_real, axes=[[0, 2], [0, 2]])\n",
    "    prod_real += tf.tensordot(statevector_imag, statevector_imag, axes=[[0, 2], [0, 2]])\n",
    "    prod_imag = tf.tensordot(statevector_real, statevector_imag, axes=[[0, 2], [0, 2]])\n",
    "    prod_imag -= tf.tensordot(statevector_imag, statevector_real, axes=[[0, 2], [0, 2]])\n",
    "    purity = tf.tensordot(prod_real, prod_real, axes=[[0, 1], [0, 1]])\n",
    "    purity += tf.tensordot(prod_imag, prod_imag, axes=[[0, 1], [0, 1]])\n",
    "    \n",
    "    return purity\n",
    "\n",
    "def get_renyi_entropy_tf(statevector, subsystem):\n",
    "    subsystem_size = len(subsystem)\n",
    "\n",
    "    if system_size <= MAX_SIZE:\n",
    "        low = min(subsystem)\n",
    "        high = system_size - max(subsystem) - 1\n",
    "        shape = tf.constant([2 ** high, 2 ** subsystem_size, 2 ** low])\n",
    "\n",
    "        slices = [np.s_[:]]\n",
    "    elif max(subsystem) < MAX_SIZE:\n",
    "        low = min(subsystem)\n",
    "        high = MAX_SIZE - max(subsystem) - 1\n",
    "        shape = tf.constant([2 ** high, 2 ** subsystem_size, 2 ** low])\n",
    "\n",
    "        block_size = 2 ** MAX_SIZE\n",
    "        slices = [np.s_[block_size * i:block_size * (i + 1)] for i in range(2 ** (system_size - MAX_SIZE))]\n",
    "    else:\n",
    "        raise RuntimeError('don\\'t do this it\\'s too much work')\n",
    "\n",
    "    purity = 0.\n",
    "    for sl in slices:\n",
    "        purity += compute_purity_tf(tf.constant(statevector.real[sl]), tf.constant(statevector.imag[sl]), shape).numpy()\n",
    "    entropy = -np.log2(purity)\n",
    "\n",
    "    return entropy"
   ]
  },
  {
   "cell_type": "code",
   "execution_count": 7,
   "metadata": {},
   "outputs": [],
   "source": [
    "def get_subsystem_probs(circuit):\n",
    "#     backend = Aer.get_backend('statevector_simulator')\n",
    "#     job = execute(circuit, backend)\n",
    "#     result = job.result()\n",
    "#     probs = np.square(np.abs(result.data()['statevector']))\n",
    "    \n",
    "    backend = Aer.get_backend('qasm_simulator')\n",
    "    backend.set_options(method='statevector_gpu')\n",
    "    circuit.measure_all()\n",
    "    shots = 2 ** 16\n",
    "    job = execute(circuit, backend, shots=2**16)\n",
    "    result = job.result()\n",
    "    \n",
    "    probs = np.zeros(2 ** system_size, dtype=np.float)\n",
    "    for hexidx, count in result.data(0)['counts'].items():\n",
    "        probs[int(hexidx[:(system_size // 4) + 2], 16)] = count\n",
    "    probs /= shots\n",
    "        \n",
    "    # take the subsystem from the center of the bitstring\n",
    "    margin = 2 ** ((system_size - subsystem_size) // 2)\n",
    "    probs = np.sum(probs.reshape((margin, 2 ** subsystem_size, margin)), axis=(0, 2))\n",
    "    \n",
    "    return probs"
   ]
  },
  {
   "cell_type": "code",
   "execution_count": 8,
   "metadata": {},
   "outputs": [],
   "source": [
    "def get_electron_number_distribution(probs):\n",
    "    result = np.zeros(subsystem_size + 1, dtype=np.float)\n",
    "    for idx, prob in enumerate(probs):\n",
    "        # up to subsystem_size == 8\n",
    "        bitarray = np.unpackbits(np.array(idx, dtype=np.uint8))[-1:-subsystem_size - 1:-1]\n",
    "        z = np.sum(1 - bitarray[0::2], dtype=np.int) - np.sum(bitarray[1::2], dtype=np.int) + (subsystem_size // 2)\n",
    "        result[z] += prob\n",
    "        \n",
    "    return result"
   ]
  },
  {
   "cell_type": "code",
   "execution_count": 9,
   "metadata": {},
   "outputs": [],
   "source": [
    "system_size = 28\n",
    "subsystem = list(range(11, 19))\n",
    "subsystem_size = len(subsystem)\n",
    "\n",
    "m = 0.5\n",
    "w = 1.\n",
    "J = 1."
   ]
  },
  {
   "cell_type": "code",
   "execution_count": 10,
   "metadata": {},
   "outputs": [],
   "source": [
    "dt = np.pi / 16.\n",
    "num_steps = 20"
   ]
  },
  {
   "cell_type": "code",
   "execution_count": 11,
   "metadata": {},
   "outputs": [],
   "source": [
    "entropies = np.empty(num_steps + 1, dtype=np.float)\n",
    "entropies[0] = 0.\n",
    "\n",
    "circuit = QuantumCircuit(system_size)\n",
    "\n",
    "# initial state = vacuum\n",
    "for iq in range(0, system_size, 2):\n",
    "    circuit.x(iq)"
   ]
  },
  {
   "cell_type": "markdown",
   "metadata": {},
   "source": [
    "for istep in range(num_steps):\n",
    "    start = time.time()\n",
    "    circuit += one_step(dt)\n",
    "    \n",
    "    backend = Aer.get_backend('statevector_simulator')\n",
    "    backend.set_options(method='statevector_gpu')\n",
    "    job = execute(circuit, backend)\n",
    "    result = job.result()\n",
    "    statevector = result.data()['statevector']\n",
    "    \n",
    "    print(time.time() - start, 's to move one step')\n",
    "\n",
    "    start = time.time()\n",
    "    entropy = get_renyi_entropy(statevector, subsystem)\n",
    "    entropies[istep + 1] = entropy\n",
    "    print(time.time() - start, 's to compute the entropy')"
   ]
  },
  {
   "cell_type": "code",
   "execution_count": 12,
   "metadata": {},
   "outputs": [
    {
     "name": "stdout",
     "output_type": "stream",
     "text": [
      "108.43498086929321 s to compute the statevectors\n"
     ]
    }
   ],
   "source": [
    "for istep in range(num_steps):\n",
    "    circuit += one_step(dt)\n",
    "    if istep != num_steps - 1:\n",
    "        circuit.snapshot('step{}'.format(istep))\n",
    "\n",
    "start = time.time()\n",
    "backend = Aer.get_backend('statevector_simulator')\n",
    "backend.set_options(method='statevector_gpu')\n",
    "job = execute(circuit, backend)\n",
    "data = job.result().data()\n",
    "print(time.time() - start, 's to compute the statevectors')"
   ]
  },
  {
   "cell_type": "code",
   "execution_count": 13,
   "metadata": {},
   "outputs": [
    {
     "name": "stdout",
     "output_type": "stream",
     "text": [
      "7.696946620941162 s to compute the entropy\n",
      "5.266624689102173 s to compute the entropy\n",
      "5.252077102661133 s to compute the entropy\n",
      "5.23181676864624 s to compute the entropy\n",
      "5.2199547290802 s to compute the entropy\n",
      "5.207066774368286 s to compute the entropy\n",
      "5.32854437828064 s to compute the entropy\n",
      "5.3251953125 s to compute the entropy\n",
      "5.327316999435425 s to compute the entropy\n",
      "5.3534369468688965 s to compute the entropy\n",
      "5.283183813095093 s to compute the entropy\n",
      "5.235624074935913 s to compute the entropy\n",
      "5.2737438678741455 s to compute the entropy\n",
      "5.276337146759033 s to compute the entropy\n",
      "5.246612548828125 s to compute the entropy\n",
      "5.248380184173584 s to compute the entropy\n",
      "5.268268823623657 s to compute the entropy\n",
      "5.2594428062438965 s to compute the entropy\n",
      "5.256901741027832 s to compute the entropy\n",
      "5.271021127700806 s to compute the entropy\n"
     ]
    }
   ],
   "source": [
    "statevectors = [data['snapshots']['statevector']['step{}'.format(istep)][0] for istep in range(num_steps - 1)]\n",
    "statevectors.append(data['statevector'])\n",
    "\n",
    "for istep, statevector in enumerate(statevectors):\n",
    "    start = time.time()\n",
    "    entropy = get_renyi_entropy_tf(statevector, subsystem)\n",
    "    entropies[istep + 1] = entropy\n",
    "    print(time.time() - start, 's to compute the entropy')"
   ]
  },
  {
   "cell_type": "markdown",
   "metadata": {},
   "source": [
    "(4194304, 256)\n",
    "conj 4.3823323249816895 prod 88.82510685920715 prob 0.00017189979553222656 purity 0.00012040138244628906\n",
    "102.49019455909729 s to compute the entropy\n",
    "(4194304, 256)\n",
    "conj 4.1126720905303955 prod 11.836031675338745 prob 0.000141143798828125 purity 0.00011515617370605469\n",
    "24.874769926071167 s to compute the entropy\n",
    "(4194304, 256)\n",
    "conj 4.122253656387329 prod 14.296188592910767 prob 0.00014519691467285156 purity 0.000118255615234375\n",
    "27.454813718795776 s to compute the entropy\n",
    "(4194304, 256)\n",
    "conj 4.260644435882568 prod 13.633363485336304 prob 0.0001480579376220703 purity 0.0001227855682373047\n",
    "27.13946557044983 s to compute the entropy\n",
    "(4194304, 256)\n",
    "conj 4.161118030548096 prod 15.46696400642395 prob 0.00014495849609375 purity 0.00011396408081054688\n",
    "28.771482706069946 s to compute the entropy\n",
    "(4194304, 256)\n",
    "conj 4.131652116775513 prod 13.794524908065796 prob 0.0001430511474609375 purity 0.00011396408081054688\n",
    "27.037447452545166 s to compute the entropy\n",
    "(4194304, 256)\n",
    "conj 4.1322996616363525 prod 13.098738431930542 prob 0.00014019012451171875 purity 0.00011086463928222656\n",
    "26.27515149116516 s to compute the entropy\n",
    "(4194304, 256)\n",
    "conj 4.092943429946899 prod 12.78951621055603 prob 0.00014090538024902344 purity 0.00011277198791503906\n",
    "25.930195808410645 s to compute the entropy\n",
    "(4194304, 256)\n",
    "conj 4.2148401737213135 prod 13.531028747558594 prob 0.00015115737915039062 purity 0.00011396408081054688\n",
    "26.879091262817383 s to compute the entropy\n",
    "(4194304, 256)\n",
    "conj 4.336042881011963 prod 18.468639135360718 prob 0.00017786026000976562 purity 0.00011706352233886719\n",
    "32.21967649459839 s to compute the entropy\n",
    "plt.plot(np.arange(num_steps + 1), entropies / subsystem"
   ]
  },
  {
   "cell_type": "markdown",
   "metadata": {},
   "source": [
    "(8192, 256, 512)\n",
    "reshape 2.384185791015625e-05 conj 4.262945890426636 prod 89.08509635925293 prob 0.0003581047058105469 purity 0.0001227855682373047 entropy 2.0742416381835938e-05\n",
    "93.38376212120056 s to compute the entropy\n",
    "(8192, 256, 512)\n",
    "reshape 1.2874603271484375e-05 conj 4.360467433929443 prod 26.1311252117157 prob 0.000156402587890625 purity 0.00011157989501953125 entropy 1.7404556274414062e-05\n",
    "30.528235912322998 s to compute the entropy\n",
    "(8192, 256, 512)\n",
    "reshape 8.106231689453125e-06 conj 4.356942415237427 prod 26.82246732711792 prob 0.00014901161193847656 purity 0.00010704994201660156 entropy 1.7404556274414062e-05\n",
    "31.217225313186646 s to compute the entropy"
   ]
  },
  {
   "cell_type": "code",
   "execution_count": 14,
   "metadata": {},
   "outputs": [
    {
     "data": {
      "text/plain": [
       "[<matplotlib.lines.Line2D at 0x7ff89de0f160>]"
      ]
     },
     "execution_count": 14,
     "metadata": {},
     "output_type": "execute_result"
    },
    {
     "data": {
      "image/png": "[encoded data removed]",
      "text/plain": [
       "<Figure size 432x288 with 1 Axes>"
      ]
     },
     "metadata": {
      "needs_background": "light"
     },
     "output_type": "display_data"
    }
   ],
   "source": [
    "plt.plot(np.arange(num_steps + 1), entropies / subsystem_size)"
   ]
  },
  {
   "cell_type": "code",
   "execution_count": 15,
   "metadata": {},
   "outputs": [],
   "source": [
    "low = min(subsystem)\n",
    "high = system_size - max(subsystem) - 1\n",
    "statevector = statevector.reshape([2 ** high, 2 ** subsystem_size, 2 ** low])\n",
    "\n",
    "probs = np.sum(abs2(statevector), axis=(0, 2))\n",
    "indices = np.arange(2 ** subsystem_size, dtype=np.uint8).reshape((-1, 1))\n",
    "bitarray = np.unpackbits(indices, axis=1)\n",
    "electron_numbers = np.sum(1 - bitarray[:, 0::2], axis=1, dtype=np.int) - np.sum(bitarray[:, 1::2], axis=1, dtype=np.int)\n",
    "\n",
    "dist = np.zeros(subsystem_size + 1)\n",
    "for n in range(-subsystem_size // 2, subsystem_size // 2 + 1):\n",
    "    idx = np.nonzero(electron_numbers == n)[0]\n",
    "    dist[n + subsystem_size // 2] += np.sum(probs[idx])"
   ]
  },
  {
   "cell_type": "code",
   "execution_count": 16,
   "metadata": {},
   "outputs": [
    {
     "data": {
      "image/png": "[encoded data removed]",
      "text/plain": [
       "<Figure size 432x288 with 1 Axes>"
      ]
     },
     "metadata": {
      "needs_background": "light"
     },
     "output_type": "display_data"
    }
   ],
   "source": [
    "plt.bar(np.linspace(-(subsystem_size // 2), subsystem_size // 2, subsystem_size + 1), dist)\n",
    "plt.yscale('log')"
   ]
  },
  {
   "cell_type": "code",
   "execution_count": null,
   "metadata": {},
   "outputs": [],
   "source": []
  },
  {
   "cell_type": "code",
   "execution_count": null,
   "metadata": {},
   "outputs": [],
   "source": []
  }
 ],
 "metadata": {
  "kernelspec": {
   "display_name": "Python 3",
   "language": "python",
   "name": "python3"
  },
  "language_info": {
   "codemirror_mode": {
    "name": "ipython",
    "version": 3
   },
   "file_extension": ".py",
   "mimetype": "text/x-python",
   "name": "python",
   "nbconvert_exporter": "python",
   "pygments_lexer": "ipython3",
   "version": "3.8.5"
  }
 },
 "nbformat": 4,
 "nbformat_minor": 4
}

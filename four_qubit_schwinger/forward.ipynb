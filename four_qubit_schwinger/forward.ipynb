{
 "cells": [
  {
   "cell_type": "code",
   "execution_count": 1,
   "id": "d5c4ba7b-0b91-44f1-9243-75ae6a0dd38b",
   "metadata": {},
   "outputs": [],
   "source": [
    "import numpy as np\n",
    "import matplotlib.pyplot as plt\n",
    "from qiskit import IBMQ, QuantumCircuit, transpile\n",
    "from qiskit.circuit import Gate, Parameter\n",
    "from qiskit.tools.monitor import job_monitor\n",
    "from qiskit_experiments.database_service import DbExperimentDataV1 as DbExperimentData\n",
    "\n",
    "from cross_resonance import LinearizedCR, PulseEfficientCR, DefaultRtt, cx_circuit\n",
    "from calibrations import MeasurementErrorMitigation, MeasurementErrorExperiment, LinearizedCRRabiExperiment\n",
    "from model_circuits import single_step_no_opt, single_step, two_steps\n",
    "from dynamics import plot_counts_with_curve"
   ]
  },
  {
   "cell_type": "code",
   "execution_count": 2,
   "id": "f4a85fa2-6f57-448a-8b86-69c8523fdbef",
   "metadata": {},
   "outputs": [],
   "source": [
    "IBMQ.load_account()\n",
    "#provider = IBMQ.get_provider(hub='ibm-q-research', group='tokyo-1', project='main')\n",
    "#backend = provider.get_backend('ibm_lagos')\n",
    "#physical_qubits = [1, 3, 5, 6]\n",
    "provider = IBMQ.get_provider(hub='ibm-q-utokyo', group='internal', project='icepp')\n",
    "backend = provider.get_backend('ibmq_quito')\n",
    "physical_qubits = [2, 1, 3, 4]"
   ]
  },
  {
   "cell_type": "code",
   "execution_count": 3,
   "id": "d571dc36-b5dd-4adb-a336-4d05517460ec",
   "metadata": {},
   "outputs": [],
   "source": [
    "#exp = MeasurementErrorExperiment(physical_qubits, circuits_per_state=(backend.configuration().max_experiments // 16))\n",
    "#exp_data = exp.run(backend=backend, shots=8192)\n",
    "#print(exp_data.experiment_id)\n",
    "#mem_experiment_id = exp_data.experiment_id\n",
    "#exp_data.block_for_results()\n",
    "#exp_data.save()"
   ]
  },
  {
   "cell_type": "code",
   "execution_count": 4,
   "id": "8b0c123b-a9c8-4131-9711-ba8d1727447a",
   "metadata": {},
   "outputs": [
    {
     "name": "stdout",
     "output_type": "stream",
     "text": [
      "8b75a6fa-acfd-4c5f-a007-e01e0e8935b0\n",
      "526741cb-15b8-435a-b96f-52fd473e5cc5\n",
      "86c7660c-f1aa-4e90-bf69-83f8c5bb3764\n"
     ]
    }
   ],
   "source": [
    "lcr_experiment_ids = dict()\n",
    "for qubits in [physical_qubits[:2], physical_qubits[1:3], physical_qubits[2:]]:\n",
    "    exp = LinearizedCRRabiExperiment(qubits, backend)\n",
    "    exp.circuits_per_point = backend.configuration().max_experiments // exp.width_values.shape[0]\n",
    "    exp_data = exp.run(backend=backend, shots=8192)\n",
    "    print(exp_data.experiment_id)\n",
    "    lcr_experiment_ids[tuple(qubits)] = exp_data.experiment_id\n",
    "    exp_data.block_for_results()\n",
    "    exp_data.save()\n",
    "    \n",
    "# ibmq_jakarta [1, 3, 5, 6]\n",
    "#lcr_experiment_ids = {\n",
    "#    (1, 3): '58a018c8-1029-4bbf-9ad1-a16e57220444',\n",
    "#    (3, 5): 'd95780a6-120a-4df6-a63f-1049ee3b53bc',\n",
    "#    (5, 6): 'b8648948-fb0a-408a-bdf8-c2a2a99684b7'\n",
    "#}\n",
    "#mem_experiment_id = '06530479-b302-4bab-92f9-2fa8229e99f9'\n",
    "\n",
    "# ibmq_quito [2, 1, 3, 4]\n",
    "#lcr_experiment_ids = {\n",
    "#    (2, 1): '8b75a6fa-acfd-4c5f-a007-e01e0e8935b0',\n",
    "#    (1, 3): '526741cb-15b8-435a-b96f-52fd473e5cc5',\n",
    "#    (3, 4): '86c7660c-f1aa-4e90-bf69-83f8c5bb3764'\n",
    "#}\n",
    "#mem_experiment_id = '5195e012-c16b-46c7-8213-1e74e5e3303a'"
   ]
  },
  {
   "cell_type": "code",
   "execution_count": 6,
   "id": "03279f5a-b0cc-4d58-839f-03020db29fcf",
   "metadata": {},
   "outputs": [],
   "source": [
    "crs_linear = {\n",
    "    (0, 1): LinearizedCR(backend, tuple(physical_qubits[:2])),\n",
    "    (1, 2): LinearizedCR(backend, tuple(physical_qubits[1:3])),\n",
    "    (2, 3): LinearizedCR(backend, tuple(physical_qubits[2:]))\n",
    "}\n",
    "crs_pe = {\n",
    "    (0, 1): PulseEfficientCR(backend, tuple(physical_qubits[:2])),\n",
    "    (1, 2): PulseEfficientCR(backend, tuple(physical_qubits[1:3])),\n",
    "    (2, 3): PulseEfficientCR(backend, tuple(physical_qubits[2:]))\n",
    "}\n",
    "crs_default = dict((qubits, DefaultRtt()) for qubits in [(0, 1), (1, 2), (2, 3)])\n",
    "for qubits, cr in crs_default.items():\n",
    "    cr.native_direction = crs_linear[qubits].native_direction\n",
    "\n",
    "cxs = {\n",
    "    (0, 1): cx_circuit(backend, *tuple(physical_qubits[:2])),\n",
    "    (1, 0): cx_circuit(backend, *tuple(physical_qubits[1::-1]))\n",
    "}\n",
    "mem = MeasurementErrorMitigation(backend, physical_qubits)\n",
    "\n",
    "for lcr in crs_linear.values():\n",
    "    if lcr.native_direction:\n",
    "        qubits = (lcr.z_qubit, lcr.x_qubit)\n",
    "    else:\n",
    "        qubits = (lcr.x_qubit, lcr.z_qubit)\n",
    "\n",
    "    lcr.load_calibration(lcr_experiment_ids[qubits])\n",
    "\n",
    "mem.load_matrix(mem_experiment_id)"
   ]
  },
  {
   "cell_type": "code",
   "execution_count": 7,
   "id": "f4a85698-0076-4d74-9e8b-7ec4568fdd5e",
   "metadata": {},
   "outputs": [],
   "source": [
    "nsites = 4\n",
    "\n",
    "J = 1. # Hamiltonian J parameter\n",
    "mu = 0.5 # Hamiltonian mu parameter\n",
    "\n",
    "M = 8 # number of Trotter steps\n",
    "omegadt = 0.2 # Trotter step size"
   ]
  },
  {
   "cell_type": "code",
   "execution_count": 8,
   "id": "4a7005b2-9fb5-4943-9413-80d6fc971a83",
   "metadata": {},
   "outputs": [],
   "source": [
    "def combined_and_corrected_counts(job, exp_block_size):\n",
    "    raw_counts = job.result().get_counts()\n",
    "    counts = raw_counts[:exp_block_size]\n",
    "    for iexp, cdict in enumerate(raw_counts[exp_block_size:]):\n",
    "        ic = iexp % exp_block_size\n",
    "        for key, value in cdict.items():\n",
    "            try:\n",
    "                counts[ic][key] += value\n",
    "            except KeyError:\n",
    "                counts[ic][key] = value\n",
    "\n",
    "    return mem.apply(counts)"
   ]
  },
  {
   "cell_type": "markdown",
   "id": "bc13c38b-64de-469c-b3ec-9448d192b7ed",
   "metadata": {},
   "source": [
    "## Forward steps with LinearizedCR"
   ]
  },
  {
   "cell_type": "code",
   "execution_count": 9,
   "id": "71534618-f905-40be-bbe3-ea2df1bdf12b",
   "metadata": {},
   "outputs": [],
   "source": [
    "single_step_circuit = single_step(J, mu, omegadt, crs=crs_linear, cxs=cxs)\n",
    "two_step_circuit = two_steps(J, mu, omegadt, crs=crs_linear, cxs=cxs)\n",
    "\n",
    "circuits = []\n",
    "for nrep in range(1, M + 1):\n",
    "    circuit = QuantumCircuit(nsites, nsites)\n",
    "    circuit.x(1)\n",
    "    circuit.x(3)\n",
    "    for _ in range(nrep // 2):\n",
    "        circuit.compose(two_step_circuit, inplace=True)\n",
    "    if nrep % 2 == 1:\n",
    "        circuit.compose(single_step_circuit, inplace=True)\n",
    "    circuit.measure(circuit.qregs[0], circuit.cregs[0])\n",
    "    circuits.append(circuit)\n",
    "    \n",
    "circuits = transpile(circuits, backend=backend, initial_layout=physical_qubits, optimization_level=1)\n",
    "circuits *= backend.configuration().max_experiments // M"
   ]
  },
  {
   "cell_type": "code",
   "execution_count": 10,
   "id": "6af88048-fc7c-4671-81a4-ea42e592b01a",
   "metadata": {},
   "outputs": [
    {
     "name": "stdout",
     "output_type": "stream",
     "text": [
      "6164f444fb30d2081f825180\n",
      "Job Status: job has successfully run\n"
     ]
    }
   ],
   "source": [
    "job = backend.run(circuits, shots=8192)\n",
    "print(job.job_id())\n",
    "job_monitor(job)\n",
    "#job = backend.retrieve_job('6161bdadc978664b30093020')"
   ]
  },
  {
   "cell_type": "code",
   "execution_count": 11,
   "id": "cfd52fd2-0d6b-42eb-a8ba-f3feac46aceb",
   "metadata": {},
   "outputs": [
    {
     "data": {
      "image/png": "[encoded data removed]",
      "text/plain": [
       "<Figure size 432x288 with 1 Axes>"
      ]
     },
     "metadata": {
      "needs_background": "light"
     },
     "output_type": "display_data"
    }
   ],
   "source": [
    "plot_counts_with_curve(combined_and_corrected_counts(job, M), nsites, J, mu, omegadt, M)"
   ]
  },
  {
   "cell_type": "markdown",
   "id": "dde27f1c-95b8-48cf-9c36-d09797f9f73d",
   "metadata": {},
   "source": [
    "## Forward steps with Pulse-Efficient CR"
   ]
  },
  {
   "cell_type": "code",
   "execution_count": 12,
   "id": "69c1b9b3-d19e-44d9-8198-a28a823980ef",
   "metadata": {},
   "outputs": [],
   "source": [
    "single_step_circuit = single_step(J, mu, omegadt, crs=crs_pe, cxs=cxs)\n",
    "two_step_circuit = two_steps(J, mu, omegadt, crs=crs_pe, cxs=cxs)\n",
    "\n",
    "circuits = []\n",
    "for nrep in range(1, M + 1):\n",
    "    circuit = QuantumCircuit(nsites, nsites)\n",
    "    circuit.x(1)\n",
    "    circuit.x(3)\n",
    "    for _ in range(nrep // 2):\n",
    "        circuit.compose(two_step_circuit, inplace=True)\n",
    "    if nrep % 2 == 1:\n",
    "        circuit.compose(single_step_circuit, inplace=True)\n",
    "    circuit.measure(circuit.qregs[0], circuit.cregs[0])\n",
    "    circuits.append(circuit)\n",
    "    \n",
    "circuits = transpile(circuits, backend=backend, initial_layout=physical_qubits, optimization_level=1)\n",
    "circuits *= backend.configuration().max_experiments // M"
   ]
  },
  {
   "cell_type": "code",
   "execution_count": 13,
   "id": "dd4b3d49-85d3-4224-b9f1-bdaa1a1cac5f",
   "metadata": {},
   "outputs": [
    {
     "name": "stdout",
     "output_type": "stream",
     "text": [
      "6164f51ba4f5339b050e85e8\n",
      "Job Status: job has successfully run\n"
     ]
    }
   ],
   "source": [
    "job = backend.run(circuits, shots=8192)\n",
    "print(job.job_id())\n",
    "job_monitor(job)\n",
    "#job = backend.retrieve_job('6161cc37ed29dd246fc6826e')"
   ]
  },
  {
   "cell_type": "code",
   "execution_count": 14,
   "id": "cac63e5f-5150-4c58-98a4-c960ec772678",
   "metadata": {},
   "outputs": [
    {
     "data": {
      "image/png": "[encoded data removed]",
      "text/plain": [
       "<Figure size 432x288 with 1 Axes>"
      ]
     },
     "metadata": {
      "needs_background": "light"
     },
     "output_type": "display_data"
    }
   ],
   "source": [
    "plot_counts_with_curve(combined_and_corrected_counts(job, M), nsites, J, mu, omegadt, M)"
   ]
  },
  {
   "cell_type": "markdown",
   "id": "cbf00152-b97e-4817-add2-0eb8dbbd0f33",
   "metadata": {},
   "source": [
    "## Forward with naive implementation (optimization level 3)"
   ]
  },
  {
   "cell_type": "code",
   "execution_count": 15,
   "id": "574771bb-0b71-40cb-b874-b1f971cba52e",
   "metadata": {},
   "outputs": [],
   "source": [
    "single_step_circuit = single_step_no_opt(J, mu, omegadt)\n",
    "\n",
    "circuits = []\n",
    "for nrep in range(1, M + 1):\n",
    "    circuit = QuantumCircuit(nsites, nsites)\n",
    "    circuit.x(1)\n",
    "    circuit.x(3)\n",
    "    for _ in range(nrep):\n",
    "        circuit.compose(single_step_circuit, inplace=True)\n",
    "    circuit.measure(circuit.qregs[0], circuit.cregs[0])\n",
    "    circuits.append(circuit)\n",
    "    \n",
    "circuits = transpile(circuits, backend=backend, initial_layout=physical_qubits, optimization_level=3)\n",
    "circuits *= backend.configuration().max_experiments // M"
   ]
  },
  {
   "cell_type": "code",
   "execution_count": 16,
   "id": "1fea97a3-c32c-462f-a8e7-56fdffab7ea4",
   "metadata": {},
   "outputs": [
    {
     "name": "stdout",
     "output_type": "stream",
     "text": [
      "6164f5f3ce0f4f3608f26344\n",
      "Job Status: job has successfully run\n"
     ]
    }
   ],
   "source": [
    "job = backend.run(circuits, shots=8192)\n",
    "print(job.job_id())\n",
    "job_monitor(job)\n",
    "#job = backend.retrieve_job('616213fcc97866743e0931d4')"
   ]
  },
  {
   "cell_type": "code",
   "execution_count": 17,
   "id": "beb9f226-7259-4680-b2be-cf7678f89ca8",
   "metadata": {},
   "outputs": [
    {
     "data": {
      "image/png": "[encoded data removed]",
      "text/plain": [
       "<Figure size 432x288 with 1 Axes>"
      ]
     },
     "metadata": {
      "needs_background": "light"
     },
     "output_type": "display_data"
    }
   ],
   "source": [
    "plot_counts_with_curve(combined_and_corrected_counts(job, M), nsites, J, mu, omegadt, M)"
   ]
  },
  {
   "cell_type": "markdown",
   "id": "c8c9ac96-3e57-444f-9392-b3830e9036fd",
   "metadata": {},
   "source": [
    "## Forward steps with CNOT-based Rtt"
   ]
  },
  {
   "cell_type": "code",
   "execution_count": 18,
   "id": "2a720e24-a1a1-42cc-a541-dcf59291099f",
   "metadata": {},
   "outputs": [],
   "source": [
    "single_step_circuit = single_step(J, mu, omegadt, crs=crs_default)\n",
    "two_step_circuit = two_steps(J, mu, omegadt, crs=crs_default)\n",
    "\n",
    "circuits = []\n",
    "for nrep in range(1, M + 1):\n",
    "    circuit = QuantumCircuit(nsites, nsites)\n",
    "    circuit.x(1)\n",
    "    circuit.x(3)\n",
    "    for _ in range(nrep // 2):\n",
    "        circuit.compose(two_step_circuit, inplace=True)\n",
    "    if nrep % 2 == 1:\n",
    "        circuit.compose(single_step_circuit, inplace=True)\n",
    "    circuit.measure(circuit.qregs[0], circuit.cregs[0])\n",
    "    circuits.append(circuit)\n",
    "    \n",
    "circuits = transpile(circuits, backend=backend, initial_layout=physical_qubits, optimization_level=1)\n",
    "circuits *= backend.configuration().max_experiments // M"
   ]
  },
  {
   "cell_type": "code",
   "execution_count": 19,
   "id": "d3088cee-64ba-43e8-9ba3-9452f954b775",
   "metadata": {},
   "outputs": [
    {
     "name": "stdout",
     "output_type": "stream",
     "text": [
      "6164f6d3fb30d274188251a3\n",
      "Job Status: job has successfully run\n"
     ]
    }
   ],
   "source": [
    "job = backend.run(circuits, shots=8192)\n",
    "print(job.job_id())\n",
    "job_monitor(job)\n",
    "#job = backend.retrieve_job('6161cc37ed29dd246fc6826e')"
   ]
  },
  {
   "cell_type": "code",
   "execution_count": 20,
   "id": "a1556643-1ad5-420b-bde7-821b87815d46",
   "metadata": {},
   "outputs": [
    {
     "data": {
      "image/png": "[encoded data removed]",
      "text/plain": [
       "<Figure size 432x288 with 1 Axes>"
      ]
     },
     "metadata": {
      "needs_background": "light"
     },
     "output_type": "display_data"
    }
   ],
   "source": [
    "plot_counts_with_curve(combined_and_corrected_counts(job, M), nsites, J, mu, omegadt, M)"
   ]
  },
  {
   "cell_type": "code",
   "execution_count": null,
   "id": "7df0545a-7146-4080-acf9-3696e9979b6f",
   "metadata": {},
   "outputs": [],
   "source": []
  }
 ],
 "metadata": {
  "kernelspec": {
   "display_name": "Python 3 (ipykernel)",
   "language": "python",
   "name": "python3"
  },
  "language_info": {
   "codemirror_mode": {
    "name": "ipython",
    "version": 3
   },
   "file_extension": ".py",
   "mimetype": "text/x-python",
   "name": "python",
   "nbconvert_exporter": "python",
   "pygments_lexer": "ipython3",
   "version": "3.8.10"
  }
 },
 "nbformat": 4,
 "nbformat_minor": 5
}

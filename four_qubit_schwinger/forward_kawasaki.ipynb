{
 "cells": [
  {
   "cell_type": "code",
   "execution_count": 1,
   "id": "d5c4ba7b-0b91-44f1-9243-75ae6a0dd38b",
   "metadata": {},
   "outputs": [],
   "source": [
    "import os\n",
    "import numpy as np\n",
    "import h5py\n",
    "import matplotlib.pyplot as plt\n",
    "from qiskit import IBMQ, QuantumCircuit, QuantumRegister, transpile, schedule as build_schedule\n",
    "from qiskit.circuit import Gate, Parameter\n",
    "import qiskit.compiler.transpiler as transpiler\n",
    "from qiskit.transpiler.passes import DynamicalDecoupling\n",
    "from qiskit.circuit.library import XGate\n",
    "from qiskit.tools.monitor import job_monitor\n",
    "from qiskit.ignis.mitigation.measurement import MeasurementFilter, complete_meas_cal\n",
    "from qiskit_experiments.database_service import DbExperimentDataV1 as DbExperimentData\n",
    "\n",
    "from cross_resonance import LinearizedCR, PulseEfficientCR, DefaultRtt, cx_circuit\n",
    "from calibrations import MeasurementErrorMitigation, MeasurementErrorExperiment, LinearizedCRRabiExperiment\n",
    "from model_circuits import single_step_no_opt, single_step, two_steps, add_dynamical_decoupling\n",
    "from dynamics import plot_curve, plot_counts_with_curve"
   ]
  },
  {
   "cell_type": "code",
   "execution_count": 2,
   "id": "42c0babd-4ead-43d2-95d9-b53484a6b774",
   "metadata": {},
   "outputs": [],
   "source": [
    "nsites = 4\n",
    "\n",
    "J = 2. # Hamiltonian J parameter\n",
    "mu = 2. # Hamiltonian mu parameter\n",
    "\n",
    "M = 8 # number of Trotter steps\n",
    "omegadt = 0.2 # Trotter step size"
   ]
  },
  {
   "cell_type": "code",
   "execution_count": 3,
   "id": "cd2007b5-3886-4116-805c-fb1c3aa2db18",
   "metadata": {},
   "outputs": [],
   "source": [
    "IBMQ.load_account()\n",
    "provider = IBMQ.get_provider(hub='ibm-q-utokyo', group='internal', project='icepp')\n",
    "backend = provider.get_backend('ibm_kawasaki')\n",
    "physical_qubits = [1, 4, 7, 6]"
   ]
  },
  {
   "cell_type": "code",
   "execution_count": 4,
   "id": "d571dc36-b5dd-4adb-a336-4d05517460ec",
   "metadata": {},
   "outputs": [],
   "source": [
    "calibrations_file_name = 'kawasaki_{}.h5'.format('_'.join(str(q) for q in physical_qubits))\n",
    "if not os.path.exists(calibrations_file_name):\n",
    "    with h5py.File(calibrations_file_name, 'r+') as out:\n",
    "        dataset = out.create_dataset('physical_qubits', (4,), dtype='i')\n",
    "        dataset[:] = physical_qubits\n",
    "        \n",
    "        exp = MeasurementErrorExperiment(physical_qubits, circuits_per_state=(backend.configuration().max_experiments // 32))\n",
    "        exp_data = exp.run(backend=backend, shots=8192)\n",
    "        print(exp_data.experiment_id)\n",
    "        exp_data.block_for_results()\n",
    "        cal_matrix = exp_data.analysis_results()[0].value\n",
    "        out.create_dataset('measurement_error_matrix', data=cal_matrix)\n",
    "        \n",
    "        dataset_alpha = out.create_dataset('alpha', (3, 2), dtype='f')\n",
    "        dataset_phi0 = out.create_dataset('phi0', (3, 2), dtype='f')\n",
    "        dataset_amp = out.create_dataset('amp', (3, 2), dtype='f')\n",
    "        dataset_offset = out.create_dataset('offset', (3, 2), dtype='f')\n",
    "        dataset_chisq = out.create_dataset('chisq', (3,), dtype='f')\n",
    "\n",
    "        for ipair, qubits in enumerate(zip(physical_qubits[:-1], physical_qubits[1:])):\n",
    "            exp = LinearizedCRRabiExperiment(qubits, backend)\n",
    "            exp.circuits_per_point = backend.configuration().max_experiments // exp.width_values.shape[0] // 2\n",
    "            exp_data = exp.run(backend=backend, shots=8192)\n",
    "            print(exp_data.experiment_id)\n",
    "            exp_data.block_for_results()\n",
    "            results = exp_data.analysis_results()\n",
    "            dataset_alpha[ipair, 0] = results[0].value.value\n",
    "            dataset_alpha[ipair, 1] = results[0].value.stderr\n",
    "            dataset_phi0[ipair, 0] = results[1].value.value\n",
    "            dataset_phi0[ipair, 1] = results[1].value.stderr\n",
    "            dataset_amp[ipair, 0] = results[2].value.value\n",
    "            dataset_amp[ipair, 1] = results[2].value.stderr\n",
    "            dataset_offset[ipair, 0] = results[3].value.value\n",
    "            dataset_offset[ipair, 1] = results[3].value.stderr\n",
    "            dataset_chisq[ipair] = results[4].chisq"
   ]
  },
  {
   "cell_type": "code",
   "execution_count": 5,
   "id": "03279f5a-b0cc-4d58-839f-03020db29fcf",
   "metadata": {},
   "outputs": [],
   "source": [
    "crs_linear = {\n",
    "    (0, 1): LinearizedCR(backend, tuple(physical_qubits[:2])),\n",
    "    (1, 2): LinearizedCR(backend, tuple(physical_qubits[1:3])),\n",
    "    (2, 3): LinearizedCR(backend, tuple(physical_qubits[2:]))\n",
    "}\n",
    "crs_pe = {\n",
    "    (0, 1): PulseEfficientCR(backend, tuple(physical_qubits[:2])),\n",
    "    (1, 2): PulseEfficientCR(backend, tuple(physical_qubits[1:3])),\n",
    "    (2, 3): PulseEfficientCR(backend, tuple(physical_qubits[2:]))\n",
    "}\n",
    "crs_default = dict((qubits, DefaultRtt()) for qubits in [(0, 1), (1, 2), (2, 3)])\n",
    "for qubits, cr in crs_default.items():\n",
    "    cr.native_direction = crs_linear[qubits].native_direction\n",
    "\n",
    "cxs = {\n",
    "    (0, 1): cx_circuit(backend, *tuple(physical_qubits[:2])),\n",
    "    (1, 0): cx_circuit(backend, *tuple(physical_qubits[1::-1]))\n",
    "}\n",
    "mem = MeasurementErrorMitigation(backend, physical_qubits)\n",
    "\n",
    "with h5py.File(calibrations_file_name, 'r') as source:\n",
    "    for ipair in range(3):\n",
    "        lcr = crs_linear[(ipair, ipair + 1)]\n",
    "\n",
    "        if lcr.native_direction:\n",
    "            qubits = (lcr.z_qubit, lcr.x_qubit)\n",
    "        else:\n",
    "            qubits = (lcr.x_qubit, lcr.z_qubit)\n",
    "\n",
    "        lcr.alpha = source['alpha'][ipair, 0]\n",
    "        lcr.phi0 = source['phi0'][ipair, 0]\n",
    "\n",
    "    _, state_labels = complete_meas_cal(qubit_list=list(range(nsites)), qr=QuantumRegister(4), circlabel='mcal')\n",
    "    mem.filter = MeasurementFilter(source['measurement_error_matrix'][:], state_labels)"
   ]
  },
  {
   "cell_type": "code",
   "execution_count": 6,
   "id": "9e2291b6-9082-4cbb-b4a2-b59108ffa3f8",
   "metadata": {},
   "outputs": [],
   "source": [
    "def trotter_step_circuits(crs=None, cxs=None, optimization_level=1, with_dd=False):\n",
    "    if crs:\n",
    "        single_step_circuit = single_step(J, mu, omegadt, crs=crs, cxs=cxs)\n",
    "        two_step_circuit = two_steps(J, mu, omegadt, crs=crs, cxs=cxs)\n",
    "    else:\n",
    "        single_step_circuit = single_step_no_opt(J, mu, omegadt)\n",
    "        two_step_circuit = single_step_circuit.compose(single_step_circuit)\n",
    "    \n",
    "    circuits = []\n",
    "    for nrep in range(1, M + 1):\n",
    "        circuit = QuantumCircuit(nsites, nsites)\n",
    "        circuit.x(1)\n",
    "        circuit.x(3)\n",
    "\n",
    "        for _ in range(nrep // 2):\n",
    "            circuit.compose(two_step_circuit, inplace=True)\n",
    "                \n",
    "        if nrep % 2 == 1:\n",
    "            circuit.compose(single_step_circuit, inplace=True)\n",
    "            \n",
    "        circuit.measure(circuit.qregs[0], circuit.cregs[0])\n",
    "        circuits.append(circuit)\n",
    "    \n",
    "    if with_dd:\n",
    "        circuits = transpile_with_dynamical_decoupling(circuits, backend, physical_qubits, optimization_level=optimization_level)\n",
    "    else:\n",
    "        circuits = transpile(circuits, backend=backend, initial_layout=physical_qubits, optimization_level=optimization_level)\n",
    "    circuits *= 10\n",
    "    \n",
    "    return circuits"
   ]
  },
  {
   "cell_type": "code",
   "execution_count": 7,
   "id": "3d293393-0c28-46d1-ac10-c71dbd4d7289",
   "metadata": {},
   "outputs": [],
   "source": [
    "from qiskit.transpiler.preset_passmanagers import level_0_pass_manager, level_1_pass_manager, level_2_pass_manager, level_3_pass_manager\n",
    "preset_pms = [level_0_pass_manager, level_1_pass_manager, level_2_pass_manager, level_3_pass_manager]\n",
    "\n",
    "def _transpile_circuit(circuit_config_tuple):\n",
    "    circuit, transpile_config = circuit_config_tuple\n",
    "\n",
    "    pass_manager_config = transpile_config[\"pass_manager_config\"]\n",
    "\n",
    "    # we choose an appropriate one based on desired optimization level\n",
    "    level = transpile_config[\"optimization_level\"]\n",
    "\n",
    "    pass_manager = preset_pms[level](pass_manager_config)\n",
    "    \n",
    "    default_passes = pass_manager.passes()\n",
    "    scheduling = default_passes[-2]['passes']\n",
    "    dd = DynamicalDecoupling(pass_manager_config.instruction_durations, dd_sequence=[XGate(), XGate()])\n",
    "    scheduling.append(dd)\n",
    "    pass_manager.replace(-2, scheduling)\n",
    "\n",
    "    result = pass_manager.run(\n",
    "        circuit, callback=transpile_config[\"callback\"], output_name=transpile_config[\"output_name\"]\n",
    "    )\n",
    "    \n",
    "    return result\n",
    "\n",
    "def transpile_with_dynamical_decoupling(circuits, backend, initial_layout, optimization_level=1):\n",
    "    transpile_args = transpiler._parse_transpile_args(\n",
    "        circuits, # circuits,\n",
    "        backend, # backend,\n",
    "        None, # basis_gates,\n",
    "        None, # coupling_map,\n",
    "        None, # backend_properties,\n",
    "        initial_layout, # initial_layout,\n",
    "        None, # layout_method,\n",
    "        None, # routing_method,\n",
    "        None, # translation_method,\n",
    "        'alap', # scheduling_method,\n",
    "        None, # instruction_durations,\n",
    "        None, # dt,\n",
    "        None, # approximation_degree,\n",
    "        None, # seed_transpiler,\n",
    "        optimization_level, # optimization_level,\n",
    "        None, # callback,\n",
    "        None, # output_name,\n",
    "        None  # timing_constraints,\n",
    "    )\n",
    "\n",
    "    transpiler._check_circuits_coupling_map(circuits, transpile_args, backend)\n",
    "\n",
    "    # Transpile circuits in parallel\n",
    "    return transpiler.parallel_map(_transpile_circuit, list(zip(circuits, transpile_args)))    "
   ]
  },
  {
   "cell_type": "code",
   "execution_count": 8,
   "id": "4a7005b2-9fb5-4943-9413-80d6fc971a83",
   "metadata": {},
   "outputs": [],
   "source": [
    "def combined_and_corrected_counts(job, exp_block_size):\n",
    "    raw_counts = job.result().get_counts()\n",
    "    counts = raw_counts[:exp_block_size]\n",
    "    for iexp, cdict in enumerate(raw_counts[exp_block_size:]):\n",
    "        ic = iexp % exp_block_size\n",
    "        for key, value in cdict.items():\n",
    "            try:\n",
    "                counts[ic][key] += value\n",
    "            except KeyError:\n",
    "                counts[ic][key] = value\n",
    "\n",
    "    return mem.apply(counts)"
   ]
  },
  {
   "cell_type": "markdown",
   "id": "14cd2c6e-c4d4-4342-b1d9-dce7349358de",
   "metadata": {},
   "source": [
    "## Define and submit all circuits"
   ]
  },
  {
   "cell_type": "code",
   "execution_count": 9,
   "id": "abfab7d3-6c92-4d59-943a-1578c684f6de",
   "metadata": {},
   "outputs": [],
   "source": [
    "# circuits = trotter_step_circuits(crs=crs_linear, cxs=cxs, with_dd=True)\n",
    "# job_linear = backend.run(circuits, shots=8192)\n",
    "# print('linear', job_linear.job_id())\n",
    "job_linear = backend.retrieve_job('616e3d7d9c88ce29cab0dd29')"
   ]
  },
  {
   "cell_type": "code",
   "execution_count": 10,
   "id": "577c9b8a-4ba0-4f7c-b73b-792098eee8f1",
   "metadata": {},
   "outputs": [],
   "source": [
    "# circuits = trotter_step_circuits(crs=crs_pe, cxs=cxs, with_dd=True)\n",
    "# job_pe = backend.run(circuits, shots=8192)\n",
    "# print('pe', job_pe.job_id())\n",
    "job_pe = backend.retrieve_job('616e3d81dd30e9e190e60f20')"
   ]
  },
  {
   "cell_type": "code",
   "execution_count": 11,
   "id": "ba71ee54-c812-4c15-8d1a-d0989b797bd1",
   "metadata": {},
   "outputs": [],
   "source": [
    "# circuits = trotter_step_circuits(optimization_level=3, with_dd=True)\n",
    "# job_naive = backend.run(circuits, shots=8192)\n",
    "# print('naive', job_naive.job_id())\n",
    "job_naive = backend.retrieve_job('616e3d921cc68111ce985e7a')"
   ]
  },
  {
   "cell_type": "code",
   "execution_count": 12,
   "id": "2079b0cb-70c6-438e-8d40-cb1141f397db",
   "metadata": {},
   "outputs": [],
   "source": [
    "# circuits = trotter_step_circuits(crs=crs_default, with_dd=True)\n",
    "# job_default = backend.run(circuits, shots=8192)\n",
    "# print('default', job_default.job_id())\n",
    "job_default = backend.retrieve_job('616e3d97ae533377508046fd')"
   ]
  },
  {
   "cell_type": "markdown",
   "id": "bc13c38b-64de-469c-b3ec-9448d192b7ed",
   "metadata": {},
   "source": [
    "## Forward steps with LinearizedCR"
   ]
  },
  {
   "cell_type": "code",
   "execution_count": 13,
   "id": "cfd52fd2-0d6b-42eb-a8ba-f3feac46aceb",
   "metadata": {},
   "outputs": [
    {
     "data": {
      "image/png": "[encoded data removed]",
      "text/plain": [
       "<Figure size 432x288 with 1 Axes>"
      ]
     },
     "metadata": {
      "needs_background": "light"
     },
     "output_type": "display_data"
    }
   ],
   "source": [
    "plot_counts_with_curve(combined_and_corrected_counts(job_linear, M), nsites, J, mu, omegadt, M)"
   ]
  },
  {
   "cell_type": "markdown",
   "id": "dde27f1c-95b8-48cf-9c36-d09797f9f73d",
   "metadata": {},
   "source": [
    "## Forward steps with Pulse-Efficient CR"
   ]
  },
  {
   "cell_type": "code",
   "execution_count": 14,
   "id": "cac63e5f-5150-4c58-98a4-c960ec772678",
   "metadata": {},
   "outputs": [
    {
     "data": {
      "image/png": "[encoded data removed]",
      "text/plain": [
       "<Figure size 432x288 with 1 Axes>"
      ]
     },
     "metadata": {
      "needs_background": "light"
     },
     "output_type": "display_data"
    }
   ],
   "source": [
    "plot_counts_with_curve(combined_and_corrected_counts(job_pe, M), nsites, J, mu, omegadt, M)"
   ]
  },
  {
   "cell_type": "markdown",
   "id": "cbf00152-b97e-4817-add2-0eb8dbbd0f33",
   "metadata": {},
   "source": [
    "## Forward with naive implementation (optimization level 3)"
   ]
  },
  {
   "cell_type": "code",
   "execution_count": 15,
   "id": "beb9f226-7259-4680-b2be-cf7678f89ca8",
   "metadata": {},
   "outputs": [
    {
     "data": {
      "image/png": "[encoded data removed]",
      "text/plain": [
       "<Figure size 432x288 with 1 Axes>"
      ]
     },
     "metadata": {
      "needs_background": "light"
     },
     "output_type": "display_data"
    }
   ],
   "source": [
    "plot_counts_with_curve(combined_and_corrected_counts(job_naive, M), nsites, J, mu, omegadt, M)"
   ]
  },
  {
   "cell_type": "markdown",
   "id": "c8c9ac96-3e57-444f-9392-b3830e9036fd",
   "metadata": {},
   "source": [
    "## Forward steps with CNOT-based Rtt"
   ]
  },
  {
   "cell_type": "code",
   "execution_count": 17,
   "id": "a1556643-1ad5-420b-bde7-821b87815d46",
   "metadata": {},
   "outputs": [
    {
     "data": {
      "image/png": "[encoded data removed]",
      "text/plain": [
       "<Figure size 432x288 with 1 Axes>"
      ]
     },
     "metadata": {
      "needs_background": "light"
     },
     "output_type": "display_data"
    }
   ],
   "source": [
    "plot_counts_with_curve(combined_and_corrected_counts(job_default, M), nsites, J, mu, omegadt, M)"
   ]
  },
  {
   "cell_type": "code",
   "execution_count": null,
   "id": "7df0545a-7146-4080-acf9-3696e9979b6f",
   "metadata": {},
   "outputs": [],
   "source": []
  }
 ],
 "metadata": {
  "kernelspec": {
   "display_name": "Python 3 (ipykernel)",
   "language": "python",
   "name": "python3"
  },
  "language_info": {
   "codemirror_mode": {
    "name": "ipython",
    "version": 3
   },
   "file_extension": ".py",
   "mimetype": "text/x-python",
   "name": "python",
   "nbconvert_exporter": "python",
   "pygments_lexer": "ipython3",
   "version": "3.8.10"
  }
 },
 "nbformat": 4,
 "nbformat_minor": 5
}

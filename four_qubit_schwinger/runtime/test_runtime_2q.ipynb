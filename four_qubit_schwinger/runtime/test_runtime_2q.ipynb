{
 "cells": [
  {
   "cell_type": "code",
   "execution_count": 1,
   "id": "9f798b0c-7c54-4b45-88cd-a178f5ec30ed",
   "metadata": {},
   "outputs": [],
   "source": [
    "import sys\n",
    "import json\n",
    "import logging\n",
    "import numpy as np\n",
    "import matplotlib.pyplot as plt\n",
    "\n",
    "from qiskit import Aer, IBMQ, QuantumCircuit, QuantumRegister, transpile\n",
    "from qiskit.ignis.mitigation.measurement import complete_meas_cal, MeasurementFilter\n",
    "from qiskit.providers.ibmq.runtime.utils import RuntimeEncoder, RuntimeDecoder\n",
    "#from qiskit.providers.ibmq.runtime import UserMessenger\n",
    "\n",
    "sys.path.append('..')\n",
    "from main import make_step_circuits, run_forward_circuits, run_fisc, main\n",
    "from pnp_ansatze import make_pnp_ansatz\n",
    "from observables import plot_counts_with_curve\n",
    "from trotter import trotter_step_circuits\n",
    "from sequential_minimizer import IdealCost\n",
    "from hamiltonian import schwinger_model, diagonalized_evolution"
   ]
  },
  {
   "cell_type": "markdown",
   "id": "c0f323f0-f720-4c84-bac5-365b9dfe67ea",
   "metadata": {},
   "source": [
    "## Runtime job input"
   ]
  },
  {
   "cell_type": "code",
   "execution_count": 2,
   "id": "ebb00906-d915-4f90-9ffe-22309a6a86c1",
   "metadata": {},
   "outputs": [],
   "source": [
    "kwargs = {\n",
    "    'num_sites': 2,\n",
    "    'aJ': 1.,\n",
    "    'am': 0.5,\n",
    "    'omegadt': 0.2,\n",
    "    'num_tsteps': 8,\n",
    "    'tsteps_per_rqd': 2,\n",
    "    'error_matrix': np.eye(4, dtype='f8'),\n",
    "    'physical_qubits': None,\n",
    "    'minimizer_shots': 4096,\n",
    "    'forward_shots': 2 * 8192,\n",
    "    'max_sweeps': 100\n",
    "}\n",
    "\n",
    "logging.getLogger('schwinger_rqd').setLevel(logging.INFO)"
   ]
  },
  {
   "cell_type": "markdown",
   "id": "bd137c92-579f-4ba9-b4b0-1412309f8668",
   "metadata": {},
   "source": [
    "## Testing just the forward steps"
   ]
  },
  {
   "cell_type": "code",
   "execution_count": 3,
   "id": "3c11406d-ec4b-4241-a417-f44bf6a9e65c",
   "metadata": {},
   "outputs": [
    {
     "name": "stderr",
     "output_type": "stream",
     "text": [
      "2021-11-09 10:36:59,264: Running 8 circuits, 16384 shots per experiment, 8 experiments\n",
      "2021-11-09 10:36:59,981: Forward circuit results returned\n"
     ]
    },
    {
     "data": {
      "image/png": "[encoded data removed]",
      "text/plain": [
       "<Figure size 432x288 with 1 Axes>"
      ]
     },
     "metadata": {
      "needs_background": "light"
     },
     "output_type": "display_data"
    }
   ],
   "source": [
    "backend = Aer.get_backend('statevector_simulator')\n",
    "\n",
    "num_sites = kwargs['num_sites']\n",
    "aJ = kwargs['aJ']\n",
    "am = kwargs['am']\n",
    "omegadt = kwargs['omegadt']\n",
    "num_tsteps = kwargs['num_tsteps']\n",
    "physical_qubits = kwargs['physical_qubits']\n",
    "error_matrix = kwargs['error_matrix']\n",
    "forward_shots = kwargs['forward_shots']\n",
    "\n",
    "_, state_labels = complete_meas_cal(qubit_list=list(range(num_sites)), qr=QuantumRegister(num_sites), circlabel='mcal')\n",
    "error_mitigation_filter = MeasurementFilter(error_matrix, state_labels)\n",
    "\n",
    "forward_step_circuits = make_step_circuits(num_sites, aJ, am, omegadt, backend, physical_qubits)\n",
    "\n",
    "target_circuits = trotter_step_circuits(num_tsteps, forward_step_circuits, initial_state=None, measure=False)\n",
    "\n",
    "counts_list = run_forward_circuits(target_circuits, backend, initial_layout=physical_qubits, shots=forward_shots, error_mitigation_filter=error_mitigation_filter)\n",
    "\n",
    "plot_counts_with_curve(counts_list, num_sites, aJ, am, omegadt, num_tsteps, initial_state=None, num_toys=0)"
   ]
  },
  {
   "cell_type": "markdown",
   "id": "d95d3d7a-d565-45ca-aba3-1866cc407509",
   "metadata": {},
   "source": [
    "## Testing one RQD step"
   ]
  },
  {
   "cell_type": "code",
   "execution_count": 4,
   "id": "3662ca63-e39f-4c78-a236-b95f4d666424",
   "metadata": {},
   "outputs": [
    {
     "name": "stderr",
     "output_type": "stream",
     "text": [
      "2021-11-09 10:37:00,357: Running 2 circuits, 16384 shots per experiment, 2 experiments\n",
      "2021-11-09 10:37:00,508: Forward circuit results returned\n",
      "2021-11-09 10:37:00,635: Starting minimize() with initial parameter values [0.78539816 0.78539816]\n",
      "2021-11-09 10:37:00,636: Sweep 0 with strategy largest-drop - current cost 1.0 current shots 0\n",
      "2021-11-09 10:37:00,637: largest drop: Calculating cost sections for all parameters\n",
      "2021-11-09 10:37:00,638: calculate cost section over parameters [0, 1]\n",
      "2021-11-09 10:37:00,646: run circuits: Running 24 experiments, 256 shots each\n",
      "2021-11-09 10:37:01,973: largest drop: Stepping in direction 0\n",
      "2021-11-09 10:37:01,974: calculate cost section over parameters 0\n",
      "2021-11-09 10:37:01,982: run circuits: Running 12 experiments, 4096 shots each\n",
      "2021-11-09 10:37:02,228: Sweep 1 with strategy largest-drop - current cost 0.013501363036276026 current shots 55296\n",
      "2021-11-09 10:37:02,229: largest drop: Calculating cost sections for all parameters\n",
      "2021-11-09 10:37:02,229: calculate cost section over parameters [1]\n",
      "2021-11-09 10:37:02,235: run circuits: Running 12 experiments, 256 shots each\n"
     ]
    },
    {
     "name": "stdout",
     "output_type": "stream",
     "text": [
      "{'rqd_step': 0, 'isweep': 0, 'param_val': array([1.2163093 , 0.78539816]), 'cost': 0.013501363036276026, 'total_shots': 55296}\n"
     ]
    },
    {
     "name": "stderr",
     "output_type": "stream",
     "text": [
      "2021-11-09 10:37:02,456: largest drop: Stepping in direction 1\n",
      "2021-11-09 10:37:02,457: calculate cost section over parameters 1\n",
      "2021-11-09 10:37:02,463: run circuits: Running 12 experiments, 4096 shots each\n",
      "2021-11-09 10:37:02,712: Sweep 2 with strategy largest-drop - current cost 0.00042944716547452244 current shots 107520\n",
      "2021-11-09 10:37:02,713: largest drop: Calculating cost sections for all parameters\n",
      "2021-11-09 10:37:02,714: calculate cost section over parameters [0]\n",
      "2021-11-09 10:37:02,719: run circuits: Running 12 experiments, 256 shots each\n"
     ]
    },
    {
     "name": "stdout",
     "output_type": "stream",
     "text": [
      "{'rqd_step': 0, 'isweep': 1, 'param_val': array([1.2163093 , 1.13141338]), 'cost': 0.00042944716547452244, 'total_shots': 107520}\n"
     ]
    },
    {
     "name": "stderr",
     "output_type": "stream",
     "text": [
      "2021-11-09 10:37:02,878: largest drop: Stepping in direction 0\n",
      "2021-11-09 10:37:02,881: calculate cost section over parameters 0\n",
      "2021-11-09 10:37:02,888: run circuits: Running 12 experiments, 4096 shots each\n",
      "2021-11-09 10:37:03,113: Minimization converged by cost update\n"
     ]
    },
    {
     "name": "stdout",
     "output_type": "stream",
     "text": [
      "{'rqd_step': 0, 'isweep': 2, 'param_val': array([1.2058836 , 1.13141338]), 'cost': 0.00037953082964015117, 'total_shots': 159744}\n"
     ]
    }
   ],
   "source": [
    "backend = Aer.get_backend('qasm_simulator')\n",
    "\n",
    "num_sites = kwargs['num_sites']\n",
    "aJ = kwargs['aJ']\n",
    "am = kwargs['am']\n",
    "omegadt = kwargs['omegadt']\n",
    "tsteps_per_rqd = kwargs['tsteps_per_rqd']\n",
    "max_sweeps = kwargs['max_sweeps']\n",
    "minimizer_shots = kwargs['minimizer_shots']\n",
    "forward_shots = kwargs['forward_shots']\n",
    "physical_qubits = kwargs['physical_qubits']\n",
    "error_matrix = kwargs['error_matrix']\n",
    "\n",
    "_, state_labels = complete_meas_cal(qubit_list=list(range(num_sites)), qr=QuantumRegister(num_sites), circlabel='mcal')\n",
    "error_mitigation_filter = MeasurementFilter(error_matrix, state_labels)\n",
    "\n",
    "forward_step_circuits = make_step_circuits(num_sites, aJ, am, omegadt, backend, physical_qubits)\n",
    "if not backend.configuration().simulator:\n",
    "    sim_forward_step_circuits = make_step_circuits(num_sites, aJ, am, omegadt, Aer.get_backend('statevector_simulator'), physical_qubits)\n",
    "\n",
    "if num_sites == 2:\n",
    "    approximator = make_pnp_ansatz(\n",
    "        num_qubits=num_sites,\n",
    "        num_layers=num_sites // 2,\n",
    "        initial_x_positions=[0])\n",
    "elif num_sites == 4:\n",
    "    approximator = make_pnp_ansatz(\n",
    "        num_qubits=num_sites,\n",
    "        num_layers=num_sites // 2,\n",
    "        initial_x_positions=[1, 2],\n",
    "        structure=[(1, 2), (0, 1), (2, 3)],\n",
    "        first_layer_structure=[(0, 1), (2, 3)])\n",
    "\n",
    "target_circuits = trotter_step_circuits(tsteps_per_rqd, forward_step_circuits, measure=False)\n",
    "\n",
    "forward_counts = run_forward_circuits(target_circuits, backend, initial_layout=physical_qubits, shots=forward_shots, error_mitigation_filter=error_mitigation_filter)\n",
    "\n",
    "compiler_circuit = target_circuits[-1].compose(approximator.inverse(), inplace=False)\n",
    "\n",
    "if backend.configuration().simulator:\n",
    "    ideal_cost = IdealCost(compiler_circuit)\n",
    "else:\n",
    "    targets = trotter_step_circuits(tsteps_per_rqd, sim_forward_step_circuits, measure=False)\n",
    "    ideal_cost = IdealCost(targets[-1].compose(approximator.inverse(), inplace=False))\n",
    "    \n",
    "def callback_publish_sweep_result(minimizer, arg):\n",
    "    sweep_result = {\n",
    "        'rqd_step': 0,\n",
    "        'isweep': arg['isweep'],\n",
    "        'param_val': arg['sweep_param_val'],\n",
    "        'cost': arg['sweep_cost'], \n",
    "        'total_shots': arg['current_shots'] + arg['sweep_shots']\n",
    "    }\n",
    "    print(sweep_result)\n",
    "\n",
    "optimal_params = run_fisc(compiler_circuit, backend, physical_qubits, max_sweeps, minimizer_shots, error_mitigation_filter, ideal_cost, callback_publish_sweep_result)"
   ]
  },
  {
   "cell_type": "code",
   "execution_count": 5,
   "id": "9cea7fa0-686c-4578-b193-e56ff5e0c296",
   "metadata": {},
   "outputs": [
    {
     "data": {
      "text/plain": [
       "[<matplotlib.lines.Line2D at 0x7f68ea6cdfa0>]"
      ]
     },
     "execution_count": 5,
     "metadata": {},
     "output_type": "execute_result"
    },
    {
     "data": {
      "image/png": "[encoded data removed]",
      "text/plain": [
       "<Figure size 432x288 with 1 Axes>"
      ]
     },
     "metadata": {
      "needs_background": "light"
     },
     "output_type": "display_data"
    }
   ],
   "source": [
    "plt.plot(ideal_cost.shots_sweep, ideal_cost.costs_sweep)"
   ]
  },
  {
   "cell_type": "code",
   "execution_count": 6,
   "id": "dd8661dc-3c36-4635-b238-b6b1e6ac9a1b",
   "metadata": {},
   "outputs": [
    {
     "data": {
      "image/png": "[encoded data removed]",
      "text/plain": [
       "<Figure size 432x288 with 1 Axes>"
      ]
     },
     "metadata": {
      "needs_background": "light"
     },
     "output_type": "display_data"
    }
   ],
   "source": [
    "plot_counts_with_curve(forward_counts, num_sites, aJ, am, omegadt, tsteps_per_rqd, initial_state=None, num_toys=0)"
   ]
  },
  {
   "cell_type": "markdown",
   "id": "1a5f467d-1f6b-4f07-9b51-3d8269350ade",
   "metadata": {},
   "source": [
    "vacuum_state = np.zeros(2 ** num_sites, dtype=np.complex128)\n",
    "vacuum_state_index = 0\n",
    "for j in range(0, num_sites, 2):\n",
    "    vacuum_state_index += (1 << j)\n",
    "vacuum_state[vacuum_state_index] = 1.\n",
    "\n",
    "hamiltonian = schwinger_model(num_sites, aJ, am)\n",
    "_, statevectors = diagonalized_evolution(hamiltonian, vacuum_state, omegadt * tsteps_per_rqd)\n",
    "plot_counts_with_curve(forward_counts_2, num_sites, aJ, am, omegadt, tsteps_per_rqd, initial_state=statevectors[:, -1], num_toys=0)"
   ]
  },
  {
   "cell_type": "markdown",
   "id": "b191d1e9-2d5c-4dd5-a7fb-1cef86cf3615",
   "metadata": {},
   "source": [
    "plot_counts_with_curve(forward_counts + forward_counts_2, num_sites, aJ, am, omegadt, tsteps_per_rqd * 2, initial_state=None, num_toys=0)"
   ]
  },
  {
   "cell_type": "markdown",
   "id": "14e47ddf-c961-4328-bbb8-36744f1dc7bb",
   "metadata": {},
   "source": [
    "## Testing the main program"
   ]
  },
  {
   "cell_type": "code",
   "execution_count": 7,
   "id": "9033e80c-3a7c-4b83-8f94-28392bfb532d",
   "metadata": {},
   "outputs": [],
   "source": [
    "class UserMessenger:\n",
    "    \"\"\"Base class for handling communication with program users.\n",
    "\n",
    "    This class can be used when writing a new Qiskit Runtime program.\n",
    "    \"\"\"\n",
    "    \n",
    "    def __init__(self):\n",
    "        self.interim_results = []\n",
    "\n",
    "    def publish(\n",
    "            self,\n",
    "            message,\n",
    "            encoder=RuntimeEncoder,\n",
    "            final=False\n",
    "    ):\n",
    "        \"\"\"Publish message.\n",
    "\n",
    "        You can use this method to publish messages, such as interim and final results,\n",
    "        to the program user. The messages will be made immediately available to the user,\n",
    "        but they may choose not to receive the messages.\n",
    "\n",
    "        The `final` parameter is used to indicate whether the message is\n",
    "        the final result of the program. Final results may be processed differently\n",
    "        from interim results.\n",
    "\n",
    "        Args:\n",
    "            message: Message to be published. Can be any type.\n",
    "            encoder: An optional JSON encoder for serializing\n",
    "            final: Whether the message being published is the final result.\n",
    "        \"\"\"\n",
    "        # pylint: disable=unused-argument\n",
    "        # Default implementation for testing.\n",
    "        self.interim_results.append(message)"
   ]
  },
  {
   "cell_type": "code",
   "execution_count": 8,
   "id": "a261a6cb-df4e-47dc-bf3f-f530b7a783d1",
   "metadata": {},
   "outputs": [
    {
     "name": "stderr",
     "output_type": "stream",
     "text": [
      "2021-11-09 10:37:03,455: Starting RQD step 0\n",
      "2021-11-09 10:37:03,632: Running 2 circuits, 16384 shots per experiment, 2 experiments\n",
      "2021-11-09 10:37:03,807: Forward circuit results returned\n",
      "2021-11-09 10:37:03,909: Starting minimize() with initial parameter values [0.78539816 0.78539816]\n",
      "2021-11-09 10:37:03,910: Sweep 0 with strategy largest-drop - current cost 1.0 current shots 0\n",
      "2021-11-09 10:37:03,911: largest drop: Calculating cost sections for all parameters\n",
      "2021-11-09 10:37:03,911: calculate cost section over parameters [0, 1]\n",
      "2021-11-09 10:37:03,921: run circuits: Running 24 experiments, 256 shots each\n",
      "2021-11-09 10:37:04,203: largest drop: Stepping in direction 0\n",
      "2021-11-09 10:37:04,210: calculate cost section over parameters 0\n",
      "2021-11-09 10:37:04,218: run circuits: Running 12 experiments, 4096 shots each\n",
      "2021-11-09 10:37:04,489: Sweep 1 with strategy largest-drop - current cost 0.011108539040339871 current shots 55296\n",
      "2021-11-09 10:37:04,490: largest drop: Calculating cost sections for all parameters\n",
      "2021-11-09 10:37:04,491: calculate cost section over parameters [1]\n",
      "2021-11-09 10:37:04,497: run circuits: Running 12 experiments, 256 shots each\n",
      "2021-11-09 10:37:04,665: largest drop: Stepping in direction 1\n",
      "2021-11-09 10:37:04,668: calculate cost section over parameters 1\n",
      "2021-11-09 10:37:04,677: run circuits: Running 12 experiments, 4096 shots each\n",
      "2021-11-09 10:37:04,919: Sweep 2 with strategy largest-drop - current cost -0.00702541295762707 current shots 107520\n",
      "2021-11-09 10:37:04,922: largest drop: Calculating cost sections for all parameters\n",
      "2021-11-09 10:37:04,924: calculate cost section over parameters [0]\n",
      "2021-11-09 10:37:04,932: run circuits: Running 12 experiments, 256 shots each\n",
      "2021-11-09 10:37:05,113: largest drop: Stepping in direction 0\n",
      "2021-11-09 10:37:05,116: calculate cost section over parameters 0\n",
      "2021-11-09 10:37:05,125: run circuits: Running 12 experiments, 4096 shots each\n",
      "2021-11-09 10:37:05,489: Sweep 3 with strategy largest-drop - current cost 0.0002568477515444423 current shots 159744\n",
      "2021-11-09 10:37:05,493: largest drop: Calculating cost sections for all parameters\n",
      "2021-11-09 10:37:05,495: calculate cost section over parameters [1]\n",
      "2021-11-09 10:37:05,502: run circuits: Running 12 experiments, 256 shots each\n",
      "2021-11-09 10:37:05,679: largest drop: Stepping in direction 1\n",
      "2021-11-09 10:37:05,685: calculate cost section over parameters 1\n",
      "2021-11-09 10:37:05,694: run circuits: Running 12 experiments, 4096 shots each\n",
      "2021-11-09 10:37:05,955: Sweep 4 with strategy largest-drop - current cost -0.007640428045633946 current shots 211968\n",
      "2021-11-09 10:37:05,958: largest drop: Calculating cost sections for all parameters\n",
      "2021-11-09 10:37:05,961: calculate cost section over parameters [0]\n",
      "2021-11-09 10:37:05,969: run circuits: Running 12 experiments, 256 shots each\n",
      "2021-11-09 10:37:06,246: largest drop: Stepping in direction 0\n",
      "2021-11-09 10:37:06,247: calculate cost section over parameters 0\n",
      "2021-11-09 10:37:06,254: run circuits: Running 12 experiments, 4096 shots each\n",
      "2021-11-09 10:37:06,652: Sweep 5 with strategy largest-drop - current cost -2.419266438069556e-06 current shots 264192\n",
      "2021-11-09 10:37:06,653: largest drop: Calculating cost sections for all parameters\n",
      "2021-11-09 10:37:06,653: calculate cost section over parameters [1]\n",
      "2021-11-09 10:37:06,660: run circuits: Running 12 experiments, 256 shots each\n",
      "2021-11-09 10:37:06,843: largest drop: Stepping in direction 1\n",
      "2021-11-09 10:37:06,845: calculate cost section over parameters 1\n",
      "2021-11-09 10:37:06,852: run circuits: Running 12 experiments, 4096 shots each\n",
      "2021-11-09 10:37:07,096: Sweep 6 with strategy largest-drop - current cost -0.00010497886603821893 current shots 316416\n",
      "2021-11-09 10:37:07,097: largest drop: Calculating cost sections for all parameters\n",
      "2021-11-09 10:37:07,098: calculate cost section over parameters [0]\n",
      "2021-11-09 10:37:07,105: run circuits: Running 12 experiments, 256 shots each\n",
      "2021-11-09 10:37:07,376: largest drop: Stepping in direction 0\n",
      "2021-11-09 10:37:07,377: calculate cost section over parameters 0\n",
      "2021-11-09 10:37:07,384: run circuits: Running 12 experiments, 4096 shots each\n",
      "2021-11-09 10:37:07,626: Minimization converged by parameter distance\n",
      "2021-11-09 10:37:07,627: Completed RQD step 0\n",
      "2021-11-09 10:37:07,628: Starting RQD step 1\n",
      "2021-11-09 10:37:07,825: Running 2 circuits, 16384 shots per experiment, 2 experiments\n",
      "2021-11-09 10:37:08,021: Forward circuit results returned\n",
      "2021-11-09 10:37:08,144: Starting minimize() with initial parameter values [0.78539816 0.78539816]\n",
      "2021-11-09 10:37:08,146: Sweep 0 with strategy largest-drop - current cost 1.0 current shots 0\n",
      "2021-11-09 10:37:08,146: largest drop: Calculating cost sections for all parameters\n",
      "2021-11-09 10:37:08,147: calculate cost section over parameters [0, 1]\n",
      "2021-11-09 10:37:08,157: run circuits: Running 24 experiments, 256 shots each\n",
      "2021-11-09 10:37:08,443: largest drop: Stepping in direction 0\n",
      "2021-11-09 10:37:08,445: calculate cost section over parameters 0\n",
      "2021-11-09 10:37:08,591: run circuits: Running 12 experiments, 4096 shots each\n",
      "2021-11-09 10:37:08,876: Sweep 1 with strategy largest-drop - current cost 0.05431413322181533 current shots 55296\n",
      "2021-11-09 10:37:08,878: largest drop: Calculating cost sections for all parameters\n",
      "2021-11-09 10:37:08,878: calculate cost section over parameters [1]\n",
      "2021-11-09 10:37:08,886: run circuits: Running 12 experiments, 256 shots each\n",
      "2021-11-09 10:37:09,197: largest drop: Stepping in direction 1\n",
      "2021-11-09 10:37:09,199: calculate cost section over parameters 1\n",
      "2021-11-09 10:37:09,205: run circuits: Running 12 experiments, 4096 shots each\n",
      "2021-11-09 10:37:09,511: Sweep 2 with strategy largest-drop - current cost 0.0017388330825606202 current shots 107520\n",
      "2021-11-09 10:37:09,513: largest drop: Calculating cost sections for all parameters\n",
      "2021-11-09 10:37:09,513: calculate cost section over parameters [0]\n",
      "2021-11-09 10:37:09,523: run circuits: Running 12 experiments, 256 shots each\n",
      "2021-11-09 10:37:09,705: largest drop: Stepping in direction 0\n",
      "2021-11-09 10:37:09,708: calculate cost section over parameters 0\n",
      "2021-11-09 10:37:09,718: run circuits: Running 12 experiments, 4096 shots each\n",
      "2021-11-09 10:37:09,979: Sweep 3 with strategy largest-drop - current cost 0.0007060130853665525 current shots 159744\n",
      "2021-11-09 10:37:09,981: largest drop: Calculating cost sections for all parameters\n",
      "2021-11-09 10:37:09,982: calculate cost section over parameters [1]\n",
      "2021-11-09 10:37:09,989: run circuits: Running 12 experiments, 256 shots each\n",
      "2021-11-09 10:37:10,250: largest drop: Stepping in direction 1\n",
      "2021-11-09 10:37:10,251: calculate cost section over parameters 1\n",
      "2021-11-09 10:37:10,259: run circuits: Running 12 experiments, 4096 shots each\n",
      "2021-11-09 10:37:10,522: Sweep 4 with strategy largest-drop - current cost -0.004325087087026891 current shots 211968\n",
      "2021-11-09 10:37:10,523: largest drop: Calculating cost sections for all parameters\n",
      "2021-11-09 10:37:10,524: calculate cost section over parameters [0]\n",
      "2021-11-09 10:37:10,532: run circuits: Running 12 experiments, 256 shots each\n",
      "2021-11-09 10:37:10,710: largest drop: Stepping in direction 0\n",
      "2021-11-09 10:37:10,713: calculate cost section over parameters 0\n",
      "2021-11-09 10:37:10,723: run circuits: Running 12 experiments, 4096 shots each\n",
      "2021-11-09 10:37:10,994: Sweep 5 with strategy largest-drop - current cost -7.880417214001234e-06 current shots 264192\n",
      "2021-11-09 10:37:10,995: largest drop: Calculating cost sections for all parameters\n",
      "2021-11-09 10:37:10,996: calculate cost section over parameters [1]\n",
      "2021-11-09 10:37:11,004: run circuits: Running 12 experiments, 256 shots each\n",
      "2021-11-09 10:37:11,247: largest drop: Stepping in direction 1\n",
      "2021-11-09 10:37:11,248: calculate cost section over parameters 1\n",
      "2021-11-09 10:37:11,256: run circuits: Running 12 experiments, 4096 shots each\n",
      "2021-11-09 10:37:11,527: Sweep 6 with strategy largest-drop - current cost -0.016710630406058913 current shots 316416\n",
      "2021-11-09 10:37:11,529: largest drop: Calculating cost sections for all parameters\n",
      "2021-11-09 10:37:11,530: calculate cost section over parameters [0]\n",
      "2021-11-09 10:37:11,537: run circuits: Running 12 experiments, 256 shots each\n",
      "2021-11-09 10:37:11,733: largest drop: Stepping in direction 0\n",
      "2021-11-09 10:37:11,737: calculate cost section over parameters 0\n",
      "2021-11-09 10:37:11,746: run circuits: Running 12 experiments, 4096 shots each\n",
      "2021-11-09 10:37:12,111: Sweep 7 with strategy largest-drop - current cost -2.585592104986656e-05 current shots 368640\n",
      "2021-11-09 10:37:12,112: largest drop: Calculating cost sections for all parameters\n",
      "2021-11-09 10:37:12,113: calculate cost section over parameters [1]\n",
      "2021-11-09 10:37:12,120: run circuits: Running 12 experiments, 256 shots each\n",
      "2021-11-09 10:37:12,399: largest drop: Stepping in direction 1\n",
      "2021-11-09 10:37:12,400: calculate cost section over parameters 1\n",
      "2021-11-09 10:37:12,408: run circuits: Running 12 experiments, 4096 shots each\n",
      "2021-11-09 10:37:12,836: Minimization converged by cost update\n",
      "2021-11-09 10:37:12,838: Completed RQD step 1\n",
      "2021-11-09 10:37:12,839: Starting RQD step 2\n",
      "2021-11-09 10:37:13,035: Running 2 circuits, 16384 shots per experiment, 2 experiments\n",
      "2021-11-09 10:37:13,223: Forward circuit results returned\n",
      "2021-11-09 10:37:13,324: Starting minimize() with initial parameter values [0.78539816 0.78539816]\n",
      "2021-11-09 10:37:13,325: Sweep 0 with strategy largest-drop - current cost 1.0 current shots 0\n",
      "2021-11-09 10:37:13,326: largest drop: Calculating cost sections for all parameters\n",
      "2021-11-09 10:37:13,327: calculate cost section over parameters [0, 1]\n",
      "2021-11-09 10:37:13,334: run circuits: Running 24 experiments, 256 shots each\n",
      "2021-11-09 10:37:13,591: largest drop: Stepping in direction 0\n",
      "2021-11-09 10:37:13,592: calculate cost section over parameters 0\n",
      "2021-11-09 10:37:13,600: run circuits: Running 12 experiments, 4096 shots each\n",
      "2021-11-09 10:37:13,870: Sweep 1 with strategy largest-drop - current cost 0.04527491290193697 current shots 55296\n",
      "2021-11-09 10:37:13,871: largest drop: Calculating cost sections for all parameters\n",
      "2021-11-09 10:37:13,872: calculate cost section over parameters [1]\n",
      "2021-11-09 10:37:13,878: run circuits: Running 12 experiments, 256 shots each\n",
      "2021-11-09 10:37:14,056: largest drop: Stepping in direction 1\n",
      "2021-11-09 10:37:14,062: calculate cost section over parameters 1\n",
      "2021-11-09 10:37:14,068: run circuits: Running 12 experiments, 4096 shots each\n",
      "2021-11-09 10:37:14,387: Sweep 2 with strategy largest-drop - current cost 0.04145771501940812 current shots 107520\n",
      "2021-11-09 10:37:14,388: largest drop: Calculating cost sections for all parameters\n",
      "2021-11-09 10:37:14,389: calculate cost section over parameters [0]\n",
      "2021-11-09 10:37:14,397: run circuits: Running 12 experiments, 256 shots each\n",
      "2021-11-09 10:37:14,578: largest drop: Stepping in direction 0\n",
      "2021-11-09 10:37:14,579: calculate cost section over parameters 0\n",
      "2021-11-09 10:37:14,585: run circuits: Running 12 experiments, 4096 shots each\n",
      "2021-11-09 10:37:14,823: Sweep 3 with strategy largest-drop - current cost 0.019168823956934367 current shots 159744\n",
      "2021-11-09 10:37:14,824: largest drop: Calculating cost sections for all parameters\n",
      "2021-11-09 10:37:14,825: calculate cost section over parameters [1]\n",
      "2021-11-09 10:37:14,831: run circuits: Running 12 experiments, 256 shots each\n",
      "2021-11-09 10:37:15,004: largest drop: Stepping in direction 1\n",
      "2021-11-09 10:37:15,007: calculate cost section over parameters 1\n",
      "2021-11-09 10:37:15,015: run circuits: Running 12 experiments, 4096 shots each\n",
      "2021-11-09 10:37:15,294: Sweep 4 with strategy largest-drop - current cost 0.002851946278448661 current shots 211968\n",
      "2021-11-09 10:37:15,298: largest drop: Calculating cost sections for all parameters\n",
      "2021-11-09 10:37:15,300: calculate cost section over parameters [0]\n",
      "2021-11-09 10:37:15,307: run circuits: Running 12 experiments, 256 shots each\n",
      "2021-11-09 10:37:15,557: largest drop: Stepping in direction 0\n",
      "2021-11-09 10:37:15,560: calculate cost section over parameters 0\n",
      "2021-11-09 10:37:15,567: run circuits: Running 12 experiments, 4096 shots each\n",
      "2021-11-09 10:37:15,838: Sweep 5 with strategy largest-drop - current cost 0.000768557386005897 current shots 264192\n",
      "2021-11-09 10:37:15,840: largest drop: Calculating cost sections for all parameters\n",
      "2021-11-09 10:37:15,840: calculate cost section over parameters [1]\n",
      "2021-11-09 10:37:15,847: run circuits: Running 12 experiments, 256 shots each\n",
      "2021-11-09 10:37:16,110: largest drop: Stepping in direction 1\n",
      "2021-11-09 10:37:16,111: calculate cost section over parameters 1\n",
      "2021-11-09 10:37:16,118: run circuits: Running 12 experiments, 4096 shots each\n",
      "2021-11-09 10:37:16,511: Sweep 6 with strategy largest-drop - current cost 0.0001296902318904669 current shots 316416\n",
      "2021-11-09 10:37:16,512: largest drop: Calculating cost sections for all parameters\n",
      "2021-11-09 10:37:16,513: calculate cost section over parameters [0]\n",
      "2021-11-09 10:37:16,518: run circuits: Running 12 experiments, 256 shots each\n",
      "2021-11-09 10:37:16,696: largest drop: Stepping in direction 0\n",
      "2021-11-09 10:37:16,700: calculate cost section over parameters 0\n",
      "2021-11-09 10:37:16,710: run circuits: Running 12 experiments, 4096 shots each\n",
      "2021-11-09 10:37:16,947: Sweep 7 with strategy largest-drop - current cost -3.3196956157555135e-05 current shots 368640\n",
      "2021-11-09 10:37:16,950: largest drop: Calculating cost sections for all parameters\n",
      "2021-11-09 10:37:16,952: calculate cost section over parameters [1]\n",
      "2021-11-09 10:37:16,961: run circuits: Running 12 experiments, 256 shots each\n",
      "2021-11-09 10:37:17,220: largest drop: Stepping in direction 1\n",
      "2021-11-09 10:37:17,223: calculate cost section over parameters 1\n",
      "2021-11-09 10:37:17,232: run circuits: Running 12 experiments, 4096 shots each\n",
      "2021-11-09 10:37:17,487: Sweep 8 with strategy largest-drop - current cost -0.002871886720002992 current shots 420864\n",
      "2021-11-09 10:37:17,489: largest drop: Calculating cost sections for all parameters\n",
      "2021-11-09 10:37:17,490: calculate cost section over parameters [0]\n",
      "2021-11-09 10:37:17,498: run circuits: Running 12 experiments, 256 shots each\n",
      "2021-11-09 10:37:17,676: largest drop: Stepping in direction 0\n",
      "2021-11-09 10:37:17,681: calculate cost section over parameters 0\n",
      "2021-11-09 10:37:17,691: run circuits: Running 12 experiments, 4096 shots each\n",
      "2021-11-09 10:37:17,962: Sweep 9 with strategy largest-drop - current cost -1.1418180860145455e-05 current shots 473088\n",
      "2021-11-09 10:37:17,964: largest drop: Calculating cost sections for all parameters\n",
      "2021-11-09 10:37:17,965: calculate cost section over parameters [1]\n",
      "2021-11-09 10:37:17,972: run circuits: Running 12 experiments, 256 shots each\n",
      "2021-11-09 10:37:18,173: largest drop: Stepping in direction 1\n",
      "2021-11-09 10:37:18,175: calculate cost section over parameters 1\n",
      "2021-11-09 10:37:18,183: run circuits: Running 12 experiments, 4096 shots each\n",
      "2021-11-09 10:37:18,599: Minimization converged by cost update\n",
      "2021-11-09 10:37:18,600: Completed RQD step 2\n",
      "2021-11-09 10:37:18,600: Starting RQD step 3\n",
      "2021-11-09 10:37:18,789: Running 2 circuits, 16384 shots per experiment, 2 experiments\n",
      "2021-11-09 10:37:18,961: Forward circuit results returned\n",
      "2021-11-09 10:37:19,115: Starting minimize() with initial parameter values [0.78539816 0.78539816]\n",
      "2021-11-09 10:37:19,116: Sweep 0 with strategy largest-drop - current cost 1.0 current shots 0\n",
      "2021-11-09 10:37:19,117: largest drop: Calculating cost sections for all parameters\n",
      "2021-11-09 10:37:19,118: calculate cost section over parameters [0, 1]\n",
      "2021-11-09 10:37:19,131: run circuits: Running 24 experiments, 256 shots each\n",
      "2021-11-09 10:37:19,479: largest drop: Stepping in direction 0\n",
      "2021-11-09 10:37:19,480: calculate cost section over parameters 0\n",
      "2021-11-09 10:37:19,486: run circuits: Running 12 experiments, 4096 shots each\n",
      "2021-11-09 10:37:19,883: Sweep 1 with strategy largest-drop - current cost 0.019355616823392874 current shots 55296\n",
      "2021-11-09 10:37:19,884: largest drop: Calculating cost sections for all parameters\n",
      "2021-11-09 10:37:19,885: calculate cost section over parameters [1]\n",
      "2021-11-09 10:37:19,890: run circuits: Running 12 experiments, 256 shots each\n",
      "2021-11-09 10:37:20,084: largest drop: Stepping in direction 1\n",
      "2021-11-09 10:37:20,085: calculate cost section over parameters 1\n",
      "2021-11-09 10:37:20,091: run circuits: Running 12 experiments, 4096 shots each\n",
      "2021-11-09 10:37:20,558: Sweep 2 with strategy largest-drop - current cost 0.0018488101535300838 current shots 107520\n",
      "2021-11-09 10:37:20,559: largest drop: Calculating cost sections for all parameters\n",
      "2021-11-09 10:37:20,560: calculate cost section over parameters [0]\n",
      "2021-11-09 10:37:20,566: run circuits: Running 12 experiments, 256 shots each\n",
      "2021-11-09 10:37:20,729: largest drop: Stepping in direction 0\n",
      "2021-11-09 10:37:20,732: calculate cost section over parameters 0\n",
      "2021-11-09 10:37:20,740: run circuits: Running 12 experiments, 4096 shots each\n",
      "2021-11-09 10:37:20,997: Sweep 3 with strategy largest-drop - current cost 0.0008111370246087768 current shots 159744\n",
      "2021-11-09 10:37:20,999: largest drop: Calculating cost sections for all parameters\n",
      "2021-11-09 10:37:21,000: calculate cost section over parameters [1]\n",
      "2021-11-09 10:37:21,006: run circuits: Running 12 experiments, 256 shots each\n",
      "2021-11-09 10:37:21,312: largest drop: Stepping in direction 1\n",
      "2021-11-09 10:37:21,313: calculate cost section over parameters 1\n",
      "2021-11-09 10:37:21,318: run circuits: Running 12 experiments, 4096 shots each\n",
      "2021-11-09 10:37:21,581: Sweep 4 with strategy largest-drop - current cost -0.00046476083304189397 current shots 211968\n",
      "2021-11-09 10:37:21,582: largest drop: Calculating cost sections for all parameters\n",
      "2021-11-09 10:37:21,583: calculate cost section over parameters [0]\n",
      "2021-11-09 10:37:21,590: run circuits: Running 12 experiments, 256 shots each\n",
      "2021-11-09 10:37:21,763: largest drop: Stepping in direction 0\n",
      "2021-11-09 10:37:21,769: calculate cost section over parameters 0\n",
      "2021-11-09 10:37:21,780: run circuits: Running 12 experiments, 4096 shots each\n",
      "2021-11-09 10:37:22,047: Sweep 5 with strategy largest-drop - current cost 0.0001927918968518405 current shots 264192\n",
      "2021-11-09 10:37:22,048: largest drop: Calculating cost sections for all parameters\n",
      "2021-11-09 10:37:22,049: calculate cost section over parameters [1]\n",
      "2021-11-09 10:37:22,056: run circuits: Running 12 experiments, 256 shots each\n",
      "2021-11-09 10:37:22,241: largest drop: Stepping in direction 1\n",
      "2021-11-09 10:37:22,244: calculate cost section over parameters 1\n",
      "2021-11-09 10:37:22,254: run circuits: Running 12 experiments, 4096 shots each\n",
      "2021-11-09 10:37:22,562: Minimization converged by cost update\n",
      "2021-11-09 10:37:22,565: Completed RQD step 3\n"
     ]
    }
   ],
   "source": [
    "user_messenger = UserMessenger()\n",
    "serialized_inputs = json.dumps(kwargs, cls=RuntimeEncoder)\n",
    "deserialized_inputs = json.loads(serialized_inputs, cls=RuntimeDecoder)\n",
    "\n",
    "forward_counts, optimal_params_list = main(backend, user_messenger, **deserialized_inputs)"
   ]
  },
  {
   "cell_type": "code",
   "execution_count": 9,
   "id": "edc14178-a5a6-4a24-b36b-1dcb2c45ddef",
   "metadata": {},
   "outputs": [
    {
     "data": {
      "image/png": "[encoded data removed]",
      "text/plain": [
       "<Figure size 432x288 with 1 Axes>"
      ]
     },
     "metadata": {
      "needs_background": "light"
     },
     "output_type": "display_data"
    }
   ],
   "source": [
    "plot_counts_with_curve(forward_counts, num_sites, aJ, am, omegadt, num_tsteps, initial_state=None, num_toys=0)"
   ]
  },
  {
   "cell_type": "markdown",
   "id": "63337b3d-7ad3-4140-9c74-94da784cb4e0",
   "metadata": {},
   "source": [
    "## Testing reentry"
   ]
  },
  {
   "cell_type": "code",
   "execution_count": 10,
   "id": "f99bed94-aa7b-4e29-bef0-8d7540b4d136",
   "metadata": {},
   "outputs": [
    {
     "name": "stderr",
     "output_type": "stream",
     "text": [
      "2021-11-09 10:37:22,745: Starting RQD step 1\n",
      "2021-11-09 10:37:22,867: Resuming minimization from parameter values [1.09374632 0.17721932]\n",
      "2021-11-09 10:37:22,868: Sweep 3 with strategy largest-drop - current cost 0.0007060130853665525 current shots 159744\n",
      "2021-11-09 10:37:22,869: largest drop: Calculating cost sections for all parameters\n",
      "2021-11-09 10:37:22,869: calculate cost section over parameters [0, 1]\n",
      "2021-11-09 10:37:22,879: run circuits: Running 24 experiments, 256 shots each\n",
      "2021-11-09 10:37:23,104: largest drop: Stepping in direction 1\n",
      "2021-11-09 10:37:23,106: calculate cost section over parameters 1\n",
      "2021-11-09 10:37:23,113: run circuits: Running 12 experiments, 4096 shots each\n",
      "2021-11-09 10:37:23,521: Sweep 4 with strategy largest-drop - current cost -1.362589810693926e-05 current shots 215040\n",
      "2021-11-09 10:37:23,522: largest drop: Calculating cost sections for all parameters\n",
      "2021-11-09 10:37:23,523: calculate cost section over parameters [0]\n",
      "2021-11-09 10:37:23,527: run circuits: Running 12 experiments, 256 shots each\n",
      "2021-11-09 10:37:23,692: largest drop: Stepping in direction 0\n",
      "2021-11-09 10:37:23,694: calculate cost section over parameters 0\n",
      "2021-11-09 10:37:23,700: run circuits: Running 12 experiments, 4096 shots each\n",
      "2021-11-09 10:37:23,948: Minimization converged by parameter distance\n",
      "2021-11-09 10:37:23,950: Completed RQD step 1\n",
      "2021-11-09 10:37:23,951: Starting RQD step 2\n",
      "2021-11-09 10:37:24,127: Running 2 circuits, 16384 shots per experiment, 2 experiments\n",
      "2021-11-09 10:37:24,292: Forward circuit results returned\n",
      "2021-11-09 10:37:24,388: Starting minimize() with initial parameter values [0.78539816 0.78539816]\n",
      "2021-11-09 10:37:24,389: Sweep 0 with strategy largest-drop - current cost 1.0 current shots 0\n",
      "2021-11-09 10:37:24,389: largest drop: Calculating cost sections for all parameters\n",
      "2021-11-09 10:37:24,390: calculate cost section over parameters [0, 1]\n",
      "2021-11-09 10:37:24,398: run circuits: Running 24 experiments, 256 shots each\n",
      "2021-11-09 10:37:24,620: largest drop: Stepping in direction 0\n",
      "2021-11-09 10:37:24,621: calculate cost section over parameters 0\n",
      "2021-11-09 10:37:24,627: run circuits: Running 12 experiments, 4096 shots each\n",
      "2021-11-09 10:37:24,947: Sweep 1 with strategy largest-drop - current cost 0.04756131198208663 current shots 55296\n",
      "2021-11-09 10:37:24,948: largest drop: Calculating cost sections for all parameters\n",
      "2021-11-09 10:37:24,948: calculate cost section over parameters [1]\n",
      "2021-11-09 10:37:24,954: run circuits: Running 12 experiments, 256 shots each\n",
      "2021-11-09 10:37:25,154: largest drop: Stepping in direction 1\n",
      "2021-11-09 10:37:25,155: calculate cost section over parameters 1\n",
      "2021-11-09 10:37:25,161: run circuits: Running 12 experiments, 4096 shots each\n",
      "2021-11-09 10:37:25,407: Sweep 2 with strategy largest-drop - current cost 0.03784255388503019 current shots 107520\n",
      "2021-11-09 10:37:25,408: largest drop: Calculating cost sections for all parameters\n",
      "2021-11-09 10:37:25,409: calculate cost section over parameters [0]\n",
      "2021-11-09 10:37:25,415: run circuits: Running 12 experiments, 256 shots each\n",
      "2021-11-09 10:37:25,588: largest drop: Stepping in direction 0\n",
      "2021-11-09 10:37:25,589: calculate cost section over parameters 0\n",
      "2021-11-09 10:37:25,595: run circuits: Running 12 experiments, 4096 shots each\n",
      "2021-11-09 10:37:25,852: Sweep 3 with strategy largest-drop - current cost 0.005105259836790665 current shots 159744\n",
      "2021-11-09 10:37:25,853: largest drop: Calculating cost sections for all parameters\n",
      "2021-11-09 10:37:25,853: calculate cost section over parameters [1]\n",
      "2021-11-09 10:37:25,862: run circuits: Running 12 experiments, 256 shots each\n",
      "2021-11-09 10:37:26,038: largest drop: Stepping in direction 1\n",
      "2021-11-09 10:37:26,039: calculate cost section over parameters 1\n",
      "2021-11-09 10:37:26,045: run circuits: Running 12 experiments, 4096 shots each\n",
      "2021-11-09 10:37:26,294: Sweep 4 with strategy largest-drop - current cost -0.0038165025094649557 current shots 211968\n",
      "2021-11-09 10:37:26,295: largest drop: Calculating cost sections for all parameters\n",
      "2021-11-09 10:37:26,295: calculate cost section over parameters [0]\n",
      "2021-11-09 10:37:26,302: run circuits: Running 12 experiments, 256 shots each\n",
      "2021-11-09 10:37:26,548: largest drop: Stepping in direction 0\n",
      "2021-11-09 10:37:26,549: calculate cost section over parameters 0\n",
      "2021-11-09 10:37:26,556: run circuits: Running 12 experiments, 4096 shots each\n",
      "2021-11-09 10:37:26,815: Sweep 5 with strategy largest-drop - current cost -1.6017483359664908e-06 current shots 264192\n",
      "2021-11-09 10:37:26,817: largest drop: Calculating cost sections for all parameters\n",
      "2021-11-09 10:37:26,818: calculate cost section over parameters [1]\n",
      "2021-11-09 10:37:26,825: run circuits: Running 12 experiments, 256 shots each\n",
      "2021-11-09 10:37:27,101: largest drop: Stepping in direction 1\n",
      "2021-11-09 10:37:27,102: calculate cost section over parameters 1\n",
      "2021-11-09 10:37:27,109: run circuits: Running 12 experiments, 4096 shots each\n",
      "2021-11-09 10:37:27,482: Minimization converged by cost update\n",
      "2021-11-09 10:37:27,483: Completed RQD step 2\n",
      "2021-11-09 10:37:27,484: Starting RQD step 3\n",
      "2021-11-09 10:37:27,672: Running 2 circuits, 16384 shots per experiment, 2 experiments\n",
      "2021-11-09 10:37:27,869: Forward circuit results returned\n",
      "2021-11-09 10:37:27,982: Starting minimize() with initial parameter values [0.78539816 0.78539816]\n",
      "2021-11-09 10:37:27,983: Sweep 0 with strategy largest-drop - current cost 1.0 current shots 0\n",
      "2021-11-09 10:37:27,984: largest drop: Calculating cost sections for all parameters\n",
      "2021-11-09 10:37:27,985: calculate cost section over parameters [0, 1]\n",
      "2021-11-09 10:37:27,993: run circuits: Running 24 experiments, 256 shots each\n",
      "2021-11-09 10:37:28,291: largest drop: Stepping in direction 0\n",
      "2021-11-09 10:37:28,292: calculate cost section over parameters 0\n",
      "2021-11-09 10:37:28,297: run circuits: Running 12 experiments, 4096 shots each\n",
      "2021-11-09 10:37:28,582: Sweep 1 with strategy largest-drop - current cost 0.016604216626276924 current shots 55296\n",
      "2021-11-09 10:37:28,583: largest drop: Calculating cost sections for all parameters\n",
      "2021-11-09 10:37:28,584: calculate cost section over parameters [1]\n",
      "2021-11-09 10:37:28,594: run circuits: Running 12 experiments, 256 shots each\n",
      "2021-11-09 10:37:28,767: largest drop: Stepping in direction 1\n",
      "2021-11-09 10:37:28,769: calculate cost section over parameters 1\n",
      "2021-11-09 10:37:28,776: run circuits: Running 12 experiments, 4096 shots each\n",
      "2021-11-09 10:37:29,139: Sweep 2 with strategy largest-drop - current cost 0.0036860792936548245 current shots 107520\n",
      "2021-11-09 10:37:29,140: largest drop: Calculating cost sections for all parameters\n",
      "2021-11-09 10:37:29,140: calculate cost section over parameters [0]\n",
      "2021-11-09 10:37:29,145: run circuits: Running 12 experiments, 256 shots each\n",
      "2021-11-09 10:37:29,326: largest drop: Stepping in direction 0\n",
      "2021-11-09 10:37:29,328: calculate cost section over parameters 0\n",
      "2021-11-09 10:37:29,336: run circuits: Running 12 experiments, 4096 shots each\n",
      "2021-11-09 10:37:29,697: Sweep 3 with strategy largest-drop - current cost -5.964758129539671e-05 current shots 159744\n",
      "2021-11-09 10:37:29,698: largest drop: Calculating cost sections for all parameters\n",
      "2021-11-09 10:37:29,699: calculate cost section over parameters [1]\n",
      "2021-11-09 10:37:29,706: run circuits: Running 12 experiments, 256 shots each\n",
      "2021-11-09 10:37:29,881: largest drop: Stepping in direction 1\n",
      "2021-11-09 10:37:29,885: calculate cost section over parameters 1\n",
      "2021-11-09 10:37:29,894: run circuits: Running 12 experiments, 4096 shots each\n",
      "2021-11-09 10:37:30,151: Sweep 4 with strategy largest-drop - current cost -0.0007590747308037354 current shots 211968\n",
      "2021-11-09 10:37:30,152: largest drop: Calculating cost sections for all parameters\n",
      "2021-11-09 10:37:30,153: calculate cost section over parameters [0]\n",
      "2021-11-09 10:37:30,160: run circuits: Running 12 experiments, 256 shots each\n",
      "2021-11-09 10:37:30,432: largest drop: Stepping in direction 0\n",
      "2021-11-09 10:37:30,434: calculate cost section over parameters 0\n",
      "2021-11-09 10:37:30,441: run circuits: Running 12 experiments, 4096 shots each\n",
      "2021-11-09 10:37:30,853: Sweep 5 with strategy largest-drop - current cost 0.0001549663278777036 current shots 264192\n",
      "2021-11-09 10:37:30,855: largest drop: Calculating cost sections for all parameters\n",
      "2021-11-09 10:37:30,855: calculate cost section over parameters [1]\n",
      "2021-11-09 10:37:30,860: run circuits: Running 12 experiments, 256 shots each\n",
      "2021-11-09 10:37:31,045: largest drop: Stepping in direction 1\n",
      "2021-11-09 10:37:31,048: calculate cost section over parameters 1\n",
      "2021-11-09 10:37:31,058: run circuits: Running 12 experiments, 4096 shots each\n",
      "2021-11-09 10:37:31,404: Minimization converged by cost update\n",
      "2021-11-09 10:37:31,407: Completed RQD step 3\n"
     ]
    }
   ],
   "source": [
    "resume_rqd_step = -1\n",
    "resume_from = {}\n",
    "\n",
    "for message in user_messenger.interim_results:\n",
    "    if 'optimal_params' in message:\n",
    "        resume_from['optimal_params'] = message['optimal_params']\n",
    "        resume_from['rqd_step'] = message['rqd_step'] + 1\n",
    "        resume_rqd_step = message['rqd_step'] + 1\n",
    "        \n",
    "    if message['rqd_step'] == resume_rqd_step:\n",
    "        if 'forward_counts' in message:\n",
    "            resume_from['forward_counts'] = message['forward_counts']\n",
    "        \n",
    "        if 'isweep' in message and message['isweep'] == 2:\n",
    "            resume_from['current_sweep'] = message['isweep'] + 1\n",
    "            resume_from['param_val'] = message['param_val']\n",
    "            resume_from['current_cost'] = message['cost']\n",
    "            resume_from['total_shots'] = message['total_shots']\n",
    "            break\n",
    "            \n",
    "kwargs['resume_from'] = resume_from\n",
    "            \n",
    "user_messenger = UserMessenger()\n",
    "serialized_inputs = json.dumps(kwargs, cls=RuntimeEncoder)\n",
    "deserialized_inputs = json.loads(serialized_inputs, cls=RuntimeDecoder)\n",
    "\n",
    "forward_counts_res, optimal_params_list_res = main(backend, user_messenger, **deserialized_inputs)"
   ]
  },
  {
   "cell_type": "code",
   "execution_count": 11,
   "id": "67f2f8e3-3e03-4bac-adfa-f1b559918e72",
   "metadata": {},
   "outputs": [
    {
     "ename": "ValueError",
     "evalue": "x and y must be the same size",
     "output_type": "error",
     "traceback": [
      "\u001b[0;31m---------------------------------------------------------------------------\u001b[0m",
      "\u001b[0;31mValueError\u001b[0m                                Traceback (most recent call last)",
      "\u001b[0;32m/tmp/ipykernel_841/3819090856.py\u001b[0m in \u001b[0;36m<module>\u001b[0;34m\u001b[0m\n\u001b[0;32m----> 1\u001b[0;31m \u001b[0mplot_counts_with_curve\u001b[0m\u001b[0;34m(\u001b[0m\u001b[0mforward_counts\u001b[0m \u001b[0;34m+\u001b[0m \u001b[0mforward_counts_res\u001b[0m\u001b[0;34m,\u001b[0m \u001b[0mnum_sites\u001b[0m\u001b[0;34m,\u001b[0m \u001b[0maJ\u001b[0m\u001b[0;34m,\u001b[0m \u001b[0mam\u001b[0m\u001b[0;34m,\u001b[0m \u001b[0momegadt\u001b[0m\u001b[0;34m,\u001b[0m \u001b[0mnum_tsteps\u001b[0m\u001b[0;34m,\u001b[0m \u001b[0minitial_state\u001b[0m\u001b[0;34m=\u001b[0m\u001b[0;32mNone\u001b[0m\u001b[0;34m,\u001b[0m \u001b[0mnum_toys\u001b[0m\u001b[0;34m=\u001b[0m\u001b[0;36m0\u001b[0m\u001b[0;34m)\u001b[0m\u001b[0;34m\u001b[0m\u001b[0;34m\u001b[0m\u001b[0m\n\u001b[0m",
      "\u001b[0;32m~/qc_random/four_qubit_schwinger/runtime/../observables.py\u001b[0m in \u001b[0;36mplot_counts_with_curve\u001b[0;34m(counts_list, num_bits, aJ, am, omegadt, num_tsteps, initial_state, num_toys)\u001b[0m\n\u001b[1;32m    143\u001b[0m     \u001b[0mdensities\u001b[0m\u001b[0;34m,\u001b[0m \u001b[0muncertainties\u001b[0m \u001b[0;34m=\u001b[0m \u001b[0mnumber_density\u001b[0m\u001b[0;34m(\u001b[0m\u001b[0mprobs_list\u001b[0m\u001b[0;34m,\u001b[0m \u001b[0mnum_toys\u001b[0m\u001b[0;34m=\u001b[0m\u001b[0mnum_toys\u001b[0m\u001b[0;34m)\u001b[0m\u001b[0;34m\u001b[0m\u001b[0;34m\u001b[0m\u001b[0m\n\u001b[1;32m    144\u001b[0m \u001b[0;34m\u001b[0m\u001b[0m\n\u001b[0;32m--> 145\u001b[0;31m     \u001b[0mplt\u001b[0m\u001b[0;34m.\u001b[0m\u001b[0mscatter\u001b[0m\u001b[0;34m(\u001b[0m\u001b[0mtime_points\u001b[0m\u001b[0;34m,\u001b[0m \u001b[0mdensities\u001b[0m\u001b[0;34m)\u001b[0m\u001b[0;34m\u001b[0m\u001b[0;34m\u001b[0m\u001b[0m\n\u001b[0m\u001b[1;32m    146\u001b[0m     \u001b[0;32mif\u001b[0m \u001b[0mnum_toys\u001b[0m \u001b[0;34m>\u001b[0m \u001b[0;36m0\u001b[0m\u001b[0;34m:\u001b[0m\u001b[0;34m\u001b[0m\u001b[0;34m\u001b[0m\u001b[0m\n\u001b[1;32m    147\u001b[0m         \u001b[0mplt\u001b[0m\u001b[0;34m.\u001b[0m\u001b[0merrorbar\u001b[0m\u001b[0;34m(\u001b[0m\u001b[0mtime_points\u001b[0m\u001b[0;34m,\u001b[0m \u001b[0mdensities\u001b[0m\u001b[0;34m,\u001b[0m \u001b[0myerr\u001b[0m\u001b[0;34m=\u001b[0m\u001b[0muncertainties\u001b[0m\u001b[0;34m,\u001b[0m \u001b[0melinewidth\u001b[0m\u001b[0;34m=\u001b[0m\u001b[0;36m1\u001b[0m\u001b[0;34m,\u001b[0m \u001b[0mlinewidth\u001b[0m\u001b[0;34m=\u001b[0m\u001b[0;36m0\u001b[0m\u001b[0;34m)\u001b[0m\u001b[0;34m\u001b[0m\u001b[0;34m\u001b[0m\u001b[0m\n",
      "\u001b[0;32m/usr/local/lib/python3.8/dist-packages/matplotlib/pyplot.py\u001b[0m in \u001b[0;36mscatter\u001b[0;34m(x, y, s, c, marker, cmap, norm, vmin, vmax, alpha, linewidths, edgecolors, plotnonfinite, data, **kwargs)\u001b[0m\n\u001b[1;32m   3066\u001b[0m         \u001b[0mvmin\u001b[0m\u001b[0;34m=\u001b[0m\u001b[0;32mNone\u001b[0m\u001b[0;34m,\u001b[0m \u001b[0mvmax\u001b[0m\u001b[0;34m=\u001b[0m\u001b[0;32mNone\u001b[0m\u001b[0;34m,\u001b[0m \u001b[0malpha\u001b[0m\u001b[0;34m=\u001b[0m\u001b[0;32mNone\u001b[0m\u001b[0;34m,\u001b[0m \u001b[0mlinewidths\u001b[0m\u001b[0;34m=\u001b[0m\u001b[0;32mNone\u001b[0m\u001b[0;34m,\u001b[0m \u001b[0;34m*\u001b[0m\u001b[0;34m,\u001b[0m\u001b[0;34m\u001b[0m\u001b[0;34m\u001b[0m\u001b[0m\n\u001b[1;32m   3067\u001b[0m         edgecolors=None, plotnonfinite=False, data=None, **kwargs):\n\u001b[0;32m-> 3068\u001b[0;31m     __ret = gca().scatter(\n\u001b[0m\u001b[1;32m   3069\u001b[0m         \u001b[0mx\u001b[0m\u001b[0;34m,\u001b[0m \u001b[0my\u001b[0m\u001b[0;34m,\u001b[0m \u001b[0ms\u001b[0m\u001b[0;34m=\u001b[0m\u001b[0ms\u001b[0m\u001b[0;34m,\u001b[0m \u001b[0mc\u001b[0m\u001b[0;34m=\u001b[0m\u001b[0mc\u001b[0m\u001b[0;34m,\u001b[0m \u001b[0mmarker\u001b[0m\u001b[0;34m=\u001b[0m\u001b[0mmarker\u001b[0m\u001b[0;34m,\u001b[0m \u001b[0mcmap\u001b[0m\u001b[0;34m=\u001b[0m\u001b[0mcmap\u001b[0m\u001b[0;34m,\u001b[0m \u001b[0mnorm\u001b[0m\u001b[0;34m=\u001b[0m\u001b[0mnorm\u001b[0m\u001b[0;34m,\u001b[0m\u001b[0;34m\u001b[0m\u001b[0;34m\u001b[0m\u001b[0m\n\u001b[1;32m   3070\u001b[0m         \u001b[0mvmin\u001b[0m\u001b[0;34m=\u001b[0m\u001b[0mvmin\u001b[0m\u001b[0;34m,\u001b[0m \u001b[0mvmax\u001b[0m\u001b[0;34m=\u001b[0m\u001b[0mvmax\u001b[0m\u001b[0;34m,\u001b[0m \u001b[0malpha\u001b[0m\u001b[0;34m=\u001b[0m\u001b[0malpha\u001b[0m\u001b[0;34m,\u001b[0m \u001b[0mlinewidths\u001b[0m\u001b[0;34m=\u001b[0m\u001b[0mlinewidths\u001b[0m\u001b[0;34m,\u001b[0m\u001b[0;34m\u001b[0m\u001b[0;34m\u001b[0m\u001b[0m\n",
      "\u001b[0;32m/usr/local/lib/python3.8/dist-packages/matplotlib/__init__.py\u001b[0m in \u001b[0;36minner\u001b[0;34m(ax, data, *args, **kwargs)\u001b[0m\n\u001b[1;32m   1359\u001b[0m     \u001b[0;32mdef\u001b[0m \u001b[0minner\u001b[0m\u001b[0;34m(\u001b[0m\u001b[0max\u001b[0m\u001b[0;34m,\u001b[0m \u001b[0;34m*\u001b[0m\u001b[0margs\u001b[0m\u001b[0;34m,\u001b[0m \u001b[0mdata\u001b[0m\u001b[0;34m=\u001b[0m\u001b[0;32mNone\u001b[0m\u001b[0;34m,\u001b[0m \u001b[0;34m**\u001b[0m\u001b[0mkwargs\u001b[0m\u001b[0;34m)\u001b[0m\u001b[0;34m:\u001b[0m\u001b[0;34m\u001b[0m\u001b[0;34m\u001b[0m\u001b[0m\n\u001b[1;32m   1360\u001b[0m         \u001b[0;32mif\u001b[0m \u001b[0mdata\u001b[0m \u001b[0;32mis\u001b[0m \u001b[0;32mNone\u001b[0m\u001b[0;34m:\u001b[0m\u001b[0;34m\u001b[0m\u001b[0;34m\u001b[0m\u001b[0m\n\u001b[0;32m-> 1361\u001b[0;31m             \u001b[0;32mreturn\u001b[0m \u001b[0mfunc\u001b[0m\u001b[0;34m(\u001b[0m\u001b[0max\u001b[0m\u001b[0;34m,\u001b[0m \u001b[0;34m*\u001b[0m\u001b[0mmap\u001b[0m\u001b[0;34m(\u001b[0m\u001b[0msanitize_sequence\u001b[0m\u001b[0;34m,\u001b[0m \u001b[0margs\u001b[0m\u001b[0;34m)\u001b[0m\u001b[0;34m,\u001b[0m \u001b[0;34m**\u001b[0m\u001b[0mkwargs\u001b[0m\u001b[0;34m)\u001b[0m\u001b[0;34m\u001b[0m\u001b[0;34m\u001b[0m\u001b[0m\n\u001b[0m\u001b[1;32m   1362\u001b[0m \u001b[0;34m\u001b[0m\u001b[0m\n\u001b[1;32m   1363\u001b[0m         \u001b[0mbound\u001b[0m \u001b[0;34m=\u001b[0m \u001b[0mnew_sig\u001b[0m\u001b[0;34m.\u001b[0m\u001b[0mbind\u001b[0m\u001b[0;34m(\u001b[0m\u001b[0max\u001b[0m\u001b[0;34m,\u001b[0m \u001b[0;34m*\u001b[0m\u001b[0margs\u001b[0m\u001b[0;34m,\u001b[0m \u001b[0;34m**\u001b[0m\u001b[0mkwargs\u001b[0m\u001b[0;34m)\u001b[0m\u001b[0;34m\u001b[0m\u001b[0;34m\u001b[0m\u001b[0m\n",
      "\u001b[0;32m/usr/local/lib/python3.8/dist-packages/matplotlib/axes/_axes.py\u001b[0m in \u001b[0;36mscatter\u001b[0;34m(self, x, y, s, c, marker, cmap, norm, vmin, vmax, alpha, linewidths, edgecolors, plotnonfinite, **kwargs)\u001b[0m\n\u001b[1;32m   4496\u001b[0m         \u001b[0my\u001b[0m \u001b[0;34m=\u001b[0m \u001b[0mnp\u001b[0m\u001b[0;34m.\u001b[0m\u001b[0mma\u001b[0m\u001b[0;34m.\u001b[0m\u001b[0mravel\u001b[0m\u001b[0;34m(\u001b[0m\u001b[0my\u001b[0m\u001b[0;34m)\u001b[0m\u001b[0;34m\u001b[0m\u001b[0;34m\u001b[0m\u001b[0m\n\u001b[1;32m   4497\u001b[0m         \u001b[0;32mif\u001b[0m \u001b[0mx\u001b[0m\u001b[0;34m.\u001b[0m\u001b[0msize\u001b[0m \u001b[0;34m!=\u001b[0m \u001b[0my\u001b[0m\u001b[0;34m.\u001b[0m\u001b[0msize\u001b[0m\u001b[0;34m:\u001b[0m\u001b[0;34m\u001b[0m\u001b[0;34m\u001b[0m\u001b[0m\n\u001b[0;32m-> 4498\u001b[0;31m             \u001b[0;32mraise\u001b[0m \u001b[0mValueError\u001b[0m\u001b[0;34m(\u001b[0m\u001b[0;34m\"x and y must be the same size\"\u001b[0m\u001b[0;34m)\u001b[0m\u001b[0;34m\u001b[0m\u001b[0;34m\u001b[0m\u001b[0m\n\u001b[0m\u001b[1;32m   4499\u001b[0m \u001b[0;34m\u001b[0m\u001b[0m\n\u001b[1;32m   4500\u001b[0m         \u001b[0;32mif\u001b[0m \u001b[0ms\u001b[0m \u001b[0;32mis\u001b[0m \u001b[0;32mNone\u001b[0m\u001b[0;34m:\u001b[0m\u001b[0;34m\u001b[0m\u001b[0;34m\u001b[0m\u001b[0m\n",
      "\u001b[0;31mValueError\u001b[0m: x and y must be the same size"
     ]
    },
    {
     "data": {
      "image/png": "[encoded data removed]",
      "text/plain": [
       "<Figure size 432x288 with 1 Axes>"
      ]
     },
     "metadata": {
      "needs_background": "light"
     },
     "output_type": "display_data"
    }
   ],
   "source": [
    "plot_counts_with_curve(forward_counts + forward_counts_res, num_sites, aJ, am, omegadt, num_tsteps, initial_state=None, num_toys=0)"
   ]
  },
  {
   "cell_type": "code",
   "execution_count": null,
   "id": "d6cd823a-d90e-4c9c-8bac-04ab3d4c5e12",
   "metadata": {},
   "outputs": [],
   "source": []
  }
 ],
 "metadata": {
  "kernelspec": {
   "display_name": "Python 3 (ipykernel)",
   "language": "python",
   "name": "python3"
  },
  "language_info": {
   "codemirror_mode": {
    "name": "ipython",
    "version": 3
   },
   "file_extension": ".py",
   "mimetype": "text/x-python",
   "name": "python",
   "nbconvert_exporter": "python",
   "pygments_lexer": "ipython3",
   "version": "3.8.10"
  }
 },
 "nbformat": 4,
 "nbformat_minor": 5
}

{
 "cells": [
  {
   "cell_type": "code",
   "execution_count": 1,
   "id": "08314248-b88e-4e65-adb7-2e490a45f10d",
   "metadata": {},
   "outputs": [],
   "source": [
    "import os\n",
    "import json\n",
    "from qiskit import IBMQ\n",
    "\n",
    "this_dir = os.getcwd()\n",
    "\n",
    "program_path = os.path.join(this_dir, 'schwinger_rqd.py')"
   ]
  },
  {
   "cell_type": "code",
   "execution_count": 2,
   "id": "c632d9a4-b696-462e-99e8-0adafece45bb",
   "metadata": {},
   "outputs": [],
   "source": [
    "IBMQ.load_account()\n",
    "provider = IBMQ.get_provider(hub='ibm-q-research', group='tokyo-1', project='main')\n",
    "#provider = IBMQ.get_provider(hub='ibm-q-utokyo', group='internal', project='icepp')"
   ]
  },
  {
   "cell_type": "markdown",
   "id": "38dd841b-89dd-4096-885f-499ab3c6013c",
   "metadata": {},
   "source": [
    "## Write the program file"
   ]
  },
  {
   "cell_type": "code",
   "execution_count": 3,
   "id": "5330ec5f-19a5-49e9-af6c-08d7383bea14",
   "metadata": {},
   "outputs": [],
   "source": [
    "output = open(program_path, 'w')\n",
    "main_source = open(os.path.join(this_dir, 'main.py'))\n",
    "\n",
    "while True:\n",
    "    line = main_source.readline()\n",
    "    if not line:\n",
    "        break\n",
    "        \n",
    "    if line.startswith('## include'):\n",
    "        nextline = main_source.readline()\n",
    "        if nextline.startswith('from ') or nextline.startswith('import '):\n",
    "            module = nextline.split()[1]\n",
    "        else:\n",
    "            raise RuntimeError('Invalid include block: {}'.format(nextline.strip()))\n",
    "            \n",
    "        include_path = os.path.join(line.split()[2], *module.split('.')) + '.py'\n",
    "        \n",
    "        with open(include_path) as source:\n",
    "            output.write(source.read())\n",
    "            output.write('\\n')\n",
    "            \n",
    "    elif line.startswith('## ignore'):\n",
    "        main_source.readline()\n",
    "    else:\n",
    "        output.write(line)\n",
    "    \n",
    "output.close()\n",
    "main_source.close()"
   ]
  },
  {
   "cell_type": "markdown",
   "id": "672bbb25-cbb0-4515-ac9b-3627981239f5",
   "metadata": {},
   "source": [
    "## Set the metadata dict"
   ]
  },
  {
   "cell_type": "code",
   "execution_count": 4,
   "id": "4fd48587-ac70-4b62-b5a7-f04f907dd6d8",
   "metadata": {},
   "outputs": [],
   "source": [
    "version = 6\n",
    "\n",
    "metadata = {\n",
    "    'name': 'schwinger-rqd-{}'.format(version),\n",
    "    'description': 'Restarted Quantum Dynamics simulation of the lattice Schwinger model.',\n",
    "    'max_execution_time': 14400,\n",
    "    'version': float(version),\n",
    "    'backend_requirements': {'min_num_qubits': 4},\n",
    "    'parameters': [\n",
    "        {'name': 'api_token', 'description': 'IBM Quantum API token.', 'type': 'str', 'required': True},\n",
    "        {'name': 'num_sites', 'description': 'Number of lattice sites (qubits).', 'type': 'int', 'required': True},\n",
    "        {'name': 'aJ', 'description': 'Square of the product of the coupling constant and the lattice spacing, divided by 2.', 'type': 'float', 'required': True},\n",
    "        {'name': 'am', 'description': 'Mass times the lattice spacing.', 'type': 'float', 'required': True},\n",
    "        {'name': 'omegadt', 'description': 'Trotter time step divided by double the lattice spacing.', 'type': 'float', 'required': True},\n",
    "        {'name': 'num_tsteps', 'description': 'Number of Trotter steps to simulate.', 'type': 'int', 'required': True},\n",
    "        {'name': 'tsteps_per_rqd', 'description': 'Number of Trotter steps to advance in each RQD step.', 'type': 'int', 'required': True},\n",
    "        {'name': 'physical_qubits', 'description': 'List of physical qubits to use.', 'type': 'list', 'required': False},\n",
    "        {'name': 'error_matrix', 'description': 'Measurement error matrix to be passed to the MeasurementFilter.', 'type': 'ndarray', 'required': False},\n",
    "        {'name': 'max_sweeps', 'description': 'Number of parameter sweeps for sequential minimum optimization.', 'type': 'int', 'required': False},\n",
    "        {'name': 'minimizer_shots', 'description': 'Number of shots to use for sequential minimum optimization.', 'type': 'int', 'required': False},\n",
    "        {'name': 'forward_shots', 'description': 'Number of shots to use for the forward steps of RQD.', 'type': 'int', 'required': False},\n",
    "        {'name': 'resume_from', 'description': 'Minimizer parameters to resume RQD.', 'type': 'dict', 'required': False}\n",
    "    ],\n",
    "    'return_values': [\n",
    "        {'name': 'forward_counts', 'description': 'List of counts dictionaries of the Trotter steps.', 'type': 'list'},\n",
    "        {'name': 'optimal_params_list', 'description': 'List of ansatz parameter values that approximates the Trotter simulation targets.', 'type': 'list'}\n",
    "    ],\n",
    "    'interim_results': [\n",
    "        {'name': 'rqd_step', 'description': 'RQD iteration number.', 'type': 'int'},\n",
    "        {'name': 'forward_counts', 'description': 'List of counts dictionaries of the Trotter steps in one RQD step.', 'type': 'list'},\n",
    "        {'name': 'optimal_params', 'description': 'Optimal ansatz parameter values from the previous RQD step.', 'type': 'ndarray'},\n",
    "        {'name': 'isweep', 'description': 'Current sweep number of the minimizer.', 'type': 'int'},\n",
    "        {'name': 'param_val', 'description': 'Ansatz parameter values at sweep number isweep.', 'type': 'ndarray'},\n",
    "        {'name': 'cost', 'description': 'Value of the cost function at sweep number isweep.', 'type': 'float'},\n",
    "        {'name': 'total_shots', 'description': 'Number of shots used so far.', 'type': 'int'},\n",
    "        {'name': 'shots_values', 'description': 'Array of cumulative shot numbers during the RQD iteration', 'type': 'ndarray'},\n",
    "        {'name': 'cost_values', 'description': 'Array of the cost value evolution during the RQD iteration', 'type': 'ndarray'}\n",
    "    ]\n",
    "}"
   ]
  },
  {
   "cell_type": "markdown",
   "id": "65f5d00c-d446-42e5-895b-b6fa8a16e592",
   "metadata": {},
   "source": [
    "## Upload the program"
   ]
  },
  {
   "cell_type": "code",
   "execution_count": 5,
   "id": "b9616f57-974c-4ffa-92ad-fefe406b46fa",
   "metadata": {},
   "outputs": [
    {
     "name": "stdout",
     "output_type": "stream",
     "text": [
      "Uploaded program with id schwinger-rqd-6\n"
     ]
    }
   ],
   "source": [
    "try:\n",
    "    provider.runtime.delete_program('schwinger-rqd-{}'.format(version - 1))\n",
    "except:\n",
    "    pass\n",
    "\n",
    "program_id = provider.runtime.upload_program(\n",
    "    data=program_path,\n",
    "    metadata=metadata\n",
    ")\n",
    "print('Uploaded program with id', program_id)"
   ]
  }
 ],
 "metadata": {
  "kernelspec": {
   "display_name": "Python 3 (ipykernel)",
   "language": "python",
   "name": "python3"
  },
  "language_info": {
   "codemirror_mode": {
    "name": "ipython",
    "version": 3
   },
   "file_extension": ".py",
   "mimetype": "text/x-python",
   "name": "python",
   "nbconvert_exporter": "python",
   "pygments_lexer": "ipython3",
   "version": "3.8.10"
  }
 },
 "nbformat": 4,
 "nbformat_minor": 5
}

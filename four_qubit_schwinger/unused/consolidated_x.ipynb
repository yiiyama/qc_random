{
 "cells": [
  {
   "cell_type": "code",
   "execution_count": 1,
   "id": "6b72fb42-45eb-43ab-a3ad-adb016fabf30",
   "metadata": {},
   "outputs": [],
   "source": [
    "import os\n",
    "import sys\n",
    "sys.path.append('..')\n",
    "import json\n",
    "import numpy as np\n",
    "import matplotlib.pyplot as plt\n",
    "\n",
    "from qiskit import Aer, IBMQ, QuantumCircuit, QuantumRegister, transpile\n",
    "from qiskit.providers.ibmq.runtime.utils import RuntimeEncoder, RuntimeDecoder\n",
    "from qiskit.circuit import ParameterVector\n",
    "\n",
    "from observables import plot_counts_with_curve\n",
    "from trotter import trotter_step_circuits\n",
    "from cost_sections import FitSecond, FitFirst, FitGeneral, FitSymmetric\n",
    "from pnp_ansatze import make_Agate, make_pnp_ansatz\n",
    "from cost_functions import global_cost_function, local_cost_function\n",
    "from sequential_minimizer import SequentialVCMinimizer\n",
    "from rttgen import CNOTBasedRtt, PulseEfficientCR\n",
    "from cx_decomposition import cx_circuit\n",
    "from model_circuits import single_step, two_steps\n",
    "from observables import plot_curve, number_density"
   ]
  },
  {
   "cell_type": "code",
   "execution_count": 2,
   "id": "32e79104-d60d-4094-a6e8-f25f661f54e3",
   "metadata": {},
   "outputs": [],
   "source": [
    "def make_step_circuits(num_site, aJ, am, omegadt, backend, physical_qubits):\n",
    "    qubit_pairs = list(zip(range(0, num_site - 1), range(1, num_site)))\n",
    "  \n",
    "    if backend.configuration().simulator:\n",
    "        rtts = dict((qubits, CNOTBasedRtt(backend, qubits)) for qubits in qubit_pairs)\n",
    "        cxs = dict((qubits, cx_circuit(backend, *qubits)) for qubits in qubit_pairs)\n",
    "        cxs.update((qubits[::-1], cx_circuit(backend, *qubits[::-1])) for qubits in qubit_pairs)\n",
    "    else:\n",
    "        rtts = dict((qubits, PulseEfficientCR(backend, (physical_qubits[qubits[0]], physical_qubits[qubits[1]]))) for qubits in qubit_pairs)\n",
    "        cxs = dict((qubits, cx_circuit(backend, physical_qubits[qubits[0]], physical_qubits[qubits[1]])) for qubits in qubit_pairs)\n",
    "        cxs.update((qubits[::-1], cx_circuit(backend, physical_qubits[qubits[1]], physical_qubits[qubits[0]])) for qubits in qubit_pairs)\n",
    "\n",
    "    single_step_circuit = single_step(num_site, aJ, am, omegadt, rtts=rtts, cxs=cxs)\n",
    "    two_step_circuit = two_steps(num_site, aJ, am, omegadt, rtts=rtts, cxs=cxs)\n",
    "    \n",
    "    return single_step_circuit, two_step_circuit"
   ]
  },
  {
   "cell_type": "code",
   "execution_count": 3,
   "id": "fe589e65-f088-4a22-9a9d-3989ef603b9a",
   "metadata": {},
   "outputs": [],
   "source": [
    "num_site = 4\n",
    "aJ = 1.\n",
    "am = 0.5\n",
    "omegadt = 0.2\n",
    "# aJ = 0.7\n",
    "# am = 0.439\n",
    "# omegadt = 0.167\n",
    "num_tstep = 6\n",
    "\n",
    "backend = Aer.get_backend('statevector_simulator')\n",
    "physical_qubits = None"
   ]
  },
  {
   "cell_type": "code",
   "execution_count": 4,
   "id": "73bd5c97-7c17-472e-9cb9-1953879334a4",
   "metadata": {},
   "outputs": [],
   "source": [
    "single_step_circuit, two_step_circuit = make_step_circuits(num_site, aJ, am, omegadt, backend, physical_qubits)\n",
    "target_circuits = trotter_step_circuits(num_tstep, single_step_circuit, two_step_circuit, initial_state=None, measure=False)"
   ]
  },
  {
   "cell_type": "markdown",
   "id": "f4346722-9a30-4b0d-b4a8-bdc382b5ef9e",
   "metadata": {},
   "source": [
    "## Ansatz as defined by Ryunosuke"
   ]
  },
  {
   "cell_type": "markdown",
   "id": "2485dd94-6de5-4263-97eb-d19505d8843b",
   "metadata": {},
   "source": [
    "ansatz, params = make_ansatz(num_site // 2, num_site, num_site // 2, False)\n",
    "print(params)\n",
    "ansatz.draw('mpl')"
   ]
  },
  {
   "cell_type": "markdown",
   "id": "f579d7d3-81e4-4dd5-8c6e-9d0825e68763",
   "metadata": {},
   "source": [
    "## Ansatz we are trying here"
   ]
  },
  {
   "cell_type": "code",
   "execution_count": 5,
   "id": "5f86d8f6-e5ed-4158-9e5c-f23c23f2cbb4",
   "metadata": {},
   "outputs": [],
   "source": [
    "# num_parameter = 8\n",
    "# params = ParameterVector('\\N{greek small letter theta}', num_parameter)\n",
    "\n",
    "# qr = QuantumRegister(num_site, 'q')\n",
    "# ansatz = QuantumCircuit(qr)\n",
    "\n",
    "# ansatz.x(2)\n",
    "# ansatz.x(3)\n",
    "\n",
    "# a_gate = make_Agate(params[0], params[1]).to_instruction()\n",
    "# ansatz.append(a_gate, qr[1:3])\n",
    "# a_gate = make_Agate(params[2], params[3]).to_instruction()\n",
    "# ansatz.append(a_gate, qr[0:2])\n",
    "# a_gate = make_Agate(params[4], params[5]).to_instruction()\n",
    "# ansatz.append(a_gate, qr[2:4])\n",
    "# a_gate = make_Agate(params[6], params[7]).to_instruction()\n",
    "# ansatz.append(a_gate, qr[1:3])\n",
    "\n",
    "# ansatz.draw('mpl')"
   ]
  },
  {
   "cell_type": "code",
   "execution_count": 6,
   "id": "39e8ece0-e662-49cd-b0ea-f8dc4693fc77",
   "metadata": {},
   "outputs": [
    {
     "data": {
      "image/png": "[encoded data removed]",
      "text/plain": [
       "<Figure size 327.397x264.88 with 1 Axes>"
      ]
     },
     "execution_count": 6,
     "metadata": {},
     "output_type": "execute_result"
    }
   ],
   "source": [
    "num_parameter = 10\n",
    "params = ParameterVector('\\N{greek small letter theta}', num_parameter)\n",
    "\n",
    "qr = QuantumRegister(num_site, 'q')\n",
    "uncomputing_circuit = QuantumCircuit(qr)\n",
    "\n",
    "uncomputing_circuit.append(make_Agate(params[8], params[9]), qr[2:4])\n",
    "uncomputing_circuit.append(make_Agate(params[6], params[7]), qr[0:2])\n",
    "uncomputing_circuit.append(make_Agate(params[4], params[5]), qr[1:3])\n",
    "uncomputing_circuit.append(make_Agate(params[2], params[3]), qr[2:4])\n",
    "uncomputing_circuit.append(make_Agate(params[0], params[1]), qr[0:2])\n",
    "\n",
    "uncomputing_circuit.x(1)\n",
    "uncomputing_circuit.x(2)\n",
    "\n",
    "uncomputing_circuit.draw('mpl')"
   ]
  },
  {
   "cell_type": "code",
   "execution_count": 7,
   "id": "72f9decf-9fe6-407f-bbee-97d1f2159e20",
   "metadata": {},
   "outputs": [],
   "source": [
    "def make_minimizer(target_circuit, strategy='sequential'):\n",
    "    ansatz = target_circuit.compose(uncomputing_circuit)\n",
    "    fiscpnp = SequentialVCMinimizer(ansatz, local_cost_function, backend, strategy=strategy, shots=0, default_section=FitGeneral)\n",
    "    fiscpnp.cost_section_generators[0] = FitSecond\n",
    "    fiscpnp.cost_section_generators[1] = FitFirst\n",
    "    fiscpnp.cost_section_generators[2] = FitSecond\n",
    "    fiscpnp.cost_section_generators[3] = FitFirst\n",
    "    fiscpnp.cost_section_generators[5] = FitFirst\n",
    "    \n",
    "    return fiscpnp"
   ]
  },
  {
   "cell_type": "markdown",
   "id": "13babfe7-64da-4e4e-ab5d-29ae7efb13ce",
   "metadata": {},
   "source": [
    "fiscpnp = make_fiscpnp(target_circuits[1])"
   ]
  },
  {
   "cell_type": "markdown",
   "id": "a5374ba2-192b-4c91-9bf8-cfb654f043f7",
   "metadata": {},
   "source": [
    "fiscpnp._conjugate_ansatz().draw('mpl')"
   ]
  },
  {
   "cell_type": "markdown",
   "id": "595b2e7e-042a-44f3-83c8-2189be7f4dca",
   "metadata": {},
   "source": [
    "#param_val = np.random.rand(len(params)) * 2. * np.pi\n",
    "param_val = [0.25343321606078595, 1.1006531485103022, 1.7569335439870133, 1.0846072343563011, 1.2343204990201635, 2.2764240198077883, 1.444497290010199, 1.1293928353867044, 1.3714586367166888, 1.1341587498842647]"
   ]
  },
  {
   "cell_type": "markdown",
   "id": "a073b5e2-26be-43fd-8122-952a17c197d6",
   "metadata": {},
   "source": [
    "test_circuit = fiscpnp._make_circuit(param_val, 1, np.pi / 2.)\n",
    "test_circuit.draw('mpl')"
   ]
  },
  {
   "cell_type": "markdown",
   "id": "5995a42f-2975-4669-b71e-bca015f707d4",
   "metadata": {},
   "source": [
    "fiscpnp.shots = 0\n",
    "probs = fiscpnp._run_circuits([test_circuit])\n",
    "print(probs)"
   ]
  },
  {
   "cell_type": "markdown",
   "id": "f388e097-4ed2-4929-9fca-c9ac08b8f121",
   "metadata": {},
   "source": [
    "def plot_optimization_result(current, theta_opt, costs, cost_section):\n",
    "    fig, axes = plt.subplots(1, 1)\n",
    "    \n",
    "    thetas_curve = np.linspace(-2. * np.pi, 2. * np.pi, 201)\n",
    "    plt.plot(thetas_curve, cost_section.fun(thetas_curve))\n",
    "\n",
    "    plt.scatter(cost_section.thetas, costs)\n",
    "\n",
    "    plt.scatter([current], [cost_section.fun(current)], c=['g'])\n",
    "    plt.scatter([theta_opt], [cost_section.fun(theta_opt)], c=['r'])"
   ]
  },
  {
   "cell_type": "markdown",
   "id": "58783ee4-2305-4727-96e7-8a53fe59f994",
   "metadata": {},
   "source": [
    "iparam = 0\n",
    "cost_section, costs = fiscpnp._smo_one_iter(param_val, iparam)\n",
    "theta_opt = cost_section.minimize()\n",
    "print('update', param_val[iparam], '->', theta_opt)\n",
    "print('cost at theta_opt', cost_section.fun(theta_opt))\n",
    "print(type(cost_section))\n",
    "print('grad at theta', cost_section.grad(param_val[iparam]))\n",
    "print('update over grad', (theta_opt - param_val[iparam]) / cost_section.grad(param_val[iparam]))\n",
    "#print('test points', cost_section.thetas)\n",
    "#print('costs at test points', costs)\n",
    "plot_optimization_result(param_val[iparam], theta_opt, costs, cost_section)"
   ]
  },
  {
   "cell_type": "markdown",
   "id": "ec655ebe-2ada-4b82-8b34-f98708be38ad",
   "metadata": {},
   "source": [
    "iparam = 1\n",
    "cost_section, costs = fiscpnp._smo_one_iter(param_val, iparam)\n",
    "theta_opt = cost_section.minimize()\n",
    "print('update', param_val[iparam], '->', theta_opt)\n",
    "print('cost at theta_opt', cost_section.fun(theta_opt))\n",
    "print('grad at theta', cost_section.grad(param_val[iparam]))\n",
    "print('update over grad', (theta_opt - param_val[iparam]) / cost_section.grad(param_val[iparam]))\n",
    "#print('test points', cost_section.thetas)\n",
    "#print('costs at test points', costs)\n",
    "plot_optimization_result(param_val[iparam], theta_opt, costs, cost_section)"
   ]
  },
  {
   "cell_type": "markdown",
   "id": "bd106664-4af0-432d-875a-b52cdba81d7b",
   "metadata": {},
   "source": [
    "iparam = 2\n",
    "cost_section, costs = fiscpnp._smo_one_iter(param_val, iparam)\n",
    "theta_opt = cost_section.minimize()\n",
    "print('update', param_val[iparam], '->', theta_opt)\n",
    "print('cost at theta_opt', cost_section.fun(theta_opt))\n",
    "print('grad at theta', cost_section.grad(param_val[iparam]))\n",
    "print('update over grad', (theta_opt - param_val[iparam]) / cost_section.grad(param_val[iparam]))\n",
    "#print('test points', cost_section.thetas)\n",
    "#print('costs at test points', costs)\n",
    "plot_optimization_result(param_val[iparam], theta_opt, costs, cost_section)"
   ]
  },
  {
   "cell_type": "markdown",
   "id": "99048b6f-62d7-4b53-b760-bc376fac8ada",
   "metadata": {},
   "source": [
    "iparam = 3\n",
    "cost_section, costs = fiscpnp._smo_one_iter(param_val, iparam)\n",
    "theta_opt = cost_section.minimize()\n",
    "print('update', param_val[iparam], '->', theta_opt)\n",
    "print('cost at theta_opt', cost_section.fun(theta_opt))\n",
    "print('grad at theta', cost_section.grad(param_val[iparam]))\n",
    "print('update over grad', (theta_opt - param_val[iparam]) / cost_section.grad(param_val[iparam]))\n",
    "#print('test points', cost_section.thetas)\n",
    "#print('costs at test points', costs)\n",
    "plot_optimization_result(param_val[iparam], theta_opt, costs, cost_section)"
   ]
  },
  {
   "cell_type": "markdown",
   "id": "cd69963c-bbbc-4e38-90fb-083160b6b4b3",
   "metadata": {},
   "source": [
    "iparam = 4\n",
    "cost_section, costs = fiscpnp._smo_one_iter(param_val, iparam)\n",
    "theta_opt = cost_section.minimize()\n",
    "print('update', param_val[iparam], '->', theta_opt)\n",
    "print('cost at theta_opt', cost_section.fun(theta_opt))\n",
    "print('grad at theta', cost_section.grad(param_val[iparam]))\n",
    "print('update over grad', (theta_opt - param_val[iparam]) / cost_section.grad(param_val[iparam]))\n",
    "#print('test points', cost_section.thetas)\n",
    "#print('costs at test points', costs)\n",
    "plot_optimization_result(param_val[iparam], theta_opt, costs, cost_section)"
   ]
  },
  {
   "cell_type": "markdown",
   "id": "9c319aca-c644-41fb-b34a-b86c8d04c53f",
   "metadata": {},
   "source": [
    "iparam = 5\n",
    "cost_section, costs = fiscpnp._smo_one_iter(param_val, iparam)\n",
    "theta_opt = cost_section.minimize()\n",
    "print('update', param_val[iparam], '->', theta_opt)\n",
    "print('cost at theta_opt', cost_section.fun(theta_opt))\n",
    "print('grad at theta', cost_section.grad(param_val[iparam]))\n",
    "print('update over grad', (theta_opt - param_val[iparam]) / cost_section.grad(param_val[iparam]))\n",
    "#print('test points', cost_section.thetas)\n",
    "#print('costs at test points', costs)\n",
    "plot_optimization_result(param_val[iparam], theta_opt, costs, cost_section)"
   ]
  },
  {
   "cell_type": "markdown",
   "id": "8e6ed21b-4924-4056-a6ed-60a94e4b795c",
   "metadata": {},
   "source": [
    "iparam = 6\n",
    "cost_section, costs = fiscpnp._smo_one_iter(param_val, iparam)\n",
    "theta_opt = cost_section.minimize()\n",
    "print('update', param_val[iparam], '->', theta_opt)\n",
    "print('cost at theta_opt', cost_section.fun(theta_opt))\n",
    "print('grad at theta', cost_section.grad(param_val[iparam]))\n",
    "print('update over grad', (theta_opt - param_val[iparam]) / cost_section.grad(param_val[iparam]))\n",
    "#print('test points', cost_section.thetas)\n",
    "#print('costs at test points', costs)\n",
    "plot_optimization_result(param_val[iparam], theta_opt, costs, cost_section)\n",
    "\n",
    "print('===SYMMETRIC===')\n",
    "fiscpnp.cost_section_generators[iparam] = FitSymmetric\n",
    "cost_section, costs = fiscpnp._smo_one_iter(param_val, iparam)\n",
    "theta_opt = cost_section.minimize()\n",
    "print('update', param_val[iparam], '->', theta_opt)\n",
    "print('cost at theta_opt', cost_section.fun(theta_opt))\n",
    "print('grad at theta', cost_section.grad(param_val[iparam]))\n",
    "print('update over grad', (theta_opt - param_val[iparam]) / cost_section.grad(param_val[iparam]))\n",
    "#print('test points', cost_section.thetas)\n",
    "#print('costs at test points', costs)\n",
    "plot_optimization_result(param_val[iparam], theta_opt, costs, cost_section)"
   ]
  },
  {
   "cell_type": "markdown",
   "id": "fb2bc311-38fe-4efa-98b1-123861f4139a",
   "metadata": {},
   "source": [
    "iparam = 7\n",
    "cost_section, costs = fiscpnp._smo_one_iter(param_val, iparam)\n",
    "theta_opt = cost_section.minimize()\n",
    "print('update', param_val[iparam], '->', theta_opt)\n",
    "print('cost at theta_opt', cost_section.fun(theta_opt))\n",
    "print('grad at theta', cost_section.grad(param_val[iparam]))\n",
    "print('update over grad', (theta_opt - param_val[iparam]) / cost_section.grad(param_val[iparam]))\n",
    "print('coeffs', cost_section.coeffs)\n",
    "#print('test points', cost_section.thetas)\n",
    "#print('costs at test points', costs)\n",
    "plot_optimization_result(param_val[iparam], theta_opt, costs, cost_section)"
   ]
  },
  {
   "cell_type": "markdown",
   "id": "3e1b9878-9e4b-4525-a08f-d29353b7450b",
   "metadata": {},
   "source": [
    "iparam = 8\n",
    "cost_section, costs = fiscpnp._smo_one_iter(param_val, iparam)\n",
    "theta_opt = cost_section.minimize()\n",
    "print('update', param_val[iparam], '->', theta_opt)\n",
    "print('cost at theta_opt', cost_section.fun(theta_opt))\n",
    "print('grad at theta', cost_section.grad(param_val[iparam]))\n",
    "print('update over grad', (theta_opt - param_val[iparam]) / cost_section.grad(param_val[iparam]))\n",
    "#print('test points', cost_section.thetas)\n",
    "#print('costs at test points', costs)\n",
    "plot_optimization_result(param_val[iparam], theta_opt, costs, cost_section)\n",
    "\n",
    "exact_gen = fiscpnp.cost_section_generators[iparam]\n",
    "\n",
    "print('===SYMMETRIC===')\n",
    "fiscpnp.cost_section_generators[iparam] = FitSymmetric\n",
    "cost_section, costs = fiscpnp._smo_one_iter(param_val, iparam)\n",
    "theta_opt = cost_section.minimize()\n",
    "print('update', param_val[iparam], '->', theta_opt)\n",
    "print('cost at theta_opt', cost_section.fun(theta_opt))\n",
    "print('grad at theta', cost_section.grad(param_val[iparam]))\n",
    "print('update over grad', (theta_opt - param_val[iparam]) / cost_section.grad(param_val[iparam]))\n",
    "#print('test points', cost_section.thetas)\n",
    "#print('costs at test points', costs)\n",
    "plot_optimization_result(param_val[iparam], theta_opt, costs, cost_section)"
   ]
  },
  {
   "cell_type": "markdown",
   "id": "9a398ec2-b055-4d38-bce2-f08752650ef1",
   "metadata": {},
   "source": [
    "iparam = 9\n",
    "cost_section, costs = fiscpnp._smo_one_iter(param_val, iparam)\n",
    "theta_opt = cost_section.minimize()\n",
    "print('update', param_val[iparam], '->', theta_opt)\n",
    "print('cost at theta_opt', cost_section.fun(theta_opt))\n",
    "print('grad at theta', cost_section.grad(param_val[iparam]))\n",
    "print('update over grad', (theta_opt - param_val[iparam]) / cost_section.grad(param_val[iparam]))\n",
    "print('coeffs', cost_section.coeffs)\n",
    "#print('test points', cost_section.thetas)\n",
    "#print('costs at test points', costs)\n",
    "plot_optimization_result(param_val[iparam], theta_opt, costs, cost_section)"
   ]
  },
  {
   "cell_type": "markdown",
   "id": "4d901ed8-0ac3-47b3-9cd8-f19820a2167f",
   "metadata": {},
   "source": [
    "## Solving RQD"
   ]
  },
  {
   "cell_type": "code",
   "execution_count": 8,
   "id": "9423588c-ef75-442d-a908-66fac4fd4ae3",
   "metadata": {},
   "outputs": [],
   "source": [
    "def callback_step(minimizer, arg):\n",
    "    print('isweep', arg['isweep'], 'iparam', arg['iparam'], 'cost', arg['cost_section'].fun(arg['theta_opt']), 'total shots', arg['current_shots'] + arg['step_shots'])\n",
    "    \n",
    "def callback_sweep(minimizer, arg):\n",
    "    print('isweep', arg['isweep'], 'update distance', np.max(np.abs(arg['current_param_val'] - arg['sweep_param_val'])), 'cost', arg['sweep_cost'], 'cost update', arg['sweep_cost'] - arg['current_cost'], 'total shots', arg['current_shots'] + arg['sweep_shots'])\n",
    "    print('params [' + ', '.join(map(str, arg['sweep_param_val'])) + ']')\n",
    "\n",
    "def switch_to_gradient_descent_by_absolute_cost(minimizer, arg):\n",
    "    if minimizer.strategy != 'gradient-descent' and arg['sweep_cost'] < 0.02:\n",
    "        print('Switching to gradient descent at parameter values', '[' + ', '.join(map(str, arg['sweep_param_val'])) + ']')\n",
    "        minimizer.strategy = 'gradient-descent'\n",
    "        \n",
    "def switch_to_gradient_descent_by_cost_update(minimizer, arg):\n",
    "    cost_update = arg['sweep_cost'] - arg['current_cost']\n",
    "    if minimizer.strategy != 'gradient-descent' and cost_update < 0. and cost_update > -0.1:\n",
    "        print('Switching to gradient descent at parameter values', '[' + ', '.join(map(str, arg['sweep_param_val'])) + ']')\n",
    "        minimizer.strategy = 'gradient-descent'"
   ]
  },
  {
   "cell_type": "code",
   "execution_count": 9,
   "id": "d2de12cd-67ec-4fbc-a1ad-0ff6eaf4af15",
   "metadata": {},
   "outputs": [
    {
     "name": "stdout",
     "output_type": "stream",
     "text": [
      "======= 3 trotter steps ========\n",
      "isweep 0 iparam 8 cost 0.32213505601247916 total shots 0\n",
      "isweep 0 update distance 2.305907840107884 cost 0.32213505601247916 cost update -0.6778649439875208 total shots 0\n",
      "params [0.7853981633974483, 0.7853981633974483, 0.7853981633974483, 0.7853981633974483, 0.7853981633974483, 0.7853981633974483, 0.7853981633974483, 0.7853981633974483, 3.0913060035053324, 0.7853981633974483]\n",
      "isweep 1 iparam 0 cost 0.1638540308802507 total shots 0\n",
      "isweep 1 update distance 0.6892332253900957 cost 0.1638540308802507 cost update -0.15828102513222847 total shots 0\n",
      "params [0.0961649380073526, 0.7853981633974483, 0.7853981633974483, 0.7853981633974483, 0.7853981633974483, 0.7853981633974483, 0.7853981633974483, 0.7853981633974483, 3.0913060035053324, 0.7853981633974483]\n",
      "isweep 2 iparam 5 cost 0.08423211593856963 total shots 0\n",
      "isweep 2 update distance 5.150783009597459 cost 0.08423211593856963 cost update -0.07962191494168105 total shots 0\n",
      "params [0.0961649380073526, 0.7853981633974483, 0.7853981633974483, 0.7853981633974483, 0.7853981633974483, 5.936181172994908, 0.7853981633974483, 0.7853981633974483, 3.0913060035053324, 0.7853981633974483]\n",
      "isweep 3 iparam 6 cost 0.03696421716403292 total shots 0\n",
      "isweep 3 update distance 0.28286947599619094 cost 0.03696421716403292 cost update -0.047267898774536715 total shots 0\n",
      "params [0.0961649380073526, 0.7853981633974483, 0.7853981633974483, 0.7853981633974483, 0.7853981633974483, 5.936181172994908, 1.0682676393936392, 0.7853981633974483, 3.0913060035053324, 0.7853981633974483]\n",
      "isweep 4 iparam 2 cost 0.014010280050282875 total shots 0\n",
      "isweep 4 update distance 0.21819787739105112 cost 0.014010280050282875 cost update -0.022953937113750045 total shots 0\n",
      "params [0.0961649380073526, 0.7853981633974483, 0.5672002860063972, 0.7853981633974483, 0.7853981633974483, 5.936181172994908, 1.0682676393936392, 0.7853981633974483, 3.0913060035053324, 0.7853981633974483]\n",
      "Switching section generators\n",
      "isweep 5 iparam 0 cost 0.008201871750397577 total shots 0\n",
      "isweep 5 update distance 6.174510206319491 cost 0.008201871750397577 cost update -0.005808408299885298 total shots 0\n",
      "params [6.270675144326844, 0.7853981633974483, 0.5672002860063972, 0.7853981633974483, 0.7853981633974483, 5.936181172994908, 1.0682676393936392, 0.7853981633974483, 3.0913060035053324, 0.7853981633974483]\n",
      "isweep 6 iparam 7 cost 0.0050553734639456616 total shots 0\n",
      "isweep 6 update distance 0.1684629227883626 cost 0.0050553734639456616 cost update -0.0031464982864519153 total shots 0\n",
      "params [6.270675144326844, 0.7853981633974483, 0.5672002860063972, 0.7853981633974483, 0.7853981633974483, 5.936181172994908, 1.0682676393936392, 0.6169352406090857, 3.0913060035053324, 0.7853981633974483]\n",
      "isweep 7 iparam 3 cost 0.0022115678682630147 total shots 0\n",
      "isweep 7 update distance 0.16683043865257696 cost 0.0022115678682630147 cost update -0.002843805595682647 total shots 0\n",
      "params [6.270675144326844, 0.7853981633974483, 0.5672002860063972, 0.9522286020500252, 0.7853981633974483, 5.936181172994908, 1.0682676393936392, 0.6169352406090857, 3.0913060035053324, 0.7853981633974483]\n",
      "isweep 8 iparam 6 cost 0.0017066550270080083 total shots 0\n",
      "isweep 8 update distance 0.028386049446092576 cost 0.0017066550270080083 cost update -0.0005049128412550064 total shots 0\n",
      "params [6.270675144326844, 0.7853981633974483, 0.5672002860063972, 0.9522286020500252, 0.7853981633974483, 5.936181172994908, 1.0966536888397318, 0.6169352406090857, 3.0913060035053324, 0.7853981633974483]\n",
      "isweep 9 iparam 5 cost 0.0014965618896232435 total shots 0\n",
      "isweep 9 update distance 0.06918408051096225 cost 0.0014965618896232435 cost update -0.00021009313738476476 total shots 0\n",
      "params [6.270675144326844, 0.7853981633974483, 0.5672002860063972, 0.9522286020500252, 0.7853981633974483, 5.866997092483945, 1.0966536888397318, 0.6169352406090857, 3.0913060035053324, 0.7853981633974483]\n",
      "isweep 10 iparam 3 cost 0.0013668813378080735 total shots 0\n",
      "isweep 10 update distance 0.0355606046695951 cost 0.0013668813378080735 cost update -0.00012968055181517002 total shots 0\n",
      "params [6.270675144326844, 0.7853981633974483, 0.5672002860063972, 0.9877892067196203, 0.7853981633974483, 5.866997092483945, 1.0966536888397318, 0.6169352406090857, 3.0913060035053324, 0.7853981633974483]\n",
      "isweep 11 iparam 5 cost 0.0013137603099612205 total shots 0\n",
      "isweep 11 update distance 0.02941871769700022 cost 0.0013137603099612205 cost update -5.312102784685302e-05 total shots 0\n",
      "params [6.270675144326844, 0.7853981633974483, 0.5672002860063972, 0.9877892067196203, 0.7853981633974483, 5.837578374786945, 1.0966536888397318, 0.6169352406090857, 3.0913060035053324, 0.7853981633974483]\n",
      "SMO converged by cost update\n",
      ">>> 0 shots\n"
     ]
    }
   ],
   "source": [
    "param_values = []\n",
    "\n",
    "for it, target_circuit in enumerate(target_circuits):\n",
    "    if it != 2:\n",
    "        continue\n",
    "        \n",
    "    print('=======', it + 1, 'trotter steps ========')\n",
    "    fiscpnp = make_minimizer(target_circuit, strategy='largest-drop')\n",
    "\n",
    "    section_gen_switched = False\n",
    "    def switch_section_gen(minimizer, arg):\n",
    "        global section_gen_switched\n",
    "\n",
    "        if section_gen_switched:\n",
    "            return\n",
    "        \n",
    "        if arg['sweep_cost'] < 0.015:\n",
    "            print('Switching section generators')\n",
    "            for iparam in [4, 6, 7, 8, 9]:\n",
    "                fiscpnp.cost_section_generators[iparam] = FitSymmetric\n",
    "                \n",
    "            section_gen_switched = True\n",
    "            \n",
    "    fiscpnp.callbacks_step.extend([callback_step, SequentialVCMinimizer.ideal_cost_step])\n",
    "    fiscpnp.callbacks_sweep.extend([callback_sweep, switch_section_gen])\n",
    "    \n",
    "    initial_param_val = np.ones(len(params), dtype='f8') * np.pi / 4.\n",
    "    #initial_param_val = np.zeros(len(params), dtype='f8')\n",
    "    param_val, total_shots = fiscpnp.minimize(initial_param_val)\n",
    "    print('>>>', total_shots, 'shots')\n",
    "    param_values.append(param_val)"
   ]
  },
  {
   "cell_type": "markdown",
   "id": "5ebb405a-aa94-4efa-846c-ae14cebf77ef",
   "metadata": {},
   "source": [
    "estimator = uncomputing_circuit.inverse()\n",
    "\n",
    "probs_list_exact = plot_curve(num_site, aJ, am, omegadt * num_tstep)\n",
    "probs_list = [probs_list_exact[0]]\n",
    "for param_val in param_values:\n",
    "    circuit = estimator.assign_parameters(dict(zip(params, param_val)))\n",
    "    circuit = transpile(circuit, backend=backend)\n",
    "    probs_list.append((np.square(np.abs(backend.run(circuit).result().data()['statevector'])), 0))\n",
    "    \n",
    "densities, _ = number_density(probs_list, num_toys=0)\n",
    "plt.scatter(np.arange(num_tstep + 1) * omegadt, densities)"
   ]
  },
  {
   "cell_type": "code",
   "execution_count": 10,
   "id": "9c733971-7b2f-4a48-bd22-b5a7376a4c7d",
   "metadata": {},
   "outputs": [
    {
     "data": {
      "text/plain": [
       "1000000"
      ]
     },
     "execution_count": 10,
     "metadata": {},
     "output_type": "execute_result"
    }
   ],
   "source": [
    "backend.configuration().max_shots"
   ]
  },
  {
   "cell_type": "code",
   "execution_count": null,
   "id": "a7583d61-0c49-47e1-88d9-716bc4279478",
   "metadata": {},
   "outputs": [],
   "source": []
  }
 ],
 "metadata": {
  "kernelspec": {
   "display_name": "Python 3 (ipykernel)",
   "language": "python",
   "name": "python3"
  },
  "language_info": {
   "codemirror_mode": {
    "name": "ipython",
    "version": 3
   },
   "file_extension": ".py",
   "mimetype": "text/x-python",
   "name": "python",
   "nbconvert_exporter": "python",
   "pygments_lexer": "ipython3",
   "version": "3.8.10"
  }
 },
 "nbformat": 4,
 "nbformat_minor": 5
}

{
 "cells": [
  {
   "cell_type": "markdown",
   "id": "47876551-a69d-4d8b-b186-c493e519dd04",
   "metadata": {},
   "source": [
    "# Comparison of cost function section calculators\n",
    "\n",
    "The 1D section of the cost function has a general form $b_0 \\sin 2\\theta + b_1 \\cos 2\\theta + b_2 \\sin \\theta + b_3 \\cos \\theta + b_4$. In principle, knowing the value of the function at 5 distinct points allows us to find the values of the $b_i$ coefficients, and thereby the minimum of the function. However, when the observed values of the function have statistical and other uncertainties, performing a maximum likelihood fit using data from a larger number of points may result in a more accurate estimation of the coefficients."
   ]
  },
  {
   "cell_type": "code",
   "execution_count": 1,
   "id": "a592ed36-5619-4ff9-854a-11b311cb7c70",
   "metadata": {},
   "outputs": [],
   "source": [
    "import os\n",
    "import sys\n",
    "import numpy as np\n",
    "import matplotlib.pyplot as plt\n",
    "\n",
    "sys.path.append('..')\n",
    "from cost_sections import *"
   ]
  },
  {
   "cell_type": "markdown",
   "id": "e082930b-870a-4e95-a27f-eb0b37a818a2",
   "metadata": {},
   "source": [
    "## Experiment\n",
    "\n",
    "Draw parameters $b_i$ of $f(\\theta) = b_0 \\sin 2\\theta + b_1 \\cos 2\\theta + b_2 \\sin \\theta + b_3 \\cos \\theta + b_4$ randomly and normalize them so that $0 < f(\\theta) < 1$. Measurement of the cost value at a given value of $\\theta$ is simulated by drawing from a binomial distribution $B(n_{\\text{shots}}, f(\\theta))$. In each trial, the cost section function and a \"current position\" are randomly defined and passed to the two cost section calculation algorithms (matrix inversion and fit). The two algorithms use identical total number of shots (the fit algorithm therefore uses fewer shots per point than the inversion algorithm). Statistical errors of the two methods are compared in the end."
   ]
  },
  {
   "cell_type": "code",
   "execution_count": 2,
   "id": "96ef2d1f-c9db-471b-a68b-90ba555ccbdb",
   "metadata": {},
   "outputs": [],
   "source": [
    "rng = np.random.default_rng()\n",
    "\n",
    "def fun(th, b):\n",
    "    return b[0] * np.sin(2. * th) + b[1] * np.cos(2. * th) + b[2] * np.sin(th) + b[3] * np.cos(th) + b[4]\n",
    "\n",
    "def grad(th, b):\n",
    "    return 2. * b[0] * np.cos(2. * th) - 2. * b[1] * np.sin(2. * th) + b[2] * np.cos(th) - b[3] * np.sin(th)\n",
    "\n",
    "def hess(th, b):\n",
    "    return -4. * b[0] * np.sin(2. * th) - 4. * b[1] * np.cos(2. * th) - b[2] * np.sin(th) - b[3] * np.cos(th)\n",
    "\n",
    "def normalize_fun(b):\n",
    "    if grad(0., b) < 0.:\n",
    "        x0 = 0.\n",
    "        shift = 0.01\n",
    "    else:\n",
    "        x0 = 2. * np.pi\n",
    "        shift = -0.01\n",
    "\n",
    "    fun_array_input = lambda x: fun(x[0], b)\n",
    "    positive_grad = lambda x: grad(x, b)\n",
    "    positive_hess = lambda x: hess(x, b)\n",
    "\n",
    "    # first minimum\n",
    "    res_min1 = sciopt.minimize(fun_array_input, [x0], method='trust-ncg', jac=positive_grad, hess=positive_hess, options={'initial_trust_radius': np.pi / 8.})\n",
    "\n",
    "    negative_fun_array_input = lambda x: -fun(x[0], b)\n",
    "    negative_grad = lambda x: -grad(x, b)\n",
    "    negative_hess = lambda x: -hess(x, b)\n",
    "\n",
    "    # first maximum\n",
    "    res_max1 = sciopt.minimize(negative_fun_array_input, [res_min1.x + shift], method='trust-ncg', jac=negative_grad, hess=negative_hess, options={'initial_trust_radius': np.pi / 8.})\n",
    "\n",
    "    # second minimum\n",
    "    res_min2 = sciopt.minimize(fun_array_input, [res_max1.x + shift], method='trust-ncg', jac=positive_grad, hess=positive_hess, options={'initial_trust_radius': np.pi / 8.})\n",
    "    \n",
    "    if (shift > 0. and res_min2.x < 2. * np.pi) or (shift < 0. and res_min2.x > 0.):\n",
    "        # second maximum\n",
    "        res_max2 = sciopt.minimize(negative_fun_array_input, [res_min2.x + shift], method='trust-ncg', jac=negative_grad, hess=negative_hess, options={'initial_trust_radius': np.pi / 8.})\n",
    "        \n",
    "        minimum = min(res_min1.fun, res_min2.fun)\n",
    "        maximum = max(-res_max1.fun, -res_max2.fun)\n",
    "    else:\n",
    "        minimum = res_min1.fun\n",
    "        maximum = -res_max1.fun\n",
    "        \n",
    "    if minimum < 0.:\n",
    "        b[4] += -minimum\n",
    "        maximum += -minimum\n",
    "    if maximum > 1.:\n",
    "        b /= maximum\n",
    "        \n",
    "    return b\n",
    "\n",
    "def get_costs(th, b, shots):\n",
    "    costs_truth = fun(th, b)\n",
    "    costs = rng.binomial([shots] * th.shape[0], costs_truth) / shots\n",
    "    return costs\n",
    "\n",
    "def compare_stat_errors(shots, num_exp=200):\n",
    "    matrix_errors = np.empty(num_exp, dtype='f8')\n",
    "    fit_errors = np.empty(num_exp, dtype='f8')\n",
    "    \n",
    "    points_to_parameters = 4\n",
    "    \n",
    "    matrix = InversionGeneral()\n",
    "    fit = FitGeneral(points_to_parameters)\n",
    "    exact = CostSectionGeneral()\n",
    "\n",
    "    for iexp in range(num_exp):\n",
    "        current = rng.random() * 2. * np.pi\n",
    "        matrix.set_thetas(current)\n",
    "        fit.set_thetas(current)\n",
    "        exact.current = current\n",
    "\n",
    "        b = rng.random(5)\n",
    "        b = normalize_fun(b)\n",
    "\n",
    "        matrix.set_coeffs(get_costs(matrix.thetas, b, points_to_parameters * shots))\n",
    "        opt_matrix = matrix.minimum()\n",
    "\n",
    "        fit.set_coeffs(get_costs(fit.thetas, b, shots))\n",
    "        opt_fit = fit.minimum()\n",
    "\n",
    "        exact.coeffs = b\n",
    "        opt_exact = exact.minimum()\n",
    "\n",
    "        matrix_errors[iexp] = opt_matrix - opt_exact\n",
    "        fit_errors[iexp] = opt_fit - opt_exact\n",
    "        \n",
    "    return matrix_errors, fit_errors"
   ]
  },
  {
   "cell_type": "code",
   "execution_count": 3,
   "id": "60f827b6-7491-4f21-8843-bd01338cbe91",
   "metadata": {},
   "outputs": [
    {
     "name": "stderr",
     "output_type": "stream",
     "text": [
      "/usr/local/lib/python3.8/dist-packages/scipy/optimize/optimize.py:1058: RuntimeWarning: divide by zero encountered in double_scalars\n",
      "  rhok = 1.0 / (numpy.dot(yk, sk))\n",
      "/usr/local/lib/python3.8/dist-packages/scipy/optimize/optimize.py:1058: RuntimeWarning: divide by zero encountered in double_scalars\n",
      "  rhok = 1.0 / (numpy.dot(yk, sk))\n"
     ]
    }
   ],
   "source": [
    "matrix_errors, fit_errors = compare_stat_errors(4096)"
   ]
  },
  {
   "cell_type": "code",
   "execution_count": 4,
   "id": "a5c4ee04-734f-428e-b454-8586dae6fc9d",
   "metadata": {},
   "outputs": [
    {
     "name": "stdout",
     "output_type": "stream",
     "text": [
      "matrix outliers 3\n",
      "fit outliers 0\n"
     ]
    },
    {
     "data": {
      "text/plain": [
       "<matplotlib.legend.Legend at 0x7fc77d1d1eb0>"
      ]
     },
     "execution_count": 4,
     "metadata": {},
     "output_type": "execute_result"
    },
    {
     "data": {
      "image/png": "[encoded data removed]",
      "text/plain": [
       "<Figure size 432x288 with 1 Axes>"
      ]
     },
     "metadata": {
      "needs_background": "light"
     },
     "output_type": "display_data"
    }
   ],
   "source": [
    "print('matrix outliers', np.asarray(np.abs(matrix_errors) > 0.1).nonzero()[0].shape[0])\n",
    "print('fit outliers', np.asarray(np.abs(fit_errors) > 0.1).nonzero()[0].shape[0])\n",
    "\n",
    "plt.hist(matrix_errors, 100, range=(-0.1, 0.1), label='matrix')\n",
    "plt.hist(fit_errors, 100, range=(-0.1, 0.1), label='fit', fill=False, edgecolor='#ff7f0e')\n",
    "plt.legend()"
   ]
  },
  {
   "cell_type": "code",
   "execution_count": 5,
   "id": "578c3adb-5a6e-44d0-ad90-5f7af47e33d9",
   "metadata": {},
   "outputs": [
    {
     "name": "stderr",
     "output_type": "stream",
     "text": [
      "/usr/local/lib/python3.8/dist-packages/scipy/optimize/optimize.py:1058: RuntimeWarning: divide by zero encountered in double_scalars\n",
      "  rhok = 1.0 / (numpy.dot(yk, sk))\n",
      "/usr/local/lib/python3.8/dist-packages/scipy/optimize/optimize.py:1058: RuntimeWarning: divide by zero encountered in double_scalars\n",
      "  rhok = 1.0 / (numpy.dot(yk, sk))\n",
      "/usr/local/lib/python3.8/dist-packages/scipy/optimize/optimize.py:1058: RuntimeWarning: divide by zero encountered in double_scalars\n",
      "  rhok = 1.0 / (numpy.dot(yk, sk))\n"
     ]
    }
   ],
   "source": [
    "matrix_errors, fit_errors = compare_stat_errors(2048)"
   ]
  },
  {
   "cell_type": "code",
   "execution_count": 6,
   "id": "05a1bddf-765e-4ee6-ba48-cf2190c0f312",
   "metadata": {},
   "outputs": [
    {
     "name": "stdout",
     "output_type": "stream",
     "text": [
      "matrix outliers 3\n",
      "fit outliers 1\n"
     ]
    },
    {
     "data": {
      "text/plain": [
       "<matplotlib.legend.Legend at 0x7fc77d082100>"
      ]
     },
     "execution_count": 6,
     "metadata": {},
     "output_type": "execute_result"
    },
    {
     "data": {
      "image/png": "[encoded data removed]",
      "text/plain": [
       "<Figure size 432x288 with 1 Axes>"
      ]
     },
     "metadata": {
      "needs_background": "light"
     },
     "output_type": "display_data"
    }
   ],
   "source": [
    "print('matrix outliers', np.asarray(np.abs(matrix_errors) > 0.1).nonzero()[0].shape[0])\n",
    "print('fit outliers', np.asarray(np.abs(fit_errors) > 0.1).nonzero()[0].shape[0])\n",
    "\n",
    "plt.hist(matrix_errors, 100, range=(-0.1, 0.1), label='matrix')\n",
    "plt.hist(fit_errors, 100, range=(-0.1, 0.1), label='fit', fill=False, edgecolor='#ff7f0e')\n",
    "plt.legend()"
   ]
  },
  {
   "cell_type": "code",
   "execution_count": 7,
   "id": "cb51d6af-6288-482d-a904-81da469bb55e",
   "metadata": {},
   "outputs": [
    {
     "name": "stderr",
     "output_type": "stream",
     "text": [
      "/usr/local/lib/python3.8/dist-packages/scipy/optimize/optimize.py:1058: RuntimeWarning: divide by zero encountered in double_scalars\n",
      "  rhok = 1.0 / (numpy.dot(yk, sk))\n"
     ]
    }
   ],
   "source": [
    "matrix_errors, fit_errors = compare_stat_errors(8192)"
   ]
  },
  {
   "cell_type": "code",
   "execution_count": 8,
   "id": "0960a514-afb1-4277-bbe9-a5ef84cf6df9",
   "metadata": {},
   "outputs": [
    {
     "name": "stdout",
     "output_type": "stream",
     "text": [
      "matrix outliers 3\n",
      "fit outliers 0\n"
     ]
    },
    {
     "data": {
      "text/plain": [
       "<matplotlib.legend.Legend at 0x7fc77cd02e80>"
      ]
     },
     "execution_count": 8,
     "metadata": {},
     "output_type": "execute_result"
    },
    {
     "data": {
      "image/png": "[encoded data removed]",
      "text/plain": [
       "<Figure size 432x288 with 1 Axes>"
      ]
     },
     "metadata": {
      "needs_background": "light"
     },
     "output_type": "display_data"
    }
   ],
   "source": [
    "print('matrix outliers', np.asarray(np.abs(matrix_errors) > 0.1).nonzero()[0].shape[0])\n",
    "print('fit outliers', np.asarray(np.abs(fit_errors) > 0.1).nonzero()[0].shape[0])\n",
    "\n",
    "plt.hist(matrix_errors, 100, range=(-0.1, 0.1), label='matrix')\n",
    "plt.hist(fit_errors, 100, range=(-0.1, 0.1), label='fit', fill=False, edgecolor='#ff7f0e')\n",
    "plt.legend()"
   ]
  },
  {
   "cell_type": "markdown",
   "id": "7ef2ae88-4078-4d8c-85cf-b42eccfbc485",
   "metadata": {},
   "source": [
    "## Conclusion\n",
    "\n",
    "Fit method seems to be slightly more robust against statistical fluctuations of the measurement results."
   ]
  },
  {
   "cell_type": "code",
   "execution_count": null,
   "id": "3fc0a16c-73e4-40ca-ac42-4651080f32d1",
   "metadata": {},
   "outputs": [],
   "source": []
  }
 ],
 "metadata": {
  "kernelspec": {
   "display_name": "Python 3 (ipykernel)",
   "language": "python",
   "name": "python3"
  },
  "language_info": {
   "codemirror_mode": {
    "name": "ipython",
    "version": 3
   },
   "file_extension": ".py",
   "mimetype": "text/x-python",
   "name": "python",
   "nbconvert_exporter": "python",
   "pygments_lexer": "ipython3",
   "version": "3.8.10"
  }
 },
 "nbformat": 4,
 "nbformat_minor": 5
}

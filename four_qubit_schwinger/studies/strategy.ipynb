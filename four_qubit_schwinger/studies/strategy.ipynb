{
 "cells": [
  {
   "cell_type": "markdown",
   "id": "82529246-a561-41da-8925-c8ff3452f4c3",
   "metadata": {},
   "source": [
    "# Comparison of sequential minimization strategies\n",
    "\n",
    "Run the sequential minimization of the 10-parameter ansatz over the local and global cost functions with the fit method for the cost function sections."
   ]
  },
  {
   "cell_type": "code",
   "execution_count": 1,
   "id": "4f7ab4e8-73e0-4189-a29c-7e0ae6647998",
   "metadata": {},
   "outputs": [],
   "source": [
    "import sys\n",
    "import numpy as np\n",
    "import matplotlib.pyplot as plt\n",
    "\n",
    "from qiskit import Aer, QuantumCircuit, transpile\n",
    "\n",
    "sys.path.append('..')\n",
    "from cost_sections import FitSecond, FitFirst, FitGeneral, FitSymmetric\n",
    "from pnp_ansatze import make_pnp_ansatz\n",
    "from cost_functions import global_cost_function, local_cost_function\n",
    "from sequential_minimizer import SequentialVCMinimizer\n",
    "from rttgen import CNOTBasedRtt\n",
    "from cx_decomposition import cx_circuit\n",
    "from model_circuits import single_step, two_steps"
   ]
  },
  {
   "cell_type": "code",
   "execution_count": 2,
   "id": "337226e9-205e-4fad-b899-3a34735061d0",
   "metadata": {},
   "outputs": [],
   "source": [
    "num_sites = 4\n",
    "aJ = 1.\n",
    "am = 0.5\n",
    "omegadt = 0.2\n",
    "# aJ = 0.7\n",
    "# am = 0.439\n",
    "# omegadt = 0.167\n",
    "num_tstep = 6\n",
    "\n",
    "backend = Aer.get_backend('statevector_simulator')\n",
    "physical_qubits = None"
   ]
  },
  {
   "cell_type": "code",
   "execution_count": 3,
   "id": "25ff0a57-c83a-4faa-95c7-1e208338aeec",
   "metadata": {},
   "outputs": [],
   "source": [
    "def make_compiler_circuit():\n",
    "    qubit_pairs = list(zip(range(0, num_sites - 1), range(1, num_sites)))\n",
    "\n",
    "    rtts = dict((qubits, CNOTBasedRtt(backend, qubits)) for qubits in qubit_pairs)\n",
    "    cxs = dict((qubits, cx_circuit(backend, *qubits)) for qubits in qubit_pairs)\n",
    "    cxs.update((qubits[::-1], cx_circuit(backend, *qubits[::-1])) for qubits in qubit_pairs)\n",
    "\n",
    "    two_step_circuit = two_steps(num_sites, aJ, am, omegadt, rtts=rtts, cxs=cxs)\n",
    "\n",
    "    target_circuit = QuantumCircuit(num_sites)\n",
    "    target_circuit.x([0, 2])\n",
    "    target_circuit.compose(two_step_circuit, inplace=True)\n",
    "\n",
    "    uncomputer = make_pnp_ansatz(num_qubits=num_sites, num_layers=num_sites // 2, initial_x_positions=[1, 2], structure=[(1, 2), (0, 1), (2, 3)], first_layer_structure=[(0, 1), (2, 3)]).inverse()\n",
    "\n",
    "    return target_circuit.compose(uncomputer)"
   ]
  },
  {
   "cell_type": "code",
   "execution_count": 4,
   "id": "612f1071-b6ab-48d2-af5b-7a916cd388aa",
   "metadata": {},
   "outputs": [],
   "source": [
    "def make_minimizer(compiler_circuit, cost_function, strategy):\n",
    "    minimizer = SequentialVCMinimizer(compiler_circuit, cost_function, backend, strategy=strategy, shots=4096, default_section=FitGeneral)\n",
    "    minimizer.cost_section_generators[0] = FitSecond\n",
    "    minimizer.cost_section_generators[1] = FitFirst\n",
    "    minimizer.cost_section_generators[2] = FitSecond\n",
    "    minimizer.cost_section_generators[3] = FitFirst\n",
    "    minimizer.cost_section_generators[5] = FitFirst\n",
    "    \n",
    "    return minimizer"
   ]
  },
  {
   "cell_type": "code",
   "execution_count": 5,
   "id": "618e9fcd-778d-40c2-ae3b-55c81c897b5a",
   "metadata": {},
   "outputs": [],
   "source": [
    "def callback_step(minimizer, arg):\n",
    "    print('isweep', arg['isweep'], 'iparam', arg['iparam'], 'cost', arg['cost_section'].fun(arg['theta_opt']), 'total shots', arg['current_shots'] + arg['step_shots'])\n",
    "    \n",
    "def callback_sweep(minimizer, arg):\n",
    "    print('isweep', arg['isweep'], 'update distance', np.max(np.abs(arg['current_param_val'] - arg['sweep_param_val'])), 'cost', arg['sweep_cost'], 'cost update', arg['sweep_cost'] - arg['current_cost'], 'total shots', arg['current_shots'] + arg['sweep_shots'])\n",
    "    print('params [' + ', '.join(map(str, arg['sweep_param_val'])) + ']')\n",
    "    \n",
    "def switch_to_gradient_descent(minimizer, arg):\n",
    "    print('Switching to gradient descent at cost', arg['sweep_cost'])\n",
    "    minimizer.strategy = 'gradient-descent'\n",
    "    if SequentialVCMinimizer.ideal_cost_step in minimizer.callbacks_step:\n",
    "        minimizer.callbacks_step.remove(SequentialVCMinimizer.ideal_cost_step)\n",
    "    if SequentialVCMinimizer.ideal_cost_sweep not in minimizer.callbacks_sweep:\n",
    "        minimizer.callbacks_sweep.append(SequentialVCMinimizer.ideal_cost_sweep)\n",
    "        \n",
    "def switch_to_gradient_descent_by_absolute_cost(minimizer, arg):\n",
    "    if minimizer.strategy != 'gradient-descent' and arg['sweep_cost'] < 0.02:\n",
    "        switch_to_gradient_descent(minimizer, arg)\n",
    "\n",
    "def switch_to_gradient_descent_by_cost_update(minimizer, arg):\n",
    "    cost_update = arg['sweep_cost'] - arg['current_cost']\n",
    "    if minimizer.strategy != 'gradient-descent' and cost_update < 0. and cost_update > -0.1:\n",
    "        switch_to_gradient_descent(minimizer, arg)\n",
    "        \n",
    "class SwitchToSymmetric:\n",
    "    def __init__(self, threshold, param_ids):\n",
    "        self.threshold = threshold\n",
    "        self.param_ids = list(param_ids)\n",
    "        self.section_gen_switched = False\n",
    "        \n",
    "    def callback(self, minimizer, arg):\n",
    "        if self.section_gen_switched:\n",
    "            return\n",
    "        \n",
    "        if arg['sweep_cost'] < self.threshold:\n",
    "            for iparam in self.param_ids:\n",
    "                minimizer.cost_section_generators[iparam] = FitSymmetric\n",
    "                \n",
    "            self.section_gen_switched = True"
   ]
  },
  {
   "cell_type": "code",
   "execution_count": 6,
   "id": "b3316317-c50c-4fae-8762-213ee81423e8",
   "metadata": {},
   "outputs": [],
   "source": [
    "import multiprocessing\n",
    "\n",
    "def run_minimizer(cost_type, strategy, queue):\n",
    "    if cost_type == 'local':\n",
    "        cost_function = local_cost_function\n",
    "    else:\n",
    "        cost_function = global_cost_function\n",
    "        \n",
    "    switch_to_symmetric = SwitchToSymmetric(0.015, [4, 6, 7, 8, 9])\n",
    "        \n",
    "    compiler_circuit = make_compiler_circuit()\n",
    "    \n",
    "    minimizer = make_minimizer(compiler_circuit, cost_function, strategy.replace('_gradient-descent', ''))\n",
    "    \n",
    "    if 'sequential' in strategy:\n",
    "        minimizer.callbacks_step.append(SequentialVCMinimizer.ideal_cost_step)\n",
    "    else:\n",
    "        minimizer.callbacks_sweep.append(SequentialVCMinimizer.ideal_cost_sweep)\n",
    "        \n",
    "    if '_gradient-descent' in strategy:\n",
    "        minimizer.callbacks_sweep.append(switch_to_gradient_descent_by_cost_update)\n",
    "    \n",
    "    minimizer.callbacks_sweep.append(switch_to_symmetric.callback)\n",
    "    \n",
    "    initial_param_val = np.ones(len(compiler_circuit.parameters), dtype='f8') * np.pi / 4.\n",
    "    param_val, total_shots = minimizer.minimize(initial_param_val)\n",
    "    \n",
    "    if 'sequential' in strategy:\n",
    "        shots_values = np.array(minimizer.shots_step)\n",
    "        cost_values = np.array(minimizer.ideal_costs_step)\n",
    "        if strategy == 'sequential_gradient-descent':\n",
    "            shots_values = np.concatenate((shots_values, minimizer.shots_sweep))\n",
    "            cost_values = np.concatenate((cost_values, minimizer.ideal_costs_sweep))\n",
    "    else:\n",
    "        shots_values = np.array(minimizer.shots_sweep)\n",
    "        cost_values = np.array(minimizer.ideal_costs_sweep)\n",
    "    \n",
    "    queue.put((cost_type, strategy, param_val, shots_values, cost_values))\n",
    "    \n",
    "def driver():\n",
    "    procs = dict()\n",
    "    queue = multiprocessing.Queue()\n",
    "    for cost_type in ['local', 'global']:\n",
    "        for strategy in ['sequential', 'sequential_gradient-descent', 'largest-drop', 'largest-drop_gradient-descent']:\n",
    "            proc = multiprocessing.Process(target=run_minimizer, args=(cost_type, strategy, queue))\n",
    "            proc.start()\n",
    "            procs[(cost_type, strategy)] = proc\n",
    "            \n",
    "    results = dict()\n",
    "        \n",
    "    while len(procs) != 0:\n",
    "        cost_type, strategy, param_val, shots_values, cost_values = queue.get()\n",
    "        print('{} {} returned'.format(cost_type, strategy))\n",
    "        procs.pop((cost_type, strategy)).join()\n",
    "        results[(cost_type, strategy)] = (param_val, shots_values, cost_values)\n",
    "        \n",
    "    return results    "
   ]
  },
  {
   "cell_type": "code",
   "execution_count": 7,
   "id": "daed0f3d-b29a-4567-ae9a-eb6c85a45ab4",
   "metadata": {},
   "outputs": [
    {
     "name": "stdout",
     "output_type": "stream",
     "text": [
      "Switching to gradient descent at cost 0.0036746528487660024\n",
      "Switching to gradient descent at cost 0.00026555025728070003\n",
      "Switching to gradient descent at cost 0.129311880336609\n",
      "SMO converged by cost update\n",
      "global sequential_gradient-descent returned\n",
      "SMO converged by cost update\n",
      "global sequential returned\n",
      "Switching to gradient descent at cost 0.051398373048535784\n"
     ]
    },
    {
     "name": "stderr",
     "output_type": "stream",
     "text": [
      "/usr/local/lib/python3.8/dist-packages/scipy/optimize/optimize.py:1058: RuntimeWarning: divide by zero encountered in double_scalars\n",
      "  rhok = 1.0 / (numpy.dot(yk, sk))\n"
     ]
    },
    {
     "name": "stdout",
     "output_type": "stream",
     "text": [
      "SMO converged by cost update\n",
      "local sequential_gradient-descent returned\n"
     ]
    },
    {
     "name": "stderr",
     "output_type": "stream",
     "text": [
      "/usr/local/lib/python3.8/dist-packages/scipy/optimize/optimize.py:1058: RuntimeWarning: divide by zero encountered in double_scalars\n",
      "  rhok = 1.0 / (numpy.dot(yk, sk))\n"
     ]
    },
    {
     "name": "stdout",
     "output_type": "stream",
     "text": [
      "SMO converged by cost update\n",
      "local sequential returned\n",
      "SMO converged by cost update\n",
      "local largest-drop returned\n",
      "SMO converged by cost update\n",
      "global largest-drop_gradient-descent returned\n"
     ]
    },
    {
     "name": "stderr",
     "output_type": "stream",
     "text": [
      "/usr/local/lib/python3.8/dist-packages/scipy/optimize/optimize.py:1058: RuntimeWarning: divide by zero encountered in double_scalars\n",
      "  rhok = 1.0 / (numpy.dot(yk, sk))\n"
     ]
    },
    {
     "name": "stdout",
     "output_type": "stream",
     "text": [
      "SMO converged by cost update\n",
      "local largest-drop_gradient-descent returned\n",
      "SMO converged by parameter distance\n",
      "global largest-drop returned\n"
     ]
    }
   ],
   "source": [
    "results = driver()"
   ]
  },
  {
   "cell_type": "markdown",
   "id": "c04a2767-d075-4098-9a6a-54553ece1b22",
   "metadata": {},
   "source": [
    "## Strategy comparison"
   ]
  },
  {
   "cell_type": "code",
   "execution_count": 8,
   "id": "d50bb31f-b070-4c1a-b985-bb5a109e856c",
   "metadata": {},
   "outputs": [
    {
     "data": {
      "image/png": "[encoded data removed]",
      "text/plain": [
       "<Figure size 432x288 with 1 Axes>"
      ]
     },
     "metadata": {
      "needs_background": "light"
     },
     "output_type": "display_data"
    }
   ],
   "source": [
    "res = results[('local', 'sequential')]\n",
    "plt.plot(res[1], res[2], label='local seq')\n",
    "res = results[('local', 'largest-drop')]\n",
    "plt.plot(res[1], res[2], label='local ld')\n",
    "res = results[('local', 'sequential_gradient-descent')]\n",
    "plt.plot(res[1], res[2], label='local seq_gd')\n",
    "res = results[('local', 'largest-drop_gradient-descent')]\n",
    "plt.plot(res[1], res[2], label='local ld_gd')\n",
    "res = results[('global', 'sequential')]\n",
    "plt.plot(res[1], res[2], label='global seq')\n",
    "res = results[('global', 'largest-drop')]\n",
    "plt.plot(res[1], res[2], label='global ld')\n",
    "res = results[('global', 'sequential_gradient-descent')]\n",
    "plt.plot(res[1], res[2], label='global seq_gd')\n",
    "res = results[('global', 'largest-drop_gradient-descent')]\n",
    "plt.plot(res[1], res[2], label='global ld_gd')\n",
    "plt.yscale('log')\n",
    "plt.legend()\n",
    "plt.title('Two steps');"
   ]
  },
  {
   "cell_type": "markdown",
   "id": "9035fc55-845f-465c-b6fe-63345a65e757",
   "metadata": {},
   "source": [
    "## Result validation\n",
    "\n",
    "Largest-drop with local cost function converged the fastest for two Trotter steps. Are the resulting parameter values good enough? Check with RQD."
   ]
  },
  {
   "cell_type": "code",
   "execution_count": 10,
   "id": "13ddfa7d-92af-4ac0-9003-62d4a4356e97",
   "metadata": {},
   "outputs": [
    {
     "name": "stdout",
     "output_type": "stream",
     "text": [
      "0.9991256652408679\n"
     ]
    }
   ],
   "source": [
    "qubit_pairs = list(zip(range(0, num_sites - 1), range(1, num_sites)))\n",
    "\n",
    "rtts = dict((qubits, CNOTBasedRtt(backend, qubits)) for qubits in qubit_pairs)\n",
    "cxs = dict((qubits, cx_circuit(backend, *qubits)) for qubits in qubit_pairs)\n",
    "cxs.update((qubits[::-1], cx_circuit(backend, *qubits[::-1])) for qubits in qubit_pairs)\n",
    "two_step_circuit = two_steps(num_sites, aJ, am, omegadt, rtts=rtts, cxs=cxs)\n",
    "\n",
    "forward_circuit = make_pnp_ansatz(num_qubits=num_sites, num_layers=num_sites // 2, initial_x_positions=[1, 2], structure=[(1, 2), (0, 1), (2, 3)], first_layer_structure=[(0, 1), (2, 3)])\n",
    "forward_circuit.compose(two_step_circuit, inplace=True)\n",
    "\n",
    "param_dict = dict(zip(forward_circuit.parameters, results[('local', 'largest-drop')][0]))\n",
    "approx_statevector = backend.run(transpile(forward_circuit.assign_parameters(param_dict), backend=backend)).result().results[0].data.statevector\n",
    "\n",
    "true_circuit = QuantumCircuit(num_sites)\n",
    "true_circuit.x([0, 2])\n",
    "true_circuit.compose(two_step_circuit, inplace=True)\n",
    "true_circuit.compose(two_step_circuit, inplace=True)\n",
    "\n",
    "true_statevector = backend.run(transpile(true_circuit, backend=backend)).result().results[0].data.statevector\n",
    "\n",
    "print(np.square(np.abs(approx_statevector.conjugate() @ true_statevector)))"
   ]
  },
  {
   "cell_type": "code",
   "execution_count": 11,
   "id": "35ff6367-7a96-435e-a70e-fceed8a0775a",
   "metadata": {},
   "outputs": [
    {
     "name": "stdout",
     "output_type": "stream",
     "text": [
      "[5.88840611 0.76283482 1.53601305 0.0330668  1.22698455 2.32726878\n",
      " 0.78539816 0.93775626 1.1851489  1.07022145]\n"
     ]
    }
   ],
   "source": [
    "print(results[('local', 'largest-drop')][0])"
   ]
  },
  {
   "cell_type": "code",
   "execution_count": null,
   "id": "0c8302a8-5361-4368-bd7c-b23530dfc38a",
   "metadata": {},
   "outputs": [],
   "source": []
  }
 ],
 "metadata": {
  "kernelspec": {
   "display_name": "Python 3 (ipykernel)",
   "language": "python",
   "name": "python3"
  },
  "language_info": {
   "codemirror_mode": {
    "name": "ipython",
    "version": 3
   },
   "file_extension": ".py",
   "mimetype": "text/x-python",
   "name": "python",
   "nbconvert_exporter": "python",
   "pygments_lexer": "ipython3",
   "version": "3.8.10"
  }
 },
 "nbformat": 4,
 "nbformat_minor": 5
}

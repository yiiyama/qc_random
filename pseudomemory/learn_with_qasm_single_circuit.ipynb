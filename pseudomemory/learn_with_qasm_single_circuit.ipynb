{
 "cells": [
  {
   "cell_type": "code",
   "execution_count": 1,
   "metadata": {},
   "outputs": [],
   "source": [
    "from qiskit import Aer\n",
    "from qiskit.circuit import QuantumCircuit, ParameterVector\n",
    "from qiskit.execute import execute as qexecute\n",
    "import pennylane as qml\n",
    "import pennylane.numpy as np"
   ]
  },
  {
   "cell_type": "code",
   "execution_count": 2,
   "metadata": {},
   "outputs": [],
   "source": [
    "qasm_simulator = Aer.get_backend('qasm_simulator')"
   ]
  },
  {
   "cell_type": "markdown",
   "metadata": {},
   "source": [
    "## Target circuit: Trotter simulation of n-qubit 1D transverse Ising model"
   ]
  },
  {
   "cell_type": "code",
   "execution_count": 3,
   "metadata": {},
   "outputs": [],
   "source": [
    "def make_target(num_qubits, h, dt, num_steps):\n",
    "    circuit = QuantumCircuit(num_qubits)\n",
    "    \n",
    "    for step in range(num_steps):\n",
    "        for iq in range(num_qubits):\n",
    "            circuit.cx(iq, (iq + 1) % num_qubits)\n",
    "            circuit.rz(-2. * dt, (iq + 1) % num_qubits)\n",
    "            circuit.cx(iq, (iq + 1) % num_qubits)\n",
    "            circuit.rx(2. * dt * h, (iq + 1) % num_qubits)\n",
    "            \n",
    "    return circuit"
   ]
  },
  {
   "cell_type": "markdown",
   "metadata": {},
   "source": [
    "## Ansatz: Rx-Rz-CZ"
   ]
  },
  {
   "cell_type": "code",
   "execution_count": 4,
   "metadata": {},
   "outputs": [],
   "source": [
    "def make_ansatz(num_qubits, num_blocks):\n",
    "    circuit = QuantumCircuit(num_qubits)\n",
    "    params = ParameterVector('theta')\n",
    "\n",
    "    ip = 0\n",
    "    for ib in range(num_blocks):\n",
    "        params.resize(len(params) + num_qubits)\n",
    "        for iq in range(num_qubits):\n",
    "            circuit.rx(params[-num_qubits + iq], iq)\n",
    "            \n",
    "        # possibly this block can be under the if statement below\n",
    "        params.resize(len(params) + num_qubits)\n",
    "        for iq in range(num_qubits):\n",
    "            circuit.rz(params[-num_qubits + iq], iq)\n",
    "\n",
    "        if ib != num_blocks - 1:\n",
    "            for iq in range(num_qubits - 1):\n",
    "                circuit.cz(iq, iq + 1)\n",
    "        \n",
    "    return circuit, params"
   ]
  },
  {
   "cell_type": "markdown",
   "metadata": {},
   "source": [
    "## Gradient computation for all parameters with a single circuit"
   ]
  },
  {
   "cell_type": "code",
   "execution_count": 5,
   "metadata": {},
   "outputs": [],
   "source": [
    "def gradient(circuit, params, values, backend, backend_options=None, shots=8192):\n",
    "    # Circuit width = original width x (#params x 2)\n",
    "    grad_circuit = QuantumCircuit(circuit.num_qubits * len(params) * 2)\n",
    "\n",
    "    # Make a sub-circuit for each parameter for each shift direction\n",
    "    for ip, parameter in enumerate(params):\n",
    "        for it, shift in enumerate([np.pi / 2., -np.pi / 2.]):\n",
    "            qc = circuit.copy()\n",
    "            param_map = dict(zip(params, values))\n",
    "            param_map[parameter] += shift\n",
    "            qc.assign_parameters(param_map, inplace=True)\n",
    "            \n",
    "            # Compose the sub-circuit into grad_circuit\n",
    "            qlow = circuit.num_qubits * (2 * ip + it)\n",
    "            qhigh = qlow + circuit.num_qubits\n",
    "            grad_circuit.compose(qc, qubits=list(range(qlow, qhigh)), inplace=True)\n",
    "            \n",
    "    grad_circuit.measure_all()\n",
    "\n",
    "    # Do the measurement\n",
    "    if backend.provider() is Aer:\n",
    "        # This is a simulator; do all shots at once\n",
    "        job = qexecute(grad_circuit, backend, backend_options=backend_options, shots=shots)\n",
    "        counts = job.result().get_counts(grad_circuit)\n",
    "    else:\n",
    "        # Running on IBMQ; need to split jobs into chunks of 8192 shots\n",
    "        ishot = 0\n",
    "        counts = dict()\n",
    "        while ishot <= shots:\n",
    "            sh = min(8192, shots - ishot)\n",
    "            job = qexecute(grad_circuit, backend, backend_options=backend_options, shots=sh)\n",
    "            counts.update(job.result().get_counts(grad_circuit))\n",
    "            ishot += sh\n",
    "    \n",
    "    # Compute the gradients\n",
    "    gradient = np.empty_like(values)\n",
    "\n",
    "    mask = (1 << circuit.num_qubits) - 1\n",
    "    for ip in range(len(params)):\n",
    "        upmask = mask << (circuit.num_qubits * 2 * ip)\n",
    "        downmask = mask << (circuit.num_qubits * (2 * ip + 1))\n",
    "        \n",
    "        for key, value in counts.items():\n",
    "            if int(key, 2) & upmask == 0:\n",
    "                gradient[ip] += value\n",
    "            if int(key, 2) & downmask == 0:\n",
    "                gradient[ip] -= value\n",
    "               \n",
    "        # dL/dp = 0.5 * (P(p + pi/2) - P(p - pi/2))\n",
    "        gradient[ip] *= 0.5 / shots\n",
    "        \n",
    "    return -gradient # sign for cost being -prob"
   ]
  },
  {
   "cell_type": "markdown",
   "metadata": {},
   "source": [
    "## Set up the problem and ansatz parameters"
   ]
  },
  {
   "cell_type": "code",
   "execution_count": 6,
   "metadata": {},
   "outputs": [],
   "source": [
    "num_qubits = 2 # size of the 1D Ising model  \n",
    "h = 3.\n",
    "dt = 0.01 \n",
    "num_steps = 2\n",
    "num_blocks = 2\n",
    "\n",
    "learning_iterations = 100"
   ]
  },
  {
   "cell_type": "markdown",
   "metadata": {},
   "source": [
    "## Define the quantum circuits"
   ]
  },
  {
   "cell_type": "code",
   "execution_count": 7,
   "metadata": {},
   "outputs": [],
   "source": [
    "target = make_target(num_qubits, h, dt, num_steps)\n",
    "ansatz, params = make_ansatz(num_qubits, num_blocks)\n",
    "circuit = target + ansatz"
   ]
  },
  {
   "cell_type": "markdown",
   "metadata": {},
   "source": [
    "## Optimize"
   ]
  },
  {
   "cell_type": "code",
   "execution_count": 8,
   "metadata": {},
   "outputs": [
    {
     "name": "stdout",
     "output_type": "stream",
     "text": [
      "iteration 0 grad [ 0.05505371  0.05657959 -0.21936035 -0.22174072  0.02709961  0.02478027\n",
      "  0.0022583  -0.00665283]\n",
      "iteration 10 grad [ 0.18934433  0.19672938 -0.18409262 -0.18744954  0.1474764   0.14704965\n",
      " -0.00121251  0.00316728]\n",
      "iteration 20 grad [ 0.22476828  0.22385219 -0.03615156 -0.02717929  0.12053036  0.10655517\n",
      "  0.00550275 -0.00232832]\n",
      "iteration 30 grad [-0.02398173 -0.01745188 -0.00020643  0.00125876 -0.12638854 -0.13535951\n",
      "  0.00159934  0.00023425]\n",
      "iteration 40 grad [-0.07115094 -0.07084616 -0.00545729 -0.00228293 -0.04271865 -0.02422673\n",
      " -0.00023074 -0.00019346]\n",
      "iteration 50 grad [-0.01945873 -0.02318146  0.00302573  0.00345364  0.049553    0.05821972\n",
      " -0.00078133 -0.00086512]\n",
      "iteration 60 grad [ 7.51358247e-03  4.15717499e-03 -8.73000854e-05 -2.69661075e-04\n",
      "  7.31287968e-04 -5.55417703e-03  1.06525879e-05 -7.16924962e-05]\n",
      "iteration 70 grad [ 0.0132501   0.01587435  0.00070608  0.00058479 -0.01696427 -0.01745265\n",
      " -0.00023403  0.0002334 ]\n",
      "iteration 80 grad [-5.30294574e-03  3.66854338e-03 -1.48412223e-04 -2.08664593e-04\n",
      "  4.82145629e-03  7.99491372e-03  9.53239929e-06 -1.93986394e-04]\n",
      "iteration 90 grad [-1.18937971e-02 -6.70608198e-03  9.57245103e-05 -2.55616873e-05\n",
      "  5.73635063e-03  1.15950036e-03 -1.12907193e-04 -7.21639277e-05]\n"
     ]
    }
   ],
   "source": [
    "theta = np.ones(len(params), dtype=float)\n",
    "\n",
    "optimizer = qml.AdamOptimizer(stepsize=0.1, beta1=0.9, beta2=0.999, eps=1.e-8)\n",
    "\n",
    "for it in range(learning_iterations):\n",
    "    grad = gradient(circuit, params, theta, qasm_simulator, backend_options={'method': 'matrix_product_state', 'max_memory_mb': 50000})\n",
    "    if it % 10 == 0:\n",
    "        print('iteration', it, 'grad', grad)\n",
    "    theta = optimizer.apply_grad(grad, theta)\n",
    "\n",
    "theta_optim_qasm = np.array(theta)"
   ]
  },
  {
   "cell_type": "markdown",
   "metadata": {},
   "source": [
    "## Optimization cross-check using Pennylane"
   ]
  },
  {
   "cell_type": "code",
   "execution_count": 9,
   "metadata": {},
   "outputs": [],
   "source": [
    "qmldev = qml.device('default.qubit', wires=num_qubits)\n",
    "\n",
    "wires = list(range(num_qubits))\n",
    "qml_circuit = qml.from_qiskit(circuit)\n",
    "\n",
    "@qml.qnode(qmldev)\n",
    "def qnode(theta):\n",
    "    parameter_binding = dict(zip(params, theta))\n",
    "    qml_circuit(parameter_binding, wires=wires)\n",
    "\n",
    "    return qml.probs(wires=wires)\n",
    "\n",
    "def cost(theta):\n",
    "    return -qnode(theta)[0]"
   ]
  },
  {
   "cell_type": "code",
   "execution_count": 10,
   "metadata": {},
   "outputs": [
    {
     "name": "stdout",
     "output_type": "stream",
     "text": [
      "iteration 0 grad [ 0.05675113  0.05703323 -0.22047061 -0.2205702   0.02598069  0.02660586\n",
      "  0.          0.        ]\n",
      "iteration 10 grad [ 0.18859173  0.18888276 -0.18434802 -0.18488318  0.13671924  0.13814266\n",
      "  0.          0.        ]\n",
      "iteration 20 grad [ 2.26196753e-01  2.27321671e-01 -3.55372445e-02 -3.68728036e-02\n",
      "  1.14680146e-01  1.18633958e-01  0.00000000e+00  5.55111512e-17]\n",
      "iteration 30 grad [-1.46582422e-02 -1.40231197e-02  2.51313966e-03  2.58450074e-03\n",
      " -1.26661311e-01 -1.25279033e-01  1.11022302e-16 -1.11022302e-16]\n",
      "iteration 40 grad [-7.36730619e-02 -7.44469142e-02 -4.01667930e-03 -4.79520328e-03\n",
      " -3.81715104e-02 -4.24442947e-02 -1.11022302e-16  0.00000000e+00]\n",
      "iteration 50 grad [-0.02260427 -0.02278482  0.00412005  0.00400188  0.05982121  0.05929655\n",
      "  0.          0.        ]\n",
      "iteration 60 grad [6.85456707e-03 7.35129112e-03 2.39020771e-05 6.62242113e-07\n",
      " 4.61884881e-04 3.36425749e-03 0.00000000e+00 0.00000000e+00]\n",
      "iteration 70 grad [ 1.06463840e-02  1.03077329e-02  7.16228904e-04  7.57894513e-04\n",
      " -2.22728629e-02 -2.31480497e-02  0.00000000e+00  1.11022302e-16]\n",
      "iteration 80 grad [ 4.34941245e-03  4.21786353e-03 -4.33322554e-05 -2.93802188e-05\n",
      "  8.52044895e-03  7.47040849e-03  0.00000000e+00  0.00000000e+00]\n",
      "iteration 90 grad [-5.07967786e-03 -4.70651092e-03  2.75497577e-05  2.39683296e-05\n",
      "  2.88129254e-03  3.91215866e-03 -1.11022302e-16  0.00000000e+00]\n"
     ]
    }
   ],
   "source": [
    "losses = np.empty(learning_iterations, dtype=np.float)\n",
    "theta = np.ones(len(params), dtype=np.float)\n",
    "\n",
    "optimizer = qml.AdamOptimizer(stepsize=0.1, beta1=0.9, beta2=0.999, eps=1.e-8)\n",
    "\n",
    "for it in range(learning_iterations):\n",
    "    # Compute the loss to just keep track - not necessary for gradient computation (unlike when using torch)\n",
    "    losses[it] = cost(theta)\n",
    "\n",
    "    # compute_grad() + apply_grad() is identical to step()\n",
    "    g = optimizer.compute_grad(cost, theta)\n",
    "    if it % 10 == 0:\n",
    "        print('iteration', it, 'grad', g)\n",
    "    theta = optimizer.apply_grad(g, theta)\n",
    "    \n",
    "theta_optim_pennylane = np.array(theta)"
   ]
  },
  {
   "cell_type": "code",
   "execution_count": 11,
   "metadata": {},
   "outputs": [
    {
     "name": "stdout",
     "output_type": "stream",
     "text": [
      "[-0.12038654 -0.12448409  1.43175375  1.41892455 -0.01455626 -0.0097026\n",
      "  0.85606988  1.18758402]\n",
      "[-0.12370448 -0.12354329  1.42673055  1.4289636  -0.00989293 -0.01271578\n",
      "  1.          1.        ]\n"
     ]
    }
   ],
   "source": [
    "print(theta_optim_qasm)\n",
    "print(theta_optim_pennylane)"
   ]
  },
  {
   "cell_type": "code",
   "execution_count": 12,
   "metadata": {},
   "outputs": [
    {
     "data": {
      "text/plain": [
       "[<matplotlib.lines.Line2D at 0x7fc2a00abd90>]"
      ]
     },
     "execution_count": 12,
     "metadata": {},
     "output_type": "execute_result"
    },
    {
     "data": {
      "image/png": "[encoded data removed]",
      "text/plain": [
       "<Figure size 432x288 with 1 Axes>"
      ]
     },
     "metadata": {
      "needs_background": "light"
     },
     "output_type": "display_data"
    }
   ],
   "source": [
    "import matplotlib.pyplot as plt\n",
    "plt.plot(np.arange(learning_iterations), losses)"
   ]
  },
  {
   "cell_type": "code",
   "execution_count": null,
   "metadata": {},
   "outputs": [],
   "source": []
  }
 ],
 "metadata": {
  "kernelspec": {
   "display_name": "Python 3 (ipykernel)",
   "language": "python",
   "name": "python3"
  },
  "language_info": {
   "codemirror_mode": {
    "name": "ipython",
    "version": 3
   },
   "file_extension": ".py",
   "mimetype": "text/x-python",
   "name": "python",
   "nbconvert_exporter": "python",
   "pygments_lexer": "ipython3",
   "version": "3.8.10"
  }
 },
 "nbformat": 4,
 "nbformat_minor": 4
}

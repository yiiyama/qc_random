{
 "cells": [
  {
   "cell_type": "code",
   "execution_count": 1,
   "id": "7baab780-79b6-4ad2-92b2-6d1c47da47a0",
   "metadata": {},
   "outputs": [
    {
     "data": {
      "text/plain": [
       "<AccountProvider for IBMQ(hub='ibm-q', group='open', project='main')>"
      ]
     },
     "execution_count": 1,
     "metadata": {},
     "output_type": "execute_result"
    }
   ],
   "source": [
    "import numpy as np\n",
    "import scipy\n",
    "import matplotlib.pyplot as plt\n",
    "import pprint\n",
    "\n",
    "from qiskit import pulse, QuantumCircuit, QuantumRegister, ClassicalRegister, transpile, IBMQ\n",
    "from qiskit.circuit import Gate, Parameter\n",
    "from qiskit.circuit.barrier import Barrier\n",
    "from qiskit import schedule as build_schedule\n",
    "from qiskit.ignis.verification.tomography import process_tomography_circuits\n",
    "from qiskit.tools.monitor import job_monitor\n",
    "from qiskit.visualization.pulse_v2 import IQXDebugging\n",
    "\n",
    "from pulse_experiment_utils import *\n",
    "\n",
    "IBMQ.load_account()"
   ]
  },
  {
   "cell_type": "code",
   "execution_count": 2,
   "id": "571e8a13-824f-4010-887c-cd945b4bf8f8",
   "metadata": {},
   "outputs": [],
   "source": [
    "provider = IBMQ.get_provider(hub='ibm-q-utokyo', group='internal', project='icepp')\n",
    "backend = provider.get_backend('ibm_kawasaki')\n",
    "#backend = provider.get_backend('ibmq_guadalupe')\n",
    "#backend = provider.get_backend('ibmq_bogota')\n",
    "#backend = provider.get_backend('ibmq_toronto')"
   ]
  },
  {
   "cell_type": "code",
   "execution_count": 3,
   "id": "184139e5-c0f9-404d-8d37-e3885c9143ef",
   "metadata": {},
   "outputs": [],
   "source": [
    "status = backend.status()"
   ]
  },
  {
   "cell_type": "code",
   "execution_count": 3,
   "id": "fa45ced7-6623-4b99-98ac-758c2a0ea20d",
   "metadata": {},
   "outputs": [],
   "source": [
    "backend_config = backend.configuration()\n",
    "backend_defaults = backend.defaults()\n",
    "calibrations = backend_defaults.instruction_schedule_map"
   ]
  },
  {
   "cell_type": "code",
   "execution_count": 4,
   "id": "d9acca24-6619-425b-8fbd-c28fe9c82184",
   "metadata": {},
   "outputs": [
    {
     "data": {
      "image/png": "[encoded data removed]",
      "text/plain": [
       "<Figure size 936x118.8 with 1 Axes>"
      ]
     },
     "execution_count": 4,
     "metadata": {},
     "output_type": "execute_result"
    }
   ],
   "source": [
    "x_schedule = calibrations.get('x', [0])\n",
    "x_pulse = x_schedule.instructions[0][1].pulse\n",
    "sx_schedule = calibrations.get('sx', [0])\n",
    "sx_pulse = sx_schedule.instructions[0][1].pulse\n",
    "cx_schedule = calibrations.get('cx', (0, 1))\n",
    "sx_schedule.draw()"
   ]
  },
  {
   "cell_type": "code",
   "execution_count": 5,
   "id": "7fa4c66e-26c0-4e30-850e-b80901b44a0a",
   "metadata": {},
   "outputs": [
    {
     "name": "stdout",
     "output_type": "stream",
     "text": [
      "Drag(duration=160, amp=(0.18902066555725738+0j), sigma=40, beta=0.36798292191086207, name='Xp_d0')\n",
      "Drag(duration=160, amp=(0.09231687533466496+0.0022221600219800215j), sigma=40, beta=0.41371337026188004, name='X90p_d0')\n"
     ]
    }
   ],
   "source": [
    "print(x_pulse)\n",
    "print(sx_pulse)"
   ]
  },
  {
   "cell_type": "markdown",
   "id": "abca31d5-0d85-4870-816a-67f13a045224",
   "metadata": {},
   "source": [
    "# Experiment 1: Hadamard"
   ]
  },
  {
   "cell_type": "code",
   "execution_count": null,
   "id": "f47419a3-41e4-45cb-a253-caebad45619f",
   "metadata": {},
   "outputs": [],
   "source": [
    "circuit = QuantumCircuit(1)\n",
    "circuit.h(0)\n",
    "circuit.measure_all()\n",
    "circuit = transpile(circuit, backend=backend)\n",
    "circuit.draw('mpl', idle_wires=False)"
   ]
  },
  {
   "cell_type": "code",
   "execution_count": null,
   "id": "1fdcc2be-1120-40ce-8076-b86ff424dc95",
   "metadata": {},
   "outputs": [],
   "source": [
    "job = backend.run(circuit, shots=8192)\n",
    "job_monitor(job)\n",
    "result = job.result()\n",
    "print(result.get_counts())"
   ]
  },
  {
   "cell_type": "code",
   "execution_count": null,
   "id": "8fc23292-c944-4a15-ac4d-ea5634784e2e",
   "metadata": {},
   "outputs": [],
   "source": [
    "sxp = sx_schedule.instructions[0][1].pulse\n",
    "schedules = []\n",
    "scales = np.linspace(0., 2., 21)\n",
    "for scale in scales:\n",
    "    with pulse.build(backend=backend, default_alignment='sequential') as sched:\n",
    "        pulse.shift_phase(-np.pi / 2., pulse.drive_channel(0))\n",
    "        pulse.play(pulse.Drag(duration=sxp.duration, amp=(sxp.amp * scale), sigma=sxp.sigma, beta=sxp.beta), pulse.drive_channel(0))\n",
    "        pulse.shift_phase(-np.pi / 2., pulse.drive_channel(0))\n",
    "        pulse.measure(qubits=[0], registers=[pulse.MemorySlot(0)])\n",
    "        \n",
    "    schedules.append(sched)\n",
    "    \n",
    "sched.draw()"
   ]
  },
  {
   "cell_type": "code",
   "execution_count": null,
   "id": "3e7f6d99-0ddd-40c4-9d22-28a2552c9faa",
   "metadata": {},
   "outputs": [],
   "source": [
    "job = backend.run(schedules, meas_level=2, shots=8192)\n",
    "job_monitor(job)\n",
    "result = job.result()"
   ]
  },
  {
   "cell_type": "code",
   "execution_count": null,
   "id": "9db8099f-1991-4139-8387-097308269f31",
   "metadata": {},
   "outputs": [],
   "source": [
    "yvalues = plot_counts(result, ['0'], x=scales)"
   ]
  },
  {
   "cell_type": "code",
   "execution_count": null,
   "id": "fc19709f-a018-4469-a08a-2056a07dde22",
   "metadata": {},
   "outputs": [],
   "source": [
    "popt, _ = scipy.optimize.curve_fit(lambda x, omega, p, a, o: o + a * np.cos(x * omega + p), scales, yvalues, p0=[np.pi / 2., 0., 1., 0.5])\n",
    "print(popt)"
   ]
  },
  {
   "cell_type": "code",
   "execution_count": null,
   "id": "982e80b3-b511-4015-8415-ba1037f470b7",
   "metadata": {},
   "outputs": [],
   "source": [
    "omega, p, a, o = popt\n",
    "plt.scatter(scales, yvalues)\n",
    "plt.plot(scales, o + a * np.cos(scales * omega + p))\n",
    "plt.plot([0., 2.], [0.5, 0.5], 'b-')\n",
    "plt.plot([1., 1.], [0., 1.], 'b-')\n",
    "plt.plot([1.], [4531. / 8192.], 'ro')"
   ]
  },
  {
   "cell_type": "code",
   "execution_count": null,
   "id": "4d2d02c0-40ea-4495-a3e7-2c57601c172a",
   "metadata": {},
   "outputs": [],
   "source": [
    "pprint.pprint(build_schedule(circuit, backend=backend).instructions)"
   ]
  },
  {
   "cell_type": "code",
   "execution_count": null,
   "id": "16c0f18c-f5db-4cb7-856e-295bfe4ad308",
   "metadata": {},
   "outputs": [],
   "source": [
    "scales"
   ]
  },
  {
   "cell_type": "code",
   "execution_count": null,
   "id": "782b5ed7-379b-449e-90ec-88aa3f67fcf0",
   "metadata": {},
   "outputs": [],
   "source": [
    "sxp = sx_schedule.instructions[0][1].pulse\n",
    "schedules_sx = []\n",
    "scales = np.linspace(0., 2., 21)\n",
    "for scale in scales:\n",
    "    with pulse.build(backend=backend, default_alignment='sequential') as sched:\n",
    "        pulse.play(pulse.Drag(duration=sxp.duration, amp=(sxp.amp * scale), sigma=sxp.sigma, beta=sxp.beta), pulse.drive_channel(0))\n",
    "        pulse.shift_phase(-np.pi / 2., pulse.drive_channel(0))\n",
    "        pulse.measure(qubits=[0], registers=[pulse.MemorySlot(0)])\n",
    "        \n",
    "    schedules_sx.append(sched)"
   ]
  },
  {
   "cell_type": "code",
   "execution_count": null,
   "id": "8e66099f-b871-4402-94b0-1372a4a4e08c",
   "metadata": {},
   "outputs": [],
   "source": [
    "job = backend.run(schedules_sx, meas_level=2, shots=8192)\n",
    "job_monitor(job)\n",
    "result = job.result()"
   ]
  },
  {
   "cell_type": "code",
   "execution_count": null,
   "id": "f319dc4d-9ad4-4501-aec9-9d7f83df5fb1",
   "metadata": {},
   "outputs": [],
   "source": [
    "yvalues_sx = plot_counts(result, ['0'], x=scales)\n",
    "popt_sx, _ = scipy.optimize.curve_fit(lambda x, omega, p, a, o: o + a * np.cos(x * omega + p), scales, yvalues_sx, p0=[np.pi / 2., 0., 1., 0.5])\n",
    "print(popt_sx)"
   ]
  },
  {
   "cell_type": "code",
   "execution_count": null,
   "id": "7d1c7e94-3ed3-4968-b705-35c65661e15f",
   "metadata": {},
   "outputs": [],
   "source": [
    "omega_sx, p_sx, a_sx, o_sx = popt_sx\n",
    "plt.scatter(scales, yvalues)\n",
    "plt.plot(scales, o + a * np.cos(scales * omega + p))\n",
    "plt.scatter(scales, yvalues_sx)\n",
    "plt.plot(scales, o_sx + a_sx * np.cos(scales * omega_sx + p_sx))\n",
    "plt.plot([0., 2.], [0.5, 0.5], 'b-')\n",
    "plt.plot([1., 1.], [0., 1.], 'b-')\n",
    "plt.plot([1.], [4531. / 8192.], 'ro')"
   ]
  },
  {
   "cell_type": "markdown",
   "id": "26daaab2-844c-44f7-878a-5e3060108952",
   "metadata": {},
   "source": [
    "# Experiment 2: CNOT"
   ]
  },
  {
   "cell_type": "code",
   "execution_count": null,
   "id": "289873a5-d1f5-4df9-9f76-ac41748ca63a",
   "metadata": {},
   "outputs": [],
   "source": [
    "with pulse.build(backend=backend, default_alignment='sequential') as x_cx_sched:\n",
    "    pulse.play(x_pulse, pulse.drive_channel(0))\n",
    "    pulse.call(cx_schedule)\n",
    "    pulse.measure(qubits=[0, 1], registers=[pulse.MemorySlot(0), pulse.MemorySlot(1)])\n",
    "    \n",
    "x_cx_sched.draw()"
   ]
  },
  {
   "cell_type": "code",
   "execution_count": null,
   "id": "e781bc46-c8f2-465b-8046-d54698af779f",
   "metadata": {},
   "outputs": [],
   "source": [
    "with pulse.build(backend=backend, default_alignment='sequential') as h_cx_sched:\n",
    "    pulse.shift_phase(-np.pi / 2., pulse.drive_channel(0))\n",
    "    pulse.play(sxp, pulse.drive_channel(0))\n",
    "    pulse.shift_phase(-np.pi / 2., pulse.drive_channel(0))\n",
    "    pulse.call(cx_schedule)\n",
    "    pulse.measure(qubits=[0, 1], registers=[pulse.MemorySlot(0), pulse.MemorySlot(1)])\n",
    "    \n",
    "h_cx_sched.draw()"
   ]
  },
  {
   "cell_type": "code",
   "execution_count": null,
   "id": "20c9b052-5065-43fe-9098-88ffd0b7acf1",
   "metadata": {},
   "outputs": [],
   "source": [
    "job = backend.run([x_cx_sched, h_cx_sched], shots=8192)\n",
    "job_monitor(job)\n",
    "job.result().get_counts()"
   ]
  },
  {
   "cell_type": "markdown",
   "id": "522c125a-b9d7-4a34-b89b-c880dfd233ad",
   "metadata": {},
   "source": [
    "# Experiment 3: X with a phase shift"
   ]
  },
  {
   "cell_type": "code",
   "execution_count": 6,
   "id": "fc71d508-2bca-4bf7-b20a-ff37c1d70d75",
   "metadata": {},
   "outputs": [
    {
     "name": "stderr",
     "output_type": "stream",
     "text": [
      "/usr/local/lib/python3.8/dist-packages/qiskit/compiler/assembler.py:309: RuntimeWarning: Dynamic rep rates are supported on this backend. 'rep_delay' will be used instead of 'rep_time'.\n",
      "  warnings.warn(\"Dynamic rep rates are supported on this backend. 'rep_delay' will be \"\n"
     ]
    },
    {
     "name": "stdout",
     "output_type": "stream",
     "text": [
      "Job Status: job has successfully run\n"
     ]
    },
    {
     "data": {
      "text/plain": [
       "[{'0': 232, '1': 7960}, {'0': 216, '1': 7976}, {'0': 218, '1': 7974}]"
      ]
     },
     "execution_count": 6,
     "metadata": {},
     "output_type": "execute_result"
    }
   ],
   "source": [
    "x_schedules = []\n",
    "\n",
    "with pulse.build(backend=backend, default_alignment='sequential') as sched:\n",
    "    pulse.play(x_pulse, pulse.drive_channel(0))\n",
    "    pulse.measure(qubits=[0], registers=[pulse.MemorySlot(0)])\n",
    "    \n",
    "x_schedules.append(sched)\n",
    "\n",
    "with pulse.build(backend=backend, default_alignment='sequential') as sched:\n",
    "    pulse.shift_phase(-np.pi / 2., pulse.drive_channel(0))\n",
    "    pulse.play(x_pulse, pulse.drive_channel(0))\n",
    "    pulse.measure(qubits=[0], registers=[pulse.MemorySlot(0)])\n",
    "    \n",
    "x_schedules.append(sched)\n",
    "\n",
    "with pulse.build(backend=backend, default_alignment='sequential') as sched:\n",
    "    pulse.shift_phase(-np.pi, pulse.drive_channel(0))\n",
    "    pulse.play(x_pulse, pulse.drive_channel(0))\n",
    "    pulse.measure(qubits=[0], registers=[pulse.MemorySlot(0)])\n",
    "    \n",
    "x_schedules.append(sched)\n",
    "\n",
    "job = backend.run(x_schedules, meas_level=2, shots=8192)\n",
    "job_monitor(job)\n",
    "job.result().get_counts()"
   ]
  },
  {
   "cell_type": "markdown",
   "id": "939c6684-83e8-4789-bc4f-0ec534b1850a",
   "metadata": {},
   "source": [
    "# Experiment 4: Phase shift sweep of $\\sqrt{X}$"
   ]
  },
  {
   "cell_type": "code",
   "execution_count": 12,
   "id": "20c8e366-0c5a-454a-8567-8d5b79de6fc5",
   "metadata": {},
   "outputs": [
    {
     "name": "stdout",
     "output_type": "stream",
     "text": [
      "Job Status: job has successfully run\n"
     ]
    }
   ],
   "source": [
    "phases = np.linspace(-np.pi, np.pi, 21)\n",
    "\n",
    "sweep_schedules = []\n",
    "\n",
    "for phase in phases:\n",
    "    with pulse.build(backend=backend, default_alignment='sequential') as sched:\n",
    "        pulse.shift_phase(phase, pulse.drive_channel(0))\n",
    "        pulse.play(sx_pulse, pulse.drive_channel(0))\n",
    "        pulse.measure(qubits=[0], registers=[pulse.MemorySlot(0)])\n",
    "        \n",
    "    sweep_schedules.append(sched)\n",
    "    \n",
    "job = backend.run(sweep_schedules, meas_level=2, shots=4096)\n",
    "job_monitor(job)\n",
    "result = job.result()"
   ]
  },
  {
   "cell_type": "code",
   "execution_count": 13,
   "id": "2542d147-998d-4ec8-9f91-7e86637d87f0",
   "metadata": {},
   "outputs": [
    {
     "data": {
      "image/png": "[encoded data removed]",
      "text/plain": [
       "<Figure size 432x288 with 1 Axes>"
      ]
     },
     "metadata": {
      "needs_background": "light"
     },
     "output_type": "display_data"
    }
   ],
   "source": [
    "yvalues = plot_counts(result, ['0'], x=phases)"
   ]
  },
  {
   "cell_type": "code",
   "execution_count": null,
   "id": "7bcd9b07-543e-4665-a18a-974af287f29c",
   "metadata": {},
   "outputs": [],
   "source": [
    "plt.errorbar(phases, yvalues, yerr=np.sqrt(yvalues * (1. - yvalues)))"
   ]
  },
  {
   "cell_type": "code",
   "execution_count": 1,
   "id": "0fff39ce-fa17-4f76-a048-c697c6517307",
   "metadata": {},
   "outputs": [
    {
     "ename": "NameError",
     "evalue": "name 'backend' is not defined",
     "output_type": "error",
     "traceback": [
      "\u001b[0;31m---------------------------------------------------------------------------\u001b[0m",
      "\u001b[0;31mNameError\u001b[0m                                 Traceback (most recent call last)",
      "\u001b[0;32m<ipython-input-1-1b8738435448>\u001b[0m in \u001b[0;36m<module>\u001b[0;34m\u001b[0m\n\u001b[0;32m----> 1\u001b[0;31m \u001b[0mbackend\u001b[0m\u001b[0;34m\u001b[0m\u001b[0;34m\u001b[0m\u001b[0m\n\u001b[0m",
      "\u001b[0;31mNameError\u001b[0m: name 'backend' is not defined"
     ]
    }
   ],
   "source": [
    "backend"
   ]
  },
  {
   "cell_type": "code",
   "execution_count": null,
   "id": "af7ea53d-a872-461b-9a2e-5ba173077c60",
   "metadata": {},
   "outputs": [],
   "source": []
  }
 ],
 "metadata": {
  "kernelspec": {
   "display_name": "Python 3 (ipykernel)",
   "language": "python",
   "name": "python3"
  },
  "language_info": {
   "codemirror_mode": {
    "name": "ipython",
    "version": 3
   },
   "file_extension": ".py",
   "mimetype": "text/x-python",
   "name": "python",
   "nbconvert_exporter": "python",
   "pygments_lexer": "ipython3",
   "version": "3.8.10"
  }
 },
 "nbformat": 4,
 "nbformat_minor": 5
}

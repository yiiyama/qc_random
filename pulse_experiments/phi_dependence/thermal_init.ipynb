{
 "cells": [
  {
   "cell_type": "markdown",
   "id": "8cd3594d-1b20-47e2-8643-54ea9c1d6490",
   "metadata": {},
   "source": [
    "# Experiment: Study the phase dependence of SX varying the thermalization time\n",
    "\n",
    "Thomas Alexander on Slack hypothesizes that the phase dependence of the polar rotation angle of the SX gate comes from an imperfect qubit initialization.  \n",
    "A long thermalization time should ensure that the qubit starts at $|0\\rangle$."
   ]
  },
  {
   "cell_type": "code",
   "execution_count": 1,
   "id": "404c976a-d5c9-4bac-b18a-027c0a33f591",
   "metadata": {},
   "outputs": [
    {
     "data": {
      "text/plain": [
       "<AccountProvider for IBMQ(hub='ibm-q', group='open', project='main')>"
      ]
     },
     "execution_count": 1,
     "metadata": {},
     "output_type": "execute_result"
    }
   ],
   "source": [
    "import numpy as np\n",
    "import scipy\n",
    "import matplotlib.pyplot as plt\n",
    "import pprint\n",
    "\n",
    "from qiskit import pulse, QuantumCircuit, QuantumRegister, ClassicalRegister, transpile, IBMQ\n",
    "from qiskit.circuit import Gate, Parameter\n",
    "from qiskit.circuit.barrier import Barrier\n",
    "from qiskit import schedule as build_schedule\n",
    "from qiskit.ignis.verification.tomography import process_tomography_circuits\n",
    "from qiskit.tools.monitor import job_monitor\n",
    "from qiskit.visualization.pulse_v2 import IQXDebugging\n",
    "\n",
    "from pulse_experiment_utils import *\n",
    "\n",
    "IBMQ.load_account()"
   ]
  },
  {
   "cell_type": "code",
   "execution_count": 2,
   "id": "e796343b-2c39-40fd-b1f5-1067cf42a3b1",
   "metadata": {},
   "outputs": [],
   "source": [
    "provider = IBMQ.get_provider(hub='ibm-q-research', group='tokyo-1', project='main')\n",
    "backend = provider.get_backend('ibmq_santiago')\n",
    "test_qubit = 1 # From phi_dependence_survey\n",
    "\n",
    "config = backend.configuration()"
   ]
  },
  {
   "cell_type": "code",
   "execution_count": 3,
   "id": "890570e4-94b0-4d27-908b-1454044a7adb",
   "metadata": {},
   "outputs": [
    {
     "data": {
      "text/plain": [
       "True"
      ]
     },
     "execution_count": 3,
     "metadata": {},
     "output_type": "execute_result"
    }
   ],
   "source": [
    "config.dynamic_reprate_enabled"
   ]
  },
  {
   "cell_type": "code",
   "execution_count": 4,
   "id": "bf159a50-b749-4f00-8774-10a530137283",
   "metadata": {},
   "outputs": [
    {
     "name": "stdout",
     "output_type": "stream",
     "text": [
      "Rep delay: [0.0, 0.0005]\n",
      "Default delay: 0.00025\n"
     ]
    }
   ],
   "source": [
    "print('Rep delay:', config.rep_delay_range)\n",
    "print('Default delay:', config.default_rep_delay)"
   ]
  },
  {
   "cell_type": "markdown",
   "id": "9fb1d26c-6597-4be6-88e9-b172c66b2dd0",
   "metadata": {},
   "source": [
    "## First make sure that a long thermalization does indeed lead to the qubit starting at $|0\\rangle$"
   ]
  },
  {
   "cell_type": "code",
   "execution_count": 5,
   "id": "af556422-aa84-4461-85c4-e636ed331174",
   "metadata": {},
   "outputs": [
    {
     "name": "stdout",
     "output_type": "stream",
     "text": [
      "                                           \n",
      "ancilla_0 -> 0 ────────────────────────────\n",
      "                                        ┌─┐\n",
      "      q_0 -> 1 ─|0>──|0>──|0>──|0>──|0>─┤M├\n",
      "                                        └╥┘\n",
      "ancilla_1 -> 2 ──────────────────────────╫─\n",
      "                                         ║ \n",
      "ancilla_2 -> 3 ──────────────────────────╫─\n",
      "                                         ║ \n",
      "ancilla_3 -> 4 ──────────────────────────╫─\n",
      "                                         ║ \n",
      "          c: 1/══════════════════════════╩═\n",
      "                                         0 \n",
      "                       \n",
      "ancilla_0 -> 0 ────────\n",
      "               ┌───┐┌─┐\n",
      "      q_0 -> 1 ┤ X ├┤M├\n",
      "               └───┘└╥┘\n",
      "ancilla_1 -> 2 ──────╫─\n",
      "                     ║ \n",
      "ancilla_2 -> 3 ──────╫─\n",
      "                     ║ \n",
      "ancilla_3 -> 4 ──────╫─\n",
      "                     ║ \n",
      "          c: 1/══════╩═\n",
      "                     0 \n",
      "                  \n",
      "ancilla_0 -> 0 ───\n",
      "               ┌─┐\n",
      "      q_0 -> 1 ┤M├\n",
      "               └╥┘\n",
      "ancilla_1 -> 2 ─╫─\n",
      "                ║ \n",
      "ancilla_2 -> 3 ─╫─\n",
      "                ║ \n",
      "ancilla_3 -> 4 ─╫─\n",
      "                ║ \n",
      "          c: 1/═╩═\n",
      "                0 \n",
      "                       \n",
      "ancilla_0 -> 0 ────────\n",
      "               ┌───┐┌─┐\n",
      "      q_0 -> 1 ┤ X ├┤M├\n",
      "               └───┘└╥┘\n",
      "ancilla_1 -> 2 ──────╫─\n",
      "                     ║ \n",
      "ancilla_2 -> 3 ──────╫─\n",
      "                     ║ \n",
      "ancilla_3 -> 4 ──────╫─\n",
      "                     ║ \n",
      "          c: 1/══════╩═\n",
      "                     0 \n",
      "                       \n",
      "ancilla_0 -> 0 ────────\n",
      "                    ┌─┐\n",
      "      q_0 -> 1 ─|0>─┤M├\n",
      "                    └╥┘\n",
      "ancilla_1 -> 2 ──────╫─\n",
      "                     ║ \n",
      "ancilla_2 -> 3 ──────╫─\n",
      "                     ║ \n",
      "ancilla_3 -> 4 ──────╫─\n",
      "                     ║ \n",
      "          c: 1/══════╩═\n",
      "                     0 \n",
      "                       \n",
      "ancilla_0 -> 0 ────────\n",
      "               ┌───┐┌─┐\n",
      "      q_0 -> 1 ┤ X ├┤M├\n",
      "               └───┘└╥┘\n",
      "ancilla_1 -> 2 ──────╫─\n",
      "                     ║ \n",
      "ancilla_2 -> 3 ──────╫─\n",
      "                     ║ \n",
      "ancilla_3 -> 4 ──────╫─\n",
      "                     ║ \n",
      "          c: 1/══════╩═\n",
      "                     0 \n",
      "                                 \n",
      "ancilla_0 -> 0 ──────────────────\n",
      "                              ┌─┐\n",
      "      q_0 -> 1 ─|0>──|0>──|0>─┤M├\n",
      "                              └╥┘\n",
      "ancilla_1 -> 2 ────────────────╫─\n",
      "                               ║ \n",
      "ancilla_2 -> 3 ────────────────╫─\n",
      "                               ║ \n",
      "ancilla_3 -> 4 ────────────────╫─\n",
      "                               ║ \n",
      "          c: 1/════════════════╩═\n",
      "                               0 \n",
      "                       \n",
      "ancilla_0 -> 0 ────────\n",
      "               ┌───┐┌─┐\n",
      "      q_0 -> 1 ┤ X ├┤M├\n",
      "               └───┘└╥┘\n",
      "ancilla_1 -> 2 ──────╫─\n",
      "                     ║ \n",
      "ancilla_2 -> 3 ──────╫─\n",
      "                     ║ \n",
      "ancilla_3 -> 4 ──────╫─\n",
      "                     ║ \n",
      "          c: 1/══════╩═\n",
      "                     0 \n",
      "                                           \n",
      "ancilla_0 -> 0 ────────────────────────────\n",
      "                                        ┌─┐\n",
      "      q_0 -> 1 ─|0>──|0>──|0>──|0>──|0>─┤M├\n",
      "                                        └╥┘\n",
      "ancilla_1 -> 2 ──────────────────────────╫─\n",
      "                                         ║ \n",
      "ancilla_2 -> 3 ──────────────────────────╫─\n",
      "                                         ║ \n",
      "ancilla_3 -> 4 ──────────────────────────╫─\n",
      "                                         ║ \n",
      "          c: 1/══════════════════════════╩═\n",
      "                                         0 \n"
     ]
    }
   ],
   "source": [
    "def reset_measure(nreset):\n",
    "    circuit = QuantumCircuit(1, 1)\n",
    "    for _ in range(nreset):\n",
    "        circuit.reset(0)\n",
    "    circuit.measure(0, 0)\n",
    "    return circuit\n",
    "\n",
    "def x_measure():\n",
    "    circuit = QuantumCircuit(1, 1)\n",
    "    circuit.x(0)\n",
    "    circuit.measure(0, 0)\n",
    "    return circuit\n",
    "    \n",
    "circuits = []\n",
    "circuits.append(reset_measure(5))\n",
    "for nreset in [0, 1, 3, 5]:\n",
    "    circuits.append(x_measure())\n",
    "    circuits.append(reset_measure(nreset))\n",
    "    \n",
    "circuits = transpile(circuits, backend=backend, initial_layout=[test_qubit], optimization_level=0)\n",
    "\n",
    "for circuit in circuits:\n",
    "    print(circuit)"
   ]
  },
  {
   "cell_type": "code",
   "execution_count": 6,
   "id": "ae24fcef-9bd1-4f46-9938-b16bbf27a25d",
   "metadata": {},
   "outputs": [
    {
     "name": "stdout",
     "output_type": "stream",
     "text": [
      "Job Status: job incurred error     \n",
      "Job Status: job has successfully run\n",
      "Job Status: job has successfully run\n",
      "Job Status: job has successfully run\n",
      "Job Status: job has successfully run\n",
      "Job Status: job has successfully run\n"
     ]
    }
   ],
   "source": [
    "rep_delays = np.linspace(0., 0.0005, 6)\n",
    "\n",
    "jobs = []\n",
    "for rep_delay in rep_delays:\n",
    "    jobs.append(backend.run(circuits, init_qubits=False, rep_delay=rep_delay))\n",
    "    \n",
    "for job in jobs:\n",
    "    job_monitor(job)"
   ]
  },
  {
   "cell_type": "code",
   "execution_count": 7,
   "id": "959c3e84-6758-4674-93b7-ee0d39b6ece1",
   "metadata": {},
   "outputs": [
    {
     "data": {
      "text/plain": [
       "[{'0': 1017, '1': 7},\n",
       " {'0': 55, '1': 969},\n",
       " {'0': 1019, '1': 5},\n",
       " {'0': 45, '1': 979},\n",
       " {'0': 1020, '1': 4},\n",
       " {'0': 53, '1': 971},\n",
       " {'0': 1022, '1': 2},\n",
       " {'0': 49, '1': 975},\n",
       " {'0': 1017, '1': 7}]"
      ]
     },
     "execution_count": 7,
     "metadata": {},
     "output_type": "execute_result"
    }
   ],
   "source": [
    "jobs[-1].result().get_counts()"
   ]
  },
  {
   "cell_type": "code",
   "execution_count": 8,
   "id": "a232ad06-4275-494c-9f2b-41552aef7c2b",
   "metadata": {},
   "outputs": [],
   "source": [
    "reset_counts = np.empty((5, 5), dtype=np.float)\n",
    "x_counts = np.empty((5, 4), dtype=np.float)\n",
    "\n",
    "for ijob, job in enumerate(jobs[1:]):\n",
    "    counts = job.result().get_counts()\n",
    "    reset_counts[ijob] = np.array([counts[i].get('0', 0) for i in range(0, 10, 2)])\n",
    "    x_counts[ijob] = np.array([counts[i].get('0', 0) for i in range(1, 9, 2)])"
   ]
  },
  {
   "cell_type": "code",
   "execution_count": 18,
   "id": "01341d51-cde8-4b18-98d4-f9f47e0a6bf1",
   "metadata": {},
   "outputs": [
    {
     "data": {
      "text/plain": [
       "<matplotlib.legend.Legend at 0x7f46db3d1ca0>"
      ]
     },
     "execution_count": 18,
     "metadata": {},
     "output_type": "execute_result"
    },
    {
     "data": {
      "image/png": "[encoded data removed]",
      "text/plain": [
       "<Figure size 432x288 with 1 Axes>"
      ]
     },
     "metadata": {
      "needs_background": "light"
     },
     "output_type": "display_data"
    }
   ],
   "source": [
    "plt.plot(rep_delays[1:] * 1.e3, x_counts, label=['circuit {}'.format(i) for i in range(1, 9, 2)])\n",
    "plt.xlabel('delay (ms)')\n",
    "plt.ylabel('0 counts')\n",
    "plt.legend()"
   ]
  },
  {
   "cell_type": "code",
   "execution_count": 19,
   "id": "2aa364fd-3d6e-4312-90d0-59f48b78efc3",
   "metadata": {},
   "outputs": [
    {
     "data": {
      "text/plain": [
       "<matplotlib.legend.Legend at 0x7f46db343e20>"
      ]
     },
     "execution_count": 19,
     "metadata": {},
     "output_type": "execute_result"
    },
    {
     "data": {
      "image/png": "[encoded data removed]",
      "text/plain": [
       "<Figure size 432x288 with 1 Axes>"
      ]
     },
     "metadata": {
      "needs_background": "light"
     },
     "output_type": "display_data"
    }
   ],
   "source": [
    "plt.plot(rep_delays[1:] * 1.e3, reset_counts, label=['{} resets'.format(n) for n in [5, 0, 1, 3, 5]])\n",
    "plt.xlabel('delay (ms)')\n",
    "plt.ylabel('0 counts')\n",
    "plt.legend()"
   ]
  },
  {
   "cell_type": "markdown",
   "id": "01989fc7-bb77-457b-9bd7-cc66d060de8f",
   "metadata": {},
   "source": [
    "## Number of resets and delay determined. Now run the actual experiment\n",
    "\n",
    "Will go with 3 resets + 0.5 ms delay"
   ]
  },
  {
   "cell_type": "code",
   "execution_count": 29,
   "id": "2e734de2-640d-406b-b7f5-0f478ec4a940",
   "metadata": {},
   "outputs": [
    {
     "name": "stdout",
     "output_type": "stream",
     "text": [
      "                        ┌───────────────────────┐┌────┐┌─┐\n",
      "q_0 -> 1 ─|0>──|0>──|0>─┤ RZ(-2.53354246257241) ├┤ √X ├┤M├\n",
      "                        └───────────────────────┘└────┘└╥┘\n",
      "    c: 1/═══════════════════════════════════════════════╩═\n",
      "                                                        0 \n",
      "         ┌───────────────────────┐┌────┐┌─┐\n",
      "q_0 -> 1 ┤ RZ(-2.12817566856083) ├┤ √X ├┤M├\n",
      "         └───────────────────────┘└────┘└╥┘\n",
      "    c: 1/════════════════════════════════╩═\n",
      "                                         0 \n"
     ]
    }
   ],
   "source": [
    "phi = Parameter('phi')\n",
    "phi_values = np.linspace(-np.pi, np.pi, 32)\n",
    "\n",
    "def phase_scan_circuit(nreset):\n",
    "    circuit = QuantumCircuit(1, 1)\n",
    "    for _ in range(nreset):\n",
    "        circuit.reset(0)\n",
    "    circuit.rz(phi, 0)\n",
    "    circuit.sx(0)\n",
    "    circuit.measure(0, 0)\n",
    "    return circuit\n",
    "    \n",
    "exp_circuit = phase_scan_circuit(3)\n",
    "ctrl_circuit = phase_scan_circuit(0)\n",
    "\n",
    "exp_circuits = [exp_circuit.assign_parameters({phi: phi_value}) for phi_value in phi_values]\n",
    "exp_circuits = transpile(exp_circuits, backend=backend, initial_layout=[test_qubit], optimization_level=0)\n",
    "\n",
    "ctrl_circuits = [ctrl_circuit.assign_parameters({phi: phi_value}) for phi_value in phi_values]\n",
    "ctrl_circuits = transpile(ctrl_circuits, backend=backend, initial_layout=[test_qubit], optimization_level=0)\n",
    "\n",
    "print(exp_circuits[3].draw(idle_wires=False))\n",
    "print(ctrl_circuits[5].draw(idle_wires=False))"
   ]
  },
  {
   "cell_type": "code",
   "execution_count": 32,
   "id": "fac52ad6-4c45-426a-8d7b-22c0839e99f7",
   "metadata": {},
   "outputs": [
    {
     "name": "stdout",
     "output_type": "stream",
     "text": [
      "Job Status: job has successfully run\n",
      "Job Status: job has successfully run\n"
     ]
    }
   ],
   "source": [
    "exp_job = backend.run(exp_circuits, init_qubits=False, rep_delay=0.0005, shots=8192)\n",
    "ctrl_job = backend.run(ctrl_circuits, shots=8192)\n",
    "\n",
    "job_monitor(exp_job)\n",
    "job_monitor(ctrl_job)"
   ]
  },
  {
   "cell_type": "code",
   "execution_count": 40,
   "id": "2a848fed-dce7-46ee-a83c-dd6da980b0af",
   "metadata": {},
   "outputs": [
    {
     "data": {
      "text/plain": [
       "<matplotlib.legend.Legend at 0x7f46c9da83d0>"
      ]
     },
     "execution_count": 40,
     "metadata": {},
     "output_type": "execute_result"
    },
    {
     "data": {
      "image/png": "[encoded data removed]",
      "text/plain": [
       "<Figure size 432x288 with 1 Axes>"
      ]
     },
     "metadata": {
      "needs_background": "light"
     },
     "output_type": "display_data"
    }
   ],
   "source": [
    "counts = exp_job.result().get_counts()\n",
    "y = np.array([((c.get('0', 0) - c.get('1', 0)) / 8192) for c in counts])\n",
    "plt.scatter(phi_values, y, label='No init, 0.5 ms delay, 3 resets')\n",
    "counts = ctrl_job.result().get_counts()\n",
    "y = np.array([((c.get('0', 0) - c.get('1', 0)) / 8192) for c in counts])\n",
    "plt.scatter(phi_values, y, label='Standard')\n",
    "plt.hlines([0], -np.pi, np.pi)\n",
    "plt.xlabel('$\\phi$')\n",
    "plt.ylim(-0.5, 0.5)\n",
    "plt.suptitle('ibmq_santiago Q1')\n",
    "plt.legend()"
   ]
  },
  {
   "cell_type": "code",
   "execution_count": null,
   "id": "e3e5c844-3d65-47bd-b20e-6841e527d189",
   "metadata": {},
   "outputs": [],
   "source": []
  }
 ],
 "metadata": {
  "kernelspec": {
   "display_name": "Python 3 (ipykernel)",
   "language": "python",
   "name": "python3"
  },
  "language_info": {
   "codemirror_mode": {
    "name": "ipython",
    "version": 3
   },
   "file_extension": ".py",
   "mimetype": "text/x-python",
   "name": "python",
   "nbconvert_exporter": "python",
   "pygments_lexer": "ipython3",
   "version": "3.8.10"
  }
 },
 "nbformat": 4,
 "nbformat_minor": 5
}

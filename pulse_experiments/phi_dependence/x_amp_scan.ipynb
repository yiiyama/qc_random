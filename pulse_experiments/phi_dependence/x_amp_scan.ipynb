{
 "cells": [
  {
   "cell_type": "code",
   "execution_count": 1,
   "id": "694d4f75-4736-493b-bb0f-0a12f60ab99f",
   "metadata": {},
   "outputs": [],
   "source": [
    "import numpy as np\n",
    "from qiskit import IBMQ, pulse\n",
    "from qiskit.circuit import Parameter\n",
    "\n",
    "IBMQ.load_account()\n",
    "#provider = IBMQ.get_provider(hub='ibm-q-utokyo', group='internal', project='icepp')\n",
    "provider = IBMQ.get_provider(hub='ibm-q-utokyo', group='internal', project='q-comp-training')\n",
    "backend = provider.get_backend('ibm_kawasaki')"
   ]
  },
  {
   "cell_type": "code",
   "execution_count": 2,
   "id": "7534ce24-1ed0-4363-b2bf-2db445ccd8b2",
   "metadata": {},
   "outputs": [
    {
     "name": "stdout",
     "output_type": "stream",
     "text": [
      "Drag(duration=160, amp=(0.17502099440265126+0j), sigma=40, beta=0.33318404699494575, name='Xp_d3')\n"
     ]
    }
   ],
   "source": [
    "x_pulse = backend.defaults().instruction_schedule_map.get('x', 3).instructions[0][1].pulse\n",
    "print(x_pulse)"
   ]
  },
  {
   "cell_type": "code",
   "execution_count": 3,
   "id": "c37e3a71-e07e-460e-8fa4-b3e03e0f6ddb",
   "metadata": {},
   "outputs": [],
   "source": [
    "phi = Parameter('phi')\n",
    "scale = Parameter('scale')\n",
    "with pulse.build(backend=backend, default_alignment='sequential') as sched:\n",
    "    pulse.shift_phase(phi, pulse.drive_channel(3))\n",
    "    pulse.play(pulse.Drag(duration=160, amp=(0.17500520867268415 * scale), sigma=40, beta=0.3388910777805415, name='Xp_d3'), pulse.drive_channel(3), name='scaled_x')\n",
    "    pulse.measure(qubits=[3], registers=[pulse.MemorySlot(0)])\n",
    "    \n",
    "schedules = [sched.assign_parameters({phi: p, scale: s}, inplace=False) for s in np.linspace(0.1, 1., 10) for p in np.linspace(-np.pi, np.pi, 20)]"
   ]
  },
  {
   "cell_type": "code",
   "execution_count": 4,
   "id": "8f7e5cf0-3f8a-412b-97fd-f2f5219b90eb",
   "metadata": {},
   "outputs": [],
   "source": [
    "#from qiskit.tools.monitor import job_monitor\n",
    "\n",
    "#job = backend.run(schedules, shots=2048, meas_level=2)\n",
    "#job_monitor(job)\n",
    "\n",
    "job = backend.retrieve_job('6148a2abf020e88e0d6bf936')"
   ]
  },
  {
   "cell_type": "code",
   "execution_count": 8,
   "id": "b5232384-9a32-43c8-82b7-2650ed77424b",
   "metadata": {},
   "outputs": [
    {
     "data": {
      "image/png": "[encoded data removed]",
      "text/plain": [
       "<Figure size 432x288 with 1 Axes>"
      ]
     },
     "metadata": {
      "needs_background": "light"
     },
     "output_type": "display_data"
    }
   ],
   "source": [
    "import matplotlib.pyplot as plt\n",
    "\n",
    "phi_values = np.linspace(-np.pi, np.pi, 20)\n",
    "\n",
    "counts = job.result().get_counts()\n",
    "for iscale in range(10):\n",
    "    y = np.empty(20, dtype=float)\n",
    "    y = np.array([(c.get('0', 0) / 1024. - 1.) for c in counts[iscale * 20:(iscale + 1) * 20]])\n",
    "\n",
    "    plt.axhline(y=np.cos((iscale + 1) / 10. * np.pi))\n",
    "    plt.scatter(phi_values, y)\n"
   ]
  },
  {
   "cell_type": "code",
   "execution_count": null,
   "id": "18cb9d20-558d-4842-a374-318c0ae55cbc",
   "metadata": {},
   "outputs": [],
   "source": []
  }
 ],
 "metadata": {
  "kernelspec": {
   "display_name": "Python 3 (ipykernel)",
   "language": "python",
   "name": "python3"
  },
  "language_info": {
   "codemirror_mode": {
    "name": "ipython",
    "version": 3
   },
   "file_extension": ".py",
   "mimetype": "text/x-python",
   "name": "python",
   "nbconvert_exporter": "python",
   "pygments_lexer": "ipython3",
   "version": "3.8.10"
  }
 },
 "nbformat": 4,
 "nbformat_minor": 5
}

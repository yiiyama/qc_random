{
 "cells": [
  {
   "cell_type": "code",
   "execution_count": 1,
   "id": "33194a1a-ada9-4844-9d96-ebb22aba4ea4",
   "metadata": {},
   "outputs": [
    {
     "data": {
      "text/plain": [
       "<AccountProvider for IBMQ(hub='ibm-q', group='open', project='main')>"
      ]
     },
     "execution_count": 1,
     "metadata": {},
     "output_type": "execute_result"
    }
   ],
   "source": [
    "import numpy as np\n",
    "import scipy\n",
    "import matplotlib.pyplot as plt\n",
    "import pprint\n",
    "\n",
    "from qiskit import pulse, QuantumCircuit, QuantumRegister, ClassicalRegister, transpile, IBMQ\n",
    "from qiskit.circuit import Gate, Parameter\n",
    "from qiskit.circuit.barrier import Barrier\n",
    "from qiskit import schedule as build_schedule\n",
    "from qiskit.ignis.verification.tomography import process_tomography_circuits\n",
    "from qiskit.tools.monitor import job_monitor\n",
    "from qiskit.visualization.pulse_v2 import IQXDebugging\n",
    "\n",
    "from pulse_experiment_utils import *\n",
    "\n",
    "IBMQ.load_account()"
   ]
  },
  {
   "cell_type": "code",
   "execution_count": 4,
   "id": "dfdc9ea2-f4d8-4f25-9525-85e398a783c4",
   "metadata": {},
   "outputs": [],
   "source": [
    "provider_utokyo = IBMQ.get_provider(hub='ibm-q-utokyo', group='internal', project='icepp')\n",
    "provider_ibmr = IBMQ.get_provider(hub='ibm-q-research', group='tokyo-1', project='main')\n",
    "lagos = provider_ibmr.get_backend('ibm_lagos')\n",
    "kawasaki = provider_utokyo.get_backend('ibm_kawasaki')\n",
    "#backend = provider.get_backend('ibmq_guadalupe')\n",
    "#backend = provider.get_backend('ibmq_bogota')\n",
    "#backend = provider.get_backend('ibmq_toronto')"
   ]
  },
  {
   "cell_type": "code",
   "execution_count": 5,
   "id": "01bff0eb-67c6-4890-afe6-2e8a6ea9d91c",
   "metadata": {},
   "outputs": [],
   "source": [
    "phi_values = np.linspace(-np.pi, np.pi, 41)"
   ]
  },
  {
   "cell_type": "code",
   "execution_count": 6,
   "id": "2591bb49-f74c-4cb1-ba9a-3edfe3496fc7",
   "metadata": {},
   "outputs": [],
   "source": [
    "backend_config = kawasaki.configuration()\n",
    "backend_defaults = kawasaki.defaults()\n",
    "calibrations = backend_defaults.instruction_schedule_map"
   ]
  },
  {
   "cell_type": "code",
   "execution_count": 7,
   "id": "6d29e15b-db1d-4964-b033-c54f3f6bcc94",
   "metadata": {},
   "outputs": [
    {
     "data": {
      "image/png": "[encoded data removed]",
      "text/plain": [
       "<Figure size 936x118.8 with 1 Axes>"
      ]
     },
     "execution_count": 7,
     "metadata": {},
     "output_type": "execute_result"
    }
   ],
   "source": [
    "x_schedule = calibrations.get('x', [0])\n",
    "x_pulse = x_schedule.instructions[0][1].pulse\n",
    "sx_schedule = calibrations.get('sx', [0])\n",
    "sx_pulse = sx_schedule.instructions[0][1].pulse\n",
    "cx_schedule = calibrations.get('cx', (0, 1))\n",
    "sx_schedule.draw()"
   ]
  },
  {
   "cell_type": "markdown",
   "id": "d2deb469-f495-47c2-b952-94d8d107b0c1",
   "metadata": {},
   "source": [
    "# Sweep phase shifts before $X$ and $\\sqrt{X}$ gates"
   ]
  },
  {
   "cell_type": "markdown",
   "id": "9d30f0d9-dd6d-4e2e-bb3a-0a85c8a0e645",
   "metadata": {},
   "source": [
    "schedules = []\n",
    "\n",
    "for phi_value in phi_values:\n",
    "    with pulse.build(backend=kawasaki, default_alignment='sequential') as sched:\n",
    "        channel = pulse.drive_channel(0)\n",
    "        pulse.shift_phase(phi_value, channel)\n",
    "        pulse.play(x_pulse, channel)\n",
    "        pulse.measure(qubits=[0], registers=[pulse.MemorySlot(0)])\n",
    "        \n",
    "    schedules.append(sched)\n",
    "    \n",
    "for phi_value in phi_values:\n",
    "    with pulse.build(backend=kawasaki, default_alignment='sequential') as sched:\n",
    "        channel = pulse.drive_channel(0)\n",
    "        pulse.shift_phase(phi_value, channel)\n",
    "        pulse.play(sx_pulse, channel)\n",
    "        pulse.measure(qubits=[0], registers=[pulse.MemorySlot(0)])\n",
    "        \n",
    "    schedules.append(sched)"
   ]
  },
  {
   "cell_type": "markdown",
   "id": "0967996a-523e-4047-ad93-c900b80f2a5a",
   "metadata": {},
   "source": [
    "job = kawasaki.run(schedules, meas_level=2, shots=8192)\n",
    "job_monitor(job)"
   ]
  },
  {
   "cell_type": "code",
   "execution_count": 6,
   "id": "40cee6f9-a480-464c-a6e0-e98131349728",
   "metadata": {},
   "outputs": [],
   "source": [
    "circuits = []\n",
    "\n",
    "for phi_value in phi_values:\n",
    "    circuit = QuantumCircuit(1)\n",
    "    circuit.rz(phi_value, 0)\n",
    "    circuit.x(0)\n",
    "    circuit.measure_all()\n",
    "    \n",
    "    circuits.append(circuit)\n",
    "    \n",
    "for phi_value in phi_values:\n",
    "    circuit = QuantumCircuit(1)\n",
    "    circuit.rz(phi_value, 0)\n",
    "    circuit.sx(0)\n",
    "    circuit.measure_all()\n",
    "    \n",
    "    circuits.append(circuit)"
   ]
  },
  {
   "cell_type": "code",
   "execution_count": 6,
   "id": "a7549ecf-5a96-4466-b4e1-ea9a887dc80e",
   "metadata": {},
   "outputs": [
    {
     "name": "stdout",
     "output_type": "stream",
     "text": [
      "Job Status: job has successfully run\n"
     ]
    }
   ],
   "source": [
    "job = lagos.run(transpile(circuits, backend=lagos), shots=8192)\n",
    "job_monitor(job)"
   ]
  },
  {
   "cell_type": "code",
   "execution_count": 6,
   "id": "ffb8a36a-28a6-48b1-9a11-a9fd5906b9e2",
   "metadata": {},
   "outputs": [],
   "source": [
    "job = lagos.retrieve_job('614201d76feb7e09056f5ca5')\n",
    "result = job.result()"
   ]
  },
  {
   "cell_type": "code",
   "execution_count": 7,
   "id": "f501974d-c422-4af4-98fa-c6bf7df33055",
   "metadata": {},
   "outputs": [
    {
     "data": {
      "image/png": "[encoded data removed]",
      "text/plain": [
       "<Figure size 432x288 with 1 Axes>"
      ]
     },
     "metadata": {
      "needs_background": "light"
     },
     "output_type": "display_data"
    },
    {
     "data": {
      "text/plain": [
       "array([0.01074219, 0.01196289, 0.01049805, 0.0111084 , 0.01013184,\n",
       "       0.01037598, 0.01037598, 0.0090332 , 0.01025391, 0.01342773,\n",
       "       0.01025391, 0.01159668, 0.01257324, 0.01123047, 0.01367188,\n",
       "       0.00842285, 0.00927734, 0.01049805, 0.00927734, 0.01025391,\n",
       "       0.01074219, 0.00952148, 0.01147461, 0.00756836, 0.00878906,\n",
       "       0.01062012, 0.00952148, 0.00952148, 0.01013184, 0.01074219,\n",
       "       0.01025391, 0.01318359, 0.0090332 , 0.01184082, 0.01062012,\n",
       "       0.01062012, 0.0098877 , 0.01123047, 0.01330566, 0.00939941,\n",
       "       0.01086426])"
      ]
     },
     "execution_count": 7,
     "metadata": {},
     "output_type": "execute_result"
    }
   ],
   "source": [
    "plot_counts(result, ['0'], phi_values, indices=np.arange(phi_values.shape[0]))"
   ]
  },
  {
   "cell_type": "code",
   "execution_count": 8,
   "id": "71300226-083b-49ef-a067-00bbff7d4aab",
   "metadata": {},
   "outputs": [
    {
     "data": {
      "image/png": "[encoded data removed]",
      "text/plain": [
       "<Figure size 432x288 with 1 Axes>"
      ]
     },
     "metadata": {
      "needs_background": "light"
     },
     "output_type": "display_data"
    },
    {
     "data": {
      "text/plain": [
       "array([0.54345703, 0.53930664, 0.54101562, 0.53552246, 0.52783203,\n",
       "       0.52575684, 0.51940918, 0.50134277, 0.4942627 , 0.49975586,\n",
       "       0.48571777, 0.48059082, 0.47570801, 0.46740723, 0.46020508,\n",
       "       0.45751953, 0.46313477, 0.45703125, 0.46057129, 0.45397949,\n",
       "       0.46289062, 0.45556641, 0.46289062, 0.47045898, 0.47937012,\n",
       "       0.48217773, 0.48754883, 0.49609375, 0.49316406, 0.50402832,\n",
       "       0.50537109, 0.51818848, 0.5168457 , 0.52197266, 0.52954102,\n",
       "       0.52697754, 0.5423584 , 0.5423584 , 0.54858398, 0.54174805,\n",
       "       0.5423584 ])"
      ]
     },
     "execution_count": 8,
     "metadata": {},
     "output_type": "execute_result"
    }
   ],
   "source": [
    "plot_counts(result, ['0'], phi_values, indices=np.arange(phi_values.shape[0], 2 * phi_values.shape[0]))"
   ]
  },
  {
   "cell_type": "markdown",
   "id": "5cab1d66-00f8-41e8-8f7e-d7071db7d2e1",
   "metadata": {},
   "source": [
    "job = kawasaki.retrieve_job('614200839664977d03f654a3')\n",
    "result = job.result()"
   ]
  },
  {
   "cell_type": "markdown",
   "id": "a5a01d6e-09d2-4d6c-b2f5-f135f2fbb820",
   "metadata": {},
   "source": [
    "plot_counts(result, ['0'], indices=np.arange(40))"
   ]
  },
  {
   "cell_type": "markdown",
   "id": "b6bd13f0-96fc-4c3e-84b3-9660416ab31a",
   "metadata": {},
   "source": [
    "plot_counts(result, ['0'], indices=np.arange(40, 80))"
   ]
  },
  {
   "cell_type": "code",
   "execution_count": 8,
   "id": "65d8ff60-a039-436b-ad76-1885cb1d2814",
   "metadata": {},
   "outputs": [],
   "source": [
    "circuits = []\n",
    "for phi_value in phi_values:\n",
    "    circuit = QuantumCircuit(1)\n",
    "    circuit.sx(0)\n",
    "    circuit.rz(phi_value, 0)\n",
    "    circuit.sx(0)\n",
    "    circuit.measure_all()\n",
    "    circuits.append(circuit)"
   ]
  },
  {
   "cell_type": "code",
   "execution_count": null,
   "id": "6e29a7b6-6f0c-4b9a-ad67-021cade8c3ef",
   "metadata": {},
   "outputs": [],
   "source": [
    "job = lagos.run(transpile(circuits, backend=lagos), shots=8192)\n",
    "job_monitor(job)"
   ]
  },
  {
   "cell_type": "code",
   "execution_count": 11,
   "id": "33cbad08-15fa-4bc7-ae2b-16f99d46efca",
   "metadata": {},
   "outputs": [],
   "source": [
    "job = kawasaki.retrieve_job('614205cc10b4a22223a0f135')"
   ]
  },
  {
   "cell_type": "code",
   "execution_count": 12,
   "id": "564317f6-b044-4745-9edc-410e9a6e07f5",
   "metadata": {},
   "outputs": [
    {
     "data": {
      "image/png": "[encoded data removed]",
      "text/plain": [
       "<Figure size 432x288 with 1 Axes>"
      ]
     },
     "metadata": {
      "needs_background": "light"
     },
     "output_type": "display_data"
    }
   ],
   "source": [
    "yvalues = plot_counts(job.result(), ['0'], x=phi_values)"
   ]
  },
  {
   "cell_type": "code",
   "execution_count": 16,
   "id": "f220500d-f643-43bb-ae1c-c61befeabc62",
   "metadata": {},
   "outputs": [
    {
     "name": "stdout",
     "output_type": "stream",
     "text": [
      "[0.9994565  3.08547334 0.49110603 0.50303209]\n"
     ]
    },
    {
     "data": {
      "text/plain": [
       "[<matplotlib.lines.Line2D at 0x7f7caa114ca0>]"
      ]
     },
     "execution_count": 16,
     "metadata": {},
     "output_type": "execute_result"
    },
    {
     "data": {
      "image/png": "[encoded data removed]",
      "text/plain": [
       "<Figure size 432x288 with 1 Axes>"
      ]
     },
     "metadata": {
      "needs_background": "light"
     },
     "output_type": "display_data"
    }
   ],
   "source": [
    "fun = lambda x, omega, p, a, o: o + a * np.cos(x * omega + p)\n",
    "popt, _ = scipy.optimize.curve_fit(fun, phi_values, yvalues, p0=[1., np.pi, 0.5, 0.5])\n",
    "print(popt)\n",
    "plt.scatter(phi_values, yvalues)\n",
    "plt.plot(phi_values, fun(phi_values, *popt))"
   ]
  },
  {
   "cell_type": "code",
   "execution_count": null,
   "id": "0924a861-5dcf-4ee5-9134-716b3ec67c4c",
   "metadata": {},
   "outputs": [],
   "source": []
  }
 ],
 "metadata": {
  "kernelspec": {
   "display_name": "Python 3 (ipykernel)",
   "language": "python",
   "name": "python3"
  },
  "language_info": {
   "codemirror_mode": {
    "name": "ipython",
    "version": 3
   },
   "file_extension": ".py",
   "mimetype": "text/x-python",
   "name": "python",
   "nbconvert_exporter": "python",
   "pygments_lexer": "ipython3",
   "version": "3.8.10"
  }
 },
 "nbformat": 4,
 "nbformat_minor": 5
}

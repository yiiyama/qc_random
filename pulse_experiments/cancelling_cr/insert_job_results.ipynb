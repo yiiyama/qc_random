{
 "cells": [
  {
   "cell_type": "code",
   "execution_count": 1,
   "id": "3b318161-43ed-4b0b-99fc-10a1bc13e612",
   "metadata": {},
   "outputs": [],
   "source": [
    "import os\n",
    "import numpy as np\n",
    "import scipy\n",
    "import h5py\n",
    "import matplotlib.pyplot as plt\n",
    "from qiskit import QuantumCircuit, QuantumRegister, Aer, IBMQ\n",
    "from qiskit.ignis.verification.tomography import process_tomography_circuits, ProcessTomographyFitter\n",
    "import qiskit.quantum_info as qi\n",
    "\n",
    "from pulse_experiment_utils import *\n",
    "\n",
    "IBMQ.load_account()\n",
    "backend = IBMQ.get_provider(hub='ibm-q-utokyo', group='internal', project='icepp').get_backend('ibm_kawasaki')"
   ]
  },
  {
   "cell_type": "code",
   "execution_count": 2,
   "id": "4b18f7dc-65a0-477b-9115-bc34d2dd80f2",
   "metadata": {},
   "outputs": [],
   "source": [
    "phi_values = np.concatenate((np.linspace(0., np.pi / 6., 20, endpoint=False), np.linspace(np.pi / 6., np.pi * 14. / 54., 6, endpoint=False), np.linspace(np.pi * 14. / 54., np.pi, 9)))"
   ]
  },
  {
   "cell_type": "code",
   "execution_count": 3,
   "id": "c653eb43-10dc-4ff5-b9c9-2c86292f56da",
   "metadata": {},
   "outputs": [
    {
     "name": "stdout",
     "output_type": "stream",
     "text": [
      "li 0\n",
      "li 1\n",
      "li 2\n",
      "li 3\n",
      "li 4\n",
      "li 5\n",
      "li 6\n",
      "li 7\n",
      "li 8\n",
      "li 9\n",
      "li 10\n",
      "li 11\n",
      "li 12\n",
      "li 13\n",
      "li 14\n",
      "li 15\n",
      "li 16\n",
      "li 17\n",
      "li 18\n",
      "li 19\n",
      "li 20\n",
      "li 21\n",
      "li 22\n",
      "li 23\n",
      "li 24\n",
      "li 25\n",
      "li 26\n",
      "li 27\n",
      "li 28\n",
      "li 29\n",
      "li 30\n",
      "li 31\n",
      "li 32\n",
      "li 33\n",
      "li 34\n"
     ]
    }
   ],
   "source": [
    "results_file_name = 'rzz_circuits_results_oct01.h5'\n",
    "output_file_name = 'rzz_circuits_results_oct01_3.h5'\n",
    "insert_id_file_name = 'job_ids_oct01_3'\n",
    "exp = 'li'\n",
    "\n",
    "with h5py.File(output_file_name, 'w') as out:\n",
    "    readout_error = out.create_group('readout_error')\n",
    "    cx = out.create_group('cx')\n",
    "    pe = out.create_group('pe')\n",
    "    li = out.create_group('li')\n",
    "    with h5py.File(results_file_name, 'r') as source:\n",
    "        for gname in ['cx', 'pe', 'readout_error']:\n",
    "            for key, dataset in source[gname].items():\n",
    "                out[gname].create_dataset(key, data=dataset[:])\n",
    "                \n",
    "    group = li\n",
    "            \n",
    "    with open('{}_{}.txt'.format(insert_id_file_name, exp)) as source:\n",
    "        lines = source.read().strip().split('\\n')\n",
    "\n",
    "        for iphi, line in enumerate(lines):\n",
    "            _, _, job_id = line.split()\n",
    "\n",
    "            print('{} {}'.format(exp, iphi))\n",
    "            job = backend.retrieve_job(job_id)\n",
    "\n",
    "            try:\n",
    "                job_result = job.result()\n",
    "            except:\n",
    "                continue\n",
    "                \n",
    "\n",
    "            for result in job_result.results:\n",
    "                try:\n",
    "                    dataset = group[result.header.name]\n",
    "                except KeyError:\n",
    "                    dataset = group.create_dataset(result.header.name, (len(lines), 4), dtype='i')\n",
    "                \n",
    "                counts = result.data.counts\n",
    "                dataset[iphi] = np.array([counts.get(hex(idx), 0) for idx in range(4)])"
   ]
  },
  {
   "cell_type": "code",
   "execution_count": null,
   "id": "f8e08493-76fe-4540-8b75-fed27401b105",
   "metadata": {},
   "outputs": [],
   "source": []
  }
 ],
 "metadata": {
  "kernelspec": {
   "display_name": "Python 3 (ipykernel)",
   "language": "python",
   "name": "python3"
  },
  "language_info": {
   "codemirror_mode": {
    "name": "ipython",
    "version": 3
   },
   "file_extension": ".py",
   "mimetype": "text/x-python",
   "name": "python",
   "nbconvert_exporter": "python",
   "pygments_lexer": "ipython3",
   "version": "3.8.10"
  }
 },
 "nbformat": 4,
 "nbformat_minor": 5
}

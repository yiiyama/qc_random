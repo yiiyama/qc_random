{
 "cells": [
  {
   "cell_type": "markdown",
   "id": "9883bb4f-f8d6-4859-b62e-7ed79fc36542",
   "metadata": {},
   "source": [
    "# Characterizing errors in direct-$R_{zx}$ gates\n",
    "\n",
    "- Calibrate the width-to-phi conversion by a Rabi fit\n",
    "  - Allow for a offset $\\phi_0$ because width 0 can still effect a rotation in the cancelling scheme\n",
    "- Identify the width corresponding to $\\phi = 0.1$ rotation, repeat the gate 10 times and compare the result with $R_{zx}(1)$\n",
    "\n",
    "Result: Cancelling scheme has a really bad error accumulation (30%). Pulse-efficient scheme ends up with about 10% error.\n",
    "Note: The implementation of the cancelling gate here lets the flank of the CR pulse run longer than the cancelling pulse. Can e.g. adjusting the sigma parameter mitigate the error?"
   ]
  },
  {
   "cell_type": "code",
   "execution_count": 1,
   "id": "94f33cb5-a3ea-4ef0-a196-5527a670151f",
   "metadata": {},
   "outputs": [],
   "source": [
    "import re\n",
    "import numpy as np\n",
    "import scipy\n",
    "from qiskit import IBMQ, QuantumCircuit, QuantumRegister, pulse, transpile\n",
    "from qiskit.circuit import Gate\n",
    "\n",
    "from pulse_experiment_utils import *"
   ]
  },
  {
   "cell_type": "code",
   "execution_count": 2,
   "id": "8b7b6a66-c5ec-41d1-8e52-be244267aa12",
   "metadata": {},
   "outputs": [],
   "source": [
    "def pulse_efficient_cr_core_schedule(phi_value, cx_schedule, backend):\n",
    "    instructions = cx_schedule.instructions\n",
    "\n",
    "    control_qubit_drive = instructions[0][1].channel # ShiftPhase\n",
    "    control_qubit = control_qubit_drive.index\n",
    "    target_qubit_drive = instructions[5][1].channel # Drag\n",
    "    target_qubit = target_qubit_drive.index\n",
    "    control_drive = next(inst[1].channel for inst in instructions if (type(inst[1]) is pulse.Play and type(inst[1].channel) is pulse.ControlChannel))\n",
    "    \n",
    "    x_pulse = get_instruction_by_name(cx_schedule, r'Xp_d[0-9]+$').pulse\n",
    "    cx_cr_pulse = get_instruction_by_name(cx_schedule, r'CR90p_u[0-9]+$').pulse\n",
    "    cx_rotary_pulse = get_instruction_by_name(cx_schedule, r'CR90p_d[0-9]+_u[0-9]+$').pulse    \n",
    "\n",
    "    if phi_value == 0.:\n",
    "        with pulse.build(backend=backend, default_alignment='sequential', name='cr_gate_core') as cr_core_sched:\n",
    "            pulse.play(x_pulse, control_qubit_drive)\n",
    "            \n",
    "        return cr_core_sched\n",
    "\n",
    "    cr_amp = cx_cr_pulse.amp\n",
    "    crr_amp = cx_rotary_pulse.amp\n",
    "    sigma = cx_cr_pulse.sigma\n",
    "    flank_width = (cx_cr_pulse.duration - cx_cr_pulse.width) // 2\n",
    "\n",
    "    normal_flank_integral = np.sqrt(np.pi / 2.) * sigma * scipy.special.erf(flank_width / np.sqrt(2.) / sigma)\n",
    "    pedestal = np.exp(-0.5 * np.square(flank_width / sigma))\n",
    "    grounded_flank_integral = (normal_flank_integral - pedestal * flank_width) / (1. - pedestal)\n",
    "    flank_area = np.abs(cr_amp) * grounded_flank_integral\n",
    "    cr45_area_norm = np.abs(cr_amp) * cx_cr_pulse.width + 2. * flank_area\n",
    "    minimum_phi = 2. * np.pi / 4. * (2. * flank_area) / cr45_area_norm\n",
    "\n",
    "    phi_label = np.round(phi_value / np.pi * 180.)\n",
    "    if phi_value <= minimum_phi:\n",
    "        amp_ratio = phi_value / minimum_phi\n",
    "        duration = 2 * flank_width\n",
    "        cr_pulse = pulse.Gaussian(duration=duration, amp=(amp_ratio * cr_amp), sigma=sigma, name='CR{}p_u{}'.format(phi_label, control_drive.index))\n",
    "        cr_rotary_pulse = pulse.Gaussian(duration=duration, amp=(amp_ratio * crr_amp), sigma=sigma, name='CR{}p_d{}_u{}'.format(phi_label, target_qubit, control_drive.index))\n",
    "        cr_echo = pulse.Gaussian(duration=duration, amp=-(amp_ratio * cr_amp), sigma=sigma, name='CR{}m_u{}'.format(phi_label, control_drive.index))\n",
    "        cr_rotary_echo = pulse.Gaussian(duration=duration, amp=-(amp_ratio * crr_amp), sigma=sigma, name='CR{}m_d{}_u{}'.format(phi_label, target_qubit, control_drive.index))\n",
    "    else:\n",
    "        area = phi_value / 2. / (np.pi / 4.) * cr45_area_norm\n",
    "        width = (area - 2. * flank_area) / np.abs(cr_amp)\n",
    "        duration = get_closest_multiple_of_16(width + 2 * flank_width)\n",
    "        cr_pulse = pulse.GaussianSquare(duration=duration, amp=cr_amp, sigma=sigma, width=width, name='CR{}p_u{}'.format(phi_label, control_drive.index))\n",
    "        cr_rotary_pulse = pulse.GaussianSquare(duration=duration, amp=crr_amp, sigma=sigma, width=width, name='CR{}p_d{}_u{}'.format(phi_label, target_qubit, control_drive.index))\n",
    "        cr_echo = pulse.GaussianSquare(duration=duration, amp=-cr_amp, sigma=sigma, width=width, name='CR{}m_u{}'.format(phi_label, control_drive.index))\n",
    "        cr_rotary_echo = pulse.GaussianSquare(duration=duration, amp=-crr_amp, sigma=sigma, width=width, name='CR{}m_d{}_u{}'.format(phi_label, target_qubit, control_drive.index))\n",
    "    \n",
    "    with pulse.build(backend=backend, default_alignment='sequential', name='cr_gate_core') as cr_core_sched:\n",
    "        ## echo (without the first X on control)\n",
    "        with pulse.align_left():\n",
    "            pulse.play(cr_echo, control_drive, name=cr_echo.name)\n",
    "            pulse.play(cr_rotary_echo, target_qubit_drive, name=cr_rotary_echo.name)\n",
    "\n",
    "        pulse.play(x_pulse, control_qubit_drive, name=x_pulse.name)\n",
    "\n",
    "        ## forward\n",
    "        with pulse.align_left():\n",
    "            pulse.play(cr_pulse, control_drive, name=cr_pulse.name)\n",
    "            pulse.play(cr_rotary_pulse, target_qubit_drive, name=cr_rotary_pulse.name)\n",
    "            \n",
    "    return cr_core_sched"
   ]
  },
  {
   "cell_type": "code",
   "execution_count": 3,
   "id": "1a43c379-fcd7-4c49-9672-c95d01b29f6c",
   "metadata": {},
   "outputs": [],
   "source": [
    "def pulse_efficient_rzx(phi_value, cx_schedule, backend, with_schedule=False):\n",
    "    register = QuantumRegister(2)\n",
    "    \n",
    "    if phi_value == 0.:\n",
    "        circuit = QuantumCircuit(register)\n",
    "\n",
    "        if with_schedule:\n",
    "            return circuit, pulse.Schedule(name='cr_gate_core')\n",
    "        else:\n",
    "            return circuit\n",
    "\n",
    "    instructions = cx_schedule.instructions    \n",
    "\n",
    "    control_qubit_drive = next(inst.channel for _, inst in instructions if (type(inst) is pulse.ShiftPhase and type(inst.channel) is pulse.DriveChannel))\n",
    "    control_qubit = control_qubit_drive.index\n",
    "    target_qubit_drive = get_instruction_by_name(cx_schedule, r'X90p_d[0-9]+$').channel # Drag\n",
    "    target_qubit = target_qubit_drive.index\n",
    "    \n",
    "    cx_cr_pulse = get_instruction_by_name(cx_schedule, r'CR90p_u[0-9]+$').pulse\n",
    "    \n",
    "    cr_core_sched = pulse_efficient_cr_core_schedule(phi_value, cx_schedule, backend)\n",
    "            \n",
    "    cr_core_gate = Gate('cr_core_gate', 2, [])\n",
    "    \n",
    "    circuit = QuantumCircuit(register)\n",
    "    circuit.x(0)\n",
    "    circuit.append(cr_core_gate, (0, 1))\n",
    "\n",
    "    circuit.add_calibration('cr_core_gate', (control_qubit, target_qubit), cr_core_sched)\n",
    "    \n",
    "    if with_schedule:\n",
    "        return circuit, cr_core_sched\n",
    "    else:\n",
    "        return circuit    "
   ]
  },
  {
   "cell_type": "code",
   "execution_count": 4,
   "id": "f9e367be-1b09-4468-b0f9-7a22f1fdbef1",
   "metadata": {},
   "outputs": [],
   "source": [
    "def linearized_cr_core_schedule(width, cx_schedule, backend, phi_label=0):\n",
    "    instructions = cx_schedule.instructions\n",
    "\n",
    "    control_qubit_drive = next(inst.channel for _, inst in instructions if (type(inst) is pulse.ShiftPhase and type(inst.channel) is pulse.DriveChannel))\n",
    "    control_qubit = control_qubit_drive.index\n",
    "    target_qubit_drive = get_instruction_by_name(cx_schedule, r'X90p_d[0-9]+$').channel # Drag\n",
    "    target_qubit = target_qubit_drive.index\n",
    "    control_drive = next(inst.channel for _, inst in instructions if (type(inst) is pulse.Play and type(inst.channel) is pulse.ControlChannel))\n",
    "    \n",
    "    x_pulse = get_instruction_by_name(cx_schedule, r'Xp_d[0-9]+$').pulse\n",
    "    cx_cr_pulse = get_instruction_by_name(cx_schedule, r'CR90p_u[0-9]+$').pulse\n",
    "    cx_rotary_pulse = get_instruction_by_name(cx_schedule, r'CR90p_d[0-9]+_u[0-9]+$').pulse\n",
    "    \n",
    "    if width == 0.:\n",
    "        with pulse.build(backend=backend, default_alignment='sequential', name='cr_gate_core') as cr_core_sched:\n",
    "            pulse.play(x_pulse, control_qubit_drive)\n",
    "            \n",
    "        return cr_core_sched\n",
    "    \n",
    "    cr_amp = cx_cr_pulse.amp\n",
    "    crr_amp = cx_rotary_pulse.amp\n",
    "    sigma = cx_cr_pulse.sigma\n",
    "    flank_width = (cx_cr_pulse.duration - cx_cr_pulse.width) // 2\n",
    "    \n",
    "    if width > 0.:\n",
    "        duration = int(np.ceil((width + 2 * flank_width) / 16.) * 16)\n",
    "        cr_pulse = pulse.GaussianSquare(duration=duration, amp=cr_amp, sigma=sigma, width=width, name='CR{}p_u{}'.format(phi_label, control_drive.index))\n",
    "        cr_rotary_pulse = pulse.GaussianSquare(duration=duration, amp=crr_amp, sigma=sigma, width=width, name='CR{}p_d{}_u{}'.format(phi_label, target_qubit, control_drive.index))\n",
    "        cr_echo = pulse.GaussianSquare(duration=duration, amp=-cr_amp, sigma=sigma, width=width, name='CR{}m_u{}'.format(phi_label, control_drive.index))\n",
    "        cr_rotary_echo = pulse.GaussianSquare(duration=duration, amp=-crr_amp, sigma=sigma, width=width, name='CR{}m_d{}_u{}'.format(phi_label, target_qubit, control_drive.index))\n",
    "        \n",
    "        duration = 2 * flank_width\n",
    "        cancel_pulse = pulse.Gaussian(duration=duration, amp=-cr_amp, sigma=sigma, name='ACR{}p_u{}'.format(phi_label, control_drive.index))\n",
    "        cancel_rotary_pulse = pulse.Gaussian(duration=duration, amp=-crr_amp, sigma=sigma, name='ACR{}p_d{}_u{}'.format(phi_label, target_qubit, control_drive.index))\n",
    "        cancel_echo = pulse.Gaussian(duration=duration, amp=cr_amp, sigma=sigma, name='ACR{}m_u{}'.format(phi_label, control_drive.index))\n",
    "        cancel_rotary_echo = pulse.Gaussian(duration=duration, amp=crr_amp, sigma=sigma, name='ACR{}m_d{}_u{}'.format(phi_label, target_qubit, control_drive.index))\n",
    "        \n",
    "    else:\n",
    "        duration = 2 * flank_width\n",
    "        cr_pulse = pulse.Gaussian(duration=duration, amp=cr_amp, sigma=sigma, name='CR{}p_u{}'.format(phi_label, control_drive.index))\n",
    "        cr_rotary_pulse = pulse.Gaussian(duration=duration, amp=crr_amp, sigma=sigma, name='CR{}p_d{}_u{}'.format(phi_label, target_qubit, control_drive.index))\n",
    "        cr_echo = pulse.Gaussian(duration=duration, amp=-cr_amp, sigma=sigma, name='CR{}m_u{}'.format(phi_label, control_drive.index))\n",
    "        cr_rotary_echo = pulse.Gaussian(duration=duration, amp=-crr_amp, sigma=sigma, name='CR{}m_d{}_u{}'.format(phi_label, target_qubit, control_drive.index))\n",
    "        \n",
    "        duration = int(np.ceil((-width + 2 * flank_width) / 16.) * 16)\n",
    "        cancel_pulse = pulse.GaussianSquare(duration=duration, amp=-cr_amp, sigma=sigma, width=-width, name='ACR{}p_u{}'.format(phi_label, control_drive.index))\n",
    "        cancel_rotary_pulse = pulse.GaussianSquare(duration=duration, amp=-crr_amp, sigma=sigma, width=-width, name='ACR{}p_d{}_u{}'.format(phi_label, target_qubit, control_drive.index))\n",
    "        cancel_echo = pulse.GaussianSquare(duration=duration, amp=cr_amp, sigma=sigma, width=-width, name='ACR{}m_u{}'.format(phi_label, control_drive.index))\n",
    "        cancel_rotary_echo = pulse.GaussianSquare(duration=duration, amp=crr_amp, sigma=sigma, width=-width, name='ACR{}m_d{}_u{}'.format(phi_label, target_qubit, control_drive.index))\n",
    "\n",
    "    with pulse.build(backend=backend, default_alignment='sequential', name='cr_gate_core') as cr_core_sched:\n",
    "        ## echo (without the first X on control)\n",
    "        with pulse.align_left():\n",
    "            pulse.play(cr_echo, control_drive)\n",
    "            pulse.play(cancel_echo, control_drive)\n",
    "            pulse.play(cr_rotary_echo, target_qubit_drive)\n",
    "            pulse.play(cancel_rotary_echo, target_qubit_drive)\n",
    "\n",
    "        pulse.play(x_pulse, control_qubit_drive)\n",
    "\n",
    "        ## forward\n",
    "        with pulse.align_left():\n",
    "            pulse.play(cr_pulse, control_drive)\n",
    "            pulse.play(cancel_pulse, control_drive)\n",
    "            pulse.play(cr_rotary_pulse, target_qubit_drive)\n",
    "            pulse.play(cancel_rotary_pulse, target_qubit_drive)\n",
    "            \n",
    "    return cr_core_sched"
   ]
  },
  {
   "cell_type": "code",
   "execution_count": 5,
   "id": "9f0bf3c5-36fc-4ebc-909c-5f49cf57abbf",
   "metadata": {},
   "outputs": [],
   "source": [
    "def linearized_rzx(phi_value, cx_schedule, phi_at_cx_width, backend, with_schedule=False, correction_params=None):\n",
    "    register = QuantumRegister(2)\n",
    "    \n",
    "    if phi_value == 0.:\n",
    "        circuit = QuantumCircuit(register)\n",
    "\n",
    "        if with_schedule:\n",
    "            return circuit, pulse.Schedule(name='cr_gate_core')\n",
    "        else:\n",
    "            return circuit\n",
    "\n",
    "    instructions = cx_schedule.instructions\n",
    "\n",
    "    control_qubit_drive = instructions[0][1].channel # ShiftPhase\n",
    "    control_qubit = control_qubit_drive.index\n",
    "    target_qubit_drive = instructions[5][1].channel # Drag\n",
    "    target_qubit = target_qubit_drive.index\n",
    "    \n",
    "    cx_cr_pulse = get_instruction_by_name(cx_schedule, r'CR90p_u[0-9]+$').pulse\n",
    "    \n",
    "    phi_to_width = cx_cr_pulse.width / phi_at_cx_width \n",
    "\n",
    "    width = phi_value * phi_to_width\n",
    "\n",
    "    if correction_params is not None:\n",
    "        width -= (correction_params[0] * phi_value + correction_params[1]) * phi_to_width\n",
    "        \n",
    "    cr_core_sched = linearized_cr_core_schedule(width, cx_schedule, backend, phi_label=int(np.round(phi_value / np.pi * 180.)))\n",
    "            \n",
    "    cr_core_gate = Gate('cr_core_gate', 2, [])\n",
    "    \n",
    "    circuit = QuantumCircuit(register)\n",
    "    circuit.x(0)\n",
    "    circuit.append(cr_core_gate, (0, 1))\n",
    "\n",
    "    circuit.add_calibration('cr_core_gate', (control_qubit, target_qubit), cr_core_sched)\n",
    "    \n",
    "    if with_schedule:\n",
    "        return circuit, cr_core_sched\n",
    "    else:\n",
    "        return circuit"
   ]
  },
  {
   "cell_type": "code",
   "execution_count": 6,
   "id": "42d7134b-6d22-429b-938b-719b7cb73325",
   "metadata": {},
   "outputs": [],
   "source": [
    "#from qiskit_private_tools import backends_table, my_backends\n",
    "\n",
    "#backends_table()\n",
    "#backend = my_backends['ibm_kawasaki']"
   ]
  },
  {
   "cell_type": "code",
   "execution_count": 7,
   "id": "6769b593-cd2b-4a93-b1b4-1c08a530dcdc",
   "metadata": {},
   "outputs": [],
   "source": [
    "IBMQ.load_account()\n",
    "provider = IBMQ.get_provider(hub='ibm-q-utokyo', group='internal', project='icepp')\n",
    "backend = provider.get_backend('ibm_kawasaki')"
   ]
  },
  {
   "cell_type": "code",
   "execution_count": 8,
   "id": "9d760f21-ec57-4340-abf4-18a41d9b18ef",
   "metadata": {},
   "outputs": [],
   "source": [
    "control_qubit = 12\n",
    "target_qubit = 13\n",
    "\n",
    "backend_config = backend.configuration()\n",
    "backend_defaults = backend.defaults()\n",
    "calibrations = backend_defaults.instruction_schedule_map\n",
    "cx_schedule = calibrations.get('cx', [control_qubit, target_qubit])"
   ]
  },
  {
   "cell_type": "markdown",
   "id": "96c6c6c4-62b0-42ae-86fa-d02dcdac4f5e",
   "metadata": {},
   "source": [
    "## Initial calibration"
   ]
  },
  {
   "cell_type": "code",
   "execution_count": 9,
   "id": "d30f9d79-98d3-463f-aecf-888610c94f43",
   "metadata": {},
   "outputs": [
    {
     "name": "stdout",
     "output_type": "stream",
     "text": [
      "((0, ShiftPhase(1.5707963267948966, DriveChannel(12))),\n",
      " (0, ShiftPhase(1.5707963267948966, ControlChannel(21))),\n",
      " (0, ShiftPhase(1.5707963267948966, ControlChannel(27))),\n",
      " (0, ShiftPhase(1.5707963267948966, ControlChannel(32))),\n",
      " (0,\n",
      "  Play(Drag(duration=160, amp=(-3.5219533484902005e-17-0.19172621041660456j), sigma=40, beta=0.2924140638154531, name='Ym_d12'), DriveChannel(12), name='Ym_d12')),\n",
      " (0,\n",
      "  Play(Drag(duration=160, amp=(0.08974290638732331+0.0017556567031520968j), sigma=40, beta=-1.1910275152487093, name='X90p_d13'), DriveChannel(13), name='X90p_d13')),\n",
      " (160,\n",
      "  Play(GaussianSquare(duration=752, amp=(0.040256367422137306+0.0014073244137279123j), sigma=64, width=496, name='CR90p_d13_u25'), DriveChannel(13), name='CR90p_d13_u25')),\n",
      " (160,\n",
      "  Play(GaussianSquare(duration=752, amp=(-0.07411418145274588+0.1632052228883244j), sigma=64, width=496, name='CR90p_u25'), ControlChannel(25), name='CR90p_u25')),\n",
      " (912,\n",
      "  Play(Drag(duration=160, amp=(0.19172621041660456+0j), sigma=40, beta=0.2924140638154531, name='Xp_d12'), DriveChannel(12), name='Xp_d12')),\n",
      " (1072,\n",
      "  Play(GaussianSquare(duration=752, amp=(-0.040256367422137306-0.0014073244137279073j), sigma=64, width=496, name='CR90m_d13_u25'), DriveChannel(13), name='CR90m_d13_u25')),\n",
      " (1072,\n",
      "  Play(GaussianSquare(duration=752, amp=(0.07411418145274587-0.1632052228883244j), sigma=64, width=496, name='CR90m_u25'), ControlChannel(25), name='CR90m_u25')))\n"
     ]
    }
   ],
   "source": [
    "import pprint\n",
    "pprint.pprint(cx_schedule.instructions)"
   ]
  },
  {
   "cell_type": "code",
   "execution_count": 10,
   "id": "5493b767-a941-45e7-a516-f5c860d1cae6",
   "metadata": {},
   "outputs": [],
   "source": [
    "do_initial_calibration = False\n",
    "\n",
    "cx_cr_pulse = get_instruction_by_name(cx_schedule, r'CR90p_u[0-9]+$').pulse\n",
    "phi_at_cx_width = cx_cr_pulse.width # -> phi to width conversion factor = 1\n",
    "\n",
    "if do_initial_calibration:\n",
    "    circuits = []\n",
    "    for width in range(0, 2 * cx_cr_pulse.width + 1, 32):\n",
    "        circuit = linearized_rzx(width, cx_schedule, phi_at_cx_width, backend)\n",
    "        circuit.measure_all()\n",
    "        circuits.append(circuit)\n",
    "\n",
    "    circuits = transpile(circuits, backend=backend, initial_layout=[control_qubit, target_qubit])\n",
    "\n",
    "    job = backend.run(circuits, shots=8192)\n",
    "    print(job.job_id())\n",
    "\n",
    "    job_monitor(job)\n",
    "\n",
    "    result = job.result()\n",
    "    print(result.get_counts())\n",
    "\n",
    "    x_values = np.arange(0, 2 * cx_cr_pulse.width + 1, 32)\n",
    "    y_values = plot_counts(result, ['00', '01'], x=x_values)\n",
    "\n",
    "    init_params = [np.pi / 900., 0., 0.5, 0.5]\n",
    "    fitparams, conv = scipy.optimize.curve_fit(lambda width, v, phi0, amp, offset: offset + amp * np.cos(width * v + phi0), x_values, y_values, init_params)\n",
    "\n",
    "    print(fitparams)\n",
    "\n",
    "    plt.scatter(x_values, y_values)\n",
    "    plt.plot(x_values, fitparams[3] + fitparams[2] * np.cos(fitparams[0] * x_values + fitparams[1]))\n",
    "    plt.show()\n",
    "    \n",
    "    v, phi0, amp, offset = fitparams\n",
    "    \n",
    "else:\n",
    "    v, phi0, amp, offset = [0.00247021, 0.07510248, 0.47842419, 0.51180525]"
   ]
  },
  {
   "cell_type": "markdown",
   "id": "f61d5801-e01d-42b5-b14d-a394c810ce86",
   "metadata": {},
   "source": [
    "## Sanity check - does the same experiment with width shifted by $-\\phi_0 / \\alpha$ give the same fit parameters?"
   ]
  },
  {
   "cell_type": "code",
   "execution_count": 11,
   "id": "42d9b10a-80e0-481e-b4cb-a685c93a28b9",
   "metadata": {},
   "outputs": [],
   "source": [
    "widths = np.linspace(-phi0 / v, 1000. - phi0 / v, 32)\n",
    "circuits = []\n",
    "for width in widths:\n",
    "    circuit = linearized_rzx(width, cx_schedule, phi_at_cx_width, backend)\n",
    "    circuit.measure_all()\n",
    "    circuits.append(circuit)\n",
    "\n",
    "circuits = transpile(circuits, backend=backend, initial_layout=[control_qubit, target_qubit])\n",
    "\n",
    "#job = backend.run(circuits, shots=8192)\n",
    "#print(job.job_id())\n",
    "\n",
    "#job_monitor(job)\n",
    "\n",
    "job = backend.retrieve_job('615abad920df549b875e3645')"
   ]
  },
  {
   "cell_type": "code",
   "execution_count": 12,
   "id": "6e638045-fe13-42cb-b0c9-98c83d5827e7",
   "metadata": {},
   "outputs": [
    {
     "name": "stdout",
     "output_type": "stream",
     "text": [
      "[{'00': 7939, '01': 115, '10': 130, '11': 8}, {'00': 7977, '01': 121, '10': 86, '11': 8}, {'00': 7938, '01': 100, '10': 143, '11': 11}, {'00': 7864, '01': 108, '10': 212, '11': 8}, {'00': 7762, '01': 103, '10': 319, '11': 8}, {'00': 7672, '01': 110, '10': 402, '11': 8}, {'00': 7543, '01': 100, '10': 535, '11': 14}, {'00': 7407, '01': 111, '10': 666, '11': 8}, {'00': 7174, '01': 104, '10': 901, '11': 13}, {'00': 7064, '01': 112, '10': 1004, '11': 12}, {'00': 6770, '01': 117, '10': 1291, '11': 14}, {'00': 6604, '01': 122, '10': 1455, '11': 11}, {'00': 6318, '01': 106, '10': 1755, '11': 13}, {'00': 6062, '01': 107, '10': 2010, '11': 13}, {'00': 5789, '01': 116, '10': 2270, '11': 17}, {'00': 5507, '01': 106, '10': 2562, '11': 17}, {'00': 5242, '01': 96, '10': 2836, '11': 18}, {'00': 4834, '01': 108, '10': 3235, '11': 15}, {'00': 4651, '01': 120, '10': 3400, '11': 21}, {'00': 4254, '01': 104, '10': 3808, '11': 26}, {'00': 4014, '01': 121, '10': 4033, '11': 24}, {'00': 3625, '01': 110, '10': 4427, '11': 30}, {'00': 3466, '01': 122, '10': 4579, '11': 25}, {'00': 3164, '01': 125, '10': 4872, '11': 31}, {'00': 2750, '01': 113, '10': 5292, '11': 37}, {'00': 2501, '01': 127, '10': 5532, '11': 32}, {'00': 2252, '01': 105, '10': 5800, '11': 35}, {'00': 2003, '01': 98, '10': 6059, '11': 32}, {'00': 1763, '01': 93, '10': 6304, '11': 32}, {'00': 1431, '01': 108, '10': 6614, '11': 39}, {'00': 1220, '01': 108, '10': 6822, '11': 42}, {'00': 1023, '01': 117, '10': 7020, '11': 32}]\n"
     ]
    },
    {
     "data": {
      "image/png": "[encoded data removed]",
      "text/plain": [
       "<Figure size 432x288 with 1 Axes>"
      ]
     },
     "metadata": {
      "needs_background": "light"
     },
     "output_type": "display_data"
    },
    {
     "name": "stdout",
     "output_type": "stream",
     "text": [
      "[0.00242805 0.08753486 0.48039631 0.50734138]\n"
     ]
    },
    {
     "data": {
      "image/png": "[encoded data removed]",
      "text/plain": [
       "<Figure size 432x288 with 1 Axes>"
      ]
     },
     "metadata": {
      "needs_background": "light"
     },
     "output_type": "display_data"
    }
   ],
   "source": [
    "result = job.result()\n",
    "print(result.get_counts())\n",
    "\n",
    "x_values = widths\n",
    "y_values = plot_counts(result, ['00', '01'], x=x_values)\n",
    "\n",
    "init_params = [np.pi / 900., 0., 0.5, 0.5]\n",
    "fitparams, conv = scipy.optimize.curve_fit(lambda width, v, phi0, amp, offset: offset + amp * np.cos(width * v + phi0), x_values, y_values, init_params)\n",
    "\n",
    "print(fitparams)\n",
    "\n",
    "plt.scatter(x_values, y_values)\n",
    "plt.plot(x_values, fitparams[3] + fitparams[2] * np.cos(fitparams[0] * x_values + fitparams[1]))\n",
    "plt.plot(x_values, fitparams[3] + fitparams[2] * np.cos(fitparams[0] * x_values))\n",
    "plt.scatter([(0.1 - fitparams[1]) / fitparams[0]], [fitparams[3] + fitparams[2] * np.cos(0.1)])\n",
    "plt.show()"
   ]
  },
  {
   "cell_type": "markdown",
   "id": "ece82594-8467-4e59-9d6a-fbdb2dd03d21",
   "metadata": {},
   "source": [
    "### Discrepancy between the targeted $\\phi$ from the initial calibration and the realized $\\phi$\n",
    "\n",
    "Negligible at large $\\phi$, but inevitably large for small $\\phi$ which is where the direct $R_{xz}$ is supposed to be useful the most."
   ]
  },
  {
   "cell_type": "code",
   "execution_count": 13,
   "id": "ae23fb2d-0003-4e3b-b4ad-71498a0cf9c4",
   "metadata": {},
   "outputs": [
    {
     "data": {
      "text/plain": [
       "[<matplotlib.lines.Line2D at 0x7fc22061d3d0>]"
      ]
     },
     "execution_count": 13,
     "metadata": {},
     "output_type": "execute_result"
    },
    {
     "data": {
      "image/png": "[encoded data removed]",
      "text/plain": [
       "<Figure size 432x288 with 1 Axes>"
      ]
     },
     "metadata": {
      "needs_background": "light"
     },
     "output_type": "display_data"
    }
   ],
   "source": [
    "target_phi = widths * v + phi0\n",
    "realized_phi = widths * fitparams[0] + fitparams[1]\n",
    "plt.plot(target_phi, (realized_phi - target_phi))"
   ]
  },
  {
   "cell_type": "markdown",
   "id": "2baf7598-5b9e-4b34-9aee-d2fabe7a1d01",
   "metadata": {},
   "source": [
    "## Error accumulation experiment"
   ]
  },
  {
   "cell_type": "code",
   "execution_count": 14,
   "id": "9fa5a985-5b76-40bb-806a-8b789f4c7c12",
   "metadata": {},
   "outputs": [],
   "source": [
    "w01 = (0.1 - fitparams[1]) / fitparams[0]\n",
    "\n",
    "rzx_circuit = linearized_rzx(w01, cx_schedule, phi_at_cx_width, backend)\n",
    "\n",
    "circuits = []\n",
    "\n",
    "for nrep in range(1, 11):\n",
    "    circuit = QuantumCircuit(rzx_circuit.qregs[0])\n",
    "    for _ in range(nrep):\n",
    "        circuit.compose(rzx_circuit, inplace=True)\n",
    "    circuit.measure_all()\n",
    "    circuits.append(circuit)\n",
    "    \n",
    "for phi_value in np.linspace(0.1, 1., 10):\n",
    "    width = (phi_value - fitparams[1]) / fitparams[0]\n",
    "    circuit = linearized_rzx(width, cx_schedule, phi_at_cx_width, backend)\n",
    "    circuit.measure_all()\n",
    "    circuits.append(circuit)\n",
    "    \n",
    "circuits = transpile(circuits, backend=backend, initial_layout=[control_qubit, target_qubit])\n",
    "\n",
    "#job = backend.run(circuits, shots=8192)\n",
    "#print(job.job_id())\n",
    "\n",
    "#job_monitor(job)\n",
    "\n",
    "job = backend.retrieve_job('615c6ac9da98d5493d2b9491')"
   ]
  },
  {
   "cell_type": "code",
   "execution_count": 15,
   "id": "c6cabd9e-4063-497d-b92d-b587590c4f2e",
   "metadata": {},
   "outputs": [],
   "source": [
    "result = job.result()"
   ]
  },
  {
   "cell_type": "code",
   "execution_count": 16,
   "id": "de6d8194-2ef1-41f9-a759-6923a666c708",
   "metadata": {},
   "outputs": [
    {
     "data": {
      "image/png": "[encoded data removed]",
      "text/plain": [
       "<Figure size 432x288 with 1 Axes>"
      ]
     },
     "metadata": {
      "needs_background": "light"
     },
     "output_type": "display_data"
    },
    {
     "data": {
      "image/png": "[encoded data removed]",
      "text/plain": [
       "<Figure size 432x288 with 1 Axes>"
      ]
     },
     "metadata": {
      "needs_background": "light"
     },
     "output_type": "display_data"
    },
    {
     "data": {
      "text/plain": [
       "[<matplotlib.lines.Line2D at 0x7fc2204dedf0>]"
      ]
     },
     "execution_count": 16,
     "metadata": {},
     "output_type": "execute_result"
    },
    {
     "data": {
      "image/png": "[encoded data removed]",
      "text/plain": [
       "<Figure size 432x288 with 1 Axes>"
      ]
     },
     "metadata": {
      "needs_background": "light"
     },
     "output_type": "display_data"
    }
   ],
   "source": [
    "x_values = np.linspace(0.1, 1., 10)\n",
    "y_incr = plot_counts(result, ['00', '01'], x=x_values, indices=np.arange(10))\n",
    "y_direct = plot_counts(result, ['00', '01'], x=x_values, indices=np.arange(10, 20))\n",
    "plt.scatter(x_values, y_incr)\n",
    "plt.scatter(x_values, y_direct)\n",
    "plt.plot(x_values, 0.5 * np.cos(x_values) + 0.5)"
   ]
  },
  {
   "cell_type": "markdown",
   "id": "d4fa1873-b44f-40c0-94fd-0f7e8d3a75ea",
   "metadata": {},
   "source": [
    "Error accumulates quite significantly"
   ]
  },
  {
   "cell_type": "markdown",
   "id": "b635f323-f5e3-47a1-a076-7c0730b11e48",
   "metadata": {},
   "source": [
    "## Error accumulation with pulse-efficient scheme"
   ]
  },
  {
   "cell_type": "code",
   "execution_count": 17,
   "id": "87594236-8570-4eb7-80fd-06ca81cf3da3",
   "metadata": {},
   "outputs": [],
   "source": [
    "rzx_circuit = pulse_efficient_rzx(0.1, cx_schedule, backend)\n",
    "\n",
    "circuits = []\n",
    "\n",
    "for nrep in range(1, 11):\n",
    "    circuit = QuantumCircuit(rzx_circuit.qregs[0])\n",
    "    for _ in range(nrep):\n",
    "        circuit.compose(rzx_circuit, inplace=True)\n",
    "    circuit.measure_all()\n",
    "    circuits.append(circuit)\n",
    "    \n",
    "for phi_value in np.linspace(0.1, 1., 10):\n",
    "    circuit = pulse_efficient_rzx(phi_value, cx_schedule, backend)\n",
    "    circuit.measure_all()\n",
    "    circuits.append(circuit)\n",
    "    \n",
    "circuits = transpile(circuits, backend=backend, initial_layout=[control_qubit, target_qubit])\n",
    "\n",
    "#job = backend.run(circuits, shots=8192)\n",
    "#print(job.job_id())\n",
    "\n",
    "#job_monitor(job)\n",
    "\n",
    "job = backend.retrieve_job('615c6b0e8fd55f06b9fac621')"
   ]
  },
  {
   "cell_type": "code",
   "execution_count": 18,
   "id": "719ea2e9-6674-4e48-aeb1-201dd752804e",
   "metadata": {},
   "outputs": [
    {
     "data": {
      "image/png": "[encoded data removed]",
      "text/plain": [
       "<Figure size 432x288 with 1 Axes>"
      ]
     },
     "metadata": {
      "needs_background": "light"
     },
     "output_type": "display_data"
    },
    {
     "data": {
      "image/png": "[encoded data removed]",
      "text/plain": [
       "<Figure size 432x288 with 1 Axes>"
      ]
     },
     "metadata": {
      "needs_background": "light"
     },
     "output_type": "display_data"
    },
    {
     "data": {
      "text/plain": [
       "[<matplotlib.lines.Line2D at 0x7fc2203403d0>]"
      ]
     },
     "execution_count": 18,
     "metadata": {},
     "output_type": "execute_result"
    },
    {
     "data": {
      "image/png": "[encoded data removed]",
      "text/plain": [
       "<Figure size 432x288 with 1 Axes>"
      ]
     },
     "metadata": {
      "needs_background": "light"
     },
     "output_type": "display_data"
    }
   ],
   "source": [
    "result = job.result()\n",
    "\n",
    "x_values = np.linspace(0.1, 1., 10)\n",
    "y_incr = plot_counts(result, ['00', '01'], x=x_values, indices=np.arange(10))\n",
    "y_direct = plot_counts(result, ['00', '01'], x=x_values, indices=np.arange(10, 20))\n",
    "plt.scatter(x_values, y_incr)\n",
    "plt.scatter(x_values, y_direct)\n",
    "plt.plot(x_values, 0.5 * np.cos(x_values) + 0.5)"
   ]
  },
  {
   "cell_type": "markdown",
   "id": "bd4b6539-685a-4e25-96e5-9e823aa354dc",
   "metadata": {},
   "source": [
    "## Error accumulation with CNOT"
   ]
  },
  {
   "cell_type": "code",
   "execution_count": 19,
   "id": "8950c3ea-4746-4643-b699-0bd9bbfe329b",
   "metadata": {},
   "outputs": [],
   "source": [
    "circuits = []\n",
    "\n",
    "for nrep in range(1, 11):\n",
    "    circuit = QuantumCircuit(2)\n",
    "    for _ in range(nrep):\n",
    "        circuit.rzx(0.1, 0, 1)\n",
    "        circuit.barrier()\n",
    "    circuit.measure_all()\n",
    "    circuits.append(circuit)\n",
    "    \n",
    "circuits = transpile(circuits, backend=backend, initial_layout=[control_qubit, target_qubit])"
   ]
  },
  {
   "cell_type": "code",
   "execution_count": 24,
   "id": "84d8c49f-95fb-4afd-bb95-9bc68c8dd132",
   "metadata": {},
   "outputs": [
    {
     "data": {
      "image/png": "[encoded data removed]",
      "text/plain": [
       "<Figure size 1642.51x445.48 with 1 Axes>"
      ]
     },
     "execution_count": 24,
     "metadata": {},
     "output_type": "execute_result"
    }
   ],
   "source": [
    "circuits[2].draw('mpl', idle_wires=False)"
   ]
  },
  {
   "cell_type": "code",
   "execution_count": 21,
   "id": "38b8122c-4f4c-4f72-a105-d96e69e33a58",
   "metadata": {},
   "outputs": [],
   "source": [
    "#job = backend.run(circuits, shots=8192)\n",
    "#print(job.job_id())\n",
    "\n",
    "#job_monitor(job)"
   ]
  },
  {
   "cell_type": "code",
   "execution_count": 22,
   "id": "7254cd8e-b97b-412d-858b-d56fcddcaa8a",
   "metadata": {},
   "outputs": [],
   "source": [
    "job = backend.retrieve_job('615c081520df541a775e42a7')"
   ]
  },
  {
   "cell_type": "code",
   "execution_count": 23,
   "id": "ff1df4d4-cedb-408b-81e0-9893c7203bd6",
   "metadata": {},
   "outputs": [
    {
     "data": {
      "image/png": "[encoded data removed]",
      "text/plain": [
       "<Figure size 432x288 with 1 Axes>"
      ]
     },
     "metadata": {
      "needs_background": "light"
     },
     "output_type": "display_data"
    },
    {
     "data": {
      "text/plain": [
       "[<matplotlib.lines.Line2D at 0x7fc21038cb80>]"
      ]
     },
     "execution_count": 23,
     "metadata": {},
     "output_type": "execute_result"
    },
    {
     "data": {
      "image/png": "[encoded data removed]",
      "text/plain": [
       "<Figure size 432x288 with 1 Axes>"
      ]
     },
     "metadata": {
      "needs_background": "light"
     },
     "output_type": "display_data"
    }
   ],
   "source": [
    "result = job.result()\n",
    "\n",
    "x_values = np.linspace(0.1, 1., 10)\n",
    "y_values = plot_counts(result, ['00', '01'], x=x_values)\n",
    "plt.scatter(x_values, y_values)\n",
    "plt.plot(x_values, np.cos(x_values))"
   ]
  }
 ],
 "metadata": {
  "kernelspec": {
   "display_name": "Python 3 (ipykernel)",
   "language": "python",
   "name": "python3"
  },
  "language_info": {
   "codemirror_mode": {
    "name": "ipython",
    "version": 3
   },
   "file_extension": ".py",
   "mimetype": "text/x-python",
   "name": "python",
   "nbconvert_exporter": "python",
   "pygments_lexer": "ipython3",
   "version": "3.8.10"
  }
 },
 "nbformat": 4,
 "nbformat_minor": 5
}

{
 "cells": [
  {
   "cell_type": "markdown",
   "id": "3b607c36-4761-4ce4-a301-d1ea80d9a7c0",
   "metadata": {},
   "source": [
    "# Compare the precision of $R_{ZZ}(\\phi) = \\exp(-i \\frac{\\phi}{2} Z Z)$ at low $\\phi$\n",
    "\n",
    "Experiment:\n",
    "Run $R_{ZZ}(\\phi)$ for $0 < \\phi < \\frac{\\pi}{2}$ (40 points). For each point, do a full process tomography.\n",
    "\n",
    "- CNOT-based implementation\n",
    "- Implementation in 2105.01063\n",
    "- Linearized implementation"
   ]
  },
  {
   "cell_type": "code",
   "execution_count": 1,
   "id": "c10f35ff-804a-4aec-8311-43ff04dc2fc0",
   "metadata": {},
   "outputs": [
    {
     "data": {
      "text/plain": [
       "<AccountProvider for IBMQ(hub='ibm-q', group='open', project='main')>"
      ]
     },
     "execution_count": 1,
     "metadata": {},
     "output_type": "execute_result"
    }
   ],
   "source": [
    "import numpy as np\n",
    "import scipy\n",
    "import matplotlib.pyplot as plt\n",
    "import pprint\n",
    "\n",
    "from qiskit import pulse, QuantumCircuit, QuantumRegister, ClassicalRegister, transpile, IBMQ\n",
    "from qiskit.circuit import Gate, Parameter\n",
    "from qiskit.circuit.barrier import Barrier\n",
    "from qiskit import schedule as build_schedule\n",
    "from qiskit.ignis.verification.tomography import process_tomography_circuits\n",
    "from qiskit.tools.monitor import job_monitor\n",
    "from qiskit.visualization.pulse_v2 import IQXDebugging\n",
    "\n",
    "from pulse_experiment_utils import *\n",
    "\n",
    "IBMQ.load_account()"
   ]
  },
  {
   "cell_type": "code",
   "execution_count": 2,
   "id": "f17376a8-a26c-41e2-ac5a-f12546c39cb4",
   "metadata": {},
   "outputs": [],
   "source": [
    "#provider = IBMQ.get_provider(hub='ibm-q-utokyo', group='internal', project='q-comp-training')\n",
    "provider = IBMQ.get_provider(hub='ibm-q-utokyo', group='internal', project='icepp')\n",
    "backend = provider.get_backend('ibm_kawasaki')\n",
    "#backend = provider.get_backend('ibmq_montreal')\n",
    "#backend = provider.get_backend('ibmq_bogota')\n",
    "#backend = provider.get_backend('ibmq_toronto')"
   ]
  },
  {
   "cell_type": "code",
   "execution_count": 3,
   "id": "0936a708-0cf2-458b-b317-f997d74de991",
   "metadata": {},
   "outputs": [],
   "source": [
    "control_qubit = 12\n",
    "target_qubit = 13\n",
    "li_correction_parameters = (-0.06197974  0.04280589)\n",
    "\n",
    "backend_config = backend.configuration()\n",
    "backend_defaults = backend.defaults()\n",
    "dt = backend_config.dt\n",
    "calibrations = backend_defaults.instruction_schedule_map\n",
    "\n",
    "control_drive_channel = backend_config.drive(control_qubit)\n",
    "target_drive_channel = backend_config.drive(target_qubit)\n",
    "control_channel = backend_config.control((control_qubit, target_qubit))[0]"
   ]
  },
  {
   "cell_type": "code",
   "execution_count": 4,
   "id": "012b22b0-e86e-4e10-98bd-8c0e5a3fe829",
   "metadata": {},
   "outputs": [],
   "source": [
    "control_x_pulse = calibrations.get('x', [control_qubit]).instructions[0][1].pulse\n",
    "target_x_pulse = calibrations.get('x', [target_qubit]).instructions[0][1].pulse\n",
    "control_sx_pulse = calibrations.get('sx', [control_qubit]).instructions[0][1].pulse\n",
    "target_sx_pulse = calibrations.get('sx', [target_qubit]).instructions[0][1].pulse\n",
    "cx_sched = calibrations.get('cx', [control_qubit, target_qubit])\n",
    "cr45_rotary_pulse = next(inst[1].pulse for inst in cx_sched.instructions if inst[1].name == 'CR90p_d{}_u{}'.format(target_drive_channel.index, control_channel.index))\n",
    "cr45_pulse = next(inst[1].pulse for inst in cx_sched.instructions if inst[1].name == 'CR90p_u{}'.format(control_channel.index))"
   ]
  },
  {
   "cell_type": "code",
   "execution_count": 5,
   "id": "b264dcb2-5b88-4c4a-99db-40400048b4ed",
   "metadata": {},
   "outputs": [],
   "source": [
    "#phi_values = np.concatenate((np.linspace(0., np.pi / 6., 20, endpoint=False), np.linspace(np.pi / 6., np.pi, 10)))\n",
    "#phi_values = np.linspace(np.pi / 6., np.pi * 14. / 54., 6, endpoint=False)\n",
    "#phi_values = np.linspace(0., np.pi / 6., 5, endpoint=False)\n",
    "#phi_values = phi_values[1:]\n",
    "#phi_values = np.linspace(0.52359878, 0.57208014, 5, endpoint=False)[1:]\n",
    "phi_values = np.concatenate((np.linspace(0., np.pi / 6., 20, endpoint=False), np.linspace(np.pi / 6., np.pi * 14. / 54., 6, endpoint=False), np.linspace(np.pi * 14. / 54., np.pi, 9)))\n",
    "#example_index = (17, 60) # 17 is just random, 60 = ((Zm, Xp), (Z, X)) -> validates full gate cancellation (X of ctrl and H & H of target)\n",
    "example_index = (2, 60)\n",
    "#phi_values = np.array([0.1, 0.44, np.pi / 2.])\n",
    "#example_index = (0, 60)"
   ]
  },
  {
   "cell_type": "code",
   "execution_count": 6,
   "id": "b986f2c1-00e9-410e-9501-71f5d705199f",
   "metadata": {},
   "outputs": [],
   "source": [
    "register = QuantumRegister(2)"
   ]
  },
  {
   "cell_type": "code",
   "execution_count": 7,
   "id": "55c208dc-c881-4418-9f29-e66a6a71133a",
   "metadata": {},
   "outputs": [],
   "source": [
    "#experiments = ['cx', 'pe', 'li']\n",
    "experiments = ['li']\n",
    "#experiments = ['pe', 'li']\n",
    "#experiments = ['pe']\n",
    "circuit_lists = dict()"
   ]
  },
  {
   "cell_type": "markdown",
   "id": "ea2a9a14-f410-4694-adf4-b21ecff7294a",
   "metadata": {},
   "source": [
    "## CNOT-based $R_{ZZ}$\n",
    "### Template circuit"
   ]
  },
  {
   "cell_type": "code",
   "execution_count": 8,
   "id": "e604e4b9-abb9-44fe-892f-083f111f4128",
   "metadata": {},
   "outputs": [
    {
     "data": {
      "image/png": "[encoded data removed]",
      "text/plain": [
       "<Figure size 331.09x144.48 with 1 Axes>"
      ]
     },
     "execution_count": 8,
     "metadata": {},
     "output_type": "execute_result"
    }
   ],
   "source": [
    "phi = Parameter('phi')\n",
    "param_circuit = QuantumCircuit(register)\n",
    "param_circuit.cx(0, 1)\n",
    "param_circuit.rz(phi, 1)\n",
    "param_circuit.cx(0, 1)\n",
    "\n",
    "transpile(param_circuit, backend=backend, initial_layout=[control_qubit, target_qubit]).draw('mpl', idle_wires=False)"
   ]
  },
  {
   "cell_type": "markdown",
   "id": "7881d827-9651-4924-97e2-13ab5438afbb",
   "metadata": {},
   "source": [
    "### Circuit generator"
   ]
  },
  {
   "cell_type": "code",
   "execution_count": 9,
   "id": "239f3209-9cc0-42aa-a147-6dfab5291f82",
   "metadata": {},
   "outputs": [],
   "source": [
    "def cx_based_circuit(phi_value):\n",
    "    return param_circuit.assign_parameters({phi: phi_value}, inplace=False)"
   ]
  },
  {
   "cell_type": "markdown",
   "id": "83abc61a-c644-4dd3-9f0a-0bdd31e93a1d",
   "metadata": {},
   "source": [
    "### Circuits to run"
   ]
  },
  {
   "cell_type": "code",
   "execution_count": 10,
   "id": "227b192b-a3ea-484b-ae55-1ea802ad21ac",
   "metadata": {},
   "outputs": [],
   "source": [
    "if 'cx' in experiments:\n",
    "    circuit_lists['cx'] = []\n",
    "    for phi_value in phi_values:\n",
    "        circuits = process_tomography_circuits(cx_based_circuit(phi_value), register)\n",
    "        circuit_lists['cx'].append(transpile(circuits, backend=backend, initial_layout=[control_qubit, target_qubit]))\n",
    "    \n",
    "    circuit = circuit_lists['cx'][example_index[0]][example_index[1]]\n",
    "    print(circuit.name)\n",
    "    circuit.draw('mpl', idle_wires=False)"
   ]
  },
  {
   "cell_type": "markdown",
   "id": "d828724c-990b-4777-8677-406879fcf77d",
   "metadata": {},
   "source": [
    "## $R_{ZZ}$ from 2105.01063 (Pulse-efficient circuit transpilation)"
   ]
  },
  {
   "cell_type": "code",
   "execution_count": 11,
   "id": "38460f00-cfdb-49ea-904f-e961e17ea118",
   "metadata": {},
   "outputs": [],
   "source": [
    "cr = cr45_pulse\n",
    "crr = cr45_rotary_pulse\n",
    "sigma = cr.sigma\n",
    "tail = (cr.duration - cr.width) // 2"
   ]
  },
  {
   "cell_type": "markdown",
   "id": "33ca2401-5880-4686-a4e0-5f9aeb305004",
   "metadata": {},
   "source": [
    "### Circuit generator"
   ]
  },
  {
   "cell_type": "code",
   "execution_count": 12,
   "id": "6e78a7a0-a616-433a-a61c-d2d200e848f2",
   "metadata": {},
   "outputs": [],
   "source": [
    "normal_tail_integral = np.sqrt(np.pi / 2.) * sigma * scipy.special.erf(tail / np.sqrt(2.) / sigma)\n",
    "pedestal = np.exp(-0.5 * np.square(tail / sigma))\n",
    "grounded_tail_integral = (normal_tail_integral - pedestal * tail) / (1. - pedestal)\n",
    "tail_area = np.abs(cr.amp) * grounded_tail_integral\n",
    "cr45_area_norm = np.abs(cr.amp) * cr.width + 2. * tail_area\n",
    "minimum_phi = 2. * np.pi / 4. * (2. * tail_area) / cr45_area_norm\n",
    "\n",
    "def pulse_efficient_circuit(phi_value, with_schedule=False):\n",
    "    if phi_value == 0.:\n",
    "        circuit = QuantumCircuit(register)\n",
    "\n",
    "        if with_schedule:\n",
    "            return circuit, pulse.Schedule(name='cr_gate_core')\n",
    "        else:\n",
    "            return circuit\n",
    "\n",
    "    phi_label = np.round(phi_value / np.pi * 180.)\n",
    "    if phi_value <= minimum_phi:\n",
    "        amp_ratio = phi_value / minimum_phi\n",
    "        duration = 2 * tail\n",
    "        cr_pulse = pulse.Gaussian(duration=duration, amp=(amp_ratio * cr.amp), sigma=sigma, name='CR{}p_u{}'.format(phi_label, control_channel.index))\n",
    "        cr_rotary_pulse = pulse.Gaussian(duration=duration, amp=(amp_ratio * crr.amp), sigma=sigma, name='CR{}p_d{}_u{}'.format(phi_label, target_drive_channel.index, control_channel.index))\n",
    "        cr_echo = pulse.Gaussian(duration=duration, amp=-(amp_ratio * cr.amp), sigma=sigma, name='CR{}m_u{}'.format(phi_label, control_channel.index))\n",
    "        cr_rotary_echo = pulse.Gaussian(duration=duration, amp=-(amp_ratio * crr.amp), sigma=sigma, name='CR{}m_d{}_u{}'.format(phi_label, target_drive_channel.index, control_channel.index))\n",
    "    else:\n",
    "        area = phi_value / 2. / (np.pi / 4.) * cr45_area_norm\n",
    "        width = (area - 2. * tail_area) / np.abs(cr.amp)\n",
    "        duration = get_closest_multiple_of_16(width + 2 * tail)\n",
    "        cr_pulse = pulse.GaussianSquare(duration=duration, amp=cr.amp, sigma=sigma, width=width, name='CR{}p_u{}'.format(phi_label, control_channel.index))\n",
    "        cr_rotary_pulse = pulse.GaussianSquare(duration=duration, amp=crr.amp, sigma=sigma, width=width, name='CR{}p_d{}_u{}'.format(phi_label, target_drive_channel.index, control_channel.index))\n",
    "        cr_echo = pulse.GaussianSquare(duration=duration, amp=-cr.amp, sigma=sigma, width=width, name='CR{}m_u{}'.format(phi_label, control_channel.index))\n",
    "        cr_rotary_echo = pulse.GaussianSquare(duration=duration, amp=-crr.amp, sigma=sigma, width=width, name='CR{}m_d{}_u{}'.format(phi_label, target_drive_channel.index, control_channel.index))\n",
    "    \n",
    "    with pulse.build(backend=backend, default_alignment='sequential', name='cr_gate_core') as cr_core_sched:\n",
    "        ## echo (without the first X on control)\n",
    "        with pulse.align_left():\n",
    "            pulse.play(cr_echo, control_channel, name=cr_echo.name)\n",
    "            pulse.play(cr_rotary_echo, target_drive_channel, name=cr_rotary_echo.name)\n",
    "\n",
    "        pulse.play(control_x_pulse, control_drive_channel, name=control_x_pulse.name)\n",
    "\n",
    "        ## forward\n",
    "        with pulse.align_left():\n",
    "            pulse.play(cr_pulse, control_channel, name=cr_pulse.name)\n",
    "            pulse.play(cr_rotary_pulse, target_drive_channel, name=cr_rotary_pulse.name)\n",
    "            \n",
    "    cr_core_gate = Gate('cr_core_gate', 2, [])\n",
    "    \n",
    "    circuit = QuantumCircuit(register)\n",
    "    circuit.x(0)\n",
    "    circuit.h(1)\n",
    "    circuit.append(cr_core_gate, (0, 1))\n",
    "    circuit.h(1)\n",
    "\n",
    "    circuit.add_calibration('cr_core_gate', (control_qubit, target_qubit), cr_core_sched)\n",
    "    \n",
    "    if with_schedule:\n",
    "        return circuit, cr_core_sched\n",
    "    else:\n",
    "        return circuit"
   ]
  },
  {
   "cell_type": "markdown",
   "id": "30c7eedd-c268-4244-bd0c-9db13dc93167",
   "metadata": {},
   "source": [
    "### Sample schedule ($R_{ZX}(\\frac{\\pi}{2})$ minus X) and circuit"
   ]
  },
  {
   "cell_type": "code",
   "execution_count": 13,
   "id": "1447bb6e-8bbe-407c-bf40-21a85c1490a7",
   "metadata": {},
   "outputs": [
    {
     "data": {
      "image/png": "[encoded data removed]",
      "text/plain": [
       "<Figure size 936x550.8 with 1 Axes>"
      ]
     },
     "execution_count": 13,
     "metadata": {},
     "output_type": "execute_result"
    }
   ],
   "source": [
    "circuit, schedule = pulse_efficient_circuit(np.pi / 2., with_schedule=True)\n",
    "schedule.draw(style=IQXDebugging())"
   ]
  },
  {
   "cell_type": "code",
   "execution_count": 14,
   "id": "611b0972-4005-4801-82f8-1d65b8b7b071",
   "metadata": {},
   "outputs": [
    {
     "data": {
      "image/png": "[encoded data removed]",
      "text/plain": [
       "<Figure size 692.29x144.48 with 1 Axes>"
      ]
     },
     "execution_count": 14,
     "metadata": {},
     "output_type": "execute_result"
    }
   ],
   "source": [
    "circuit = transpile(circuit, backend=backend, initial_layout=[control_qubit, target_qubit])\n",
    "circuit.draw('mpl', idle_wires=False)"
   ]
  },
  {
   "cell_type": "markdown",
   "id": "714f4410-5238-4035-8c0d-b9066f2cbc62",
   "metadata": {},
   "source": [
    "### Circuits to run"
   ]
  },
  {
   "cell_type": "code",
   "execution_count": 15,
   "id": "7166b1eb-7ae0-4763-bef5-a2979449528b",
   "metadata": {},
   "outputs": [],
   "source": [
    "if 'pe' in experiments:\n",
    "    circuit_lists['pe'] = []\n",
    "    for phi_value in phi_values:\n",
    "        circuits = process_tomography_circuits(pulse_efficient_circuit(phi_value), register)\n",
    "        # Remove the barriers\n",
    "        circuits = [remove_barriers(circuit) for circuit in circuits]\n",
    "        # Transpile\n",
    "        circuit_lists['pe'].append(transpile(circuits, backend=backend, initial_layout=[control_qubit, target_qubit]))\n",
    "        \n",
    "    circuit = circuit_lists['pe'][example_index[0]][example_index[1]]\n",
    "    print(circuit.name)\n",
    "    circuit.draw('mpl', idle_wires=False)"
   ]
  },
  {
   "cell_type": "markdown",
   "id": "e76c292f-ebf1-477b-bfcb-d9ea39bb6fd9",
   "metadata": {},
   "source": [
    "## Linearized $R_{ZZ}$"
   ]
  },
  {
   "cell_type": "markdown",
   "id": "3a6f0508-76f2-405c-9957-2ad42ea97da4",
   "metadata": {},
   "source": [
    "- First idea: Let GaussianSquare align itself with multiples of 16 by extending the tails. Calibration is for 2 sigma but having additional sigmas should not matter too much.\n",
    "\n",
    "- Second idea: Define a pulse shape class that adds an internal delay to make the overall duration a multiple of 16 while driving only with 2 sigmas (See PaddedGaussianSquare in pulse_experiment_utilsß)  \n",
    "  -> Did not work; qiskit sends pulse class names and parameter values rather than the actual waveform."
   ]
  },
  {
   "cell_type": "markdown",
   "id": "a15d0705-8cca-438a-8474-34f41c028871",
   "metadata": {},
   "source": [
    "### Schedule generator"
   ]
  },
  {
   "cell_type": "code",
   "execution_count": 16,
   "id": "f3ce3865-5bfe-404e-8c3e-4cff56b58aa0",
   "metadata": {},
   "outputs": [],
   "source": [
    "def make_cr_core(width, phi_label=0, cancel_width=None):\n",
    "    target_duration = int(np.ceil((width + 2 * tail) / 16.) * 16)\n",
    "    cr_pulse = pulse.GaussianSquare(duration=target_duration, amp=cr.amp, sigma=sigma, width=width, name='CR{}p_u{}'.format(phi_label, control_channel.index))\n",
    "    cr_rotary_pulse = pulse.GaussianSquare(duration=target_duration, amp=crr.amp, sigma=sigma, width=width, name='CR{}p_d{}_u{}'.format(phi_label, target_drive_channel.index, control_channel.index))\n",
    "    cr_echo = pulse.GaussianSquare(duration=target_duration, amp=-cr.amp, sigma=sigma, width=width, name='CR{}m_u{}'.format(phi_label, control_channel.index))\n",
    "    cr_rotary_echo = pulse.GaussianSquare(duration=target_duration, amp=-crr.amp, sigma=sigma, width=width, name='CR{}m_d{}_u{}'.format(phi_label, target_drive_channel.index, control_channel.index))\n",
    "\n",
    "#    target_duration = int(np.round(width + 2 * tail))\n",
    "#    cr_pulse = PaddedGaussianSquare(pulse_duration=target_duration, amp=cr.amp, sigma=sigma, width=width)\n",
    "#    cr_rotary_pulse = PaddedGaussianSquare(pulse_duration=target_duration, amp=crr.amp, sigma=sigma, width=width)\n",
    "#    cr_echo = PaddedGaussianSquare(pulse_duration=target_duration, amp=-cr.amp, sigma=sigma, width=width)\n",
    "#    cr_rotary_echo = PaddedGaussianSquare(pulse_duration=target_duration, amp=-crr.amp, sigma=sigma, width=width)\n",
    "\n",
    "    if cancel_width is None:\n",
    "        duration = 2 * tail\n",
    "        cancel_pulse = pulse.Gaussian(duration=duration, amp=-cr.amp, sigma=sigma, name='CR{}p_u{}'.format(phi_label, control_channel.index))\n",
    "        cancel_rotary_pulse = pulse.Gaussian(duration=duration, amp=-crr.amp, sigma=sigma, name='CR{}p_d{}_u{}'.format(phi_label, target_drive_channel.index, control_channel.index))\n",
    "        cancel_echo = pulse.Gaussian(duration=duration, amp=cr.amp, sigma=sigma, name='CR{}m_u{}'.format(phi_label, control_channel.index))\n",
    "        cancel_rotary_echo = pulse.Gaussian(duration=duration, amp=crr.amp, sigma=sigma, name='CR{}m_d{}_u{}'.format(phi_label, target_drive_channel.index, control_channel.index))\n",
    "    else:\n",
    "        duration = int(np.ceil((cancel_width + 2 * tail) / 16.) * 16)\n",
    "        cancel_pulse = pulse.GaussianSquare(duration=duration, amp=-cr.amp, sigma=sigma, width=cancel_width, name='CR{}p_u{}'.format(phi_label, control_channel.index))\n",
    "        cancel_rotary_pulse = pulse.GaussianSquare(duration=duration, amp=-crr.amp, sigma=sigma, width=cancel_width, name='CR{}p_d{}_u{}'.format(phi_label, target_drive_channel.index, control_channel.index))\n",
    "        cancel_echo = pulse.GaussianSquare(duration=duration, amp=cr.amp, sigma=sigma, width=cancel_width, name='CR{}m_u{}'.format(phi_label, control_channel.index))\n",
    "        cancel_rotary_echo = pulse.GaussianSquare(duration=duration, amp=crr.amp, sigma=sigma, width=cancel_width, name='CR{}m_d{}_u{}'.format(phi_label, target_drive_channel.index, control_channel.index))\n",
    "        \n",
    "    with pulse.build(backend=backend, default_alignment='sequential', name='cr_gate_core') as cr_core_sched:\n",
    "        ## echo (without the first X on control)\n",
    "        with pulse.align_left():\n",
    "            pulse.play(cr_echo, control_channel)\n",
    "            pulse.play(cancel_echo, control_channel)\n",
    "            pulse.play(cr_rotary_echo, target_drive_channel)\n",
    "            pulse.play(cancel_rotary_echo, target_drive_channel)\n",
    "\n",
    "        pulse.play(control_x_pulse, control_drive_channel)\n",
    "\n",
    "        ## forward\n",
    "        with pulse.align_left():\n",
    "            pulse.play(cr_pulse, control_channel)\n",
    "            pulse.play(cancel_pulse, control_channel)\n",
    "            pulse.play(cr_rotary_pulse, target_drive_channel)\n",
    "            pulse.play(cancel_rotary_pulse, target_drive_channel)\n",
    "            \n",
    "    return cr_core_sched"
   ]
  },
  {
   "cell_type": "markdown",
   "id": "31274b86-85e1-483a-b8b4-17f7277147af",
   "metadata": {},
   "source": [
    "### Calibration of the width parameter"
   ]
  },
  {
   "cell_type": "code",
   "execution_count": 17,
   "id": "399f9da7-26ca-46e7-8c18-073104ca79b2",
   "metadata": {},
   "outputs": [],
   "source": [
    "need_calibration = False\n",
    "\n",
    "if need_calibration:\n",
    "    circuits = []\n",
    "    for width in range(0, 2 * cr.width, 32):\n",
    "        cr_core_sched = make_cr_core(width)\n",
    "\n",
    "        cr_core_gate = Gate('cr_core_gate', 2, [])\n",
    "\n",
    "        circuit = QuantumCircuit(2)\n",
    "        circuit.x(0)\n",
    "        circuit.append(cr_core_gate, (0, 1))\n",
    "        circuit.measure_all()\n",
    "\n",
    "        circuit.add_calibration('cr_core_gate', (control_qubit, target_qubit), cr_core_sched)\n",
    "\n",
    "        circuits.append(circuit)\n",
    "\n",
    "    circuits = transpile(circuits, backend=backend, initial_layout=[control_qubit, target_qubit])\n",
    "\n",
    "    job = backend.run(circuits, shots=8192)\n",
    "    print(job.job_id())\n",
    "\n",
    "    job_monitor(job)\n",
    "    result = job.result()\n",
    "\n",
    "    x_values = np.arange(0, 2 * cr.width, 32)\n",
    "    y_values = plot_counts(result, ['00', '01'], x=x_values)\n",
    "\n",
    "    init_params = [np.pi / 900., 0.5, 0.5]\n",
    "    fitparams, conv = scipy.optimize.curve_fit(lambda w, v, amp, offset: offset + amp * np.cos(w * v), x_values, y_values, init_params)\n",
    "\n",
    "    print(fitparams)\n",
    "\n",
    "    plt.scatter(x_values, y_values)\n",
    "    plt.plot(x_values, fitparams[2] + fitparams[1] * np.cos(fitparams[0] * x_values))\n",
    "    plt.show()\n",
    "\n",
    "    phi_at_cr_width = fitparams[0] * cr.width\n",
    "    print(phi_at_cr_width)\n",
    "\n",
    "else:\n",
    "    #phi_at_cr_width = 1.2295209130164757 # kawasaki (0, 1)\n",
    "    phi_at_cr_width = 1.3050605260748116 # kawasaki (12, 13)"
   ]
  },
  {
   "cell_type": "code",
   "execution_count": 18,
   "id": "06566961-97a9-480d-94c2-305bd948fab7",
   "metadata": {},
   "outputs": [],
   "source": [
    "def linearized_circuit(phi_value, with_schedule=False, correction_params=None):\n",
    "    if phi_value == 0.:\n",
    "        circuit = QuantumCircuit(register)\n",
    "\n",
    "        if with_schedule:\n",
    "            return circuit, pulse.Schedule(name='cr_gate_core')\n",
    "        else:\n",
    "            return circuit\n",
    "\n",
    "    width = phi_value / phi_at_cr_width * cr.width\n",
    "#     if correction_params is None:\n",
    "#         cancel_width = None\n",
    "#     else:\n",
    "#         cancel_width = (correction_params[0] * phi_value + correction_params[1]) / phi_at_cr_width * cr.width\n",
    "#         if cancel_with < 0.:\n",
    "#             width += cancel_width\n",
    "#             cancel_width = None\n",
    "        \n",
    "#     cr_core_sched = make_cr_core(width, phi_label=int(np.round(phi_value / np.pi * 180.)), cancel_width=cancel_width)\n",
    "\n",
    "    if correction_params is not None:\n",
    "        width -= (correction_params[0] * phi_value + correction_params[1]) / phi_at_cr_width * cr.width\n",
    "        \n",
    "    cr_core_sched = make_cr_core(width, phi_label=int(np.round(phi_value / np.pi * 180.)))\n",
    "            \n",
    "    cr_core_gate = Gate('cr_core_gate', 2, [])\n",
    "    \n",
    "    circuit = QuantumCircuit(register)\n",
    "    circuit.x(0)\n",
    "    circuit.h(1)\n",
    "    circuit.append(cr_core_gate, (0, 1))\n",
    "    circuit.h(1)\n",
    "\n",
    "    circuit.add_calibration('cr_core_gate', (control_qubit, target_qubit), cr_core_sched)\n",
    "    \n",
    "    if with_schedule:\n",
    "        return circuit, cr_core_sched\n",
    "    else:\n",
    "        return circuit"
   ]
  },
  {
   "cell_type": "markdown",
   "id": "7edff5eb-149d-4d77-83e6-ac7ecf5fc013",
   "metadata": {},
   "source": [
    "### Sample schedule ($R_{ZX}(\\pi/8)$ minus X) and circuit"
   ]
  },
  {
   "cell_type": "code",
   "execution_count": 19,
   "id": "09fe6dd6-67b2-4d11-bc1f-6cc0c8216fec",
   "metadata": {},
   "outputs": [
    {
     "data": {
      "image/png": "[encoded data removed]",
      "text/plain": [
       "<Figure size 936x550.8 with 1 Axes>"
      ]
     },
     "execution_count": 19,
     "metadata": {},
     "output_type": "execute_result"
    }
   ],
   "source": [
    "circuit, schedule = linearized_circuit(np.pi / 8., with_schedule=True)\n",
    "schedule.draw()"
   ]
  },
  {
   "cell_type": "code",
   "execution_count": 20,
   "id": "7eb99eb8-cb07-45e3-8696-0c55f1fd0c61",
   "metadata": {},
   "outputs": [
    {
     "data": {
      "image/png": "[encoded data removed]",
      "text/plain": [
       "<Figure size 692.29x144.48 with 1 Axes>"
      ]
     },
     "execution_count": 20,
     "metadata": {},
     "output_type": "execute_result"
    }
   ],
   "source": [
    "circuit = transpile(circuit, backend=backend, initial_layout=[control_qubit, target_qubit])\n",
    "circuit.draw('mpl', idle_wires=False)"
   ]
  },
  {
   "cell_type": "markdown",
   "id": "1c7efcc1-18c9-4526-a5b5-a5bd276a3917",
   "metadata": {},
   "source": [
    "### Circuits to run"
   ]
  },
  {
   "cell_type": "code",
   "execution_count": 21,
   "id": "d8860eec-82da-4a5b-8519-8f9479bbec14",
   "metadata": {},
   "outputs": [
    {
     "name": "stderr",
     "output_type": "stream",
     "text": [
      "/usr/local/lib/python3.8/dist-packages/qiskit/ignis/verification/tomography/basis/circuits.py:465: DeprecationWarning: The QuantumCircuit.__iadd__() method is being deprecated. Use the compose() (potentially with the inplace=True argument) and tensor() methods which are more flexible w.r.t circuit register compatibility.\n",
      "  prep += preparation(prep_label[j], prep_qubits[j])\n",
      "/usr/local/lib/python3.8/dist-packages/qiskit/circuit/quantumcircuit.py:876: DeprecationWarning: The QuantumCircuit.extend() method is being deprecated. Use the compose() (potentially with the inplace=True argument) and tensor() methods which are more flexible w.r.t circuit register compatibility.\n",
      "  return self.extend(rhs)\n",
      "/usr/local/lib/python3.8/dist-packages/qiskit/ignis/verification/tomography/basis/circuits.py:478: DeprecationWarning: The QuantumCircuit.__add__() method is being deprecated.Use the compose() method which is more flexible w.r.t circuit register compatibility.\n",
      "  circ = prep + meas\n",
      "/usr/local/lib/python3.8/dist-packages/qiskit/circuit/quantumcircuit.py:869: DeprecationWarning: The QuantumCircuit.combine() method is being deprecated. Use the compose() method which is more flexible w.r.t circuit register compatibility.\n",
      "  return self.combine(rhs)\n"
     ]
    },
    {
     "name": "stdout",
     "output_type": "stream",
     "text": [
      "(('Zm', 'Xp'), ('Z', 'X'))\n"
     ]
    }
   ],
   "source": [
    "if 'li' in experiments:\n",
    "    circuit_lists['li'] = []\n",
    "    for phi_value in phi_values:\n",
    "        circuits = process_tomography_circuits(linearized_circuit(phi_value), register)\n",
    "        # Remove the barriers\n",
    "        circuits = [remove_barriers(circuit) for circuit in circuits]\n",
    "        # Transpile\n",
    "        circuit_lists['li'].append(transpile(circuits, backend=backend, initial_layout=[control_qubit, target_qubit]))\n",
    "\n",
    "    circuit = circuit_lists['li'][example_index[0]][example_index[1]]\n",
    "    print(circuit.name)\n",
    "    circuit.draw('mpl', idle_wires=False)"
   ]
  },
  {
   "cell_type": "markdown",
   "id": "b5905c7e-33be-4dd7-a614-247fe4e04f46",
   "metadata": {},
   "source": [
    "## Submit all jobs"
   ]
  },
  {
   "cell_type": "code",
   "execution_count": 22,
   "id": "b7b89abd-f79c-4c31-9fb9-1bbead3a40c0",
   "metadata": {},
   "outputs": [
    {
     "name": "stdout",
     "output_type": "stream",
     "text": [
      "li 0.0 6156babd837ee46d42c22a3a\n",
      "li 0.02617993877991494 6156bac0d35e280a74937fbd\n",
      "li 0.05235987755982988 6156bac4204a02c02d983ec3\n",
      "li 0.07853981633974483 6156bac7b98f0c8887521e20\n",
      "li 0.10471975511965977 6156baca837ee40d51c22a3c\n",
      "li 0.1308996938995747 6156bacc9f1b4a9595ff52c6\n",
      "li 0.15707963267948966 6156bacec97866942308dc1d\n",
      "li 0.18325957145940458 6156bad0fc7bdfca5d438efb\n",
      "li 0.20943951023931953 6156bad3da98d55e832b66af\n",
      "li 0.23561944901923448 6156bad69f1b4af89eff52c7\n",
      "li 0.2617993877991494 6156bad8d35e283bd6937fbe\n",
      "li 0.28797932657906433 6156badbb98f0c56b8521e21\n",
      "li 0.3141592653589793 6156badec978666ae908dc1e\n",
      "li 0.34033920413889424 6156bae09f1b4a09b1ff52c9\n",
      "li 0.36651914291880916 6156bae2b98f0c77dc521e22\n",
      "li 0.39269908169872414 6156bae5b98f0cd1e9521e23\n",
      "li 0.41887902047863906 6156bae7837ee458ddc22a3d\n",
      "li 0.445058959258554 6156bae9204a024430983ec4\n",
      "li 0.47123889803846897 6156baeb20df54ec775e1790\n",
      "li 0.4974188368183839 6156baedc97866ea2208dc20\n",
      "li 0.5235987755982988 6156baefb98f0cfb9a521e24\n",
      "li 0.5720801437092524 6156baf29f1b4acee8ff52cb\n",
      "li 0.620561511820206 6156baf4204a0233ad983ec5\n",
      "li 0.6690428799311596 6156baf6b98f0c7011521e25\n",
      "li 0.7175242480421132 6156baf8c978668fdc08dc23\n",
      "li 0.7660056161530668 6156bafbc97866283c08dc24\n",
      "li 0.8144869842640204 6156bafdfc7bdf4f4b438f00\n",
      "li 1.105375192929742 6156baffb98f0c39ac521e26\n",
      "li 1.3962634015954636 6156bb02837ee4a7c1c22a3f\n",
      "li 1.6871516102611852 6156bb048fd55fd53cfa9814\n",
      "li 1.9780398189269066 6156bb06fc7bdf3736438f01\n",
      "li 2.2689280275926285 6156bb089f1b4a6d78ff52cc\n",
      "li 2.55981623625835 6156bb0bd35e28043a937fc4\n",
      "li 2.8507044449240717 6156bb0dc97866f70608dc25\n",
      "li 3.141592653589793 6156bb0f837ee4652fc22a41\n"
     ]
    }
   ],
   "source": [
    "for exp_name in experiments:\n",
    "    with open('job_ids_oct04.txt'.format(exp_name), 'w') as out:\n",
    "        for phi_value, circuits in zip(phi_values, circuit_lists[exp_name]):\n",
    "            job = backend.run(circuits, shots=8192)\n",
    "            print('{} {} {}'.format(exp_name, phi_value, job.job_id()))\n",
    "            out.write('{} {} {}\\n'.format(exp_name, phi_value, job.job_id()))"
   ]
  },
  {
   "cell_type": "markdown",
   "id": "be1faf50-d15f-4794-af74-38a502fa2a0a",
   "metadata": {},
   "source": [
    "## Additional jobs for measurement error mitigation"
   ]
  },
  {
   "cell_type": "code",
   "execution_count": 23,
   "id": "e456e601-c5a0-4696-ba0f-8eaca7ee4acf",
   "metadata": {},
   "outputs": [],
   "source": [
    "need_error_mitigation = False\n",
    "\n",
    "if need_error_mitigation:\n",
    "    circuits = []\n",
    "\n",
    "    circuit = QuantumCircuit(2)\n",
    "    circuit.measure_all()\n",
    "    for ic in range(16):\n",
    "        circuit.name = '00_{}'.format(ic)\n",
    "        circuits.append(circuit)\n",
    "\n",
    "    circuit = QuantumCircuit(2)\n",
    "    circuit.x(0)\n",
    "    circuit.measure_all()\n",
    "    for ic in range(16):\n",
    "        circuit.name = '01_{}'.format(ic)\n",
    "        circuits.append(circuit)\n",
    "\n",
    "    circuit = QuantumCircuit(2)\n",
    "    circuit.x(1)\n",
    "    circuit.measure_all()\n",
    "    for ic in range(16):\n",
    "        circuit.name = '10_{}'.format(ic)\n",
    "        circuits.append(circuit)\n",
    "\n",
    "    circuit = QuantumCircuit(2)\n",
    "    circuit.x(0)\n",
    "    circuit.x(1)\n",
    "    circuit.measure_all()\n",
    "    for _ in range(16):\n",
    "        circuit.name = '11_{}'.format(ic)\n",
    "        circuits.append(circuit)\n",
    "\n",
    "    with open('job_ids_sep21_mitigation.txt', 'w') as out:\n",
    "        job = backend.run(circuits, shots=8192)\n",
    "        print(job.job_id())\n",
    "        out.write(job.job_id() + '\\n')"
   ]
  }
 ],
 "metadata": {
  "kernelspec": {
   "display_name": "Python 3 (ipykernel)",
   "language": "python",
   "name": "python3"
  },
  "language_info": {
   "codemirror_mode": {
    "name": "ipython",
    "version": 3
   },
   "file_extension": ".py",
   "mimetype": "text/x-python",
   "name": "python",
   "nbconvert_exporter": "python",
   "pygments_lexer": "ipython3",
   "version": "3.8.10"
  }
 },
 "nbformat": 4,
 "nbformat_minor": 5
}

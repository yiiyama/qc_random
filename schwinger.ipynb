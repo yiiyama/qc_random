{
 "cells": [
  {
   "cell_type": "code",
   "execution_count": 1,
   "metadata": {},
   "outputs": [],
   "source": [
    "import qiskit\n",
    "import numpy as np\n",
    "import matplotlib.pyplot as plt"
   ]
  },
  {
   "cell_type": "code",
   "execution_count": 8,
   "metadata": {},
   "outputs": [],
   "source": [
    "num_sites = 4\n",
    "\n",
    "m = 0.5\n",
    "w = 1.\n",
    "J = 1.\n",
    "\n",
    "def one_step(dt, m=0.5, w=1., J=1., barrier=False):\n",
    "    qc = qiskit.QuantumCircuit(num_sites)\n",
    "    \n",
    "    # exp(-i dt Hzz)\n",
    "    for iqr in range(1, num_sites - 1):\n",
    "        phi = J * 0.5 * (2. * dt) * (num_sites - iqr - 1)\n",
    "        for iql in range(iqr):\n",
    "            qc.cx(iql, iqr)\n",
    "            qc.u1(phi, iqr)\n",
    "            qc.cx(iql, iqr)\n",
    "            \n",
    "    if barrier:\n",
    "        qc.barrier()\n",
    "            \n",
    "    # exp(-i dt Hpm)\n",
    "    # Hpm = w sum (sigma+ sigma- + h.c.) = w sum h\n",
    "    # h = 1/2 XX + 1/2 YY\n",
    "    phi = w * 0.5 * (2. * dt)\n",
    "    for iq in range(num_sites - 1):\n",
    "        # exp(-i dt w/2 XX)\n",
    "        qc.cx(iq, iq + 1)\n",
    "        qc.rx(phi, iq)\n",
    "        qc.cx(iq, iq + 1)\n",
    "        # exp(-i dt w/2 YY)\n",
    "        qc.cz(iq, iq + 1)\n",
    "        qc.cx(iq, iq + 1)\n",
    "        qc.rx(phi, iq)\n",
    "        qc.cx(iq, iq + 1)\n",
    "        qc.cz(iq, iq + 1)\n",
    "        \n",
    "    if barrier:\n",
    "        qc.barrier()\n",
    "\n",
    "    # exp(-i dt Hz1)\n",
    "    phi = m * 0.5 * (2. * dt)\n",
    "    for iq in range(num_sites):\n",
    "        if iq % 2 == 0:\n",
    "            qc.u1(-phi, iq)\n",
    "        else:\n",
    "            qc.u1(phi, iq)\n",
    "            \n",
    "    if barrier:\n",
    "        qc.barrier()\n",
    "\n",
    "    # exp(-i dt Hz2)\n",
    "    for iq in range(num_sites - 1):\n",
    "        phi = -J * 0.5 * (num_sites // 2 - (iq + 1) // 2) * (2. * dt)\n",
    "        qc.u1(phi, iq)\n",
    "            \n",
    "    if barrier:\n",
    "        qc.barrier()\n",
    "            \n",
    "    return qc"
   ]
  },
  {
   "cell_type": "code",
   "execution_count": 6,
   "metadata": {},
   "outputs": [],
   "source": [
    "backend = qiskit.Aer.get_backend('statevector_simulator')\n",
    "def get_density(circuit):\n",
    "    job = qiskit.execute(circuit, backend)\n",
    "    statevector = job.result().results[0].data.statevector\n",
    "    \n",
    "    indices = np.arange(statevector.shape[0], dtype=np.uint8) # works for only up to 8 qubits\n",
    "    indices = np.expand_dims(indices, axis=1)\n",
    "    bitstring = np.unpackbits(indices, axis=1, bitorder='little')[:, :num_sites]\n",
    "    mask = np.zeros_like(bitstring, dtype=np.bool)\n",
    "    mask[:, 1::2] = True\n",
    "    occupied = np.copy(bitstring)\n",
    "    np.logical_not(bitstring, out=occupied, where=mask)\n",
    "    occupied = occupied.astype(np.int)\n",
    "    \n",
    "    particle_number = np.sum(occupied, axis=1) / num_sites\n",
    "\n",
    "    return np.sum(np.square(np.abs(statevector)) * particle_number)"
   ]
  },
  {
   "cell_type": "code",
   "execution_count": 9,
   "metadata": {},
   "outputs": [
    {
     "data": {
      "text/plain": [
       "[<matplotlib.lines.Line2D at 0x7f1fe91d10d0>]"
      ]
     },
     "execution_count": 9,
     "metadata": {},
     "output_type": "execute_result"
    },
    {
     "data": {
      "image/png": "[encoded data removed]",
      "text/plain": [
       "<Figure size 432x288 with 1 Axes>"
      ]
     },
     "metadata": {
      "needs_background": "light"
     },
     "output_type": "display_data"
    }
   ],
   "source": [
    "circuit = qiskit.QuantumCircuit(num_sites)\n",
    "# vacuum\n",
    "for iq in range(1, num_sites, 2):\n",
    "    circuit.x(iq)\n",
    "\n",
    "num_steps = 10\n",
    "dt = np.pi / 2. / num_steps\n",
    "density = np.empty(num_steps, dtype=np.float)\n",
    "for istep in range(num_steps):\n",
    "    density[istep] = get_density(circuit)\n",
    "    circuit += one_step(dt)\n",
    "    \n",
    "plt.plot(np.arange(0., np.pi / 2, np.pi / 2 / num_steps), density)"
   ]
  },
  {
   "cell_type": "code",
   "execution_count": null,
   "metadata": {},
   "outputs": [],
   "source": []
  },
  {
   "cell_type": "code",
   "execution_count": null,
   "metadata": {},
   "outputs": [],
   "source": []
  }
 ],
 "metadata": {
  "kernelspec": {
   "display_name": "Python 3",
   "language": "python",
   "name": "python3"
  },
  "language_info": {
   "codemirror_mode": {
    "name": "ipython",
    "version": 3
   },
   "file_extension": ".py",
   "mimetype": "text/x-python",
   "name": "python",
   "nbconvert_exporter": "python",
   "pygments_lexer": "ipython3",
   "version": "3.7.9"
  }
 },
 "nbformat": 4,
 "nbformat_minor": 4
}

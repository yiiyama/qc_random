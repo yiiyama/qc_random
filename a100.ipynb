{
 "cells": [
  {
   "cell_type": "markdown",
   "metadata": {},
   "source": [
    "DGX A100 best practices notes\n",
    "============================="
   ]
  },
  {
   "cell_type": "markdown",
   "metadata": {},
   "source": [
    "## 基本的な発想\n",
    "\n",
    "DGX A100はDockerで使う、というのが基本的な発想のようです。\n",
    "\n",
    "NVIDIA GPU Cloud (NGC)というレポジトリに、NVIDIAマシン用にチューンされたディープラーニングフレームワーク＋学習モデルのDockerイメージがあり、そこから使いたいものを選んで使うことで、マシンの性能を一番引き出せるとのこと。\n",
    "\n",
    "イメージも頻繁にバージョンアップするので、開発中はイメージ自体はいじらず、自分のコードやデータセットは別ディレクトリに用意してコンテナにバインドして使うことが推奨されています。もちろん既存イメージの上にライブラリを足さなければいけない場合などは自分でイメージを作ります。コードがある程度固まってきたらイメージに組み込んでパッケージ化することも考えられます。\n",
    "\n",
    "DGXシステムを購入したことで、NGC上にプライベートスペースが作られており、そこで自分たちが作成したイメージを共有できるようになっています。NGCを使うにはNVIDIAアカウントを作る必要がありますが、個人用アカウントを作って後からuticeppというorganizationに足すこともできますし、最初からuticeppのメンバーとしてアカウントを作ることもできます。使用したい（すでに使用している）メールアドレスを飯山に伝えてください。\n",
    "\n",
    "NGC: https://ngc.nvidia.com/signin"
   ]
  },
  {
   "cell_type": "markdown",
   "metadata": {},
   "source": [
    "## 具体例\n",
    "\n",
    "NGCにログインし、右上のユーザーアイコンからSetupをクリック。Generate API Keyの画面からAPIキーを発行させたあと、\n",
    "```\n",
    "$ docker login nvcr.io\n",
    "Username: $oauthtoken\n",
    "Password: <API key>\n",
    "\n",
    "$ docker pull nvcr.io/nvidia/tensorflow:20.11-tf2-py3\n",
    "$ docker run --gpus all -it --rm -v $HOME:$HOME -v /raid/datasets:/data nvcr.io/nvidia/tensorflow:20.11-tf2-py3 bash\n",
    "```\n",
    "でTFコンテナが使えます。`docker login`は一度だけやれば以降は必要ありません。`$oauthtoken`は何かの環境変数ではなく、そのまま書き込んでください。"
   ]
  },
  {
   "cell_type": "markdown",
   "metadata": {},
   "source": [
    "## DockerとGPU\n",
    "\n",
    "最新のdockerコマンドはホストマシンのGPUドライバがコンテナの中から見られるようになっています。コンテナの作成時に\n",
    "```\n",
    "docker run --gpus all #use all GPUs\n",
    "docker run --gpus 4   #use GPUs number 0 to 3\n",
    "docker run --gpus '\"device=<comma-separated GPU UUID or GPU number>\"' #use specific GPUs\n",
    "```\n",
    "とGPUを指定します。GPUのレンジ（#0からではなく）を指定したり、複数の特定のGPUを選ぶ方法は未確認です。GPUのUUIDは`/proc/driver/nvidia/gpus/<ID>/information`から見られます。`device=`で指定するときは上の通りにクオートをつける必要があるようです。\n",
    "\n",
    "GPUドライバ（NVIDIA Driver 455.45.01など）はカーネルスペースの住人なので、コンテナからドライバのバージョンを選ぶということはできません。しかし、CUDAドライバ（libcuda.so）とCUDAツールキット（libcudart.soなど）はユーザースペースにあるので、コンテナごとにバージョンを選べます。CUDAのそれぞれのバージョンは特定のバージョン以降のGPUドライバで使用可能なので、いつでも古いCUDAバージョンのコンテナを使うことができます。詳しくは[NVIDIA docs](https://docs.nvidia.com/deploy/cuda-compatibility/index.html)を参照。"
   ]
  },
  {
   "cell_type": "markdown",
   "metadata": {},
   "source": [
    "## NVIDIAイメージのバージョン\n",
    "\n",
    "NVIDIAが組んだディープラーニングフレームワーク（TF, PyTorch, etc.）のイメージには共通のバージョンタグがついており、CUDAなどのバージョンが縦管理されています。\n",
    "\n",
    "https://docs.nvidia.com/deeplearning/frameworks/support-matrix/index.html"
   ]
  }
 ],
 "metadata": {
  "kernelspec": {
   "display_name": "Python 3",
   "language": "python",
   "name": "python3"
  },
  "language_info": {
   "codemirror_mode": {
    "name": "ipython",
    "version": 3
   },
   "file_extension": ".py",
   "mimetype": "text/x-python",
   "name": "python",
   "nbconvert_exporter": "python",
   "pygments_lexer": "ipython3",
   "version": "3.8.5"
  }
 },
 "nbformat": 4,
 "nbformat_minor": 4
}

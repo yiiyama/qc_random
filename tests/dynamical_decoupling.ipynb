{
 "cells": [
  {
   "cell_type": "code",
   "execution_count": 1,
   "id": "37128cd9-547d-4b61-b806-59d12a74633a",
   "metadata": {},
   "outputs": [],
   "source": [
    "import numpy as np\n",
    "from qiskit import QuantumCircuit, IBMQ, transpile\n",
    "import qiskit.compiler.transpiler as transpiler\n",
    "from qiskit.transpiler.passes import DynamicalDecoupling\n",
    "from qiskit.circuit.library import XGate\n",
    "from qiskit.tools.monitor import job_monitor"
   ]
  },
  {
   "cell_type": "code",
   "execution_count": 2,
   "id": "e81470b7-8e41-4cb4-946e-8b5f199db536",
   "metadata": {},
   "outputs": [],
   "source": [
    "IBMQ.load_account()\n",
    "provider = IBMQ.get_provider(hub='ibm-q-utokyo', group='internal', project='icepp')\n",
    "backend = provider.get_backend('ibmq_manila')"
   ]
  },
  {
   "cell_type": "code",
   "execution_count": 3,
   "id": "40a101c1-7b28-479c-b005-2f0be98f21e2",
   "metadata": {},
   "outputs": [
    {
     "data": {
      "text/plain": [
       "Schedule((0, Play(Drag(duration=160, amp=(0.19659515188383553+0j), sigma=40, beta=-0.5418161972707253, name='Xp_d0'), DriveChannel(0), name='Xp_d0')), name=\"x\")"
      ]
     },
     "execution_count": 3,
     "metadata": {},
     "output_type": "execute_result"
    }
   ],
   "source": [
    "backend.defaults().instruction_schedule_map.get('x', [0])"
   ]
  },
  {
   "cell_type": "code",
   "execution_count": 4,
   "id": "0e2fa120-aeb0-4e09-975d-9e3ab0fc3dc3",
   "metadata": {},
   "outputs": [],
   "source": [
    "from qiskit.transpiler.preset_passmanagers import level_0_pass_manager, level_1_pass_manager, level_2_pass_manager, level_3_pass_manager\n",
    "preset_pms = [level_0_pass_manager, level_1_pass_manager, level_2_pass_manager, level_3_pass_manager]\n",
    "\n",
    "def transpile_with_dynamical_decoupling(circuit, backend, initial_layout, num_xx=1, optimization_level=1):\n",
    "    if num_xx == 0:\n",
    "        return transpile(circuit, backend=backend, initial_layout=initial_layout, optimization_level=optimization_level)\n",
    "    \n",
    "    circuits = [circuit]\n",
    "    \n",
    "    transpile_args = transpiler._parse_transpile_args(\n",
    "        circuits, # circuits,\n",
    "        backend, # backend,\n",
    "        None, # basis_gates,\n",
    "        None, # coupling_map,\n",
    "        None, # backend_properties,\n",
    "        initial_layout, # initial_layout,\n",
    "        None, # layout_method,\n",
    "        None, # routing_method,\n",
    "        None, # translation_method,\n",
    "        'alap', # scheduling_method,\n",
    "        None, # instruction_durations,\n",
    "        None, # dt,\n",
    "        None, # approximation_degree,\n",
    "        None, # seed_transpiler,\n",
    "        optimization_level, # optimization_level,\n",
    "        None, # callback,\n",
    "        None, # output_name,\n",
    "        None  # timing_constraints,\n",
    "    )\n",
    "\n",
    "    transpiler._check_circuits_coupling_map(circuits, transpile_args, backend)\n",
    "\n",
    "    pass_manager_config = transpile_args[0][\"pass_manager_config\"]\n",
    "\n",
    "    # we choose an appropriate one based on desired optimization level\n",
    "    level = transpile_args[0][\"optimization_level\"]\n",
    "\n",
    "    pass_manager = preset_pms[level](pass_manager_config)\n",
    "    \n",
    "    default_passes = pass_manager.passes()\n",
    "    scheduling = default_passes[-2]['passes']\n",
    "    dd_sequence = [XGate(), XGate()] * num_xx\n",
    "    dd = DynamicalDecoupling(pass_manager_config.instruction_durations, dd_sequence=dd_sequence)\n",
    "    scheduling.append(dd)\n",
    "    pass_manager.replace(-2, scheduling)\n",
    "\n",
    "    return pass_manager.run(\n",
    "        circuit, callback=transpile_args[0][\"callback\"], output_name=transpile_args[0][\"output_name\"]\n",
    "    )"
   ]
  },
  {
   "cell_type": "code",
   "execution_count": 5,
   "id": "9f677665-0f2d-46f3-8dbd-4306bc6d3054",
   "metadata": {},
   "outputs": [],
   "source": [
    "N = 5\n",
    "inst_map = backend.defaults().instruction_schedule_map\n",
    "sx_duration = inst_map.get('sx', [0]).instructions[0][1].duration\n",
    "x_duration = inst_map.get('x', [0]).instructions[0][1].duration\n",
    "\n",
    "interval = 1024\n",
    "full_interval = 2 * (interval * N + x_duration * N)\n",
    "\n",
    "circuits = []\n",
    "\n",
    "for num_xx in range(N + 1):\n",
    "    circuit = QuantumCircuit(1, 1)\n",
    "    circuit.sx(0)\n",
    "    circuit.delay(full_interval)\n",
    "    circuit.sx(0)\n",
    "    circuit.measure(0, 0)\n",
    "    circuit = transpile_with_dynamical_decoupling(circuit, backend, [0], num_xx=num_xx)\n",
    "\n",
    "    circuits.append(circuit)"
   ]
  },
  {
   "cell_type": "code",
   "execution_count": 6,
   "id": "6c28739a-99ae-43d8-abab-cd510f584118",
   "metadata": {},
   "outputs": [
    {
     "data": {
      "text/html": [
       "<pre style=\"word-wrap: normal;white-space: pre;background: #fff0;line-height: 1.1;font-family: &quot;Courier New&quot;,Courier,monospace\">         ┌────┐┌──────────────────┐┌────┐┌─┐\n",
       "q_0 -> 0 ┤ √X ├┤ Delay(11840[dt]) ├┤ √X ├┤M├\n",
       "         └────┘└──────────────────┘└────┘└╥┘\n",
       "    c: 1/═════════════════════════════════╩═\n",
       "                                          0 </pre>"
      ],
      "text/plain": [
       "         ┌────┐┌──────────────────┐┌────┐┌─┐\n",
       "q_0 -> 0 ┤ √X ├┤ Delay(11840[dt]) ├┤ √X ├┤M├\n",
       "         └────┘└──────────────────┘└────┘└╥┘\n",
       "    c: 1/═════════════════════════════════╩═\n",
       "                                          0 "
      ]
     },
     "execution_count": 6,
     "metadata": {},
     "output_type": "execute_result"
    }
   ],
   "source": [
    "circuits[0].draw(idle_wires=False)"
   ]
  },
  {
   "cell_type": "code",
   "execution_count": 7,
   "id": "0d0a406c-d9c7-4859-aa91-a33cdfd133f5",
   "metadata": {},
   "outputs": [
    {
     "data": {
      "text/html": [
       "<pre style=\"word-wrap: normal;white-space: pre;background: #fff0;line-height: 1.1;font-family: &quot;Courier New&quot;,Courier,monospace\">         ┌────┐┌─────────────────┐┌───┐┌─────────────────┐┌───┐»\n",
       "q_0 -> 0 ┤ √X ├┤ Delay(2880[dt]) ├┤ X ├┤ Delay(5760[dt]) ├┤ X ├»\n",
       "         └────┘└─────────────────┘└───┘└─────────────────┘└───┘»\n",
       "    c: 1/══════════════════════════════════════════════════════»\n",
       "                                                               »\n",
       "«         ┌─────────────────┐┌────┐┌─┐\n",
       "«q_0 -> 0 ┤ Delay(2880[dt]) ├┤ √X ├┤M├\n",
       "«         └─────────────────┘└────┘└╥┘\n",
       "«    c: 1/══════════════════════════╩═\n",
       "«                                   0 </pre>"
      ],
      "text/plain": [
       "         ┌────┐┌─────────────────┐┌───┐┌─────────────────┐┌───┐»\n",
       "q_0 -> 0 ┤ √X ├┤ Delay(2880[dt]) ├┤ X ├┤ Delay(5760[dt]) ├┤ X ├»\n",
       "         └────┘└─────────────────┘└───┘└─────────────────┘└───┘»\n",
       "    c: 1/══════════════════════════════════════════════════════»\n",
       "                                                               »\n",
       "«         ┌─────────────────┐┌────┐┌─┐\n",
       "«q_0 -> 0 ┤ Delay(2880[dt]) ├┤ √X ├┤M├\n",
       "«         └─────────────────┘└────┘└╥┘\n",
       "«    c: 1/══════════════════════════╩═\n",
       "«                                   0 "
      ]
     },
     "execution_count": 7,
     "metadata": {},
     "output_type": "execute_result"
    }
   ],
   "source": [
    "circuits[1].draw(idle_wires=False)"
   ]
  },
  {
   "cell_type": "code",
   "execution_count": 8,
   "id": "69feb920-68eb-416c-bb3d-e096c6a228d4",
   "metadata": {},
   "outputs": [
    {
     "data": {
      "text/html": [
       "<pre style=\"word-wrap: normal;white-space: pre;background: #fff0;line-height: 1.1;font-family: &quot;Courier New&quot;,Courier,monospace\">         ┌────┐┌─────────────────┐┌───┐┌─────────────────┐┌───┐»\n",
       "q_0 -> 0 ┤ √X ├┤ Delay(1400[dt]) ├┤ X ├┤ Delay(2800[dt]) ├┤ X ├»\n",
       "         └────┘└─────────────────┘└───┘└─────────────────┘└───┘»\n",
       "    c: 1/══════════════════════════════════════════════════════»\n",
       "                                                               »\n",
       "«         ┌─────────────────┐┌───┐┌─────────────────┐┌───┐┌─────────────────┐»\n",
       "«q_0 -> 0 ┤ Delay(2800[dt]) ├┤ X ├┤ Delay(2800[dt]) ├┤ X ├┤ Delay(1400[dt]) ├»\n",
       "«         └─────────────────┘└───┘└─────────────────┘└───┘└─────────────────┘»\n",
       "«    c: 1/═══════════════════════════════════════════════════════════════════»\n",
       "«                                                                            »\n",
       "«         ┌────┐┌─┐\n",
       "«q_0 -> 0 ┤ √X ├┤M├\n",
       "«         └────┘└╥┘\n",
       "«    c: 1/═══════╩═\n",
       "«                0 </pre>"
      ],
      "text/plain": [
       "         ┌────┐┌─────────────────┐┌───┐┌─────────────────┐┌───┐»\n",
       "q_0 -> 0 ┤ √X ├┤ Delay(1400[dt]) ├┤ X ├┤ Delay(2800[dt]) ├┤ X ├»\n",
       "         └────┘└─────────────────┘└───┘└─────────────────┘└───┘»\n",
       "    c: 1/══════════════════════════════════════════════════════»\n",
       "                                                               »\n",
       "«         ┌─────────────────┐┌───┐┌─────────────────┐┌───┐┌─────────────────┐»\n",
       "«q_0 -> 0 ┤ Delay(2800[dt]) ├┤ X ├┤ Delay(2800[dt]) ├┤ X ├┤ Delay(1400[dt]) ├»\n",
       "«         └─────────────────┘└───┘└─────────────────┘└───┘└─────────────────┘»\n",
       "«    c: 1/═══════════════════════════════════════════════════════════════════»\n",
       "«                                                                            »\n",
       "«         ┌────┐┌─┐\n",
       "«q_0 -> 0 ┤ √X ├┤M├\n",
       "«         └────┘└╥┘\n",
       "«    c: 1/═══════╩═\n",
       "«                0 "
      ]
     },
     "execution_count": 8,
     "metadata": {},
     "output_type": "execute_result"
    }
   ],
   "source": [
    "circuits[2].draw(idle_wires=False)"
   ]
  },
  {
   "cell_type": "code",
   "execution_count": 9,
   "id": "1f3f7aa9-037b-4889-9041-f06f05e48207",
   "metadata": {},
   "outputs": [
    {
     "data": {
      "text/html": [
       "<pre style=\"word-wrap: normal;white-space: pre;background: #fff0;line-height: 1.1;font-family: &quot;Courier New&quot;,Courier,monospace\">         ┌────┐┌────────────────┐┌───┐┌─────────────────┐┌───┐»\n",
       "q_0 -> 0 ┤ √X ├┤ Delay(512[dt]) ├┤ X ├┤ Delay(1024[dt]) ├┤ X ├»\n",
       "         └────┘└────────────────┘└───┘└─────────────────┘└───┘»\n",
       "    c: 1/═════════════════════════════════════════════════════»\n",
       "                                                              »\n",
       "«         ┌─────────────────┐┌───┐┌─────────────────┐┌───┐┌─────────────────┐»\n",
       "«q_0 -> 0 ┤ Delay(1024[dt]) ├┤ X ├┤ Delay(1024[dt]) ├┤ X ├┤ Delay(1024[dt]) ├»\n",
       "«         └─────────────────┘└───┘└─────────────────┘└───┘└─────────────────┘»\n",
       "«    c: 1/═══════════════════════════════════════════════════════════════════»\n",
       "«                                                                            »\n",
       "«         ┌───┐┌─────────────────┐┌───┐┌─────────────────┐┌───┐»\n",
       "«q_0 -> 0 ┤ X ├┤ Delay(1024[dt]) ├┤ X ├┤ Delay(1024[dt]) ├┤ X ├»\n",
       "«         └───┘└─────────────────┘└───┘└─────────────────┘└───┘»\n",
       "«    c: 1/═════════════════════════════════════════════════════»\n",
       "«                                                              »\n",
       "«         ┌─────────────────┐┌───┐┌─────────────────┐┌───┐┌─────────────────┐»\n",
       "«q_0 -> 0 ┤ Delay(1024[dt]) ├┤ X ├┤ Delay(1024[dt]) ├┤ X ├┤ Delay(1024[dt]) ├»\n",
       "«         └─────────────────┘└───┘└─────────────────┘└───┘└─────────────────┘»\n",
       "«    c: 1/═══════════════════════════════════════════════════════════════════»\n",
       "«                                                                            »\n",
       "«         ┌───┐┌────────────────┐┌────┐┌─┐\n",
       "«q_0 -> 0 ┤ X ├┤ Delay(512[dt]) ├┤ √X ├┤M├\n",
       "«         └───┘└────────────────┘└────┘└╥┘\n",
       "«    c: 1/══════════════════════════════╩═\n",
       "«                                       0 </pre>"
      ],
      "text/plain": [
       "         ┌────┐┌────────────────┐┌───┐┌─────────────────┐┌───┐»\n",
       "q_0 -> 0 ┤ √X ├┤ Delay(512[dt]) ├┤ X ├┤ Delay(1024[dt]) ├┤ X ├»\n",
       "         └────┘└────────────────┘└───┘└─────────────────┘└───┘»\n",
       "    c: 1/═════════════════════════════════════════════════════»\n",
       "                                                              »\n",
       "«         ┌─────────────────┐┌───┐┌─────────────────┐┌───┐┌─────────────────┐»\n",
       "«q_0 -> 0 ┤ Delay(1024[dt]) ├┤ X ├┤ Delay(1024[dt]) ├┤ X ├┤ Delay(1024[dt]) ├»\n",
       "«         └─────────────────┘└───┘└─────────────────┘└───┘└─────────────────┘»\n",
       "«    c: 1/═══════════════════════════════════════════════════════════════════»\n",
       "«                                                                            »\n",
       "«         ┌───┐┌─────────────────┐┌───┐┌─────────────────┐┌───┐»\n",
       "«q_0 -> 0 ┤ X ├┤ Delay(1024[dt]) ├┤ X ├┤ Delay(1024[dt]) ├┤ X ├»\n",
       "«         └───┘└─────────────────┘└───┘└─────────────────┘└───┘»\n",
       "«    c: 1/═════════════════════════════════════════════════════»\n",
       "«                                                              »\n",
       "«         ┌─────────────────┐┌───┐┌─────────────────┐┌───┐┌─────────────────┐»\n",
       "«q_0 -> 0 ┤ Delay(1024[dt]) ├┤ X ├┤ Delay(1024[dt]) ├┤ X ├┤ Delay(1024[dt]) ├»\n",
       "«         └─────────────────┘└───┘└─────────────────┘└───┘└─────────────────┘»\n",
       "«    c: 1/═══════════════════════════════════════════════════════════════════»\n",
       "«                                                                            »\n",
       "«         ┌───┐┌────────────────┐┌────┐┌─┐\n",
       "«q_0 -> 0 ┤ X ├┤ Delay(512[dt]) ├┤ √X ├┤M├\n",
       "«         └───┘└────────────────┘└────┘└╥┘\n",
       "«    c: 1/══════════════════════════════╩═\n",
       "«                                       0 "
      ]
     },
     "execution_count": 9,
     "metadata": {},
     "output_type": "execute_result"
    }
   ],
   "source": [
    "circuits[5].draw(idle_wires=False)"
   ]
  },
  {
   "cell_type": "code",
   "execution_count": 10,
   "id": "69893472-e7d5-45e2-9a5a-b5108a44a373",
   "metadata": {},
   "outputs": [
    {
     "name": "stdout",
     "output_type": "stream",
     "text": [
      "616d281e2f4fbab80d1bac26\n",
      "Job Status: job has successfully run\n"
     ]
    }
   ],
   "source": [
    "job = backend.run(circuits, shots=8192)\n",
    "print(job.job_id())\n",
    "job_monitor(job)"
   ]
  },
  {
   "cell_type": "code",
   "execution_count": 11,
   "id": "b72d10c8-0788-47ca-852d-272016e67adb",
   "metadata": {},
   "outputs": [],
   "source": [
    "from qiskit.visualization import plot_histogram"
   ]
  },
  {
   "cell_type": "code",
   "execution_count": 12,
   "id": "57671e3f-d72d-48c0-a75e-c81df35213f1",
   "metadata": {},
   "outputs": [],
   "source": [
    "result = job.result()"
   ]
  },
  {
   "cell_type": "code",
   "execution_count": 15,
   "id": "e8cfd2a9-6c7c-44fb-ae4b-393f47e5fcd6",
   "metadata": {},
   "outputs": [
    {
     "data": {
      "text/plain": [
       "[<matplotlib.lines.Line2D at 0x7f52585baa00>]"
      ]
     },
     "execution_count": 15,
     "metadata": {},
     "output_type": "execute_result"
    },
    {
     "data": {
      "image/png": "[encoded data removed]",
      "text/plain": [
       "<Figure size 432x288 with 1 Axes>"
      ]
     },
     "metadata": {
      "needs_background": "light"
     },
     "output_type": "display_data"
    }
   ],
   "source": [
    "import matplotlib.pyplot as plt\n",
    "\n",
    "y_values = [(result.get_counts(ic).get('1') / 8192.) for ic in range(N + 1)]\n",
    "plt.plot(y_values)"
   ]
  }
 ],
 "metadata": {
  "kernelspec": {
   "display_name": "Python 3 (ipykernel)",
   "language": "python",
   "name": "python3"
  },
  "language_info": {
   "codemirror_mode": {
    "name": "ipython",
    "version": 3
   },
   "file_extension": ".py",
   "mimetype": "text/x-python",
   "name": "python",
   "nbconvert_exporter": "python",
   "pygments_lexer": "ipython3",
   "version": "3.8.10"
  }
 },
 "nbformat": 4,
 "nbformat_minor": 5
}

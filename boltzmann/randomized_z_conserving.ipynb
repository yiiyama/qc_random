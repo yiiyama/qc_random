{
 "cells": [
  {
   "cell_type": "code",
   "execution_count": 1,
   "metadata": {},
   "outputs": [],
   "source": [
    "import os\n",
    "import multiprocessing\n",
    "import time\n",
    "import numpy as np\n",
    "from qiskit.circuit import QuantumRegister, ClassicalRegister, QuantumCircuit, Parameter\n",
    "from qiskit import Aer, execute\n",
    "from numpy.random import default_rng\n",
    "import matplotlib.pyplot as plt\n",
    "import tensorflow as tf"
   ]
  },
  {
   "cell_type": "code",
   "execution_count": 2,
   "metadata": {},
   "outputs": [],
   "source": [
    "def add_gate_unit(qc, angles, qubits, barrier=False):\n",
    "    qc.cx(qubits[0], qubits[1])\n",
    "    qc.cx(qubits[1], qubits[0])\n",
    "    qc.cu(angles[0], angles[1], angles[2], 0., qubits[1], qubits[0])\n",
    "    qc.cx(qubits[1], qubits[0])\n",
    "    qc.p(angles[3], qubits[1])\n",
    "    qc.cx(qubits[0], qubits[1])\n",
    "    qc.p(angles[4], qubits[0])\n",
    "    qc.p(angles[4], qubits[1])\n",
    "    if barrier:\n",
    "        qc.barrier()"
   ]
  },
  {
   "cell_type": "code",
   "execution_count": 3,
   "metadata": {},
   "outputs": [],
   "source": [
    "rng = default_rng()"
   ]
  },
  {
   "cell_type": "markdown",
   "metadata": {},
   "source": [
    "circuit = QuantumCircuit(4)\n",
    "angles = np.pi * rng.random(3)\n",
    "angles[1:] *= 2.\n",
    "circuit.x(0)\n",
    "circuit.x(2)\n",
    "add_zerou(circuit, angles, [1, 3])\n",
    "backend = Aer.get_backend('statevector_simulator')\n",
    "backend.set_options(method='statevector_gpu')\n",
    "\n",
    "job = execute(circuit, backend)\n",
    "\n",
    "data = job.result().data()\n",
    "print(data['statevector'])"
   ]
  },
  {
   "cell_type": "code",
   "execution_count": 4,
   "metadata": {},
   "outputs": [],
   "source": [
    "MAX_SIZE = 30\n",
    "\n",
    "@tf.function\n",
    "def compute_purity_tf(statevector_real, statevector_imag):\n",
    "    prod_real = tf.tensordot(statevector_real, statevector_real, axes=[[1], [1]])\n",
    "    prod_real += tf.tensordot(statevector_imag, statevector_imag, axes=[[1], [1]])\n",
    "    prod_imag = tf.tensordot(statevector_real, statevector_imag, axes=[[1], [1]])\n",
    "    prod_imag -= tf.tensordot(statevector_imag, statevector_real, axes=[[1], [1]])\n",
    "    purity = tf.math.reduce_sum(tf.math.square(prod_real))\n",
    "    purity += tf.math.reduce_sum(tf.math.square(prod_imag))\n",
    "    \n",
    "    return purity\n",
    "\n",
    "def get_renyi_entropy_tf(statevector, subsystem):\n",
    "    system_size = int(np.log2(statevector.shape[0]))\n",
    "    subsystem_size = len(subsystem)\n",
    "\n",
    "    if system_size <= MAX_SIZE:\n",
    "        low = min(subsystem)\n",
    "        high = system_size - max(subsystem) - 1\n",
    "\n",
    "        slices = [np.s_[:]]\n",
    "    elif max(subsystem) < MAX_SIZE:\n",
    "        low = min(subsystem)\n",
    "        high = MAX_SIZE - max(subsystem) - 1\n",
    "\n",
    "        block_size = 2 ** MAX_SIZE\n",
    "        slices = [np.s_[block_size * i:block_size * (i + 1)] for i in range(2 ** (system_size - MAX_SIZE))]\n",
    "    else:\n",
    "        raise RuntimeError('don\\'t do this it\\'s too much work')\n",
    "        \n",
    "    shape = (2 ** high, 2 ** subsystem_size, 2 ** low)\n",
    "    tfshape = (2 ** subsystem_size, 2 ** (high + low))\n",
    "        \n",
    "    purity = 0.\n",
    "    for sl in slices:\n",
    "        statevector = np.reshape(statevector[sl], shape).transpose((1, 0, 2)) # another reshape will cause data copy\n",
    "        real = tf.constant(statevector.real, shape=tfshape)\n",
    "        imag = tf.constant(statevector.imag, shape=tfshape)\n",
    "        purity += compute_purity_tf(real, imag).numpy()\n",
    "    entropy = -np.log2(purity)\n",
    "\n",
    "    return entropy / subsystem_size"
   ]
  },
  {
   "cell_type": "code",
   "execution_count": 5,
   "metadata": {},
   "outputs": [],
   "source": [
    "def get_statevectors(circuit, get_last=False):\n",
    "    backend = Aer.get_backend('statevector_simulator')\n",
    "    backend.set_options(method='statevector_gpu')\n",
    "\n",
    "    start = time.time()\n",
    "    job = execute(circuit, backend)\n",
    "    data = job.result().data()\n",
    "    print('{} seconds to execute the circuit'.format(time.time() - start))\n",
    "    \n",
    "    steps = sorted(int(key.replace('step', '')) for key in data['snapshots']['statevector'].keys())\n",
    "    statevectors = list(data['snapshots']['statevector']['step{}'.format(istep)][0] for istep in steps)\n",
    "    if get_last:\n",
    "        statevectors.append(data['statevector'])\n",
    "        \n",
    "    return statevectors\n",
    "\n",
    "def compute_entropies(statevectors, subsystem):\n",
    "    entropies = np.empty(len(statevectors), dtype=np.float)\n",
    "    for isample, statevector in enumerate(statevectors):\n",
    "        start = time.time()\n",
    "        entropies[isample] = get_renyi_entropy_tf(statevector, subsystem)\n",
    "        print('{} seconds to compute entropy for sample {}'.format(time.time() - start, isample))\n",
    "\n",
    "    return entropies"
   ]
  },
  {
   "cell_type": "code",
   "execution_count": 6,
   "metadata": {},
   "outputs": [],
   "source": [
    "def initialize_circuit(system_size):\n",
    "    circuit = QuantumCircuit(system_size)\n",
    "    \n",
    "    for iq in range(0, system_size, 2):\n",
    "        circuit.x(iq)\n",
    "        \n",
    "    return circuit"
   ]
  },
  {
   "cell_type": "code",
   "execution_count": 7,
   "metadata": {},
   "outputs": [
    {
     "name": "stdout",
     "output_type": "stream",
     "text": [
      "18\n"
     ]
    }
   ],
   "source": [
    "num_experiments = 1\n",
    "sequence_length = 99\n",
    "sample_every = 3\n",
    "\n",
    "system_size = 30\n",
    "subsystem = range(11, 19) # [0-10] [11-18] [19-29]\n",
    "\n",
    "total_ram_in_gb = 350\n",
    "max_snapshots = int((2 ** 30) * total_ram_in_gb // (2 ** (4 + system_size) * 1.2)) #1.2 : safety factor\n",
    "print(max_snapshots)"
   ]
  },
  {
   "cell_type": "code",
   "execution_count": null,
   "metadata": {},
   "outputs": [
    {
     "name": "stdout",
     "output_type": "stream",
     "text": [
      "reached max snapshots, evaluating the entropies so far\n",
      "178.38456773757935 seconds to execute the circuit\n",
      "22.639429807662964 seconds to compute entropy for sample 0\n",
      "20.974830865859985 seconds to compute entropy for sample 1\n",
      "21.005354166030884 seconds to compute entropy for sample 2\n",
      "20.990955114364624 seconds to compute entropy for sample 3\n",
      "20.949779510498047 seconds to compute entropy for sample 4\n",
      "20.97826862335205 seconds to compute entropy for sample 5\n",
      "20.992107629776 seconds to compute entropy for sample 6\n",
      "20.873960494995117 seconds to compute entropy for sample 7\n",
      "20.887410879135132 seconds to compute entropy for sample 8\n",
      "20.923527002334595 seconds to compute entropy for sample 9\n",
      "20.887908697128296 seconds to compute entropy for sample 10\n",
      "20.885396718978882 seconds to compute entropy for sample 11\n",
      "20.885669231414795 seconds to compute entropy for sample 12\n",
      "20.918928384780884 seconds to compute entropy for sample 13\n",
      "20.920972108840942 seconds to compute entropy for sample 14\n",
      "20.837542295455933 seconds to compute entropy for sample 15\n",
      "20.898133039474487 seconds to compute entropy for sample 16\n",
      "20.880640029907227 seconds to compute entropy for sample 17\n",
      "initializing and fast-forwarding the circuit\n",
      "evaluating the last entropies\n"
     ]
    }
   ],
   "source": [
    "barrier = False\n",
    "\n",
    "entropies = np.empty((num_experiments, sequence_length // sample_every + 1), dtype=np.float)\n",
    "for iexp in range(num_experiments):\n",
    "    entropies[iexp, 0] = 0.\n",
    "\n",
    "    qubits_record = np.empty((sequence_length, 2), dtype=np.int)\n",
    "    angles_record = np.empty((sequence_length, 5), dtype=np.float)\n",
    "    num_snapshots = 0\n",
    "    num_entropies = 1\n",
    "    \n",
    "    circuit = initialize_circuit(system_size)\n",
    "        \n",
    "    for istep in range(sequence_length):\n",
    "        qubits = rng.integers(0, system_size, 2)\n",
    "        while qubits[0] == qubits[1]:\n",
    "            qubits = rng.integers(0, system_size, 2)\n",
    "\n",
    "        angles = np.pi * rng.random(5)\n",
    "        angles[1:] *= 2.\n",
    "        add_gate_unit(circuit, angles, qubits, barrier=barrier)\n",
    "\n",
    "        qubits_record[istep] = qubits\n",
    "        angles_record[istep] = angles\n",
    "        \n",
    "        if (istep + 1) % sample_every == 0:\n",
    "            circuit.snapshot('step{}'.format(istep))\n",
    "            num_snapshots += 1\n",
    "            \n",
    "        if num_snapshots == max_snapshots:\n",
    "            print('reached max snapshots, evaluating the entropies so far')\n",
    "            statevectors = get_statevectors(circuit)\n",
    "            entropies[iexp, num_entropies:num_entropies + num_snapshots] = compute_entropies(statevectors, subsystem)\n",
    "            \n",
    "            print('initializing and fast-forwarding the circuit')\n",
    "            circuit = initialize_circuit(system_size)\n",
    "            for ifwd in range(istep + 1):\n",
    "                add_gate_unit(circuit, angles_record[ifwd], qubits_record[ifwd], barrier=barrier)\n",
    "                \n",
    "            num_entropies += num_snapshots\n",
    "            num_snapshots = 0\n",
    "            \n",
    "    if num_entropies != entropies.shape[1]:\n",
    "        get_last = ((istep + 1) % sample_every != 0)\n",
    "        print('evaluating the last entropies')\n",
    "        statevectors = get_statevectors(circuit, get_last=get_last)\n",
    "        entropies[iexp, num_entropies:] = compute_entropies(statevectors, subsystem)"
   ]
  },
  {
   "cell_type": "code",
   "execution_count": null,
   "metadata": {},
   "outputs": [],
   "source": [
    "plt.plot(np.linspace(0., sequence_length, entropies.shape[1]), entropies[0])"
   ]
  },
  {
   "cell_type": "code",
   "execution_count": null,
   "metadata": {},
   "outputs": [],
   "source": []
  }
 ],
 "metadata": {
  "kernelspec": {
   "display_name": "Python 3 (ipykernel)",
   "language": "python",
   "name": "python3"
  },
  "language_info": {
   "codemirror_mode": {
    "name": "ipython",
    "version": 3
   },
   "file_extension": ".py",
   "mimetype": "text/x-python",
   "name": "python",
   "nbconvert_exporter": "python",
   "pygments_lexer": "ipython3",
   "version": "3.8.10"
  }
 },
 "nbformat": 4,
 "nbformat_minor": 4
}

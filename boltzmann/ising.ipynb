{
  "cells": [
    {
      "cell_type": "code",
      "execution_count": 1,
      "metadata": {
        "trusted": true
      },
      "outputs": [],
      "source": "%matplotlib inline\n# Importing standard Qiskit libraries and configuring account\nfrom qiskit import QuantumCircuit, QuantumRegister, ClassicalRegister, execute, Aer, IBMQ\nfrom qiskit.compiler import transpile, assemble\nfrom qiskit.tools.jupyter import *\nfrom qiskit.visualization import *\n# Loading your IBM Q account(s)\nprovider = IBMQ.load_account()"
    },
    {
      "cell_type": "code",
      "execution_count": 2,
      "metadata": {
        "trusted": true
      },
      "outputs": [],
      "source": "import math\nimport collections\nimport numpy as np\nimport matplotlib as mpl\nimport matplotlib.pyplot as plt"
    },
    {
      "cell_type": "code",
      "execution_count": 3,
      "metadata": {
        "trusted": true
      },
      "outputs": [],
      "source": "def get_states(qc):\n    backend = Aer.get_backend('statevector_simulator')\n    job = execute(qc, backend)\n    result = job.result()\n    return result.get_statevector(qc, decimals=3)\n    \ndef print_states(states):\n    for i in range(states.shape[0]):\n        v = states[i]\n        if np.absolute(v) == 0.:\n            continue\n            \n        print(('{:0%db}:' % qc.num_qubits).format(i),\n              '{:0.2f}/sqrt(N) @ {:0.2f}pi'.format(np.absolute(v) * math.sqrt(states.shape[0]), np.angle(v) / np.pi))\n\n    print('-----')"
    },
    {
      "cell_type": "code",
      "execution_count": 4,
      "metadata": {
        "trusted": true
      },
      "outputs": [],
      "source": "def get_counts(qc, shots=8192):\n    counts = collections.defaultdict(int)\n    backend = Aer.get_backend('qasm_simulator') # the device to run on\n    sht = 0\n    while sht < shots:\n        if sht < shots - 8192:\n            s = 8192\n        else:\n            s = shots - sht\n        sht += s\n        result = execute(qc, backend, shots=s).result()\n        cnt = result.get_counts(qc)\n        if len(counts) == 0:\n            counts.update(cnt)\n        else:\n            for key, value in cnt.items():\n                counts[key] += value\n    \n    return counts"
    },
    {
      "cell_type": "code",
      "execution_count": 5,
      "metadata": {
        "trusted": true
      },
      "outputs": [],
      "source": "def compute_energy(s):\n    nside = int(np.sqrt(len(s)))\n    bits = np.array([int(x) for x in reversed(s)], dtype=np.int).reshape((nside, nside))\n    grid = np.zeros((nside + 1, nside + 1), dtype=np.int)\n    grid[:nside, :nside] = bits\n    grid[nside, :nside] = bits[0]\n    grid[:nside, nside] = bits[:, 0]\n\n    e = 0\n    for iy in range(nside):\n        for ix in range(nside):\n            if grid[iy, ix] == grid[iy, ix + 1]:\n                e += 1\n            if grid[iy, ix] == grid[iy + 1, ix]:\n                e += 1\n\n    return e"
    },
    {
      "cell_type": "code",
      "execution_count": 6,
      "metadata": {
        "trusted": true
      },
      "outputs": [],
      "source": "def compute_magnetization(s):\n    nside = int(np.sqrt(len(s)))\n    bits = np.array([2 * int(x) - 1 for x in reversed(s)], dtype=np.int)\n    return np.sum(bits)"
    },
    {
      "cell_type": "code",
      "execution_count": 7,
      "metadata": {
        "trusted": true
      },
      "outputs": [],
      "source": "def get_params(lattice_side):\n    params = dict()\n    n_spins = lattice_side ** 2\n    params['n_spins'] = n_spins\n    n_links = n_spins * 2 # periodic boundary condition\n    params['n_links'] = n_links\n    max_energy = n_links\n    params['max_energy'] = max_energy\n    min_energy = 0 if lattice_side % 2 == 0 else (2 * lattice_side)\n    params['min_energy'] = min_energy\n    energy_gap = max_energy - min_energy\n    params['energy_gap'] = energy_gap\n    log2_data_depth = math.log2(energy_gap // 2) # energy always change by 2 -> compress data\n    nq_data = math.ceil(log2_data_depth)\n    if nq_data == math.floor(log2_data_depth):\n        nq_data += 1\n    params['nq_data'] = nq_data\n\n    return params"
    },
    {
      "cell_type": "code",
      "execution_count": 8,
      "metadata": {
        "trusted": true
      },
      "outputs": [],
      "source": "def ising(lattice_side, K):\n    params = get_params(lattice_side)\n    n_spins = params['n_spins']\n    nq_data = params['nq_data']\n    min_energy = params['min_energy']\n\n    state_register = QuantumRegister(n_spins, 'state')\n    data_register = QuantumRegister(nq_data, 'data')\n    anc_register = QuantumRegister(1, 'anc')\n    anc = anc_register[0]\n    mmt_register = ClassicalRegister(n_spins + nq_data, 'mmt')\n\n    qc = QuantumCircuit(state_register, data_register, anc_register, mmt_register)\n\n    # Initialize spins to a superposition of all configurations\n    for spin in state_register:\n        qc.h(spin)\n\n    # Initialize data register also to a full sum from which we reverse Fourier transform\n    for data in data_register:\n        qc.h(data)\n\n    # Make ancilla rotatable by U1\n    qc.x(anc)\n\n    # Encode nearest-neighbor interaction energy as phase\n    delta = 2. * math.pi / (2 ** nq_data) / 2 # we want to apply a phase shift by half 2pi/2^d per spin-aligned pair\n    for ix, iy in [(ix, iy) for iy in range(lattice_side) for ix in range(lattice_side)]:\n        ispin = iy * lattice_side + ix\n\n        for neighbor in [iy * lattice_side + ((ix + 1) % lattice_side), ((iy + 1) % lattice_side) * lattice_side + ix]:\n            ctrl_state = [state_register[ispin], state_register[neighbor]]\n\n            for idata in range(nq_data):\n                qc.mcu1(delta * (2 ** idata), ctrl_state + [data_register[idata]], anc)\n\n            qc.x(state_register[ispin])\n            qc.x(state_register[neighbor])\n\n            for idata in range(nq_data):\n                qc.mcu1(delta * (2 ** idata), ctrl_state + [data_register[idata]], anc)\n\n            qc.x(state_register[ispin])\n            qc.x(state_register[neighbor])\n\n    # Phase shift to set zero of data register to min_energy\n    for idata in range(nq_data):\n        qc.cu1(-delta * (2 ** idata) * min_energy, data_register[idata], anc)\n\n    # Inverse Fourier transform - data register now holds half the number of spin-aligned pairs\n    for idata in range(nq_data - 1, -1, -1):\n        qc.h(data_register[idata])\n        for jdata in range(idata - 1, -1, -1):\n            qc.cu1(-math.pi / (2 ** (idata - jdata)), data_register[jdata], data_register[idata])\n\n    for idata in range(nq_data // 2):\n        qc.swap(data_register[idata], data_register[nq_data - idata - 1])\n\n    # Boltzmann distribution\n    for idata in range(nq_data):\n        theta = np.arctan(np.exp(K * (2 ** idata) * 0.5))\n        qc.h(data_register[idata])\n        qc.u1(theta * 2., data_register[idata])\n        qc.h(data_register[idata])\n\n    for ispin in range(n_spins):\n        qc.measure(state_register[ispin], mmt_register[ispin])\n    for idata in range(nq_data):\n        qc.measure(data_register[idata], mmt_register[n_spins + idata])\n        \n    return qc"
    },
    {
      "cell_type": "code",
      "execution_count": 9,
      "metadata": {
        "trusted": true
      },
      "outputs": [],
      "source": "# states = get_states(qc)\n\n# N = states.shape[0]\n# nprint = 0\n# for idx, amp in enumerate(states[N // 2:]):\n#     if np.absolute(amp) == 0.:\n#         continue\n#     bitstring = '{:012b}'.format(idx)\n#     data = bitstring[:nq_data]\n#     state = bitstring[nq_data:]\n#     e = compute_energy(state)\n#     print(data, state, int(data, 2) * 2 + min_energy, e)\n"
    },
    {
      "cell_type": "code",
      "execution_count": 10,
      "metadata": {
        "trusted": true
      },
      "outputs": [],
      "source": "def make_boltzmann(lattice_side, counts):\n    params = get_params(lattice_side)\n    n_spins = params['n_spins']\n    nq_data = params['nq_data']\n    min_energy = params['min_energy']\n    energy_gap = params['energy_gap']\n    \n    density_truth = np.zeros(energy_gap // 2 + 1, dtype=np.float)\n    form = '{:0%db}' % n_spins\n    for i in range(2 ** n_spins):\n        e = compute_energy(form.format(i))\n        density_truth[(e - min_energy) // 2] += 1.\n    density_truth /= (2 ** n_spins)\n\n    zeros = '0' * nq_data\n    allcounts = np.zeros(energy_gap // 2 + 1, dtype=np.float)\n    density = np.zeros(energy_gap // 2 + 1, dtype=np.float)\n    for key, value in counts.items():\n        if key[:nq_data] != zeros:\n            continue\n        e = compute_energy(key[nq_data:])\n        idx = (e - min_energy) // 2\n        allcounts[idx] += value\n        density[idx] += 1\n        \n    allcounts /= np.sum(allcounts)\n\n    histogram = np.zeros_like(allcounts)\n    #np.divide(allcounts, density, out=histogram, where=(density != 0))\n    np.divide(allcounts, density_truth, out=histogram, where=(density != 0))\n    \n    return histogram"
    },
    {
      "cell_type": "code",
      "execution_count": 16,
      "metadata": {
        "trusted": true
      },
      "outputs": [],
      "source": "def make_magnetization(lattice_side, counts):\n    params = get_params(lattice_side)\n    n_spins = params['n_spins']\n    nq_data = params['nq_data']\n    \n    zeros = '0' * nq_data\n    histogram = np.zeros(n_spins + 1, dtype=np.float)\n    for key, value in counts.items():\n        if key[:nq_data] != zeros:\n            continue\n        m = compute_magnetization(key[nq_data:])\n        idx = (m + n_spins) // 2\n        histogram[idx] += value\n\n    return histogram"
    },
    {
      "cell_type": "code",
      "execution_count": null,
      "metadata": {
        "trusted": true
      },
      "outputs": [],
      "source": "lattice_side = 3\nK = 1.\nqc = ising(lattice_side, K)\ncounts = get_counts(qc, shots=(8192 * 16))\nhistogram = make_boltzmann(lattice_side, counts)"
    },
    {
      "cell_type": "code",
      "execution_count": null,
      "metadata": {
        "trusted": true
      },
      "outputs": [],
      "source": "params = get_params(lattice_side)\nfig, ax = plt.subplots()\nax.bar(np.arange(params['min_energy'], params['max_energy'] + 1, 2), histogram)\nax.plot([params['min_energy'], params['max_energy']], [histogram[0], histogram[-1]], linestyle='--', color='red')\nax.set_yscale('log')\nax.set_xlabel(r'$\\epsilon$')\nax.set_ylabel('a.u.')\nfig.show()"
    },
    {
      "cell_type": "code",
      "execution_count": 21,
      "metadata": {
        "trusted": true
      },
      "outputs": [],
      "source": "# Plot magnetization for several Ks\nlattice_side = 3\nK = 2.\nqc = ising(lattice_side, K)\ncounts = get_counts(qc, shots=(8192 * 16))\nhistogram = make_magnetization(lattice_side, counts)"
    },
    {
      "cell_type": "code",
      "execution_count": 22,
      "metadata": {
        "trusted": true
      },
      "outputs": [
        {
          "data": {
            "image/png": "[encoded data removed]",
            "text/plain": "<Figure size 432x288 with 1 Axes>"
          },
          "metadata": {
            "needs_background": "light"
          },
          "output_type": "display_data"
        }
      ],
      "source": "params = get_params(lattice_side)\nfig, ax = plt.subplots()\nax.bar(np.arange(-params['n_spins'], params['n_spins'] + 1, 2), histogram)\nax.set_xlabel('M')\nax.set_ylabel('a.u.')\nfig.show()"
    },
    {
      "cell_type": "code",
      "execution_count": null,
      "metadata": {
        "trusted": true
      },
      "outputs": [],
      "source": ""
    }
  ],
  "metadata": {
    "kernelspec": {
      "display_name": "Python 3",
      "language": "python",
      "name": "python3"
    },
    "language_info": {
      "codemirror_mode": {
        "name": "ipython",
        "version": 3
      },
      "file_extension": ".py",
      "mimetype": "text/x-python",
      "name": "python",
      "nbconvert_exporter": "python",
      "pygments_lexer": "ipython3",
      "version": "3.7.6"
    }
  },
  "nbformat": 4,
  "nbformat_minor": 4
}
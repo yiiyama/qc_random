{
 "cells": [
  {
   "cell_type": "code",
   "execution_count": 1,
   "metadata": {},
   "outputs": [],
   "source": [
    "import time\n",
    "import numpy as np\n",
    "from qulacs import QuantumStateGpu, QuantumCircuit\n",
    "from qulacs.gate import X\n",
    "import matplotlib.pyplot as plt"
   ]
  },
  {
   "cell_type": "code",
   "execution_count": 2,
   "metadata": {},
   "outputs": [],
   "source": [
    "def one_step(state, dt, m=0.5, w=1., J=1.):\n",
    "    num_sites = state.get_qubit_count()\n",
    "    \n",
    "    qc = QuantumCircuit(num_sites)\n",
    "    \n",
    "    # exp(-i dt Hzz)\n",
    "    for iqr in range(1, num_sites - 1):\n",
    "        phi = -J * 0.5 * (2. * dt) * (num_sites - iqr - 1)\n",
    "        for iql in range(iqr):\n",
    "            qc.add_CNOT_gate(iql, iqr)\n",
    "            qc.add_RZ_gate(iqr, phi)\n",
    "            qc.add_CNOT_gate(iql, iqr)\n",
    "            \n",
    "    # exp(-i dt Hpm)\n",
    "    # Hpm = w sum (sigma+ sigma- + h.c.) = w sum h\n",
    "    # h = 1/2 XX + 1/2 YY\n",
    "    phi = -w * 0.5 * (2. * dt)\n",
    "    for iq in range(num_sites - 1):\n",
    "        # exp(-i dt w/2 XX)\n",
    "        qc.add_CNOT_gate(iq, iq + 1)\n",
    "        qc.add_RX_gate(iq, phi)\n",
    "        qc.add_CNOT_gate(iq, iq + 1)\n",
    "        # exp(-i dt w/2 YY)\n",
    "        qc.add_CZ_gate(iq, iq + 1)\n",
    "        qc.add_CNOT_gate(iq, iq + 1)\n",
    "        qc.add_RX_gate(iq, phi)\n",
    "        qc.add_CNOT_gate(iq, iq + 1)\n",
    "        qc.add_CZ_gate(iq, iq + 1)\n",
    "\n",
    "    # exp(-i dt Hz1)\n",
    "    phi = -m * 0.5 * (2. * dt)\n",
    "    for iq in range(num_sites):\n",
    "        if iq % 2 == 0:\n",
    "            qc.add_RZ_gate(iq, -phi)\n",
    "        else:\n",
    "            qc.add_RZ_gate(iq, phi)\n",
    "            \n",
    "    # exp(-i dt Hz2)\n",
    "    for iq in range(num_sites - 1):\n",
    "        phi = J * 0.5 * (num_sites // 2 - (iq + 1) // 2) * (2. * dt)\n",
    "        qc.add_RZ_gate(iq, phi)\n",
    "            \n",
    "    qc.update_quantum_state(state)"
   ]
  },
  {
   "cell_type": "code",
   "execution_count": 3,
   "metadata": {},
   "outputs": [],
   "source": [
    "def get_renyi_entropy(state, subsystem):\n",
    "    subsystem_size = len(subsystem)\n",
    "    \n",
    "    statevector = state.get_vector()\n",
    "        \n",
    "    # assuming subsystem is contiguous\n",
    "    if min(subsystem) == 0:\n",
    "        statevector = statevector.reshape((-1, 2 ** subsystem_size))\n",
    "    elif max(subsystem) == state.get_qubit_count() - 1:\n",
    "        statevector = statevector.reshape((2 ** subsystem_size, -1))\\\n",
    "                    .transpose((1, 0))\n",
    "    else:\n",
    "        statevector = statevector.reshape((-1, 2 ** subsystem_size, 2 ** min(subsystem)))\\\n",
    "                    .transpose((0, 2, 1))\\\n",
    "                    .reshape((-1, 2 ** subsystem_size))\n",
    "\n",
    "    # p_i p_j |<psi_i | psi_j>|^2\n",
    "    # statevector components are unnormalized -> square(abs(statevector)) = p_i ||psi_i>|^2\n",
    "    #purity = np.sum(np.square(np.abs(np.einsum('ik,jk->ij', np.conjugate(statevector), statevector)))) # by environment indices\n",
    "    purity = np.sum(np.square(np.abs(np.einsum('ij,ik->jk', np.conjugate(statevector), statevector)))) # by subsystem indices\n",
    "    \n",
    "    return -np.log2(purity), statevector"
   ]
  },
  {
   "cell_type": "code",
   "execution_count": 4,
   "metadata": {},
   "outputs": [],
   "source": [
    "system_size = 26\n",
    "subsystem = list(range(9, 17))\n",
    "subsystem_size = len(subsystem)\n",
    "\n",
    "m = 0.5\n",
    "w = 1.\n",
    "J = 1."
   ]
  },
  {
   "cell_type": "code",
   "execution_count": 5,
   "metadata": {},
   "outputs": [
    {
     "name": "stdout",
     "output_type": "stream",
     "text": [
      "5.775526285171509 s to move one step\n",
      "49.850234508514404 s to compute entropy\n",
      "3.1056034564971924 s to move one step\n",
      "47.363025426864624 s to compute entropy\n",
      "5.662612438201904 s to move one step\n",
      "46.85378909111023 s to compute entropy\n"
     ]
    }
   ],
   "source": [
    "dt = np.pi / 16.\n",
    "num_steps = 3\n",
    "\n",
    "entropies = np.empty(num_steps + 1, dtype=np.float)\n",
    "entropies[0] = 0.\n",
    "\n",
    "state = QuantumStateGpu(system_size)\n",
    "state.set_zero_state()\n",
    "\n",
    "# initial state = vacuum\n",
    "for iq in range(0, system_size, 2):\n",
    "    X(iq).update_quantum_state(state)\n",
    "\n",
    "for istep in range(num_steps):\n",
    "    start = time.time()\n",
    "    one_step(state, dt)\n",
    "    print(time.time() - start, 's to move one step')\n",
    "\n",
    "    start = time.time()\n",
    "    entropy, statevector = get_renyi_entropy(state, subsystem)\n",
    "    entropies[istep + 1] = entropy\n",
    "    print(time.time() - start, 's to compute entropy')"
   ]
  },
  {
   "cell_type": "code",
   "execution_count": 6,
   "metadata": {},
   "outputs": [
    {
     "data": {
      "text/plain": [
       "[<matplotlib.lines.Line2D at 0x7fa425b7a310>]"
      ]
     },
     "execution_count": 6,
     "metadata": {},
     "output_type": "execute_result"
    },
    {
     "data": {
      "image/png": "[encoded data removed]",
      "text/plain": [
       "<Figure size 432x288 with 1 Axes>"
      ]
     },
     "metadata": {
      "needs_background": "light"
     },
     "output_type": "display_data"
    }
   ],
   "source": [
    "plt.plot(np.arange(num_steps + 1), entropies / subsystem_size)"
   ]
  },
  {
   "cell_type": "code",
   "execution_count": 7,
   "metadata": {},
   "outputs": [],
   "source": [
    "probs = np.sum(np.square(np.abs(statevector)), axis=0)\n",
    "indices = np.arange(2 ** subsystem_size, dtype=np.uint8).reshape((-1, 1))\n",
    "bitarray = np.unpackbits(indices, axis=1)\n",
    "electron_numbers = np.sum(1 - bitarray[:, 0::2], axis=1, dtype=np.int) - np.sum(bitarray[:, 1::2], axis=1, dtype=np.int)\n",
    "\n",
    "dist = np.zeros(subsystem_size + 1)\n",
    "for n in range(-subsystem_size // 2, subsystem_size // 2 + 1):\n",
    "    idx = np.nonzero(electron_numbers == n)[0]\n",
    "    dist[n + subsystem_size // 2] += np.sum(probs[idx])"
   ]
  },
  {
   "cell_type": "code",
   "execution_count": 8,
   "metadata": {},
   "outputs": [
    {
     "data": {
      "image/png": "[encoded data removed]",
      "text/plain": [
       "<Figure size 432x288 with 1 Axes>"
      ]
     },
     "metadata": {
      "needs_background": "light"
     },
     "output_type": "display_data"
    }
   ],
   "source": [
    "plt.bar(np.linspace(-(subsystem_size // 2), subsystem_size // 2, subsystem_size + 1), dist)\n",
    "plt.yscale('log')"
   ]
  },
  {
   "cell_type": "code",
   "execution_count": null,
   "metadata": {},
   "outputs": [],
   "source": []
  }
 ],
 "metadata": {
  "kernelspec": {
   "display_name": "Python 3",
   "language": "python",
   "name": "python3"
  },
  "language_info": {
   "codemirror_mode": {
    "name": "ipython",
    "version": 3
   },
   "file_extension": ".py",
   "mimetype": "text/x-python",
   "name": "python",
   "nbconvert_exporter": "python",
   "pygments_lexer": "ipython3",
   "version": "3.7.9"
  }
 },
 "nbformat": 4,
 "nbformat_minor": 4
}

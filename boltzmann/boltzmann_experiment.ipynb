{
 "cells": [
  {
   "cell_type": "code",
   "execution_count": 1,
   "metadata": {},
   "outputs": [],
   "source": [
    "import multiprocessing\n",
    "import numpy as np\n",
    "from qiskit.circuit import QuantumRegister, ClassicalRegister, QuantumCircuit, Parameter\n",
    "from qiskit import Aer, execute\n",
    "from numpy.random import default_rng\n",
    "import matplotlib.pyplot as plt"
   ]
  },
  {
   "cell_type": "code",
   "execution_count": 2,
   "metadata": {},
   "outputs": [],
   "source": [
    "system_size = 10\n",
    "subsystem_size = 3\n",
    "num_ones = system_size // 2\n",
    "\n",
    "num_dim = 2 ** num_ones\n",
    "# num_dim = 1\n",
    "# for i in range(subsystem_size):\n",
    "#     num_dim *= system_size - i\n",
    "#     num_dim //= i + 1\n",
    "\n",
    "seed_rng = default_rng()"
   ]
  },
  {
   "cell_type": "code",
   "execution_count": 3,
   "metadata": {},
   "outputs": [],
   "source": [
    "def forward(circ, pairs, rng):\n",
    "    for ip, (q0, q1) in enumerate(pairs):\n",
    "        theta = np.arccos(rng.uniform(-1., 1.))\n",
    "        lamb = rng.uniform(0., 2. * np.pi)\n",
    "        phi = rng.uniform(0., 2. * np.pi)\n",
    "        circ.u(theta, phi, lamb, q0)\n",
    "        circ.x(q1)\n",
    "        circ.cx(q0, q1)\n",
    "\n",
    "    for _ in range(2 * num_dim - 2 - 3 * pairs.shape[0]):\n",
    "        ip = rng.integers(pairs.shape[0])\n",
    "        q0 = pairs[ip, 0]\n",
    "\n",
    "        q1pool = np.append(pairs[:ip, 1], pairs[ip + 1:, 1])\n",
    "        q1 = rng.choice(q1pool)\n",
    "        #circ.swap(q0, q1)\n",
    "\n",
    "        phi = rng.uniform(0., 2. * np.pi)\n",
    "        circ.crz(phi, q0, q1)\n",
    "        \n",
    "def backward(circ, pairs, rng):\n",
    "    for _ in range(2 * num_dim - 2 - 3 * pairs.shape[0]):\n",
    "        ip = rng.integers(pairs.shape[0])\n",
    "        q0 = pairs[ip, 0]\n",
    "\n",
    "        q1pool = np.append(pairs[:ip, 1], pairs[ip + 1:, 1])\n",
    "        q1 = rng.choice(q1pool)\n",
    "        #circ.swap(q0, q1)\n",
    "\n",
    "        phi = rng.uniform(0., 2. * np.pi)\n",
    "        circ.crz(phi, q0, q1)\n",
    "\n",
    "    for ip, (q0, q1) in enumerate(pairs):\n",
    "        theta = np.arccos(rng.uniform(-1., 1.))\n",
    "        lamb = rng.uniform(0., 2. * np.pi)\n",
    "        phi = rng.uniform(0., 2. * np.pi)\n",
    "        circ.cx(q0, q1)\n",
    "        circ.x(q1)\n",
    "        circ.u(theta, phi, lamb, q0)"
   ]
  },
  {
   "cell_type": "code",
   "execution_count": 4,
   "metadata": {},
   "outputs": [],
   "source": [
    "def print_statevector(statevector):\n",
    "    probs = np.square(np.abs(statevector.reshape(-1)))\n",
    "    for idx, prob in enumerate(probs):\n",
    "        if prob < 1.e-9:\n",
    "            continue\n",
    "            \n",
    "        bitstring = np.binary_repr(idx, width=system_size)\n",
    "        z = np.char.count(bitstring, '1')\n",
    "        print(idx, bitstring, int(bitstring, 2), z, prob)"
   ]
  },
  {
   "cell_type": "code",
   "execution_count": 5,
   "metadata": {},
   "outputs": [],
   "source": [
    "def autofidelity(seed):\n",
    "    rng = default_rng(seed=seed)\n",
    "    arr = np.arange(system_size)\n",
    "    rng.shuffle(arr)\n",
    "    pairs = arr.reshape((-1, 2))\n",
    "\n",
    "    qr_subsystem = QuantumRegister(subsystem_size, 'subsystem')\n",
    "    qr_environment = QuantumRegister(system_size - subsystem_size, 'environment')\n",
    "    cr_subsystem = ClassicalRegister(subsystem_size)\n",
    "    cr_environment = ClassicalRegister(system_size - subsystem_size)\n",
    "\n",
    "    circ = QuantumCircuit(qr_subsystem, qr_environment, cr_subsystem, cr_environment)\n",
    "    forward(circ, pairs, rng)\n",
    "    backward(circ, pairs, rng)\n",
    "    \n",
    "    backend = Aer.get_backend('statevector_simulator')\n",
    "\n",
    "    job = execute(circ, backend)\n",
    "    result = job.result()\n",
    "    statevector = result.data()['statevector']\n",
    "    return np.square(np.abs(statevector[0]))\n",
    "\n",
    "num_exp = 1000\n",
    "seeds = seed_rng.integers(2**16, size=num_exp)\n",
    "\n",
    "with multiprocessing.Pool(32) as pool:\n",
    "    fidelities = np.array(pool.map(autofidelity, seeds))"
   ]
  },
  {
   "cell_type": "markdown",
   "metadata": {},
   "source": [
    "num_exp = 1000\n",
    "fidelities = np.empty(num_exp, dtype=np.float)\n",
    "num_dim = 2\n",
    "\n",
    "backend = Aer.get_backend('statevector_simulator')\n",
    "\n",
    "for iexp in range(num_exp):\n",
    "    circ = QuantumCircuit(1, 1)\n",
    "    \n",
    "    theta = np.arccos(rng.uniform(-1., 1.))\n",
    "    lamb = rng.uniform(0., 2. * np.pi)\n",
    "    phi = rng.uniform(0., 2. * np.pi)\n",
    "    circ.u(theta, phi, lamb, 0)\n",
    "    \n",
    "    theta = np.arccos(rng.uniform(-1., 1.))\n",
    "    lamb = rng.uniform(0., 2. * np.pi)\n",
    "    phi = rng.uniform(0., 2. * np.pi)\n",
    "    circ.u(theta, phi, lamb, 0)    \n",
    "\n",
    "    job = execute(circ, backend)\n",
    "    result = job.result()\n",
    "    statevector = result.data()['statevector']\n",
    "    fidelities[iexp] = np.square(np.abs(statevector[0]))"
   ]
  },
  {
   "cell_type": "code",
   "execution_count": 6,
   "metadata": {},
   "outputs": [
    {
     "data": {
      "image/png": "[encoded data removed]",
      "text/plain": [
       "<Figure size 432x288 with 1 Axes>"
      ]
     },
     "metadata": {
      "needs_background": "light"
     },
     "output_type": "display_data"
    }
   ],
   "source": [
    "num_bins = 20\n",
    "\n",
    "bins = np.linspace(0., 1., num_bins + 1)\n",
    "binw = 1. / num_bins\n",
    "bincenters = bins[:-1] + 0.5 * binw\n",
    "hist_contents, _ = np.histogram(fidelities, bins=bins)\n",
    "\n",
    "plt.bar(bincenters, hist_contents, width=binw, yerr=np.sqrt(hist_contents))\n",
    "\n",
    "yref = fidelities.shape[0] * binw * (num_dim - 1) * np.power(1. - bincenters, num_dim - 2.)\n",
    "plt.plot(bincenters, yref)\n",
    "\n",
    "plt.xlim(0., 1.)\n",
    "plt.ylim(1.e-5, fidelities.shape[0])\n",
    "plt.yscale('log')"
   ]
  },
  {
   "cell_type": "code",
   "execution_count": 7,
   "metadata": {},
   "outputs": [
    {
     "data": {
      "text/plain": [
       "[<matplotlib.lines.Line2D at 0x7f9a44a79510>]"
      ]
     },
     "execution_count": 7,
     "metadata": {},
     "output_type": "execute_result"
    },
    {
     "data": {
      "image/png": "[encoded data removed]",
      "text/plain": [
       "<Figure size 432x288 with 1 Axes>"
      ]
     },
     "metadata": {
      "needs_background": "light"
     },
     "output_type": "display_data"
    }
   ],
   "source": [
    "def zdist(seed):\n",
    "    rng = default_rng(seed=seed)\n",
    "    arr = np.arange(system_size)\n",
    "    rng.shuffle(arr)\n",
    "    pairs = arr.reshape((-1, 2))\n",
    "\n",
    "    qr_subsystem = QuantumRegister(subsystem_size, 'subsystem')\n",
    "    qr_environment = QuantumRegister(system_size - subsystem_size, 'environment')\n",
    "    cr_subsystem = ClassicalRegister(subsystem_size)\n",
    "    cr_environment = ClassicalRegister(system_size - subsystem_size)\n",
    "\n",
    "    circ = QuantumCircuit(qr_subsystem, qr_environment, cr_subsystem, cr_environment)\n",
    "    forward(circ, pairs, rng)\n",
    "    \n",
    "    backend = Aer.get_backend('statevector_simulator')\n",
    "\n",
    "    job = execute(circ, backend)\n",
    "    result = job.result()\n",
    "    statevector = result.data()['statevector'].reshape((-1, 2 ** subsystem_size))\n",
    "    probs = np.sum(np.square(np.abs(statevector)), axis=0)\n",
    "    \n",
    "    result = np.zeros(subsystem_size + 1, dtype=np.float)\n",
    "    for idx, prob in enumerate(probs):\n",
    "        z = np.sum(np.unpackbits(np.array(idx, dtype=np.uint8)))\n",
    "        result[z] += prob\n",
    "\n",
    "    return result\n",
    "\n",
    "num_exp = 1000\n",
    "seeds = seed_rng.integers(2**16, size=num_exp)\n",
    "\n",
    "with multiprocessing.Pool(32) as pool:\n",
    "    distribution = sum(pool.map(zdist, seeds))\n",
    "\n",
    "plt.plot(np.arange(subsystem_size + 1), distribution)"
   ]
  }
 ],
 "metadata": {
  "kernelspec": {
   "display_name": "Python 3 (ipykernel)",
   "language": "python",
   "name": "python3"
  },
  "language_info": {
   "codemirror_mode": {
    "name": "ipython",
    "version": 3
   },
   "file_extension": ".py",
   "mimetype": "text/x-python",
   "name": "python",
   "nbconvert_exporter": "python",
   "pygments_lexer": "ipython3",
   "version": "3.8.10"
  }
 },
 "nbformat": 4,
 "nbformat_minor": 4
}

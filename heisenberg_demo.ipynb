{
 "cells": [
  {
   "cell_type": "code",
   "execution_count": 1,
   "metadata": {},
   "outputs": [],
   "source": [
    "import numpy as np\n",
    "from qiskit import QuantumCircuit, QuantumRegister, ClassicalRegister, Aer, IBMQ, execute\n",
    "from qiskit.circuit import Parameter\n",
    "from qiskit.tools.monitor import job_monitor\n",
    "from qiskit.providers.ibmq import least_busy\n",
    "from qiskit.ignis.mitigation.measurement import complete_meas_cal, CompleteMeasFitter\n",
    "\n",
    "# Original routine defined in this repo\n",
    "from utils.dynamics import plot_heisenberg_spins"
   ]
  },
  {
   "cell_type": "markdown",
   "metadata": {},
   "source": [
    "$\\newcommand{\\bra}[1]{\\langle #1 |}$\n",
    "$\\newcommand{\\ket}[1]{| #1 \\rangle}$\n",
    "$\\newcommand{\\upket}{\\ket{\\!\\uparrow}}$\n",
    "$\\newcommand{\\downket}{\\ket{\\!\\downarrow}}$\n",
    "$\\newcommand{\\rightket}{\\ket{\\!\\rightarrow}}$\n",
    "$\\newcommand{\\leftket}{\\ket{\\!\\leftarrow}}$\n",
    "\n",
    "# Dynamics simulation of the Heisenberg model\n",
    "\n",
    "## The Hamiltonian\n",
    "\n",
    "$$\n",
    "H = -J \\sum_{j=0}^{n-2} (\\sigma^X_j\\sigma^X_{j+1} + \\sigma^Y_j\\sigma^Y_{j+1} + \\sigma^Z_j \\sigma^Z_{j+1})\n",
    "$$\n",
    "\n",
    "The $j$th term is actually\n",
    "\n",
    "$$\n",
    "I_0 \\otimes \\dots \\otimes I_{j-1} \\otimes \\sigma^X_j \\otimes \\sigma^X_{j+1} \\otimes I_{j+2} \\otimes \\dots I_{n-1}\n",
    "$$\n",
    "\n",
    "The time evolution operator is\n",
    "\n",
    "$$\n",
    "U_H(t) = \\exp \\left[ \\frac{i\\omega t}{2} \\sum_{j=0}^{n-2} (\\sigma^X_j\\sigma^X_{j+1} + \\sigma^Y_j\\sigma^Y_{j+1} + \\sigma^Z_j \\sigma^Z_{j+1}) \\right]\n",
    "$$\n",
    "\n",
    "Since the terms in the Hamiltonian do not commute with each other, we resort to Trotterization.\n",
    "\n",
    "$$\n",
    "\\tilde{U}_{H;\\Delta t} = \\prod_{j=0}^{n-2} \\exp\\left( \\frac{i \\omega \\Delta t}{2} \\sigma^X_j\\sigma^X_{j+1} \\right) \\exp\\left( \\frac{i \\omega \\Delta t}{2} \\sigma^Y_j\\sigma^Y_{j+1} \\right) \\exp\\left( \\frac{i \\omega \\Delta t}{2} \\sigma^Z_j\\sigma^Z_{j+1} \\right)\n",
    "$$\n",
    "\n",
    "## Expression in quantum gates\n",
    "\n",
    "Map: spin $+Z \\leftrightarrow \\ket{0}$, spin $-Z \\leftrightarrow \\ket{1}$\n",
    "\n",
    "Then $\\sigma^{X,Y,Z} \\leftrightarrow X, Y, Z$ (quantum gates).\n",
    "\n",
    "### Discrete (non-parametric) gates\n",
    "\n",
    "- $X$\n",
    "  $$\n",
    "    X\\ket{0} = \\ket{1} \\\\\n",
    "    X\\ket{1} = \\ket{0}\n",
    "  $$\n",
    "- $Y$\n",
    "  $$\n",
    "    Y\\ket{0} = i\\ket{1} \\\\\n",
    "    Y\\ket{1} = -i\\ket{0}\n",
    "  $$\n",
    "- $Z$\n",
    "  $$\n",
    "    Z\\ket{0} = \\ket{0} \\\\\n",
    "    Z\\ket{1} = -\\ket{1}\n",
    "  $$\n",
    "- $H$ (Hadamard)\n",
    "  $$\n",
    "    H\\ket{0} = \\frac{1}{\\sqrt{2}} (\\ket{0} + \\ket{1}) \\\\\n",
    "    H\\ket{1} = \\frac{1}{\\sqrt{2}} (\\ket{0} - \\ket{1})\n",
    "  $$\n",
    "  \n",
    "### Rotation gates\n",
    "\n",
    "= Exponentiated $X, Y,$ and $Z$ gates\n",
    "\n",
    "- $R_{y}(\\theta) = \\exp\\left(-i \\theta / 2 Y \\right)$\n",
    "  $$\n",
    "    R_{y}(\\theta)\\ket{0} = \\cos\\frac{\\theta}{2}\\ket{0} + \\sin\\frac{\\theta}{2}\\ket{1} \\\\\n",
    "    R_{y}(\\theta)\\ket{1} = -\\sin\\frac{\\theta}{2}\\ket{0} + \\cos\\frac{\\theta}{2}\\ket{1}\n",
    "  $$\n",
    "- $R_{z}(\\phi) = \\exp\\left(-i \\phi / 2 Z \\right)$\n",
    "  $$\n",
    "    R_{z}(\\phi)\\ket{0} = e^{-i\\phi/2}\\ket{0} \\\\\n",
    "    R_{z}(\\phi)\\ket{1} = e^{i\\phi/2}\\ket{1}\n",
    "  $$\n",
    "- $P(\\phi) = \\exp\\left(-i \\phi / 2 (Z - I) \\right)$\n",
    "  \n",
    "### Controlled gates\n",
    "\n",
    "Gate $C^i_j[U]$ acts on qubits $i$ and $j$ as\n",
    "\n",
    "$$\n",
    "\\begin{align}\n",
    "C^i_j[U](\\ket{0}_i\\ket{0}_j) & = \\ket{0}_i\\ket{0}_j \\\\\n",
    "C^i_j[U](\\ket{0}_i\\ket{1}_j) & = \\ket{0}_i\\ket{1}_j \\\\\n",
    "C^i_j[U](\\ket{1}_i\\ket{0}_j) & = \\ket{1}_iU\\ket{0}_j \\\\\n",
    "C^i_j[U](\\ket{1}_i\\ket{1}_j) & = \\ket{1}_iU\\ket{1}_j\n",
    "\\end{align}\n",
    "$$\n",
    "  \n",
    "### Individual terms in the Hamiltonian\n",
    "\n",
    "$\\exp(\\frac{i \\omega \\Delta t}{2} \\sigma^Z_j\\sigma^Z_{j+1})$ acts on spins $j$ and $(j+1)$ as\n",
    "\n",
    "$$\n",
    "\\begin{align}\n",
    "\\upket_j \\upket_{j+1} \\rightarrow e^{i \\omega \\Delta t / 2} \\upket_j \\upket_{j+1} \\\\\n",
    "\\upket_j \\downket_{j+1} \\rightarrow e^{-i \\omega \\Delta t / 2} \\upket_j \\downket_{j+1} \\\\\n",
    "\\downket_j \\upket_{j+1} \\rightarrow e^{-i \\omega \\Delta t / 2} \\downket_j \\upket_{j+1} \\\\\n",
    "\\downket_j \\downket_{j+1} \\rightarrow e^{i \\omega \\Delta t / 2} \\downket_j \\downket_{j+1}\n",
    "\\end{align}\n",
    "$$\n",
    "\n",
    "i.e. applies an opposite phase according to the parity of the spins.\n",
    "\n",
    "To perform operations according to the parity of the qubits, we can use the $C[X]$ (CNOT) gate."
   ]
  },
  {
   "cell_type": "code",
   "execution_count": 2,
   "metadata": {
    "tags": [
     "remove-input"
    ]
   },
   "outputs": [
    {
     "data": {
      "image/png": "[encoded data removed]",
      "text/plain": [
       "<Figure size 267.052x144.48 with 1 Axes>"
      ]
     },
     "execution_count": 2,
     "metadata": {},
     "output_type": "execute_result"
    }
   ],
   "source": [
    "circuit = QuantumCircuit(QuantumRegister(2, 'q'))\n",
    "circuit.cx(0, 1)\n",
    "circuit.rz(Parameter(r'-$\\omega \\Delta t$'), 1)\n",
    "circuit.cx(0, 1)\n",
    "circuit.draw('mpl')"
   ]
  },
  {
   "cell_type": "markdown",
   "metadata": {},
   "source": [
    "The circuit above acts on computational bases $\\ket{00}, \\ket{01}, \\ket{10}, \\ket{11}$ as\n",
    "\n",
    "$$\n",
    "\\begin{align}\n",
    "\\ket{00} \\rightarrow e^{i \\omega \\Delta t / 2} \\ket{00} \\\\\n",
    "\\ket{01} \\rightarrow e^{-i \\omega \\Delta t / 2} \\ket{01} \\\\\n",
    "\\ket{10} \\rightarrow e^{-i \\omega \\Delta t / 2} \\ket{10} \\\\\n",
    "\\ket{11} \\rightarrow e^{i \\omega \\Delta t / 2} \\ket{11}\n",
    "\\end{align}\n",
    "$$\n",
    "\n",
    "which is exactly the expression of $\\exp(\\frac{i \\omega \\Delta t}{2} \\sigma^Z_j\\sigma^Z_{j+1})$.\n",
    "\n",
    "The other two operators in the Hamiltonian ($\\exp(XX)$ and $\\exp(YY)$) also act on the parity, but everything in quantum computer must be expressed in Z basis. We therefore rotate the spins beforehand as follows.\n",
    "\n",
    "For $\\exp(\\frac{i \\omega \\Delta t}{2} \\sigma^X_j\\sigma^X_{j+1})$\n",
    "\n",
    "$$\n",
    "\\begin{align}\n",
    "\\rightket_j \\rightket_{j+1} \\rightarrow e^{i \\omega \\Delta t / 2} \\rightket_j \\rightket_{j+1} \\\\\n",
    "\\rightket_j \\leftket_{j+1} \\rightarrow e^{-i \\omega \\Delta t / 2} \\rightket_j \\leftket_{j+1} \\\\\n",
    "\\leftket_j \\rightket_{j+1} \\rightarrow e^{-i \\omega \\Delta t / 2} \\leftket_j \\rightket_{j+1} \\\\\n",
    "\\leftket_j \\leftket_{j+1} \\rightarrow e^{i \\omega \\Delta t / 2} \\leftket_j \\leftket_{j+1}\n",
    "\\end{align}\n",
    "$$"
   ]
  },
  {
   "cell_type": "code",
   "execution_count": 3,
   "metadata": {
    "tags": [
     "remove-input"
    ]
   },
   "outputs": [
    {
     "data": {
      "image/png": "[encoded data removed]",
      "text/plain": [
       "<Figure size 387.452x144.48 with 1 Axes>"
      ]
     },
     "execution_count": 3,
     "metadata": {},
     "output_type": "execute_result"
    }
   ],
   "source": [
    "circuit = QuantumCircuit(QuantumRegister(2, 'q'))\n",
    "circuit.h(0)\n",
    "circuit.h(1)\n",
    "circuit.cx(0, 1)\n",
    "circuit.rz(Parameter(r'-$\\omega \\Delta t$'), 1)\n",
    "circuit.cx(0, 1)\n",
    "circuit.h(0)\n",
    "circuit.h(1)\n",
    "circuit.draw('mpl')"
   ]
  },
  {
   "cell_type": "markdown",
   "metadata": {},
   "source": [
    "For $\\exp(\\frac{i \\omega \\Delta t}{2} \\sigma^Y_j\\sigma^Y_{j+1})$"
   ]
  },
  {
   "cell_type": "code",
   "execution_count": 4,
   "metadata": {
    "tags": [
     "remove-input"
    ]
   },
   "outputs": [
    {
     "data": {
      "image/png": "[encoded data removed]",
      "text/plain": [
       "<Figure size 507.852x144.48 with 1 Axes>"
      ]
     },
     "execution_count": 4,
     "metadata": {},
     "output_type": "execute_result"
    }
   ],
   "source": [
    "circuit = QuantumCircuit(QuantumRegister(2, 'q'))\n",
    "circuit.p(-np.pi / 2., 0)\n",
    "circuit.p(-np.pi / 2., 1)\n",
    "circuit.h(0)\n",
    "circuit.h(1)\n",
    "circuit.cx(0, 1)\n",
    "circuit.rz(Parameter(r'-$\\omega \\Delta t$'), 1)\n",
    "circuit.cx(0, 1)\n",
    "circuit.h(0)\n",
    "circuit.h(1)\n",
    "circuit.p(np.pi / 2., 0)\n",
    "circuit.p(np.pi / 2., 1)\n",
    "circuit.draw('mpl')"
   ]
  },
  {
   "cell_type": "markdown",
   "metadata": {},
   "source": [
    "### Qiskit implementation\n",
    "\n",
    "We'll execute the circuit on a simulator as well as real quantum hardware.\n",
    "\n",
    "Let $n=5$, $M=10$, $\\omega \\Delta t = 0.1$ and the initial state is $\\frac{1}{\\sqrt{2}}(\\upket + \\downket)$ on qubit 0 and $\\upket$ for the remainder."
   ]
  },
  {
   "cell_type": "code",
   "execution_count": 5,
   "metadata": {},
   "outputs": [
    {
     "name": "stdout",
     "output_type": "stream",
     "text": [
      "10 circuits created\n"
     ]
    }
   ],
   "source": [
    "n = 5 # number of qubits\n",
    "M = 10 # number of Trotter steps\n",
    "omegadt = 0.1 # Trotter step\n",
    "\n",
    "circuits = []\n",
    "\n",
    "circuit = QuantumCircuit(n) # |0>|0>...\n",
    "\n",
    "# Bit 0 in state 1/sqrt(2)(|0> + |1>)\n",
    "circuit.h(0)\n",
    "\n",
    "for istep in range(M):\n",
    "    for j in range(n - 1):\n",
    "        # ZZ\n",
    "        circuit.cx(j, j + 1)\n",
    "        circuit.rz(-omegadt, j + 1)\n",
    "        circuit.cx(j, j + 1)\n",
    "\n",
    "        # XX\n",
    "        circuit.h(j)\n",
    "        circuit.h(j + 1)\n",
    "        circuit.cx(j, j + 1)\n",
    "        circuit.rz(-omegadt, j + 1)\n",
    "        circuit.cx(j, j + 1)\n",
    "        circuit.h(j)\n",
    "        circuit.h(j + 1)\n",
    "\n",
    "        # YY\n",
    "        circuit.p(-np.pi / 2., j)\n",
    "        circuit.p(-np.pi / 2., j + 1)\n",
    "        circuit.h(j)\n",
    "        circuit.h(j + 1)\n",
    "        circuit.cx(j, j + 1)\n",
    "        circuit.rz(-omegadt, j + 1)\n",
    "        circuit.cx(j, j + 1)\n",
    "        circuit.h(j)\n",
    "        circuit.h(j + 1)\n",
    "        circuit.p(np.pi / 2., j)\n",
    "        circuit.p(np.pi / 2., j + 1)\n",
    "\n",
    "    # Save a copy of the circuit at this point\n",
    "    # measure_all(inplace=False) creates a copy of the circuit with a full measurement at the end\n",
    "    circuits.append(circuit.measure_all(inplace=False))\n",
    "    \n",
    "print('{} circuits created'.format(len(circuits)))"
   ]
  },
  {
   "cell_type": "markdown",
   "metadata": {},
   "source": [
    "Plotting the expectation value of the $Z$ component of each spin at each time slice:"
   ]
  },
  {
   "cell_type": "code",
   "execution_count": 6,
   "metadata": {},
   "outputs": [
    {
     "data": {
      "image/png": "[encoded data removed]",
      "text/plain": [
       "<Figure size 432x288 with 1 Axes>"
      ]
     },
     "metadata": {
      "needs_background": "light"
     },
     "output_type": "display_data"
    }
   ],
   "source": [
    "shots = 100000\n",
    "\n",
    "qasm_simulator = Aer.get_backend('qasm_simulator')\n",
    "\n",
    "sim_job = execute(circuits, qasm_simulator, shots=shots)\n",
    "sim_counts_list = sim_job.result().get_counts()\n",
    "\n",
    "# Initial statevector for the theory curve in the plot\n",
    "initial_state = np.zeros(2 ** n, dtype=np.complex128)\n",
    "initial_state[0:2] = np.sqrt(0.5)\n",
    "   \n",
    "plot_heisenberg_spins(sim_counts_list, n, initial_state, omegadt, add_theory_curve=True)"
   ]
  },
  {
   "cell_type": "markdown",
   "metadata": {},
   "source": [
    "Now we'll run the same circuit on a QV32 5-qubit machine:"
   ]
  },
  {
   "cell_type": "code",
   "execution_count": 7,
   "metadata": {
    "tags": [
     "raises-exception",
     "remove-output"
    ]
   },
   "outputs": [
    {
     "name": "stdout",
     "output_type": "stream",
     "text": [
      "Job Status: job has successfully run\n"
     ]
    }
   ],
   "source": [
    "# IBMQ.enable_account('__your_ibmq_token__')\n",
    "IBMQ.load_account()\n",
    "provider = IBMQ.get_provider(hub='ibm-q', group='open', project='main')\n",
    "\n",
    "backend_filter = lambda b: (not b.configuration().simulator) and b.configuration().n_qubits >= n and b.configuration().quantum_volume >= 32 and b.status().operational\n",
    "backend = least_busy(provider.backends(filters=backend_filter))\n",
    "\n",
    "print('Will use backend', backend.name())\n",
    "\n",
    "job = execute(circuits, backend, shots=8192, optimization_level=3)\n",
    "\n",
    "job_monitor(job, interval=2)\n",
    "\n",
    "counts_list = job.result().get_counts()"
   ]
  },
  {
   "cell_type": "code",
   "execution_count": 8,
   "metadata": {
    "tags": [
     "raises-exception",
     "remove-output"
    ]
   },
   "outputs": [
    {
     "data": {
      "image/png": "[encoded data removed]",
      "text/plain": [
       "<Figure size 432x288 with 1 Axes>"
      ]
     },
     "metadata": {
      "needs_background": "light"
     },
     "output_type": "display_data"
    }
   ],
   "source": [
    "plot_heisenberg_spins(counts_list, n, initial_state, omegadt)"
   ]
  }
 ],
 "metadata": {
  "kernelspec": {
   "display_name": "Python 3",
   "language": "python",
   "name": "python3"
  },
  "language_info": {
   "codemirror_mode": {
    "name": "ipython",
    "version": 3
   },
   "file_extension": ".py",
   "mimetype": "text/x-python",
   "name": "python",
   "nbconvert_exporter": "python",
   "pygments_lexer": "ipython3",
   "version": "3.8.5"
  }
 },
 "nbformat": 4,
 "nbformat_minor": 4
}

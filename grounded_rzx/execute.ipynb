{
 "cells": [
  {
   "cell_type": "markdown",
   "id": "503ad935-4824-4b3e-9e5d-4bb975912be9",
   "metadata": {},
   "source": [
    "# Testing RZX calibrations\n",
    "\n",
    "This is a test for [an issue I opened in qiskit-terra](https://github.com/Qiskit/qiskit-terra/issues/7325)."
   ]
  },
  {
   "cell_type": "code",
   "execution_count": 1,
   "id": "ec0976fc-2a35-4fea-81f7-417dce8b662e",
   "metadata": {},
   "outputs": [],
   "source": [
    "import numpy as np\n",
    "import pprint\n",
    "from qiskit import QuantumRegister, ClassicalRegister, QuantumCircuit, transpile, schedule, IBMQ\n",
    "from qiskit.circuit import Parameter\n",
    "from qiskit.tools import job_monitor\n",
    "from qiskit.converters import circuit_to_dag, dag_to_circuit\n",
    "from qiskit.transpiler import PassManager, passes\n",
    "from qiskit.transpiler.passes.optimization.echo_rzx_weyl_decomposition import EchoRZXWeylDecomposition\n",
    "from qiskit.circuit.library.standard_gates.equivalence_library import StandardEquivalenceLibrary as std_eqlib\n",
    "\n",
    "from my_builder import RZXCalibrationBuilderWithPedestal"
   ]
  },
  {
   "cell_type": "code",
   "execution_count": 2,
   "id": "26317f8f-bd92-4bbf-98f4-109a38e5f5b8",
   "metadata": {},
   "outputs": [],
   "source": [
    "IBMQ.load_account()\n",
    "provider = IBMQ.get_provider(hub='ibm-q-utokyo', group='internal', project='icepp')\n",
    "backend = provider.get_backend('ibmq_bogota')"
   ]
  },
  {
   "cell_type": "code",
   "execution_count": 3,
   "id": "4934f166-945b-44ef-85d7-1f4d054ec196",
   "metadata": {},
   "outputs": [],
   "source": [
    "rzx_basis = ['rzx', 'rz', 'x', 'sx']\n",
    "\n",
    "qiskit_pm = PassManager([\n",
    "    passes.Collect2qBlocks(),\n",
    "    passes.ConsolidateBlocks(basis_gates=['rz', 'sx', 'x', 'rzx']),            \n",
    "    #EchoRZXWeylDecomposition(backend),\n",
    "    passes.RZXCalibrationBuilderNoEcho(backend),\n",
    "    passes.UnrollCustomDefinitions(std_eqlib, rzx_basis),\n",
    "    passes.BasisTranslator(std_eqlib, rzx_basis),\n",
    "    passes.Optimize1qGatesDecomposition(rzx_basis),\n",
    "])\n",
    "\n",
    "my_pm = PassManager([\n",
    "    passes.Collect2qBlocks(),\n",
    "    passes.ConsolidateBlocks(basis_gates=['rz', 'sx', 'x', 'rzx']),            \n",
    "    #EchoRZXWeylDecomposition(backend),\n",
    "    RZXCalibrationBuilderWithPedestal(backend),\n",
    "    passes.UnrollCustomDefinitions(std_eqlib, rzx_basis),\n",
    "    passes.BasisTranslator(std_eqlib, rzx_basis),\n",
    "    passes.Optimize1qGatesDecomposition(rzx_basis),\n",
    "])"
   ]
  },
  {
   "cell_type": "code",
   "execution_count": 4,
   "id": "d2bbd735-6191-40dd-aa50-4d40173fe54a",
   "metadata": {},
   "outputs": [],
   "source": [
    "qiskit_circuits = []\n",
    "my_circuits = []\n",
    "for itheta, theta in enumerate(np.linspace(np.pi / 32., np.pi, 30)):\n",
    "    circuit = QuantumCircuit(2)\n",
    "    circuit.x(1)\n",
    "    circuit.rzx(-theta / 2., 1, 0)\n",
    "    circuit.x(1)\n",
    "    circuit.rzx(theta / 2., 1, 0)\n",
    "    circuit.measure_all()\n",
    "    \n",
    "    qiskit_circuits.append(schedule(qiskit_pm.run(circuit), backend=backend))\n",
    "    my_circuits.append(schedule(my_pm.run(circuit), backend=backend))"
   ]
  },
  {
   "cell_type": "code",
   "execution_count": 5,
   "id": "0c423d82-dd62-485e-b2e0-0ea82d16e46b",
   "metadata": {},
   "outputs": [
    {
     "name": "stderr",
     "output_type": "stream",
     "text": [
      "/usr/local/lib/python3.8/dist-packages/qiskit/compiler/assembler.py:447: RuntimeWarning: Dynamic rep rates are supported on this backend. 'rep_delay' will be used instead of 'rep_time'.\n",
      "  warnings.warn(\n"
     ]
    },
    {
     "name": "stdout",
     "output_type": "stream",
     "text": [
      "Job Status: job has successfully run\n"
     ]
    }
   ],
   "source": [
    "job = backend.run(qiskit_circuits + my_circuits, shots=10000)\n",
    "job_monitor(job)"
   ]
  },
  {
   "cell_type": "code",
   "execution_count": 6,
   "id": "ddbe95a1-96bf-4a74-b692-2548b249b527",
   "metadata": {},
   "outputs": [],
   "source": [
    "result = job.result()\n",
    "qiskit_counts = result.get_counts()[:30]\n",
    "my_counts = result.get_counts()[30:]"
   ]
  },
  {
   "cell_type": "code",
   "execution_count": 7,
   "id": "9eda17bb-2889-450c-b987-28c221993727",
   "metadata": {},
   "outputs": [],
   "source": [
    "import matplotlib.pyplot as plt"
   ]
  },
  {
   "cell_type": "code",
   "execution_count": 8,
   "id": "b48bb820-3094-4710-92c6-63c896f26980",
   "metadata": {},
   "outputs": [],
   "source": [
    "thetas = np.linspace(np.pi / 32., np.pi, 30)\n"
   ]
  },
  {
   "cell_type": "code",
   "execution_count": 11,
   "id": "e96a2496-9e66-413a-b41c-8dcec51301c7",
   "metadata": {},
   "outputs": [
    {
     "data": {
      "text/plain": [
       "[<matplotlib.lines.Line2D at 0x7f64545ab0a0>]"
      ]
     },
     "execution_count": 11,
     "metadata": {},
     "output_type": "execute_result"
    },
    {
     "data": {
      "image/png": "[encoded data removed]",
      "text/plain": [
       "<Figure size 432x288 with 1 Axes>"
      ]
     },
     "metadata": {
      "needs_background": "light"
     },
     "output_type": "display_data"
    }
   ],
   "source": [
    "plt.scatter(thetas, np.array([c.get('00', 0) for c in qiskit_counts]))\n",
    "plt.scatter(thetas, np.array([c.get('00', 0) for c in my_counts]))\n",
    "plt.plot(thetas, 10000 * (0.5 * np.cos(thetas) + 0.5))"
   ]
  },
  {
   "cell_type": "code",
   "execution_count": null,
   "id": "e694433b-a77f-4cbe-8eda-9aa9402d8184",
   "metadata": {},
   "outputs": [],
   "source": []
  }
 ],
 "metadata": {
  "kernelspec": {
   "display_name": "Python 3 (ipykernel)",
   "language": "python",
   "name": "python3"
  },
  "language_info": {
   "codemirror_mode": {
    "name": "ipython",
    "version": 3
   },
   "file_extension": ".py",
   "mimetype": "text/x-python",
   "name": "python",
   "nbconvert_exporter": "python",
   "pygments_lexer": "ipython3",
   "version": "3.8.10"
  }
 },
 "nbformat": 4,
 "nbformat_minor": 5
}
